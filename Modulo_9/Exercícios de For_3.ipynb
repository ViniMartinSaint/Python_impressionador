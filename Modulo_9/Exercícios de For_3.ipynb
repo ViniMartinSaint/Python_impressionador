{
 "cells": [
  {
   "cell_type": "markdown",
   "metadata": {},
   "source": [
    "# Exercícios\n",
    "\n",
    "## 1. Calculando % de uma lista\n",
    "\n",
    "Faremos algo parecido com \"filtrar\" uma lista. Mais pra frente no curso aprenderemos outras formas de fazer isso, mas com o nosso conhecimentoa atual já conseguimos resolver o desafio.\n",
    "\n",
    "Digamos que a gente tenha uma lista de vendedores e ao invés de saber todos os vendedores que bateram a meta, eu quero conseguir calcular o % de vendedores que bateram a meta. Ou seja, se temos 10 vendedores e 3 bateram a meta, temos 30% dos vendedores que bateram a meta."
   ]
  },
  {
   "cell_type": "code",
   "execution_count": 19,
   "metadata": {},
   "outputs": [
    {
     "name": "stdout",
     "output_type": "stream",
     "text": [
      "O percentual de funcionarios que bateram é de: 50.0%\n"
     ]
    }
   ],
   "source": [
    "meta = 10000\n",
    "vendas = [\n",
    "    ['João', 15000],\n",
    "    ['Julia', 27000],\n",
    "    ['Marcus', 9900],\n",
    "    ['Maria', 3750],\n",
    "    ['Ana', 10300],\n",
    "    ['Alon', 7870],\n",
    "]"
   ]
  },
  {
   "cell_type": "markdown",
   "metadata": {},
   "source": [
    "- Vamos resolver de 2 formas:\n",
    "    1. Criando uma lista auxiliar apenas com os vendedores que bateram a meta\n",
    "    2. Fazendo o cálculo diretamente na lista que já temos"
   ]
  },
  {
   "cell_type": "code",
   "execution_count": null,
   "metadata": {},
   "outputs": [],
   "source": [
    "# 1. Criando lista auxiliar \n",
    "funcionarios_bateram_meta = []\n",
    "#seu código aqui\n",
    "for venda in vendas:\n",
    "    if venda[1] >= meta:\n",
    "        funcionarios_bateram_meta.append(venda[0])\n",
    "print(\"O percentual de funcionarios que bateram é de: {:.1%}\".format(len(funcionarios_bateram_meta)/len(vendas))"
   ]
  },
  {
   "cell_type": "code",
   "execution_count": 21,
   "metadata": {},
   "outputs": [
    {
     "name": "stdout",
     "output_type": "stream",
     "text": [
      "O percentual de funcionarios que bateram é de: 50.0%\n"
     ]
    }
   ],
   "source": [
    "# 2. Calculo direto\n",
    "qtde_vendedores_acima = 0\n",
    "\n",
    "for venda in vendas:\n",
    "    if venda[1] >= meta:\n",
    "        qtde_vendedores_acima += 1\n",
    "\n",
    "print(\"O percentual de funcionarios que bateram é de: {:.1%}\".format(qtde_vendedores_acima / len(vendas)))"
   ]
  },
  {
   "cell_type": "markdown",
   "metadata": {},
   "source": [
    "## Para treinar uma estrutura parecida, crie um código para responder: quem foi o vendedor que mais vendeu?"
   ]
  },
  {
   "cell_type": "code",
   "execution_count": 26,
   "metadata": {},
   "outputs": [
    {
     "name": "stdout",
     "output_type": "stream",
     "text": [
      "O vendedor Julia foi o que mais vendeu, com 27000 vendas registradas!\n"
     ]
    }
   ],
   "source": [
    "#seu código aqui\n",
    "melhor_vendedor = ''\n",
    "maior_venda = 0\n",
    "\n",
    "for i, venda in enumerate(vendas):\n",
    "    if venda[1] > maior_venda:\n",
    "        maior_venda = venda[1]\n",
    "        melhor_vendedor = venda[0]\n",
    "\n",
    "print(f'O vendedor {melhor_vendedor} foi o que mais vendeu, com {maior_venda} vendas registradas!')"
   ]
  }
 ],
 "metadata": {
  "kernelspec": {
   "display_name": "Python 3",
   "language": "python",
   "name": "python3"
  },
  "language_info": {
   "codemirror_mode": {
    "name": "ipython",
    "version": 3
   },
   "file_extension": ".py",
   "mimetype": "text/x-python",
   "name": "python",
   "nbconvert_exporter": "python",
   "pygments_lexer": "ipython3",
   "version": "3.8.3"
  }
 },
 "nbformat": 4,
 "nbformat_minor": 4
}
