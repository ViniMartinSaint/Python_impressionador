{
 "cells": [
  {
   "attachments": {},
   "cell_type": "markdown",
   "metadata": {},
   "source": [
    "# for + if\n",
    "\n",
    "### Estrutura:"
   ]
  },
  {
   "cell_type": "raw",
   "metadata": {},
   "source": [
    "for item in lista:\n",
    "    if condicao:\n",
    "        faça alguma coisa\n",
    "    else:\n",
    "        outra coisa"
   ]
  },
  {
   "attachments": {},
   "cell_type": "markdown",
   "metadata": {},
   "source": [
    "Digamos que a gente esteja analisando a meta de vendas de vários funcionários de uma empresa. A meta de vendas é de 1000 reais em 1 dia.\n",
    "\n",
    "Temos uma lista com as vendas de todos os funcionários e quero calcular qual o % de pessoas que bateram a meta."
   ]
  },
  {
   "cell_type": "code",
   "execution_count": 2,
   "metadata": {},
   "outputs": [
    {
     "name": "stdout",
     "output_type": "stream",
     "text": [
      "A porcentagem de funcionário que bateram a meta foi de: 26%\n"
     ]
    }
   ],
   "source": [
    "vendas = [1200, 300, 800, 1500, 1900, 2750, 400, 20, 23, 70, 90, 80, 1100, 999, 900, 880, 870, 50, 1111, 120, 300, 450, 800]\n",
    "meta = 1000\n",
    "qtd_bateu_meta = 0\n",
    "\n",
    "for venda in vendas:\n",
    "    if venda >= meta:\n",
    "        qtd_bateu_meta += 1\n",
    "    else:\n",
    "        continue \n",
    "\n",
    "print(\"A porcentagem de funcionário que bateram a meta foi de: {:.0%}\".format(qtd_bateu_meta/len(vendas)))"
   ]
  }
 ],
 "metadata": {
  "kernelspec": {
   "display_name": "Python 3",
   "language": "python",
   "name": "python3"
  },
  "language_info": {
   "codemirror_mode": {
    "name": "ipython",
    "version": 3
   },
   "file_extension": ".py",
   "mimetype": "text/x-python",
   "name": "python",
   "nbconvert_exporter": "python",
   "pygments_lexer": "ipython3",
   "version": "3.11.3"
  }
 },
 "nbformat": 4,
 "nbformat_minor": 4
}
