{
 "cells": [
  {
   "cell_type": "markdown",
   "metadata": {},
   "source": [
    "## Oferecendo desconto para cliente com base na última compra\n",
    "\n",
    "Suponha que você está trabalhando para uma empresa que deseja rastrear a atividade do cliente. Uma métrica que eles estão interessados é o tempo que passou desde a última transação do cliente. Se for muito tempo, eles podem oferecer um desconto para o cliente. Crie um script Python que mostra quanto tempo se passou desde a última compra do cliente. Se faz mais de 30 dias, mostre uma mensagem oferecendo um desconto para o cliente."
   ]
  },
  {
   "cell_type": "code",
   "execution_count": 5,
   "metadata": {},
   "outputs": [],
   "source": [
    "from datetime import datetime\n",
    "\n",
    "ultima_compra = datetime(2023, 5, 10)\n",
    "data_hora_atual = datetime.now()"
   ]
  },
  {
   "cell_type": "code",
   "execution_count": 10,
   "metadata": {},
   "outputs": [
    {
     "name": "stdout",
     "output_type": "stream",
     "text": [
      "Parabêns você recebeu um cupom de desconto\n"
     ]
    }
   ],
   "source": [
    "diferenca = data_hora_atual - ultima_compra\n",
    "\n",
    "if diferenca.days > 30:\n",
    "    print(\"Parabêns você recebeu um cupom de desconto\")"
   ]
  },
  {
   "cell_type": "markdown",
   "metadata": {},
   "source": [
    "## Data e hora em diferentes fusos horários\n",
    "\n",
    "Uma empresa tem escritórios em São Paulo, Nova York e Tóquio. Crie um script Python que mostra a data e hora atuais nesses três fusos horários. Exiba, também, se estes escritórios estão abertos ou fechados (9h às 17h).\n"
   ]
  },
  {
   "cell_type": "code",
   "execution_count": 11,
   "metadata": {},
   "outputs": [],
   "source": [
    "from datetime import datetime\n",
    "from zoneinfo import ZoneInfo"
   ]
  },
  {
   "cell_type": "code",
   "execution_count": 15,
   "metadata": {},
   "outputs": [],
   "source": [
    "fuso_horario_sao_paulo = ZoneInfo(\"America/Sao_Paulo\")\n",
    "fuso_horario_ny = ZoneInfo(\"America/New_York\")\n",
    "fuso_horario_tokyo = ZoneInfo(\"Asia/Tokyo\")\n",
    "\n",
    "data_hora_sao_paulo = datetime.now().astimezone(fuso_horario_sao_paulo)\n",
    "data_hora_ny = datetime.now().astimezone(fuso_horario_ny)\n",
    "data_hora_tokyo = datetime.now().astimezone(fuso_horario_tokyo)"
   ]
  },
  {
   "cell_type": "code",
   "execution_count": 17,
   "metadata": {},
   "outputs": [
    {
     "name": "stdout",
     "output_type": "stream",
     "text": [
      "2023-08-21 16:32:22.179493-03:00\n",
      "2023-08-21 15:32:22.179493-04:00\n",
      "2023-08-22 04:32:22.179493+09:00\n"
     ]
    }
   ],
   "source": [
    "print(data_hora_sao_paulo)\n",
    "print(data_hora_ny)\n",
    "print(data_hora_tokyo)"
   ]
  },
  {
   "cell_type": "code",
   "execution_count": 24,
   "metadata": {},
   "outputs": [],
   "source": [
    "def verificar_loja_aberta(data_hora):\n",
    "    if 9 <= data_hora.hour <= 17:\n",
    "        return \"Aberto\"\n",
    "    else:\n",
    "        return \"Fechado\""
   ]
  },
  {
   "cell_type": "code",
   "execution_count": 27,
   "metadata": {},
   "outputs": [
    {
     "name": "stdout",
     "output_type": "stream",
     "text": [
      "Aberto\n",
      "Aberto\n",
      "Fechado\n"
     ]
    }
   ],
   "source": [
    "print(verificar_loja_aberta(data_hora_sao_paulo))\n",
    "print(verificar_loja_aberta(data_hora_ny))\n",
    "print(verificar_loja_aberta(data_hora_tokyo))"
   ]
  }
 ],
 "metadata": {
  "kernelspec": {
   "display_name": "Python 3 (ipykernel)",
   "language": "python",
   "name": "python3"
  },
  "language_info": {
   "codemirror_mode": {
    "name": "ipython",
    "version": 3
   },
   "file_extension": ".py",
   "mimetype": "text/x-python",
   "name": "python",
   "nbconvert_exporter": "python",
   "pygments_lexer": "ipython3",
   "version": "3.11.2"
  }
 },
 "nbformat": 4,
 "nbformat_minor": 4
}
