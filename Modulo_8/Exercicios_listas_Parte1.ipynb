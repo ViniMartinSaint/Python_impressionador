{
 "cells": [
  {
   "attachments": {},
   "cell_type": "markdown",
   "metadata": {},
   "source": [
    "# Exercícios\n",
    "\n",
    "## 1. Faturamento do Melhor e do Pior Mês do Ano\n",
    "\n",
    "Qual foi o valor de vendas do melhor mês do Ano?\n",
    "E valor do pior mês do ano?"
   ]
  },
  {
   "cell_type": "code",
   "execution_count": 53,
   "metadata": {},
   "outputs": [
    {
     "name": "stdout",
     "output_type": "stream",
     "text": [
      "O Valor do mês com as maiores vendas foi de 49051\n",
      "O Valor do mês com as menores vendas foi de 9650\n"
     ]
    }
   ],
   "source": [
    "meses = ['jan', 'fev', 'mar', 'abr', 'mai', 'jun', 'jul', 'ago', 'set', 'out', 'nov', 'dez']\n",
    "vendas_1semestre = [25000, 29000, 22200, 17750, 15870, 19900]\n",
    "vendas_2semestre = [19850, 20120, 17540, 15555, 49051, 9650]\n",
    "\n",
    "vendas_anual = vendas_1semestre + vendas_2semestre\n",
    "maior_valor = max(vendas_anual)\n",
    "menor_valor = min(vendas_anual)\n",
    "\n",
    "print(f\"O Valor do mês com as maiores vendas foi de {maior_valor}\")\n",
    "print(f\"O Valor do mês com as menores vendas foi de {menor_valor}\")"
   ]
  },
  {
   "attachments": {},
   "cell_type": "markdown",
   "metadata": {},
   "source": [
    "## 2. Continuação\n",
    "\n",
    "Agora relacione as duas listas para printar 'O melhor mês do ano foi {} com {} vendas' e o mesmo para o pior mês do ano.\n",
    "\n",
    "Calcule também o faturamento total do Ano e quanto que o melhor mês representou do faturamento total.\n",
    "\n",
    "Obs: Para o faturamento total, pode usar a função sum(lista) que soma todos os itens de uma lista"
   ]
  },
  {
   "cell_type": "code",
   "execution_count": 54,
   "metadata": {},
   "outputs": [
    {
     "name": "stdout",
     "output_type": "stream",
     "text": [
      "O melhor mês do ano foi nov com 49051 vendas\n",
      "O pior mês do ano foi dez com 9650 vendas\n",
      "O faturamento total foi de R$ 261486.00\n",
      "O faturamento do mês nov equivale a 18.8% do faturamento anual\n"
     ]
    }
   ],
   "source": [
    "indice_maior_mes = vendas_anual.index(maior_valor)\n",
    "indice_menor_mes = vendas_anual.index(menor_valor)\n",
    "faturamento_total = sum(vendas_anual)\n",
    "\n",
    "# Primeira solicitação\n",
    "print(f\"O melhor mês do ano foi {meses[indice_maior_mes]} com {maior_valor} vendas\")\n",
    "print(f\"O pior mês do ano foi {meses[indice_menor_mes]} com {menor_valor} vendas\")\n",
    "\n",
    "# Segunda solicitação\n",
    "print(\"O faturamento total foi de R$ {:.2f}\".format(faturamento_total))\n",
    "print(\"O faturamento do mês {} equivale a {:.1%} do faturamento anual\".format(meses[indice_maior_mes], (maior_valor/faturamento_total)))\n"
   ]
  },
  {
   "attachments": {},
   "cell_type": "markdown",
   "metadata": {},
   "source": [
    "## 3. Crie uma lista com o top 3 valores de vendas do ano (sem fazer \"no olho\")\n",
    "\n",
    "Dica: o método remove retira um item da lista."
   ]
  },
  {
   "cell_type": "code",
   "execution_count": 55,
   "metadata": {},
   "outputs": [
    {
     "name": "stdout",
     "output_type": "stream",
     "text": [
      "[25000, 29000, 22200, 17750, 15870, 19900, 19850, 20120, 17540, 15555, 49051, 9650]\n",
      "[49051, 29000, 25000]\n"
     ]
    }
   ],
   "source": [
    "top3 = []\n",
    "print(vendas_anual)\n",
    "\n",
    "top3.append(maior_valor)\n",
    "vendas_anual.remove(maior_valor)\n",
    "\n",
    "maior_valor = max(vendas_anual)\n",
    "top3.append(maior_valor)\n",
    "vendas_anual.remove(maior_valor)\n",
    "\n",
    "maior_valor = max(vendas_anual)\n",
    "top3.append(maior_valor)\n",
    "print(top3)\n",
    "vendas_anual.remove(maior_valor)"
   ]
  }
 ],
 "metadata": {
  "kernelspec": {
   "display_name": "Python 3",
   "language": "python",
   "name": "python3"
  },
  "language_info": {
   "codemirror_mode": {
    "name": "ipython",
    "version": 3
   },
   "file_extension": ".py",
   "mimetype": "text/x-python",
   "name": "python",
   "nbconvert_exporter": "python",
   "pygments_lexer": "ipython3",
   "version": "3.8.3"
  }
 },
 "nbformat": 4,
 "nbformat_minor": 4
}
