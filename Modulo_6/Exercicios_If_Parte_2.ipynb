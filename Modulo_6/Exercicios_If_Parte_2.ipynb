{
 "cells": [
  {
   "attachments": {},
   "cell_type": "markdown",
   "metadata": {},
   "source": [
    "# Exercícios"
   ]
  },
  {
   "attachments": {},
   "cell_type": "markdown",
   "metadata": {},
   "source": [
    "## 1. Criando um mini sistema de controle de estoque\n",
    "\n",
    "- Crie um sistema para ser usado pelo time de controle de estoque de um centro de distribuição.\n",
    "- Imagine que ao fim de todo dia, o time conta quantas unidades de produto existem no estoque. Se tivermos um estoque abaixo do estoque permitido para aquela categoria do produto, o time deve ser avisado (print) para fazer um novo pedido daquele produto.\n",
    "- Cada categoria de produto tem um estoque mínimo diferente, segundo a regra abaixo:\n",
    "\n",
    "- alimentos -> Estoque mínimo: 50\n",
    "- bebidas -> Estoque mínimo: 75\n",
    "- limpeza -> Estoque mínimo: 30\n",
    "\n",
    "Para isso vamos criar um programa que pede 3 inputs do usuário: nome do produto, categoria e quantidade atual em estoque.\n",
    "\n",
    "Se o produto tiver abaixo do estoque mínimo da categoria dele, o programa deve printar a mensagem \"Solicitar {produto} à equipe de compras, temos apenas {unidades} em estoque\"\n",
    "\n",
    "Exemplo: Se o usuário preenche os inputs com: bebidas, dolly, 90, o programa não deve exibir nenhuma mensagem.<br>\n",
    "Agora, se o usuário preenche os inputs com: bebidas, guaraná, 60, o programa deve exibir a mensagem \"Solicitar guaraná à equipe de compras, temos apenas 60 unidades em estoque.\n",
    "\n",
    "Obs: lembre de usar o int() para transformar o número inserido pelo usuário no input de string para int.<br>\n",
    "Obs2: Caso o usuário não preencha alguma das 3 informações, o programa deve exibir uma mensagem para avisá-lo de preencher corretamente."
   ]
  },
  {
   "cell_type": "code",
   "execution_count": 8,
   "metadata": {},
   "outputs": [
    {
     "name": "stdout",
     "output_type": "stream",
     "text": [
      "Ocorreu um problema, rode o programa novamnte!\n"
     ]
    }
   ],
   "source": [
    "# Coleta de informação\n",
    "nome_produto = input(\"Digite o nome do produto: \")\n",
    "categoria_produto = input(\"Digite a categoria do produto: \")\n",
    "estoque = int(input(\"Digite a quantidade atual do produto em estoque : \"))\n",
    "\n",
    "# Estipular o mínimo\n",
    "minimo_alimento = 50\n",
    "minimo_bebida = 75\n",
    "minimo_limpeza = 30\n",
    "\n",
    "# Condições para o mínimo\n",
    "if categoria_produto.lower() == \"alimentos\":\n",
    "    if estoque < 60:\n",
    "        print(f\"Solicitar {nome_produto} à equipe de compras, temos apenas {estoque} unidades em estoque.\")\n",
    "elif categoria_produto.lower() == \"bebidas\":\n",
    "    if estoque < 60:\n",
    "        print(f\"Solicitar {nome_produto} à equipe de compras, temos apenas {estoque} unidades em estoque.\")\n",
    "\n",
    "elif categoria_produto.lower() == \"limpeza\":\n",
    "    if estoque < 60:\n",
    "        print(f\"Solicitar {nome_produto} à equipe de compras, temos apenas {estoque} unidades em estoque.\")\n",
    "else:\n",
    "    print(\"Ocorreu um problema, rode o programa novamente!\")"
   ]
  },
  {
   "attachments": {},
   "cell_type": "markdown",
   "metadata": {},
   "source": [
    "## Minha tentativa de otimizar esse código utilizando:\n",
    "1. Laço de repetição\n",
    "2. Função"
   ]
  },
  {
   "cell_type": "code",
   "execution_count": 10,
   "metadata": {},
   "outputs": [
    {
     "name": "stdout",
     "output_type": "stream",
     "text": [
      "Solicitar Meu cu à equipe de compras, temos apenas 40 unidades em estoque.\n"
     ]
    }
   ],
   "source": [
    "# Coleta das informações\n",
    "nome_produto = input(\"Digite o nome do produto: \")\n",
    "categoria_produto = input(\"Digite a categoria do produto: \")\n",
    "estoque = int(input(\"Digite a quantidade atual do produto em estoque : \"))\n",
    "\n",
    "# Criar uma lista para estipular um padrão\n",
    "\n",
    "# categoria_produto = [\"alimentos\",\"bedidas\",\"limpeza\"]\n",
    "# estoque_minimo = [50, 75, 30] - Quando você quiser juntar duas coisas assim use o dicionário\n",
    "estoque_minimo = {\"alimentos\" : 50,\n",
    "                  \"bebidas\" : 75,\n",
    "                  \"limpeza\" : 30}\n",
    "\n",
    "# Buscar o valor digitado\n",
    "estoque_minimo_categoria = estoque_minimo.get(categoria_produto,0) # 0 Para retornar caso seja escrito um valor não existente no dicionário\n",
    "\n",
    "if estoque < estoque_minimo_categoria:\n",
    "    print(f\"Solicitar {nome_produto} à equipe de compras, temos apenas {estoque} unidades em estoque.\")\n",
    "else:\n",
    "    print(\"Ocorreu um problema, rode o programa novamente!\")"
   ]
  }
 ],
 "metadata": {
  "kernelspec": {
   "display_name": "Python 3",
   "language": "python",
   "name": "python3"
  },
  "language_info": {
   "codemirror_mode": {
    "name": "ipython",
    "version": 3
   },
   "file_extension": ".py",
   "mimetype": "text/x-python",
   "name": "python",
   "nbconvert_exporter": "python",
   "pygments_lexer": "ipython3",
   "version": "3.11.3"
  }
 },
 "nbformat": 4,
 "nbformat_minor": 4
}
