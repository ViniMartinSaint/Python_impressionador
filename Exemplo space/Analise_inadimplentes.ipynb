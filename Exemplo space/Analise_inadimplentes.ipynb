{
 "cells": [
  {
   "attachments": {},
   "cell_type": "markdown",
   "metadata": {},
   "source": [
    "# Análise de inadimplentes (space net)\n",
    "\n",
    "## Contexto do desafio\n",
    "\n",
    "Os responsáveis da Space Net ISP solicitaram a equipe de TI que eles oferececem um plano de marketing para aumentar o ticket médio da empresa, antes de efetuar esse planejamento um dos funcionários se voluntariou para criar uma análise em cima dos dados desses clientes que apresentam essa inadimplência\n",
    "\n",
    "### O que a empresa precisa fazer para resolver isso?!\n",
    "\n",
    "1. Importar a base de dados\n",
    "2. Tratar os dados irrelevantes para a análise\n",
    "3. Comparar e criar visualizações para facilitar a tomada de decisão"
   ]
  },
  {
   "attachments": {},
   "cell_type": "markdown",
   "metadata": {},
   "source": [
    "#### Primeira parte do desafio\n",
    "Como não sei ainda como que faz importações via SQL, eu tive que utilizar o google sheets para recolher as informações dos clientes que entraram em débito com a empresa, porém prestando atenção em duplicatas, não importa quantas vezes eles entrou como inadimplente.\n",
    "\n",
    "Adquiri uma lista de nomes e id's que relacionam esses clientes ao nosso banco de dados no mês de junho (Data que está sendo feita a análise), irei importar essa lista em csv para o python recolher"
   ]
  },
  {
   "cell_type": "code",
   "execution_count": 59,
   "metadata": {},
   "outputs": [],
   "source": [
    "import numpy as np\n",
    "import pandas as pd\n",
    "import openpyxl\n",
    "\n",
    "# passo 1 importar as bases de dados\n",
    "clientes_inadimplentes = pd.read_csv(\"clientes_inadimplentes-junho.txt\")\n",
    "informacoes_dos_clientes = pd.read_excel(\"todos_os_clientes.xlsx\")"
   ]
  },
  {
   "attachments": {},
   "cell_type": "markdown",
   "metadata": {},
   "source": [
    "### Excluindo o que não importa\n",
    "Muitas das vezes, você vai se deparar com um monte de informações que são ou inúteis, eu inválidas para a análise, no caso da Space net o problema se trata da falta de informação sobre os clientes que contratam o serviço, então segue o exemplo de dados úteis que não foram preenchidos:\n",
    "- Vendedor\n",
    "- Midia"
   ]
  },
  {
   "cell_type": "code",
   "execution_count": 60,
   "metadata": {},
   "outputs": [],
   "source": [
    "# passo 2 Tratar os dados\n",
    "# 2.1 -> Excluir as colunas/horizontais vazias e sem valor para a análise\n",
    "colunas_vazias = [\"Nome Fantasia\",\"smartcard\",\"Linha\",\"gateway id\",\"Fidelidade\",\"Vendedor\",\"Midia\",\"RG Emissor\",\"IP\"]\n",
    "colunas_irrelevantes = [\"CPF/CNPJ\",\"Cliente ID\",\"Data Cadastro cliente\",\"Celulares\",\"Telefones\",\"Emails\",\"Login\",\"Senha\",\"Número\",\"Complemento\",\"Ponto de referencia\",\"RG\",\"CEP\",\"Cidade\",\"UF\",\"MAC\",\"Switch\",\"Porta Switch\",\"Tipo\"]\n",
    "informacoes_dos_clientes = informacoes_dos_clientes.drop(colunas_vazias, axis=1)\n",
    "informacoes_dos_clientes = informacoes_dos_clientes.drop(colunas_irrelevantes, axis=1)"
   ]
  },
  {
   "attachments": {},
   "cell_type": "markdown",
   "metadata": {},
   "source": [
    "### O que é essa condição?\n",
    "Essa \"condição\" existe pois foi a maneira que eu encontrei de interligar/Indexar essas duas listas diferentes, **\"Clientes_inadimplentes\"** com **\"informacoes_dos_clientes\"**.\n",
    "Então eu pesquisei por essa lógica na internet e descobri a função \"isin\" que iria traduzir para \"Está em\"\n",
    "a variável \"condicao\", que é um objeto do tipo Series contendo valores booleanos, será utilizado para filtrar as linhas correspondentes da \n",
    "\n",
    "**clientes_inadimplentes['ID']**"
   ]
  },
  {
   "cell_type": "code",
   "execution_count": 66,
   "metadata": {},
   "outputs": [],
   "source": [
    "# 2.2 -> Comparação entre duas listas\n",
    "condicao = informacoes_dos_clientes['Contrato ID'].isin(clientes_inadimplentes['ID'])\n",
    "informacoes_dos_clientes = informacoes_dos_clientes[condicao]"
   ]
  },
  {
   "attachments": {},
   "cell_type": "markdown",
   "metadata": {},
   "source": [
    "### A Função da Função\n",
    "De costume no nosso setor trabalhamos para retirar as informações atraves de \"Contagens\" entregando assim uma vizualização numérica dos ítens.\n",
    "Então criei a função, na qual é só inserir o nome da coluna que ele vai entregar a contagem e demonstrar quantos % aquele valor significa para a análise."
   ]
  },
  {
   "cell_type": "code",
   "execution_count": 84,
   "metadata": {},
   "outputs": [
    {
     "name": "stdout",
     "output_type": "stream",
     "text": [
      "Segue a contagem de Bairro: \n",
      "BARRO VERMELHO: 237 = 25.79%\n",
      "SANTA AMÉLIA: 224 = 24.37%\n",
      "PARQUE SÃO BERNARDO: 125 = 13.60%\n",
      "HITERLAND: 111 = 12.08%\n",
      "VILA MAIA: 20 = 2.18%\n",
      "VILA VIÇOSA: 19 = 2.07%\n",
      "SÃO BERNARDO: 17 = 1.85%\n",
      "PARQUE SANTA AMÉLIA: 17 = 1.85%\n",
      "PARQUE AMERICANO: 15 = 1.63%\n",
      "SITIO RETIRO FELIZ: 15 = 1.63%\n",
      "BABI: 13 = 1.41%\n",
      "VILA ERA: 13 = 1.41%\n",
      "JARDIM DAS ESTRELAS: 11 = 1.20%\n",
      "RECANTUS: 9 = 0.98%\n",
      "NOVA PIAM: 9 = 0.98%\n",
      "VILA JOLA: 7 = 0.76%\n",
      "SANTA MARIA: 6 = 0.65%\n",
      "PIAM: 6 = 0.65%\n",
      "DAS GRAÇAS: 5 = 0.54%\n",
      "BOA ESPERANÇA: 5 = 0.54%\n",
      "PRIMUS: 4 = 0.44%\n",
      "NOVA AURORA: 4 = 0.44%\n",
      "CENTRO: 4 = 0.44%\n",
      "SANTA AMELIA: 3 = 0.33%\n",
      "PAULINE: 3 = 0.33%\n",
      "VILAR NOVO: 3 = 0.33%\n",
      "SÃO JORGE: 2 = 0.22%\n",
      "BOM PASTOR: 1 = 0.11%\n",
      "BOA SORTE: 1 = 0.11%\n",
      "BAIRRO DAS GRAÇAS: 1 = 0.11%\n",
      "SEM TERRA: 1 = 0.11%\n",
      "SAO BERNARDO: 1 = 0.11%\n",
      "XAVANTES: 1 = 0.11%\n",
      "VILA SÃO SEBASTIÃO: 1 = 0.11%\n",
      "SHANGRI-LÁ: 1 = 0.11%\n",
      "SÃO VICENTE: 1 = 0.11%\n",
      "INTERLAND: 1 = 0.11%\n",
      "Santa Amélia: 1 = 0.11%\n",
      "Barro Vermelho: 1 = 0.11%\n",
      "\n",
      "\n",
      "Segue a contagem de Plano Valor: \n",
      "99.9: 472 = 51.36%\n",
      "89.9: 126 = 13.71%\n",
      "64.9: 89 = 9.68%\n",
      "69.9: 48 = 5.22%\n",
      "105.9: 41 = 4.46%\n",
      "119.9: 38 = 4.13%\n",
      "60.0: 31 = 3.37%\n",
      "82.0: 26 = 2.83%\n",
      "79.9: 12 = 1.31%\n",
      "139.9: 10 = 1.09%\n",
      "129.9: 9 = 0.98%\n",
      "57.5: 7 = 0.76%\n",
      "149.9: 7 = 0.76%\n",
      "59.9: 3 = 0.33%\n",
      "\n",
      "\n",
      "Segue a contagem de Vencimento: \n",
      "20: 430 = 46.79%\n",
      "15: 181 = 19.70%\n",
      "10: 168 = 18.28%\n",
      "5: 96 = 10.45%\n",
      "25: 30 = 3.26%\n",
      "30: 14 = 1.52%\n",
      "\n",
      "\n",
      "Segue a contagem de Acres.Desc.: \n",
      "0.0: 453 = 49.29%\n",
      "10.0: 449 = 48.86%\n",
      "5.0: 15 = 1.63%\n",
      "6.1: 2 = 0.22%\n",
      "\n",
      "\n",
      "Segue a contagem de Plano: \n",
      "SUPREMO_500MB_FIBRA_99: 306 = 33.30%\n",
      "250 MEGA FIBR4: 125 = 13.60%\n",
      "SUPREMO_150MB_FIBRA: 69 = 7.51%\n",
      "30 MEGA FIBRA SB: 68 = 7.40%\n",
      "SUPREMO_600MB_FIBRA: 38 = 4.13%\n",
      "4 MEGA: 31 = 3.37%\n",
      "100MB_SPACE: 28 = 3.05%\n",
      "60_MEGA_FIBER: 27 = 2.94%\n",
      "8 MEGA: 26 = 2.83%\n",
      "80MEGA FTTH: 25 = 2.72%\n",
      "300_MEGA_FIBRA_2022: 22 = 2.39%\n",
      "150 MEGA RC: 21 = 2.29%\n",
      "30 mega_migração_ftth: 21 = 2.29%\n",
      "350MB_NOVO_105.90: 16 = 1.74%\n",
      "150 MEGA SPACE 2022: 15 = 1.63%\n",
      "200_MEGA_PLUS: 14 = 1.52%\n",
      "80_MEGA_FIBER: 12 = 1.31%\n",
      "60MEGA FTTH: 11 = 1.20%\n",
      "SUPREMO_700MB_FIBRA: 10 = 1.09%\n",
      "350 MEGA FIBRA: 9 = 0.98%\n",
      "3 MEGA: 7 = 0.76%\n",
      "400 MEGA FIBRA: 7 = 0.76%\n",
      "200_MEGA_2021: 7 = 0.76%\n",
      "300_MEGA_PARCERIA: 3 = 0.33%\n",
      "300_MEGA_FIBRA_2022_100%_UPLOAD: 1 = 0.11%\n",
      "\n",
      "\n"
     ]
    }
   ],
   "source": [
    "# 3ª Parte - Contagem de todas as informações restantes\n",
    "def contagem_planilha(coluna):\n",
    "    contagem = informacoes_dos_clientes[coluna].value_counts()\n",
    "    total_observacoes = contagem.sum()\n",
    "    print(f\"Segue a contagem de {coluna}: \")\n",
    "    for valor, contagem in contagem.items():\n",
    "        contagem = print(\"{}: {} = {:.2%}\".format(valor,contagem,(contagem/total_observacoes)))\n",
    "    print(\"\\n\")\n",
    "    \n",
    "\n",
    "contagem_planilha(\"Bairro\")\n",
    "contagem_planilha(\"Plano Valor\")\n",
    "contagem_planilha(\"Vencimento\")\n",
    "contagem_planilha(\"Acres.Desc.\")\n",
    "contagem_planilha(\"Plano\")"
   ]
  },
  {
   "attachments": {},
   "cell_type": "markdown",
   "metadata": {},
   "source": [
    "### Como o gráfico vai ajudar?\n",
    "Nos casos onde você possui dois elementos para comparar os efeitos ficam mais perceptíveis, porém o gráfico nesse caso serve para melhorar mais ainda a visibilidade para alguma apresentação futura."
   ]
  },
  {
   "cell_type": "code",
   "execution_count": 88,
   "metadata": {},
   "outputs": [
    {
     "data": {
      "application/vnd.plotly.v1+json": {
       "config": {
        "plotlyServerURL": "https://plot.ly"
       },
       "data": [
        {
         "alignmentgroup": "True",
         "bingroup": "x",
         "hovertemplate": "Nome/Razão Social=%{x}<br>count=%{y}<extra></extra>",
         "legendgroup": "",
         "marker": {
          "color": "#636efa",
          "pattern": {
           "shape": ""
          }
         },
         "name": "",
         "offsetgroup": "",
         "orientation": "v",
         "showlegend": false,
         "type": "histogram",
         "x": [
          "ADELAIDE TEODORO TAVARES ALVES",
          "ADELANE OLIVEIRA DA SILVA",
          "ADELE MARA ALMEIDA SILVA",
          "ADEMIR GONÇALVES DA SILVA",
          "ADENICE MARIA DOS SANTOS",
          "ADJOELMA SOARES SILVA",
          "ADRIANA DE MOURA",
          "ADRIANA DE OLIVEIRA CAETANO",
          "ADRIANA DE OLIVEIRA VIANA PIO",
          "ADRIANA FERNANDES DE SOUZA PEREIRA",
          "ADRIANA MARIA DOS SANTOS SILVA SIQUEIRA",
          "ADRIANO BIZARELO PEREIRA",
          "ADRIELY QUEIROZ GOMES",
          "AGATHA CRUZ GOMES",
          "ÁGATHA NASCIMENTO DE LIMA",
          "ALAN DIAS PERPÉTUO",
          "ALBERTO CLEITON MOREIRA FERREIRA",
          "ALBERTO RONNY DA CUNHA DIAS",
          "ALCIONE CORRÊA RIBEIRO",
          "ALESSANDRA DE CASTRO ROBERTO NOGUEIRA",
          "ALESSANDRA FERREIRA MARIANO",
          "ALESSANDRA MARQUES LIMA",
          "ALESSANDRA MARTINS MONTENEGRO",
          "ALESSANDRO SANTOS DA SILVA",
          "ALEXANDRE BARBOSA LEAL",
          "ALEXANDRE BRANDAO LUIZ JUNIOR",
          "ALEXANDRE NASCIMENTO DA SILVA",
          "ALEXANDRE PEREIRA DA SILVA",
          "ALEXANDRE SILVA DA CONCEIÇÃO",
          "ALEXANDRO BARBOSA PETNIUNAS",
          "ALEXANDRO SOARES FILHO",
          "ALEX DO NASCIMENTO SOARES",
          "ALEX FÁBIO LIRA DA SILVA",
          "ALEXSANDRA DA CONCEIÇÃO RAMOS",
          "ALEXSANDRO FAUSTINO DE ARAUJO",
          "ALFREDO VICENTE DA SILVA FILHO",
          "ALINE MARIA AUXILIADORA BEIJA FLOR",
          "ALINE RODRIGUES DE PAULA(FIBRA)",
          "ALINE SILVA DOS REIS",
          "ALINE VICENTE DA SILVA",
          "ALMIR HENRIQUES DE SOUZA",
          "ALMIR SANTOS",
          "ALTAIR GALDINO DE PAULA",
          "AMANDA CHAGAS DE MELO",
          "AMANDA FAUSTINO DE ARAUJO",
          "AMANDA LOPES DA SILVA",
          "AMANDA SALDANHA DA SILVA",
          "AMILSON FERREIRA PINTO",
          "ANA ALICE CARDOSO BATISTA",
          "ANA CARLA DA CONCEIÇÃO DO NASCIMENTO",
          "ANA CAROLINA DO CARMO DA SILVA",
          "ANA CAROLINA FERREIRA FLAUSINO",
          "ANA CAROLINE ANTUNES ALMEIDA",
          "ANA CECÍLIA SILVÉRIO DE MOURA MOÇO",
          "ANA CLAUDIA BEZERRA DA SILVA",
          "ANA CLAUDIA DA SILVA RIBEIRO",
          "ANA CLAUDIA GONÇALVES BASTOS",
          "ANA JÉSSICA SODRÉ ROSA",
          "ANALIA REGINA PEREIRA FERNANDES",
          "ANA LÚCIA PEREIRA DE OLIVEIRA",
          "ANA MARIA DA SILVA ALEIXO",
          "ANA MARIA GOMES RIBEIRO",
          "ANANIAS PORTES ALVES FERREIRA",
          "ANA PAULA ALVES DE ABREU",
          "ANA PAULA DA CUNHA COSTA",
          "ANA PAULA DE ALMEIDA MACIEL",
          "ANA PAULA DUTRA TEIXEIRA",
          "ANA PAULA FERNANDES DE MOURA DOMINGUES",
          "ANA PAULA PEIXOTO GIRARD",
          "ANA PAULA RODRIGUES",
          "ANA PAULA SANTOS CARNEIRO",
          "ANDERSON APARECIDO FERREIRA",
          "ANDERSON DE SOUSA LEITE",
          "ANDERSON GONÇALVES VALADÃO",
          "ANDERSON JOSÉ MARIA",
          "ANDERSON JUNIOR DE JESUS MARQUES",
          "ANDERSON MARTINS DE LIMA",
          "ANDREA ANDRADE DA CUNHA BRAGA",
          "ANDREA FERREIRA DA SILVA SANTOS",
          "ANDREA GOMES PINTO DOS SANTOS",
          "ANDREA LEILA LEMOS CALDEIRA",
          "ANDREIA BERNARDO DE MOURA",
          "ANDRE LUÍS DE CARVALHO",
          "ANDRÉ LUIS OTO",
          "ANDRÉ LUIZ SOARES DA SILVA",
          "ANDRÉ SILVA MACEDO DA COSTA",
          "ANDRESSA CHAGAS DA SILVA CHICANELE",
          "ANDRESSA TRINDADE DA SILVA",
          "ANDREZA DA SILVA BARRETO",
          "ANDREZA DE ALMEIDA LOPES",
          "ANGELA COELHO SILVA",
          "ANGELA OLIVEIRA DE MELLO",
          "ANGÉLICA ANTUNES DE SANTANA",
          "ANGELICA CRISTINA GALL LIMA NAVARRO",
          "ANGELICA IBRAIM TROTA",
          "ANGELICA JULIAO DE AVELLAR",
          "ANGÉLICA QUINTANILHA DE SOUZA",
          "ÂNGELO SIMAS MARCHETTI",
          "ANNA CLAUDIA DE AZEVEDO DOS SANTOS",
          "ANNE PRISCILLA DA SILVA ALVES",
          "ANTONIA FERNANDES DOS SANTOS",
          "ANTONIO CARLOS DOS SANTOS",
          "ANTONIO JOSE TEIXEIRA DE ALMEIDA",
          "ANTÔNIO REGIS DE SOUSA",
          "APARECIDA DE OLIVEIRA SANTOS",
          "APARECIDA MARIA DIAS",
          "ARTHUR RADAMÉS SANTOS SILVA",
          "AURISLAM MOISES FERREIRA",
          "AUZENI APARECIDA MICIMIANA DE AZEVEDO",
          "BARBARA NASCIMENTO FERNANDES SILVA",
          "BARUK DONIZETTI SILVA",
          "BAZILIO SOARES TARGINO",
          "BEATRIZ ALONSO DE SOUZA DA SILVA",
          "BEATRIZ LIMA SANTOS",
          "BEATRIZ OLIVEIRA DANTAS",
          "BEATRIZ ROSARIO DO CARMO",
          "BIANCA DIAS MOREIRA",
          "BRENDA SOUZA DE OLIVEIRA",
          "BRUNA DE OLIVEIRA VICTORIA LEMOS",
          "BRUNA MELLO DE MENEZES GOMES",
          "BRUNA MOREIRA FERREIRA",
          "BRUNA SANTOS RIBEIRO",
          "BRUNO AUGUSTO SANTOS",
          "BRUNO DA SILVA SAMPAIO",
          "BRUNO EDSON SILVA GOMES ( 3º PONTO )",
          "BRUNO RICARDO SILVA PEREIRA",
          "BRUNO SANTOS DE MOURA",
          "CAIO CESAR DA SILVA CAMPOS",
          "CAMILA DA SILVA BALBINO",
          "CARANE MOREIRA (IGREJA)",
          "CARINA DE SOUZA AZEVEDO",
          "CARINE HELEN ALVES DE JESUS CASTILHO",
          "CARLA DA COSTA SOARES",
          "CARLA REGINA DANTAS DA SILVA",
          "CARLA ROBERTA BRITO DA SILVA ( CLIENTE FIBRA )",
          "CARLOS ALBERTO DO NASCIMENTO CARNEIRO",
          "CARLOS BRAYAN BARBOSA LOUREIRO",
          "CARLOS EDUARDO LOPES MACHADO",
          "CARLOS HENRIQUE DE ALMEIDA ROSA",
          "CARLOS PEDRO SILVA",
          "CARLOS ROBERTO DA SILVA MOURA",
          "CARLY DOS SANTOS MIRANDA 2° PONTO",
          "CAROLINA SOUZA AMARAL",
          "CAROLINE BRITO DA CRUZ",
          "CAROLINE CONCEIÇÃO LOPES DE OLIVEIRA",
          "CATIA REGINA ALVES REMPEM",
          "CATIA REGINA OLIVEIRA DE ANDRADE",
          "CECILIA DA SILVA ISIDORO",
          "CÉLIO ROBERTO DOS SANTOS",
          "CELSON DE PAULA MENEZES",
          "CEZAR THOME FORTUNATO",
          "CHRISTIELLEN LETICIA DE SOUZA",
          "CLAUDIA BARBOSA DA SILVA DE PAULA",
          "CLAUDIA CONCEIÇÃO DA SILVA TAVARES",
          "CLAUDIA CORTES DE PAULA PRADO",
          "CLAUDIA DE OLIVEIRA",
          "CLAUDIA EQUEY FERREIRA",
          "CLAUDIANA CAVALCANTE DE OLIVEIRA",
          "CLAUDIA REGINA OLIVEIRA MATTOS PATROCINIO",
          "CLÁUDIO GREGORIO",
          "CLAUDIO MENDONÇA CARVALHAES",
          "CLAUDIONOR FRANÇA DA SILVA",
          "CLECIO ADAES NERY",
          "CLEIDE MACIEL SANTOS",
          "CLEITON DOS SANTOS FERREIRA",
          "CLEITON FORTUNATO DE OLIVEIRA",
          "CLEITON MEDEIROS DO NASCIMENTO",
          "CLENIR SOUZA COSME DA CONCEIÇÃO",
          "CLEYDE LOURENCO MARTINS",
          "CREDILSON SERRA DOS SANTOS (BORRACHEIRO)",
          "CRISTIANE CAREN EMANOELE SILVA",
          "CRISTIANE DA SILVA",
          "CRISTIANE DA SILVA MONTEIRO",
          "CRISTIANE DOS SANTOS PIRES",
          "CRISTIANE RAMOS SANTOS",
          "CRISTIANO MARIANO",
          "CRISTIANO MORAIS DA SILVA",
          "CRISTIANO SILVA E SILVA",
          "DAIANA DA COSTA SOARES OLIVEIRA",
          "DAIANE CRISTINA MOREIRA DE SOUZA",
          "DAIANE HELEN GONÇALVES DE SOUZA SOARES",
          "DALVA MARIA DOS SANTOS",
          "DAMIAO DE OLIVEIRA PALMEIRA",
          "DANDARA DOS SANTOS",
          "DANIELA DA SILVA LIMA",
          "DANIEL CHAVES SOARES",
          "DANIEL CORDEIRO DE MORAES",
          "DANIEL DE ALMEIDA SANTOS",
          "DANIEL DE LIMA DA CRUZ",
          "DANIELE LEANDRO DE OLIVEIRA",
          "DANIELE OLIVEIRA ANTUNES",
          "DANIEL FERNANDES CORNE",
          "DANIEL FERREIRA MARCOLINO",
          "DANIELLA DA ROCHA DANIEL RIBEIRO",
          "DANIEL LEAL DOS SANTOS",
          "DANIELLE CRISTINA APARECIDA",
          "DANIEL MARREIRO DE CASTRO",
          "DANIEL QUEIROZ DA SILVA",
          "DANIEL SOARES DE ALMEIDA",
          "DANILO CORREA GOMES",
          "DANRLEY SANTOS D OLIVEIRA",
          "DÉBORA CRISTINA ARAÚJO",
          "DÉBORA CRISTINA DA SILVA BAPTISTA",
          "DEBORAH MENDONÇA BRANDÃO",
          "DEISIANA VIEIRA DE LUCENA DA SILVA",
          "DENISE BARBOSA DA SILVA",
          "DENIS KENIO ANTUNES PEREIRA",
          "DIEGO DE ALMEIDA GALVÃO",
          "DIEGO MACIEL DOS ANJOS",
          "DIEGO SANTANA DE ASSIS",
          "DIOGO GOMES DOS SANTOS",
          "DIOGO RIBEIRO DE ARAUJO",
          "DJEIMERSON SOUSA NUNES",
          "DOUGLAS DOS SANTOS SILVA",
          "DOUGLAS ISRAEL DOS SANTOS SILVA",
          "DOUGLAS RICARDO DE CARVALHO NUNES",
          "DOUGLAS SANTOS DA SILVA",
          "DOUGLAS VINICÍUS DE OLIVEIRA RODRIGUES",
          "DOUGLAS VITOR BERNARDO BARBOSA",
          "DURVAL FRANCISCO RAIMUNDO",
          "EDERSON ALVES RODRIGUES",
          "EDIO ALBANO BENFICA",
          "EDMILSON DA SILVA TRAJANO",
          "EDMILSON MATOS DOS SANTOS",
          "EDSON DE ARAÚJO VIANNA",
          "EDUARDA DE OLIVEIRA BENTO",
          "EDUARDA RIBEIRO OLIVEIRA",
          "EDUARDO SANTANA SANTOS",
          "ELAINE NUNES",
          "ELAINE RAQUEL SILVA SANTOS",
          "ELENI CARVALHO PEREIRA",
          "ELIANE DE ANDRADE LIMA",
          "ELIAS LUIZ DA SILVA",
          "ELISABETE PEREIRA COELHO DA CRUZ",
          "ELISA CASTRO DA SILVA",
          "ELISEU BARRETO GALHARDO",
          "ELISIETE DA SILVA PIMENTEL",
          "ELIZABETH PEREIRA ANDRADE",
          "EMERSON DE LUNA SILVA",
          "ERCILIA PAULA DE FIGUEIREDO DA FONSECA",
          "ERICA FABIANE FERREIRA DOS SANTOS",
          "ÉRICA LOLITA SILVA BARROS",
          "ERICK DA SILVA CARVALHO",
          "ERIVONE DA SILVA",
          "ERNANDES VIEIRA PEREIRA",
          "ERNANE MIGUEL DA SILVA",
          "ESTEFANI TEIXEIRA DE ALMEIDA",
          "ETIENE CAMPOS GONET",
          "EVANDRO CORDEIRO DIAS",
          "EVANDRO DONATO MOZA",
          "EVELIN LEAL DE MATTOS",
          "EVERTON RICARDO LIMA DA CRUZ",
          "EWERTON CONCEIÇÃO SANTOS",
          "EWERTON VINICIUS LIMA JOSE",
          "FABIA LUCIA PEREIRA ALVES DOS SANTOS",
          "FABIANA APARECIDA DE SOUZA",
          "FABIANA MARIA QUITERIA CORREA",
          "FABIANA VIEIRA DO NASCIMENTO",
          "FABIANE DO NASCIMENTO LESSA",
          "FABIANO BISPO RIBEIRO",
          "FABIANO FREITAS DE CAMPOS",
          "FÁBIO MARQUES GOMES",
          "FÁTIMA MENDES DE SOUZA",
          "FELIPE DE AZEVEDO VAILÕES",
          "FELIPE DE JESUS LISBOA",
          "FERNANDA DOS SANTOS GUEDES",
          "FERNANDA DOS SANTOS SILVA",
          "FERNANDA FELIX DA SILVA",
          "FERNANDO GOMES SILVEIRA",
          "FERNANDO SOARES",
          "FILIPE GABRIEL FERREIRA DE ALMEIDA",
          "FLAVIO AQUINO DE ALMEIDA (LOJA)",
          "FRANCI ROSE ARAUJO",
          "FRANCISCO DE ASSIS GUEDES FILHO",
          "GABRIELA DA SILVA CARDOSO MARQUES",
          "GABRIEL CARLOS PEREIRA DA COSTA",
          "GABRIELLE SILVA DA CUNHA CAETANO",
          "GABRIELLY ROCHA TOLEDO",
          "GABRIEL RODRIGUES DE OLIVEIRA",
          "GERALDO ANTÔNIO DE MELO",
          "GERALDO DA COSTA SILVA",
          "GERLANE CRISTINA DE OLIVEIRA COSTA",
          "GILVAN RENATO CRUZ LIMA",
          "GIRLAINE LOPES DE SOUSA",
          "GISELA COSTA ANTONIO",
          "GISELE SANTOS DE SOUZA",
          "GISELLE GOMES DOS ANJOS SOUSA",
          "GISELLE NASCIMENTO DA SILVA",
          "GLAUCIANE PINTO FALCOEIRAS",
          "GLORIA REGINA BATISTA",
          "GLORIA REGINA DE OLIVEIRA",
          "GRACIELLE SALLES DE JESUS",
          "GREICE KELI GOUVEIA HERDY RODRIGUES",
          "GREICE KELI PAIXAO PEREIRA MACHADO",
          "GREICIANE VELLOSO DA SILVA",
          "GREISSE SOUSA SILVA (FIBRA)",
          "GUILHERME ANGELO LEAL",
          "GUILHERME BARBOSA DOS SANTOS",
          "GUILHERME PETNIUNAS AMARAL",
          "GUSTAVO CAMILO MOREIRA",
          "HAMILTON MATIAS DE JESUS",
          "HAMILTON RIBEIRO DOS SANTOS",
          "HELENA CRISTINE DA COSTA TEIXEIRA",
          "HELEN CRISTINA FIGUEIREDO DE OLIVEIRA DE AZEVEDO",
          "HELIO LEAL LOPES",
          "HERNAN FIGUEIRA RODRIGUES",
          "HILDA ROSA DOS SANTOS OLIVEIRA",
          "HUGO MONTEIRO DE OLIVEIRA",
          "IAGO MARTINS DE ANDRADE SILVA",
          "IARA SÍLVIA NASCIMENTO SARAIVA PIQUET",
          "IGOR MEDEIROS DA SILVA",
          "IGOR SCHULTZ SOUZA",
          "IGREJA METODISTA MISSIONÁRIA DE SÃO BERNARDO",
          "INDIARA DE PAULA SILVA",
          "INGRID ANSELMO AGUIAR",
          "INGRID DA COSTA FERREIRA",
          "INGRID MARCELE MARTINS DA SILVA",
          "INSTITUTO EDUCACIONAL DRUMMOND DE ANDRADE (IEDA)",
          "IRAN DAMES CASTELHANO",
          "IRLANE FONSECA GONZAGA",
          "ISABEL CRISTINA FURTADO DE MEDEIROS",
          "ISABELE PEREIRA SILVA COUTINHO(FIBRA)",
          "ISAMARA DA SILVA",
          "IVONILDE CANDIDA BARBOSA 2° PONTO",
          "JAMERSON LOPES SANTANA",
          "JANAINA DA SILVA CAETANO",
          "JANDERSON FERREIRA SANTOS DA SILVA",
          "JANE GLEICY SILVEIRA ALMEIDA",
          "JANETE DA SILVA CRUZ",
          "JANETE LUCIO DO NASCIMENTO DA SILVA",
          "JAQUELINE CASTRO DO NASCIMENTO",
          "JAQUELINE DE ARAÚJO PRIMO DA SILVA",
          "JAQUELINE DE OLIVEIRA SANTOS",
          "JAQUELINE MENEZES CARVALHO DOS SANTOS",
          "JEAN ALVES DE OLIVEIRA",
          "JEFFERSON BITTENCOURT SIQUEIRA",
          "JESEANE CLEICE DE OLIVEIRA SEVOLELA",
          "JESSICA DA SILVA DE CARVALHO ALVES",
          "JESSICA DOS SANTOS FERREIRA",
          "JESSICA DOS SANTOS SOUZA",
          "JOÃO CARLOS FREIRE MIGUEL",
          "JOAO VITOR DA SILVA LEAL",
          "JOICE BRITO DA CRUZ",
          "JOILSON INACIO DOS SANTOS JUNIOR",
          "JONAS LEÃO VICTORINO",
          "JONATA CLEBER DA CONCEIÇÃO",
          "JONATHAN BRASIL HENRIQUES AGUIAR",
          "JORGE CARNEIRO DA SILVA",
          "JORGE DIAS DOS SANTOS",
          "JORGE DOS SANTOS VAZ",
          "JORGE LUIZ DOS REIS DUTRA",
          "JORGE REIS SOARES DA SILVA",
          "JORGINA MARIA ARTEIRO DA CONCEICAO MOREIRA",
          "JORGINETTE DA ROCHA LOURENÇO",
          "JOSE AIRTON DOS SANTOS",
          "JOSÉ BARBOSA DE ARAUJO",
          "JOSE CARLOS DE ALMEIDA CRISTOVÃO",
          "JOSÉ CARLOS OLIVEIRA SACRAMENTO",
          "JOSÉ DA SILVA",
          "JOSÉ DE SOUSA BEZERRA",
          "JOSELI RODRIGUES DE FREITAS JUNGER (2° PONTO)",
          "JOSÉ LUIZ GOMES",
          "JOSE LUIZ LIMA DOS SANTOS",
          "JOSE MAMEDE SILVA DE ALMEIDA",
          "JOSEMAR FELIZARDO DA SILVA",
          "JOSÉ PEDRO CUSTÓDIO DE SOUZA",
          "JOSÉ ROBERTO DA SILVA",
          "JOSE ROBERTO DA SILVA BEZERRA",
          "JOSICLEIDE ALVES NUNES",
          "JOSIMAR DO NASCIMENTO ARAÚJO",
          "JOYCE DUARTE DOS SANTOS",
          "JOYCE PAULA NEVES DA SILVA",
          "JUÇARA VIEIRA BARBOSA",
          "JULIANA CARMO DA SILVA",
          "JULIANA CRISTINA BARBETA DA SILVA",
          "JULIANA LUZIA DA SILVA",
          "JULIANA PINTO BERNARDO",
          "JULIANA VIANA DA SILVA DE SOUZA",
          "JULIAN CRISTINA SOUZA DOS SANTOS",
          "JULIANO CESAR DA SILVA LOPES",
          "JULIA ROSA DA SILVA FERREIRA",
          "JULIO CARLOS DE SOUZA",
          "JÚLIO CÉSAR GUIMARÃES DOS REIS",
          "JÚLIO CÉSAR SCHULTZ",
          "JUSSARA DA PAIXAO",
          "KAIO RIBEIRO DOS SANTOS",
          "KAREN ALMEIDA DA SILVA",
          "KAREN CRISTINA DOS SANTOS COELHO MACHADO",
          "KARINA SILVANA MARTINS AFONSO",
          "KARINE MOREIRA BARBOSA SÁ",
          "KARINE SANTOS DA SILVA",
          "KARINNE ALVES DA SILVA",
          "KAROLINE DA SILVA GOMES",
          "KATIA CIRLENE DA CONCEICAO",
          "KAYNARA BATISTA DE MENEZES NUNES",
          "KEILA LIMA SOBRINHO SUVOBIDA",
          "KELLY BRITTO LIMA",
          "KELLY CAROLINE SILVA SANTOS",
          "KELLY CRISTINA GUIMARÃES DIAS",
          "KELY PATRICIA DE DEUS GRAMAJO BOTELHO",
          "KETHELYN EVARISTO OLIVEIRA",
          "KLEBER DE AGUIAR NOGUEIRA",
          "LAEL DE LIMA SANTOS",
          "LAINARA MOTA CLEMENTE",
          "LAISA VICTORIA BARRETO FERREIRA DA SILVA",
          "LARISSA DE ALMEIDA VARGAS BAPTISTA",
          "LARISSA FILISBINO DA SILVA",
          "LARISSE SILVA SOUSA",
          "LAYLA GOMES DOS SANTOS",
          "LEANDRA DE ALMEIDA AMARO",
          "LEANDRO DA SILVA GUEDES",
          "LEANDRO DA SILVA SANTOS",
          "LEANDRO DOS SANTOS ALVES",
          "LEANDRO FERREIRA DOS ANJOS",
          "LEANDRO MARQUES DE CARVALHO",
          "LEANDRO MASSUO NAKASHIMA",
          "LEANDRO PINHEIRO PEREIRA",
          "LEANDRO ROSA PAULINO DE OLIVEIRA",
          "LEANDRO SAMPAIO DA ROCHA",
          "LEANDRO SILVA",
          "LEILA DE FÁTIMA XAVIER",
          "LEILA LOPES DE SOUZA",
          "LEILA TEIXEIRA RAMOS",
          "LEONARDO ANTONIO CARVALHO DE LIMA",
          "LEONARDO BENTO RODRIGUES",
          "LEONARDO BORGES CUSTÓDIO",
          "LEONARDO FEITOSA DA SILVA",
          "LEONARDO FELIX VIANA",
          "LEONARDO LUIZ NEVES DE MORAES",
          "LEONARDO MINERVINO BEZERRA",
          "LEONARDO RIBEIRO DE BRITO",
          "LEONARDO SOBRAL CIRILO DOS SANTOS",
          "LEONARDO SOBREIRO SALLES",
          "LEONARDO XAVIER DA SILVA",
          "LEONE FABRICIO DE BARROS FERREIRA",
          "LEONEL DA SILVA FERREIRA",
          "LEONICE LOPES DA SILVA",
          "LETÍCIA CARLA ROSA DE OLIVEIRA",
          "LETICIA LOPES DE OLIVEIRA",
          "LETÍCIA RAQUEL RODRIGUES DE MORAES",
          "LIBERALINA FRANCISCO",
          "LIDIANE GOMES DA SILVA",
          "LIDIANE PRADO DE ARAÚJO",
          "LIDIANE SANTOS RICARDO DA CONCEIÇÃO",
          "LILIA DOS SANTOS BARROS",
          "LILIA MARCILIO PINTO",
          "LILIANE DA SILVA LEAL",
          "LILIANE MATHIAS DA SILVA",
          "LILIANE RODRIGUES DA SILVA BRAZ",
          "LINDINEI DOS SANTOS RODRIGUES",
          "LIZETE MOREIRA MARQUES DE SOUZA",
          "LORENA FERREIRA MARTINS",
          "LORIMAR ROSA DIAS",
          "LORRAINE FERNANDA DA SILVA ROCHA 2°PONTO",
          "LORRAINE FERNANDA DA SILVA ROCHA MELLO",
          "LORRANE SIQUEIRA COSTA",
          "LORRANY CRISTINE DE SOUZA DA MOTTA DOMINGOS",
          "LOURDES AFONSO DA SILVA",
          "LUANA CHRISTIELEN OLIVEIRA DA SILVA",
          "LUANA CRISTINA ANGELO LEAL",
          "LUANA DE CARVALHO BRITO",
          "LUANA MICIMIANA DE AZEVEDO",
          "LUANA RAMALHO DA SILVA",
          "LUANA SOUZA FERREIRA",
          "LUANA VITORIA LUCIANO DE SOUZA",
          "LUANE EUNICE SIQUEIRA DE OLIVEIRA",
          "LUCAS ALVES DE SOUZA",
          "LUCAS COSTA DOS SANTOS",
          "LUCAS DA SILVA HONORATO",
          "LUCAS FULGENCIO",
          "LUCAS GONÇALVES LAGE PEREIRA",
          "LUCAS GUEDES BARBOSA DA ROCHA",
          "LUCAS MOÇO DE OLIVEIRA",
          "LUCAS NERI LOPES",
          "LUCAS SANTOS ARAUJO",
          "LUCIA LUCAS DA SILVA NASCIMENTO",
          "LUCIANA DA CONCEIÇÃO CANUTO",
          "LUCIANA FERREIRA LECONTE",
          "LUCIANA LEMOS PEREIRA SÉRGIO",
          "LUCIANA RODRIGUES DE OLIVEIRA",
          "LUCIANO DUARTE DA SILVA",
          "LUCIANO GEANIZELLI ANACLETO",
          "LUCIENE OLIVEIRA DA SILVA PIRES",
          "LUCILENE DOS ANJOS DA ENCARNACAO",
          "LUCILENE MANHAES GONCALVES",
          "LUCINEIDE ROCHA DOS SANTOS",
          "LUCIO NUNES",
          "LUIS BARBOZA",
          "LUIZ ALBERTO DE OLIVEIRA",
          "LUIZ CARLOS MARINS",
          "LUIZ CLAUDIO DE OLIVEIRA CHAGAS",
          "LUIZ CLAUDIO GERARD",
          "LUIZ EDUARDO DA SILVA",
          "LUIZ FELIPE DA ROCHA",
          "LUIZ FELIPE SANTANA DE MELO",
          "LUIZ FERNANDO FERNANDES GOMES",
          "LUIZ FILIPPE VIANNA DE AGUIAR",
          "LUIZ HENRIQUE MOURA GUILHERME",
          "LUIZ HENRIQUE PAULINO",
          "LUIZ PHILIPE SUHETT CASTELHANO",
          "LUZIA MARIA ALEXANDRE DA SILVA",
          "LUZIANA COSTA DA FONSECA",
          "LUZIAREA COSTA DO NASCIMENTO",
          "MADALENA SILVA DA COSTA",
          "MAERCIO IDALINO LINS DOS SANTOS",
          "MAGNÓLIA DA SILVA ARAÚJO",
          "MAGNO MONCERRATI DA SILVA DE CARVALHO",
          "MAICON DOUGLAS DE BARROS BOAVENTURA",
          "MAICON FRANÇA NUNES",
          "MAICON SANTANA BORGES DE LIMA",
          "MANOEL GOMES DA COSTA",
          "MANOEL JAIME DE SOUSA",
          "MANUEL RODRIGUES DA SILVA",
          "MARCELA CARINA DA COSTA SILVA",
          "MARCELA CORREIA DOS SANTOS",
          "MARCELE CRISTINA DA SILVA GOMES FERREIRA",
          "MARCELE MARIA PINTO DA CONCEIÇÃO",
          "MARCELE MARTINS DE OLIVEIRA VASCONCELOS",
          "MARCELI LUIZE MATIAS ALVES",
          "MARCELLE DE MELLO DOS SANTOS MOREIRA",
          "MARCELO ALVES LINS",
          "MARCELO DOUGLAS DE SOUZA SANTOS",
          "MARCELO XAVIER DA SILVA",
          "MÁRCIA BASÍLIO CALIXTO",
          "MARCIA DA SILVA SANTOS",
          "MARCIA LEMOS SAMPAIO",
          "MARCIA VIEIRA DE OLIVEIRA",
          "MARCIO DE FREITAS DO NASCIMENTO (LOJA)",
          "MARCIO LUIS BATISTA MACHADO",
          "MARCIO PERES MACHADO",
          "MÁRCIO PINTO DOS SANTOS",
          "MÁRCIO PORFÍRIO LINS",
          "MARCIO ROBERTO PEREIRA DA SILVA",
          "MARCO ANTÔNIO DE OLIVEIRA",
          "MARCO ANTONIO DE SOUZA",
          "MARCO ANTONIO VIEIRA SANTOS",
          "MARCO AURÉLIO BATISTA DA ROCHA",
          "MARCO AURELIO PEREIRA ARGOLO",
          "MARCO MARINHO DOS SANTOS",
          "MARCOS ANDRE DE OLIVEIRA SILVA",
          "MARCOS ANDRÉ DO NASCIMENTO SOUZA",
          "MARCOS ANTONIO CABRAL SOARES",
          "MARCOS ANTONIO DE OLIVEIRA",
          "MARCOS AURÉLIO SOUZA",
          "MARCOS DANILO MIRANDA",
          "MARCOS DE ARAÚJO",
          "MARCOS LUCAS DA SILVA",
          "MARCO SUEL DA SILVA DE SÁ",
          "MARCOS VIEIRA SANTOS JUNIOR",
          "MARCUS ANTONIO GONCALVES COSTA",
          "MARIA ANTONIA FERREIRA DA SILVA BARBOSA",
          "MARIA APARECIDA DOS SANTOS",
          "MARIA BETÂNIA BARBOSA FRANÇA",
          "MARIA CLARA BARBOSA DOS SANTOS",
          "MARIA CLAUDIA DE LIMA GONÇALVES",
          "MARIA DA CONCEIÇÃO VIEIRA DA ROCHA",
          "MARIA DA GLÓRIA DA SILVA",
          "MARIA DA PENHA OLIVEIRA DO RIO",
          "MARIA DAS DORES MATIAS DA SILVA",
          "MARIA DE FATIMA PEIXEIRO FARIA",
          "MARIA DE FATIMA SILVA DE MELO",
          "MARIA EDJANE SILVA RABELO",
          "MARIA HILDA PAIVA TORRES",
          "MARIA JOSÉ SOARES DE LIMA",
          "MARIA JULIANA SOUSA DE ANDRADE",
          "MARIANA ALVES JORGE",
          "MARIANA FREITAS DE SALES",
          "MARIANE TEIXEIRA DA SILVA DE OLIVEIRA",
          "MARIA QUITA GOMES DA SILVA RIBEIRO",
          "MARIA VITÓRIA RAMOS VIEIRA",
          "MARIA ZELIA DA SILVA",
          "MARIENE LÚCIA DOS REIS JUSTINO",
          "MARIMAR DA CONCEICAO SANTOS",
          "MARINEIDE SEVERINO DA SILVA",
          "MARIO DO SOCORRO FRÓIS DOS SANTOS(FIBRA)",
          "MARISTELA GONCALVES DA LUZ",
          "MARLLON LUIZ DA SILVA BRANDÃO",
          "MARVIANE ALVES MARIANO",
          "MATEUS DE ALMEIDA FERREIRA",
          "MATEUS DE JESUS OLIVEIRA",
          "MATEUS TRINDADE CANDIDO DA SILVA",
          "MATHEUS DA ROCHA DOS SANTOS",
          "MATHEUS FELIPE BORGES DE SOUZA",
          "MATHEUS FELIX DA SILVA",
          "MATHEUS MOREIRA DE CARVALHO",
          "MATHEUS SILVA DE JESUS",
          "MATHEUS VIEIRA MARTINS",
          "MAURÍCIO MANOEL PIAUÍ NETO",
          "MAURIZA DE LIMA GOMES",
          "MAXANDERSON NEVES ANTONIO",
          "MAX LIMA BATISTA",
          "MAX WILLIAN DO CARMO DA SILVA",
          "MAYARA CRISTINE ANICETO DE ASSIS",
          "MAYARA DOS SANTOS SILVA",
          "MAYARA LEAL DE SOUZA",
          "MAYRA SOUZA DE JESUS",
          "MERCADO ESTRELA BRANCA",
          "MICHAEL DOS SANTOS VITORINO",
          "MICHELE BATISTA",
          "MICHELLE DA SILVA FERREIRA",
          "MICHELLE LIMA DE JESUS",
          "MIGUEL DA SILVA ELIAS ELÓI",
          "MILENA CECÍLIA DE SOUZA KNUPP",
          "MILENE RODRIGUES LOURENCO",
          "MILENY RIBEIRO DA SILVA",
          "MIRIAM MARIA DA SILVA",
          "MIRIAN JUSTINO DE OLIVEIRA RAMOS",
          "MIRIELEN GUILHERME DA SILVA",
          "MOISÉS DE JESUS",
          "MOISES DE JESUS LIMA",
          "MONALIZA COUTO FERREIRA",
          "MONICA ALBERICI DA SILVA",
          "MÔNICA DE SOUZA SANTOS",
          "MONIQUE CRISTINA DA SILVA BARREIRA IZAIAS",
          "MONIQUE CRISTINA SANTOS GALLOTE",
          "MONIQUE DA SILVA PAIXAO",
          "MONIQUE MARQUES MARTINS DE OLIVEIRA",
          "MONIQUE SOARES DA SILVA",
          "NABI MAGNON DE OLIVEIRA",
          "NARAIANA CRISTINE RODRIGUES GARCIA",
          "NARA LÚCIA RODRIGUES DA SILVA",
          "NATÁLIA DE ALMEIDA LOPES",
          "NATALINO DE CARVALHO",
          "NATANAEL FRANCISCO DA SILVA DIAS",
          "NATHALIA GABRIELLA SILVA DE SOUZA(FIBRA)",
          "NELCI JOSÉ SOUZA",
          "NESTOR CARVALHO GONCALVES",
          "NEUCIMAR MOREIRA CERQUEIRA",
          "NICOLY ESTHEFANI DE SOUZA BELLO",
          "NOEMIA DE OLIVEIRA SILVA",
          "NOEMIA DOS SANTOS TEODORO",
          "NORMA DE ALMEIDA FIGUEIRA",
          "NORMA SUELI PRAXEDES DOS SANTOS",
          "OLGUETE CAMPOS NASCIMENTO DA SILVA",
          "OSVALDO SILVERA DA SILVA",
          "OTACÍLIO LUIZ DOS SANTOS NETO",
          "OZIEL BELCHIOR DA COSTA SILVA",
          "PALOMA CORREA DE SOUZA",
          "PALOMA LAMIN DOS SANTOS",
          "PAMELA RAQUEL SILVA",
          "PATRICIA ALVES FLORENTINO",
          "PATRICIA CORREA DA SILVA",
          "PATRÍCIA DE CARVALHO THOMÉ",
          "PATRICIA NASCIMENTO SANTOS",
          "PATRÍCIA SILVA DE LIMA DO VALE",
          "PATRICK CORREA DE JESUS",
          "PAULA PRISCILA MATHEUS DA CUNHA",
          "PAULA SUELY FIRMINO DA SILVA FAUSTINO",
          "PAULO CESAR BRAGA DE MADUREIRA JUNIOR",
          "PAULO CESAR DOS SANTOS MACÁRIO",
          "PAULO ROBERTO NASCIMENTO DA SILVA",
          "PAULO ROBERTO PINTO",
          "PAULO SÉRGIO EVANGELISTA RODRIGUES",
          "PAULO VITOR COSTA DA SILVA",
          "PEDRO BARBOSA",
          "PRISCILA ALVES FERREIRA",
          "PRISCILA CAPITOLINO DA SILVA MESQUITA",
          "PRISCILA CASTANHO DE SÁ MOREIRA 2° PONTO",
          "PRISCILA DE BARROS LIMA",
          "PRISCILA MARIA DE SOUZA LESSA",
          "PRISCILA RESENDE VIDAL AZEVEDO(FIBRA)",
          "PRISCILLA DA SILVA DE SOUZA",
          "PRISCILLA FERNANDES FERREIRA DA SILVA",
          "PRISCILLA RAMOS DA SILVA PINTO",
          "R2 RECUPERADORA DE AUTOMÓVEIS",
          "RAFAELA DE LIMA PRAXEDES FERREIRA",
          "RAFAEL ALEXANDRE LECCE DINIZ",
          "RAFAEL ALVES PEREIRA VAZ",
          "RAFAELA NUNES SILVA SANTOS",
          "RAFAEL DA CONCEIÇÃO ANTICO",
          "RAFAEL DENIS SILVA RIBEIRO",
          "RAFAEL DE PAULA OLIVEIRA",
          "RAFAEL NOGUEIRA NASCIMENTO DANTAS",
          "RAFAEL PEREIRA SANTOS",
          "RAFAEL RAMOS DA SILVA",
          "RAFAEL SANTANA DE BARROS",
          "RAFAEL SANTOS GOES",
          "RAIANE ANGELICA MAIA FRANCO",
          "RAIANE BARROZO TELES",
          "RAIANE DE ALMEIDA SOUZA DE OLIVEIRA",
          "RAIMUNDA MARCOLINA DA SILVA",
          "RAISA FERREIRA DA CONCEIÇÃO",
          "RAPHAEL OLIVEIRA DA SILVA",
          "RAQUEL NOVAIS DE OLIVEIRA",
          "RAQUEL RAMOS NOGUEIRA",
          "RAQUEL RIBEIRO GOMES DA SILVA",
          "RAQUEL SOARES DE ARAUJO OLIVEIRA",
          "RAXID ARJUNA SANJAYA SHIVA",
          "RAYANE CASTRO DE JESUS",
          "RAYANE VITÓRIA DE AGUIAR GOMES DE PAIVA",
          "RAYZA MOREIRA DE LIMA",
          "REBECA DIAS DA SILVA",
          "REBECA PEREIRA AFFONSO",
          "REGIANE REMPEM RODRIGUES",
          "REGINA CELIA MAURICIO FRANCA",
          "REGINA MONTEIRO BLEDES",
          "REINALDO BRUNO DA SILVA CUSTODIO",
          "RENAN DOS SANTOS SOUSA",
          "RENAN FREIRE LEMOS",
          "RENAN MENDES MOÇO",
          "RENAN MIGUEL DA SILVA",
          "RENATA ALVES CAMARGO CARVALHO DOS SANTOS",
          "RENATA BORGES DE SOUZA",
          "RENATA NASCIMENTO DA SILVA",
          "RENATA NUNES SILVA SOUZA",
          "RENATA SOUZA DOS SANTOS",
          "RENATO ALEXANDRE GOMES DE FARIA",
          "RENATO LIMA DE JESUS",
          "RENATO SERAFIM DA SILVA",
          "RIAN SANTOS GOULART",
          "RICARDO BARBOSA MACHADO",
          "RICARDO SOARES NOGUEIRA",
          "RILDO DE AZEVEDO ROCHA",
          "ROBERTA DE ARAUJO (FIBRA)",
          "ROBERTA DE LIMA BARBOSA",
          "ROBERTA KELLY DOS SANTOS",
          "ROBERTA KELLY GUEDES DA SILVA",
          "ROBERT LUCAS FARIAS BEZERRA",
          "ROBERTO DE MORAIS CAMPOS",
          "ROBERTO RAMOS COSTA",
          "ROBSON ASSIS FERREIRA",
          "ROBSON ELIAS FERNANDES SILVA",
          "ROBSON SOARES NOGUEIRA",
          "ROBSON TAVARES ELOI",
          "ROBSON VIEIRA DE FREITAS",
          "RODOLFO DE CARVALHO SILVA",
          "RODRIGO RAMOS DO NASCIMENTO",
          "ROGACIANO DO NASCIMENTO",
          "ROGÉRIA TEIXEIRA FERREIRA DA SILVA",
          "ROGÉRIO BRANDÃO DE SOUZA",
          "ROGERIO DO CARMO SILVA",
          "ROGERIO MACIEL ALFENA (2 PONTO)",
          "ROMILDA MONTEIRO DE AZEVEDO",
          "ROMULO CAMILO DA SILVA BRAGA",
          "RONALDO DE SOUZA ARAUJO JUNIOR",
          "RONALDO JOSÉ DE SOUZA",
          "RONALDO OLIVEIRA SANTOS",
          "ROSA DA CONCEIÇÃO",
          "ROSA MARIA FELIPE DA SILVA",
          "ROSA MARIA GONÇALVES BASTOS",
          "ROSA MARIA OLIVEIRA DE PAULA",
          "ROSA MARIA SOUZA MOTA",
          "ROSANA DA CONCEIÇÃO RAMOS",
          "ROSÂNGELA DE SOUZA MODESTO",
          "ROSÂNGELA FERREIRA DE MENESES",
          "ROSANGELA FERREIRA DO AMARAL",
          "ROSEANE SOARES PACHECO",
          "ROSELANE DE JESUS SABINO DA SILVA",
          "ROSELANE DE OLIVEIRA",
          "ROSELI CAROLINA MACHADO VIANA",
          "ROSEMARY DOS SANTOS FERREIRA SILVA",
          "ROSEMARY TEODORO DA SILVA",
          "ROSEMBERG DAMIAO DE OLIVEIRA",
          "ROSEMERE ALVES DOS SANTOS",
          "ROSEMERI VELARDO DA CONCEICAO",
          "ROSICLEIDE SANTOS CUNHA DA SILVA",
          "ROSILENE DA CONCEIÇÃO MADEIRA",
          "ROSILENE OLIVEIRA SILVA",
          "ROSILENE PEREIRA DE SOUSA",
          "RUBEM DE SOUSA",
          "RUBENS RODRIGUES FURTADO",
          "RUTE CLEA SARMENTO BRAZ ALMEIDA",
          "RUTE MACENA DE MELO",
          "RUTH MORAES DA SILVA",
          "SABRINA GOMES DE CARVALHO DE SOUZA",
          "SAIANE MARQUES OLIVEIRA DA FONSECA",
          "SALIM IMPORT PHONES (LOJA)",
          "SAMANTA BARCELLOS NONATO (2° PONTO)",
          "SAMARA DE SOUZA VARGAS",
          "SAMUEL MARTINS DA SILVA",
          "SANDRA LOPES NUNES PEREIRA ROCHA",
          "SANDRA MALAQUIAS SOARES DANTAS",
          "SANDRO DE SOUZA BEZERRA",
          "SARA CRISTINA ETERNITA PRADO DA SILVA",
          "SARAH DE SOUZA GOUVEA",
          "SARA TEIXEIRA SASSI",
          "SARA XAVIER SOARES",
          "SEBASTIANA DA CONCEICAO HERCULANO",
          "SEBASTIAO DE SOUZA",
          "SELMA MARIA SALLES DE JESUS PRATA",
          "SERGIO ALVARO NEVES",
          "SEVERINA LUCIA LIMA DE OLIVEIRA",
          "SEVERINA MARTINS FERREIRA NASCIMENTO",
          "SHARLENE CRISTINA SARUBE BORROMEU",
          "SHAYENNE WILLIANE PEREIRA DO NASCIMENTO",
          "SHEILA MARIA SANTOS DE ALMEIDA",
          "SHEILA VITORINO FERREIRA",
          "SHIRLEY SOUZA DE OLIVEIRA DA SILVA",
          "SILAS DE OLIVEIRA TEIXEIRA DA SILVA",
          "SILVANIA RIBEIRO MARTINS VIANA",
          "SILVIA DO COUTO MONI",
          "SILVIA MARIA DA SILVA ALVES",
          "SIMONE CORRÊA",
          "SIMONE CRISTINA DA SILVA RAMOS",
          "SIMONE DE CARVALHO MARINS",
          "SIMONE GANGORRA BARBOSA ALVES",
          "SIMONE PEREIRA DO NASCIMENTO",
          "SIMONE PEREIRA GUIMARÃES",
          "SIMONE SANTOS DA SILVA",
          "SOLANGE DE OLIVEIRA",
          "SOLANGE MARIA FERNANDO",
          "SONIA MARIA GONÇALVES DE MELO",
          "SONIA MARIA XAVIER (FIBRA)",
          "SORAIA LIMA DA SILVA",
          "STEFANI CRISTINA TORRES CANDIDO",
          "STEFANIE DUARTE DA SILVA",
          "STEFANY LEÃO BORGES",
          "STELA DO BRASIL MORAES",
          "STEPHANIE GONCALVES THEODORO",
          "STEPHANIE NUNES FERREIRA ALVES",
          "STHEPHANIE DA SILVA RODRIGUES",
          "SUANE DE SOUZA TEIXEIRA",
          "SUELEN BASILIO FELISBINO",
          "SUELEN DE JESUS SANTOS",
          "SUZANA OLIVEIRA SANTOS",
          "SUZANA TATIANE VIEIRA DA LUZ",
          "SUZI FERREIRA NASCIMENTO",
          "TAINA FRANCA DO NASCIMENTO",
          "TAIS DOS SANTOS FRANCISCO GALVAO",
          "TALITA ALCANTARA RAMOS",
          "TALITA DA SILVA DOS SANTOS",
          "TAMER DE OLIVEIRA RODRIGUES",
          "TÂNIA LÚCIA BARBOSA DE AZEVEDO",
          "TANIA MARIA DA SILVA OLINTO",
          "TANIA MARIA PEREIRA DE SOUZA",
          "TATIANA DOS SANTOS DE SOUZA COSTA",
          "TATIANA MIRANDA FLANZ",
          "TATIANE CAMPOS RODRIGUES",
          "TATIANE CRISTINA COSTA DA SILVA FACIOLI",
          "TATIANE DE CAMPOS LIRA",
          "TATIANE OLIVEIRA DE SOUZA",
          "TATIANE REIS DA SILVA",
          "TAYNARA CELIA SANTOS BIZARELO",
          "THAÍS VICENTE DA SILVA",
          "THALLYTA VITÓRIA MARINS COUTINHO",
          "THAMIRES OLIVEIRA DANTAS (LOJA)",
          "THAYANA SILVA DE ALMEIDA",
          "THAYANE DE ALMEIDA ALVARENGA",
          "THAYANE VILAÇA NEVES",
          "THAYNÁ PATRICIA GOMES DO CARMO VIEIRA",
          "THIAGO ALVES",
          "THIAGO DA SILVA DO AMARAL",
          "THIAGO DIAS PEIXINHO",
          "THIAGO FELICIANO DA SILVA",
          "THIAGO FERREIRA FALCAO",
          "TIAGO CORREA DO CRUZEIRO (MUAY THAI)",
          "TIAGO FERREIRA DE SOUZA",
          "TIAGO MIRANDA MACHADO",
          "TIAGO VENTURA FERREIRA",
          "UALACE GASPAR DE SOUZA",
          "UANDERSON JOSÉ NASCIMENTO DE OLIVEIRA",
          "UBIRATAN RODRIGUES PINTO",
          "VAGNER LUIZ GOMES FERREIRA",
          "VALDELICIA RODRIGUES ALVES AMORIM",
          "VALDEMIR BARBOSA DE MIRANDA",
          "VALDENY DA SILVA JUNIOR",
          "VALERIA DE ALMEIDA VARGAS",
          "VALESKA CISILIO SANTOS",
          "VALMIR FREITAS VIANA",
          "VALMIR MOREIRA DA SILVA",
          "VANDA PEREIRA DE SOUZA",
          "VANDERLANE LUIZA DA SILVA ALVES",
          "VANDERLEI FREITAS VIANA",
          "VANDERSON RIBEIRO DE SOUZA",
          "VANESSA DA SILVA",
          "VANESSA FERREIRA CORREA PIRES",
          "VANESSA MORAES DE BARROS",
          "VANESSA NEVES FERREIRA",
          "VANESSA TRINDADE DA SILVA SPERANDIO",
          "VANILDO MELLO",
          "VERA LUCIA DAS DORES VIEIRA",
          "VERA LUCIA GONÇALVES RIBEIRO",
          "VERONICA LUCIA PINTO FERREIRA",
          "VICENTE NORTON DE ARAÚJO",
          "VICENTE SALLES BASILIO",
          "VICTOR MATHEUS DE ARAUJO MACEDO",
          "VILMA FERNANDES DE ALMEIDA",
          "VINICIUS AGUIAR",
          "VINÍCIUS GALDINO CLAUDINO",
          "VITOR DA SILVA OLIVEIRA",
          "VITÓRIA JULIANA PEREIRA PIRES",
          "VITOR MARINHO SOUZA PINTO",
          "VITOR SANTOS CAVALHEIRO",
          "VIVIANE ALMEIDA SANTANA",
          "VIVIANE CORREA DOS SANTOS",
          "VIVIANE MACEDO DE OLIVEIRA",
          "VIVIANE SILVA DE BARROS PEREIRA",
          "VIVIAN MAFALDA GASPAR GONÇALVES DA SILVA",
          "VIVIAN VALESCA QUEIROZ DE ABREU",
          "WAGNER DA SILVA FÉLIX",
          "WAGNER FIORITE VERDAN",
          "WALACE SALLES FERREIRA",
          "WALKIRIA DE LOURDES COSTA DA SILVA",
          "WALLACE DA SILVA MARTINS",
          "WALLACE DE LIMA",
          "WALMIR ROBERTO BRAGA",
          "WALTER SANTOS MAGALHÃES",
          "WANDA DE LURDES RODRIGUES",
          "WANDERLEI DE ALMEIDA",
          "WANDERSON DA ROCHA RAMOS",
          "WANDERSON DOMINGOS",
          "WASHINGTON LUIZ MORAES DOS SANTOS",
          "WELINGTON RIBEIRO DOS PASSOS",
          "WELLERSON LIMA DO NASCIMENTO",
          "WELLINGTON BORSOI RIBEIRO",
          "WELLINGTON FERNANDES VENTURA",
          "WELLINGTON SAMUEL DOS SANTOS ALVES",
          "WELLINGTON XAVIER BENTO",
          "WENDEL DE OLIVEIRA LACERDA (CASA)",
          "WESLEI MIRANDA",
          "WESLEY BRUNO DE SOUZA PINHEIRO",
          "WIDSON DA SILVA DE MATTOS",
          "WILAMIM DOS SANTOS PIRES DA ROCHA",
          "WILLIAM DA SILVA SANTOS",
          "WILLIAN ALVES DA SILVA",
          "WILSON MARTINS",
          "YASMIM FRANCISCA MELLO DOS SANTOS",
          "YASMIN DE OLIVEIRA ALVES",
          "ZELY RODRIGUES NUNES"
         ],
         "xaxis": "x",
         "yaxis": "y"
        }
       ],
       "layout": {
        "barmode": "relative",
        "legend": {
         "tracegroupgap": 0
        },
        "margin": {
         "t": 60
        },
        "template": {
         "data": {
          "bar": [
           {
            "error_x": {
             "color": "#2a3f5f"
            },
            "error_y": {
             "color": "#2a3f5f"
            },
            "marker": {
             "line": {
              "color": "#E5ECF6",
              "width": 0.5
             },
             "pattern": {
              "fillmode": "overlay",
              "size": 10,
              "solidity": 0.2
             }
            },
            "type": "bar"
           }
          ],
          "barpolar": [
           {
            "marker": {
             "line": {
              "color": "#E5ECF6",
              "width": 0.5
             },
             "pattern": {
              "fillmode": "overlay",
              "size": 10,
              "solidity": 0.2
             }
            },
            "type": "barpolar"
           }
          ],
          "carpet": [
           {
            "aaxis": {
             "endlinecolor": "#2a3f5f",
             "gridcolor": "white",
             "linecolor": "white",
             "minorgridcolor": "white",
             "startlinecolor": "#2a3f5f"
            },
            "baxis": {
             "endlinecolor": "#2a3f5f",
             "gridcolor": "white",
             "linecolor": "white",
             "minorgridcolor": "white",
             "startlinecolor": "#2a3f5f"
            },
            "type": "carpet"
           }
          ],
          "choropleth": [
           {
            "colorbar": {
             "outlinewidth": 0,
             "ticks": ""
            },
            "type": "choropleth"
           }
          ],
          "contour": [
           {
            "colorbar": {
             "outlinewidth": 0,
             "ticks": ""
            },
            "colorscale": [
             [
              0,
              "#0d0887"
             ],
             [
              0.1111111111111111,
              "#46039f"
             ],
             [
              0.2222222222222222,
              "#7201a8"
             ],
             [
              0.3333333333333333,
              "#9c179e"
             ],
             [
              0.4444444444444444,
              "#bd3786"
             ],
             [
              0.5555555555555556,
              "#d8576b"
             ],
             [
              0.6666666666666666,
              "#ed7953"
             ],
             [
              0.7777777777777778,
              "#fb9f3a"
             ],
             [
              0.8888888888888888,
              "#fdca26"
             ],
             [
              1,
              "#f0f921"
             ]
            ],
            "type": "contour"
           }
          ],
          "contourcarpet": [
           {
            "colorbar": {
             "outlinewidth": 0,
             "ticks": ""
            },
            "type": "contourcarpet"
           }
          ],
          "heatmap": [
           {
            "colorbar": {
             "outlinewidth": 0,
             "ticks": ""
            },
            "colorscale": [
             [
              0,
              "#0d0887"
             ],
             [
              0.1111111111111111,
              "#46039f"
             ],
             [
              0.2222222222222222,
              "#7201a8"
             ],
             [
              0.3333333333333333,
              "#9c179e"
             ],
             [
              0.4444444444444444,
              "#bd3786"
             ],
             [
              0.5555555555555556,
              "#d8576b"
             ],
             [
              0.6666666666666666,
              "#ed7953"
             ],
             [
              0.7777777777777778,
              "#fb9f3a"
             ],
             [
              0.8888888888888888,
              "#fdca26"
             ],
             [
              1,
              "#f0f921"
             ]
            ],
            "type": "heatmap"
           }
          ],
          "heatmapgl": [
           {
            "colorbar": {
             "outlinewidth": 0,
             "ticks": ""
            },
            "colorscale": [
             [
              0,
              "#0d0887"
             ],
             [
              0.1111111111111111,
              "#46039f"
             ],
             [
              0.2222222222222222,
              "#7201a8"
             ],
             [
              0.3333333333333333,
              "#9c179e"
             ],
             [
              0.4444444444444444,
              "#bd3786"
             ],
             [
              0.5555555555555556,
              "#d8576b"
             ],
             [
              0.6666666666666666,
              "#ed7953"
             ],
             [
              0.7777777777777778,
              "#fb9f3a"
             ],
             [
              0.8888888888888888,
              "#fdca26"
             ],
             [
              1,
              "#f0f921"
             ]
            ],
            "type": "heatmapgl"
           }
          ],
          "histogram": [
           {
            "marker": {
             "pattern": {
              "fillmode": "overlay",
              "size": 10,
              "solidity": 0.2
             }
            },
            "type": "histogram"
           }
          ],
          "histogram2d": [
           {
            "colorbar": {
             "outlinewidth": 0,
             "ticks": ""
            },
            "colorscale": [
             [
              0,
              "#0d0887"
             ],
             [
              0.1111111111111111,
              "#46039f"
             ],
             [
              0.2222222222222222,
              "#7201a8"
             ],
             [
              0.3333333333333333,
              "#9c179e"
             ],
             [
              0.4444444444444444,
              "#bd3786"
             ],
             [
              0.5555555555555556,
              "#d8576b"
             ],
             [
              0.6666666666666666,
              "#ed7953"
             ],
             [
              0.7777777777777778,
              "#fb9f3a"
             ],
             [
              0.8888888888888888,
              "#fdca26"
             ],
             [
              1,
              "#f0f921"
             ]
            ],
            "type": "histogram2d"
           }
          ],
          "histogram2dcontour": [
           {
            "colorbar": {
             "outlinewidth": 0,
             "ticks": ""
            },
            "colorscale": [
             [
              0,
              "#0d0887"
             ],
             [
              0.1111111111111111,
              "#46039f"
             ],
             [
              0.2222222222222222,
              "#7201a8"
             ],
             [
              0.3333333333333333,
              "#9c179e"
             ],
             [
              0.4444444444444444,
              "#bd3786"
             ],
             [
              0.5555555555555556,
              "#d8576b"
             ],
             [
              0.6666666666666666,
              "#ed7953"
             ],
             [
              0.7777777777777778,
              "#fb9f3a"
             ],
             [
              0.8888888888888888,
              "#fdca26"
             ],
             [
              1,
              "#f0f921"
             ]
            ],
            "type": "histogram2dcontour"
           }
          ],
          "mesh3d": [
           {
            "colorbar": {
             "outlinewidth": 0,
             "ticks": ""
            },
            "type": "mesh3d"
           }
          ],
          "parcoords": [
           {
            "line": {
             "colorbar": {
              "outlinewidth": 0,
              "ticks": ""
             }
            },
            "type": "parcoords"
           }
          ],
          "pie": [
           {
            "automargin": true,
            "type": "pie"
           }
          ],
          "scatter": [
           {
            "fillpattern": {
             "fillmode": "overlay",
             "size": 10,
             "solidity": 0.2
            },
            "type": "scatter"
           }
          ],
          "scatter3d": [
           {
            "line": {
             "colorbar": {
              "outlinewidth": 0,
              "ticks": ""
             }
            },
            "marker": {
             "colorbar": {
              "outlinewidth": 0,
              "ticks": ""
             }
            },
            "type": "scatter3d"
           }
          ],
          "scattercarpet": [
           {
            "marker": {
             "colorbar": {
              "outlinewidth": 0,
              "ticks": ""
             }
            },
            "type": "scattercarpet"
           }
          ],
          "scattergeo": [
           {
            "marker": {
             "colorbar": {
              "outlinewidth": 0,
              "ticks": ""
             }
            },
            "type": "scattergeo"
           }
          ],
          "scattergl": [
           {
            "marker": {
             "colorbar": {
              "outlinewidth": 0,
              "ticks": ""
             }
            },
            "type": "scattergl"
           }
          ],
          "scattermapbox": [
           {
            "marker": {
             "colorbar": {
              "outlinewidth": 0,
              "ticks": ""
             }
            },
            "type": "scattermapbox"
           }
          ],
          "scatterpolar": [
           {
            "marker": {
             "colorbar": {
              "outlinewidth": 0,
              "ticks": ""
             }
            },
            "type": "scatterpolar"
           }
          ],
          "scatterpolargl": [
           {
            "marker": {
             "colorbar": {
              "outlinewidth": 0,
              "ticks": ""
             }
            },
            "type": "scatterpolargl"
           }
          ],
          "scatterternary": [
           {
            "marker": {
             "colorbar": {
              "outlinewidth": 0,
              "ticks": ""
             }
            },
            "type": "scatterternary"
           }
          ],
          "surface": [
           {
            "colorbar": {
             "outlinewidth": 0,
             "ticks": ""
            },
            "colorscale": [
             [
              0,
              "#0d0887"
             ],
             [
              0.1111111111111111,
              "#46039f"
             ],
             [
              0.2222222222222222,
              "#7201a8"
             ],
             [
              0.3333333333333333,
              "#9c179e"
             ],
             [
              0.4444444444444444,
              "#bd3786"
             ],
             [
              0.5555555555555556,
              "#d8576b"
             ],
             [
              0.6666666666666666,
              "#ed7953"
             ],
             [
              0.7777777777777778,
              "#fb9f3a"
             ],
             [
              0.8888888888888888,
              "#fdca26"
             ],
             [
              1,
              "#f0f921"
             ]
            ],
            "type": "surface"
           }
          ],
          "table": [
           {
            "cells": {
             "fill": {
              "color": "#EBF0F8"
             },
             "line": {
              "color": "white"
             }
            },
            "header": {
             "fill": {
              "color": "#C8D4E3"
             },
             "line": {
              "color": "white"
             }
            },
            "type": "table"
           }
          ]
         },
         "layout": {
          "annotationdefaults": {
           "arrowcolor": "#2a3f5f",
           "arrowhead": 0,
           "arrowwidth": 1
          },
          "autotypenumbers": "strict",
          "coloraxis": {
           "colorbar": {
            "outlinewidth": 0,
            "ticks": ""
           }
          },
          "colorscale": {
           "diverging": [
            [
             0,
             "#8e0152"
            ],
            [
             0.1,
             "#c51b7d"
            ],
            [
             0.2,
             "#de77ae"
            ],
            [
             0.3,
             "#f1b6da"
            ],
            [
             0.4,
             "#fde0ef"
            ],
            [
             0.5,
             "#f7f7f7"
            ],
            [
             0.6,
             "#e6f5d0"
            ],
            [
             0.7,
             "#b8e186"
            ],
            [
             0.8,
             "#7fbc41"
            ],
            [
             0.9,
             "#4d9221"
            ],
            [
             1,
             "#276419"
            ]
           ],
           "sequential": [
            [
             0,
             "#0d0887"
            ],
            [
             0.1111111111111111,
             "#46039f"
            ],
            [
             0.2222222222222222,
             "#7201a8"
            ],
            [
             0.3333333333333333,
             "#9c179e"
            ],
            [
             0.4444444444444444,
             "#bd3786"
            ],
            [
             0.5555555555555556,
             "#d8576b"
            ],
            [
             0.6666666666666666,
             "#ed7953"
            ],
            [
             0.7777777777777778,
             "#fb9f3a"
            ],
            [
             0.8888888888888888,
             "#fdca26"
            ],
            [
             1,
             "#f0f921"
            ]
           ],
           "sequentialminus": [
            [
             0,
             "#0d0887"
            ],
            [
             0.1111111111111111,
             "#46039f"
            ],
            [
             0.2222222222222222,
             "#7201a8"
            ],
            [
             0.3333333333333333,
             "#9c179e"
            ],
            [
             0.4444444444444444,
             "#bd3786"
            ],
            [
             0.5555555555555556,
             "#d8576b"
            ],
            [
             0.6666666666666666,
             "#ed7953"
            ],
            [
             0.7777777777777778,
             "#fb9f3a"
            ],
            [
             0.8888888888888888,
             "#fdca26"
            ],
            [
             1,
             "#f0f921"
            ]
           ]
          },
          "colorway": [
           "#636efa",
           "#EF553B",
           "#00cc96",
           "#ab63fa",
           "#FFA15A",
           "#19d3f3",
           "#FF6692",
           "#B6E880",
           "#FF97FF",
           "#FECB52"
          ],
          "font": {
           "color": "#2a3f5f"
          },
          "geo": {
           "bgcolor": "white",
           "lakecolor": "white",
           "landcolor": "#E5ECF6",
           "showlakes": true,
           "showland": true,
           "subunitcolor": "white"
          },
          "hoverlabel": {
           "align": "left"
          },
          "hovermode": "closest",
          "mapbox": {
           "style": "light"
          },
          "paper_bgcolor": "white",
          "plot_bgcolor": "#E5ECF6",
          "polar": {
           "angularaxis": {
            "gridcolor": "white",
            "linecolor": "white",
            "ticks": ""
           },
           "bgcolor": "#E5ECF6",
           "radialaxis": {
            "gridcolor": "white",
            "linecolor": "white",
            "ticks": ""
           }
          },
          "scene": {
           "xaxis": {
            "backgroundcolor": "#E5ECF6",
            "gridcolor": "white",
            "gridwidth": 2,
            "linecolor": "white",
            "showbackground": true,
            "ticks": "",
            "zerolinecolor": "white"
           },
           "yaxis": {
            "backgroundcolor": "#E5ECF6",
            "gridcolor": "white",
            "gridwidth": 2,
            "linecolor": "white",
            "showbackground": true,
            "ticks": "",
            "zerolinecolor": "white"
           },
           "zaxis": {
            "backgroundcolor": "#E5ECF6",
            "gridcolor": "white",
            "gridwidth": 2,
            "linecolor": "white",
            "showbackground": true,
            "ticks": "",
            "zerolinecolor": "white"
           }
          },
          "shapedefaults": {
           "line": {
            "color": "#2a3f5f"
           }
          },
          "ternary": {
           "aaxis": {
            "gridcolor": "white",
            "linecolor": "white",
            "ticks": ""
           },
           "baxis": {
            "gridcolor": "white",
            "linecolor": "white",
            "ticks": ""
           },
           "bgcolor": "#E5ECF6",
           "caxis": {
            "gridcolor": "white",
            "linecolor": "white",
            "ticks": ""
           }
          },
          "title": {
           "x": 0.05
          },
          "xaxis": {
           "automargin": true,
           "gridcolor": "white",
           "linecolor": "white",
           "ticks": "",
           "title": {
            "standoff": 15
           },
           "zerolinecolor": "white",
           "zerolinewidth": 2
          },
          "yaxis": {
           "automargin": true,
           "gridcolor": "white",
           "linecolor": "white",
           "ticks": "",
           "title": {
            "standoff": 15
           },
           "zerolinecolor": "white",
           "zerolinewidth": 2
          }
         }
        },
        "xaxis": {
         "anchor": "y",
         "domain": [
          0,
          1
         ],
         "title": {
          "text": "Nome/Razão Social"
         }
        },
        "yaxis": {
         "anchor": "x",
         "domain": [
          0,
          1
         ],
         "title": {
          "text": "count"
         }
        }
       }
      }
     },
     "metadata": {},
     "output_type": "display_data"
    },
    {
     "data": {
      "application/vnd.plotly.v1+json": {
       "config": {
        "plotlyServerURL": "https://plot.ly"
       },
       "data": [
        {
         "alignmentgroup": "True",
         "bingroup": "x",
         "hovertemplate": "Data Nasc.=%{x}<br>count=%{y}<extra></extra>",
         "legendgroup": "",
         "marker": {
          "color": "#636efa",
          "pattern": {
           "shape": ""
          }
         },
         "name": "",
         "offsetgroup": "",
         "orientation": "v",
         "showlegend": false,
         "type": "histogram",
         "x": [
          null,
          "1994-07-01",
          "1980-02-15",
          "1966-08-20",
          "1959-07-03",
          "1976-10-15",
          "1992-12-11",
          "1974-04-12",
          "1979-01-16",
          "1982-05-06",
          "1994-04-18",
          "1984-07-02",
          "2003-12-16",
          "2000-04-25",
          "1997-08-03",
          "1978-05-18",
          "1990-03-05",
          "1977-02-03",
          "1977-10-04",
          "1979-10-20",
          "1986-02-10",
          null,
          "1982-01-15",
          "1991-03-22",
          "1992-09-21",
          "1998-10-28",
          "1976-12-21",
          "1973-01-31",
          "1976-05-17",
          "1979-04-26",
          "1998-02-13",
          "2022-09-12",
          "1981-09-07",
          "1992-08-01",
          "1983-12-26",
          "1956-11-08",
          "1981-03-17",
          "1982-12-30",
          "1982-07-25",
          null,
          "1970-04-21",
          "1963-07-13",
          "1973-05-23",
          "2001-04-01",
          "1981-08-20",
          "1994-07-17",
          "1978-12-14",
          "1980-02-17",
          "1960-03-22",
          "1992-12-10",
          "2000-05-24",
          "2001-07-28",
          "1998-04-11",
          "1988-12-12",
          "1978-02-06",
          "1989-01-08",
          "1972-05-07",
          "1995-05-17",
          "1968-04-27",
          "1971-02-17",
          "1956-11-04",
          "1966-12-09",
          "1990-05-10",
          "1979-08-28",
          "1981-11-04",
          "1978-11-02",
          "1982-01-27",
          "1982-01-05",
          "1987-06-16",
          "1975-09-29",
          "1989-03-04",
          "1988-04-18",
          "1996-01-08",
          "1979-08-02",
          null,
          "1997-11-15",
          "1980-09-18",
          "1987-07-23",
          "1970-05-04",
          "1976-09-15",
          "1972-07-28",
          "1979-06-20",
          null,
          null,
          "1974-08-27",
          "1975-03-01",
          "1983-01-07",
          "1986-11-20",
          "1996-05-13",
          "1995-04-06",
          "1974-07-27",
          "1978-12-22",
          "1988-09-01",
          "1988-08-26",
          "1989-11-07",
          "1984-04-12",
          "1989-09-13",
          "1989-01-30",
          "1991-12-20",
          "1986-03-03",
          "1934-05-27",
          "1985-09-29",
          "1955-12-23",
          "1966-02-02",
          "1981-04-01",
          "1967-11-07",
          "1995-02-10",
          "1997-07-14",
          "1978-06-16",
          "1990-04-21",
          "1994-07-27",
          "1989-03-16",
          "1995-12-26",
          "1998-03-20",
          "1994-10-30",
          "1994-07-16",
          "1989-06-10",
          "1995-05-12",
          "1995-02-24",
          "1984-06-04",
          "1996-09-18",
          "1994-01-13",
          "1991-11-08",
          "1989-08-18",
          "1986-03-29",
          "1992-02-18",
          "1992-07-29",
          "2002-04-28",
          "1992-09-30",
          "1984-09-20",
          "1997-02-27",
          null,
          "1985-01-21",
          "1980-05-08",
          "1998-04-14",
          "1975-06-20",
          "1998-09-06",
          "1977-04-18",
          "1993-06-21",
          "1965-06-29",
          "1962-12-26",
          "1970-03-07",
          "1996-11-04",
          "1994-11-23",
          "1994-09-18",
          "1963-05-26",
          "1976-05-09",
          "1942-08-26",
          "1978-07-06",
          "1965-09-27",
          "2001-10-31",
          "2001-03-17",
          "2072-05-17",
          "1968-07-01",
          "1966-11-27",
          "1994-02-13",
          null,
          "1969-02-21",
          "1974-02-25",
          "2020-05-23",
          "1975-07-28",
          "1984-08-28",
          "1989-09-20",
          "1979-02-18",
          "1985-12-17",
          "1982-08-26",
          "1991-02-28",
          "1964-04-19",
          "1997-12-16",
          "1980-02-19",
          "1992-12-15",
          "1985-08-19",
          "1981-02-22",
          "1982-06-02",
          "1985-12-23",
          "1980-02-24",
          "1975-05-08",
          "1982-07-02",
          null,
          "1993-04-30",
          "1993-05-27",
          "1951-05-30",
          "1969-05-04",
          "1999-04-06",
          "1976-08-26",
          null,
          "1985-03-27",
          "1987-09-02",
          "2003-06-26",
          "1989-01-03",
          "1980-04-25",
          "1993-03-14",
          "1979-01-01",
          "1976-05-16",
          "1991-08-26",
          "1987-05-22",
          "1999-07-12",
          "1992-05-22",
          "1990-05-09",
          null,
          "1995-07-23",
          "1981-01-06",
          "1981-06-23",
          "1987-01-16",
          "1994-04-29",
          "1959-04-26",
          "1984-08-08",
          "1986-04-06",
          "1992-12-21",
          "1989-02-08",
          "1989-04-10",
          "1986-02-14",
          "1991-10-07",
          "1996-10-08",
          "1998-01-11",
          null,
          "1998-02-11",
          "1996-06-01",
          "1985-02-11",
          "1988-07-17",
          "1982-12-19",
          "1946-06-16",
          "1967-06-11",
          "1972-06-05",
          "1981-11-14",
          "1995-02-12",
          "2001-12-14",
          "1985-03-14",
          "1981-10-14",
          "1991-10-18",
          "1970-01-09",
          "1970-03-01",
          "1971-02-04",
          "1975-10-03",
          "1995-05-11",
          "1990-03-09",
          "1981-03-29",
          "1966-05-26",
          null,
          "1940-01-29",
          "1986-11-23",
          "1981-05-25",
          "1994-04-20",
          "1972-03-04",
          "1967-04-11",
          "1989-05-14",
          "1993-08-29",
          "1991-09-12",
          "1985-09-08",
          "1980-02-04",
          "1990-10-27",
          "1982-12-07",
          "1988-08-16",
          "1989-05-31",
          "1978-03-07",
          "1983-10-26",
          "1993-12-12",
          "1983-10-13",
          "1998-06-28",
          "1983-01-06",
          "1982-06-01",
          "1982-03-12",
          "1977-10-24",
          "1993-02-10",
          "1993-06-11",
          "1988-02-01",
          "1984-11-04",
          "1988-11-17",
          "1962-01-02",
          "1966-07-05",
          "2000-01-30",
          null,
          null,
          "1968-06-26",
          "1968-07-15",
          "1983-04-04",
          "2000-01-10",
          "1992-01-01",
          "1998-07-30",
          "1966-04-05",
          "1953-06-15",
          "1988-11-18",
          "1978-06-29",
          "1981-01-25",
          "1984-07-26",
          "1988-08-11",
          "1985-02-01",
          "1980-12-07",
          "1985-05-22",
          "1968-06-23",
          "1979-01-09",
          "1992-06-10",
          "1994-03-26",
          "1986-07-17",
          "1993-04-08",
          "1985-09-18",
          "1990-10-30",
          null,
          null,
          "2001-08-09",
          "1959-05-26",
          null,
          "1988-01-30",
          "1990-11-07",
          "1992-07-18",
          "1990-11-17",
          "1962-01-08",
          "1987-07-11",
          "1994-09-13",
          "1985-04-19",
          "1980-01-28",
          "1993-05-05",
          null,
          "1992-07-09",
          "1988-06-13",
          "1996-07-08",
          null,
          null,
          "1960-10-24",
          "1993-09-22",
          "1974-02-19",
          "1993-12-03",
          "1997-01-30",
          null,
          "1990-02-15",
          "1989-02-24",
          "1988-02-29",
          "1985-04-26",
          "1961-06-17",
          "1980-06-18",
          "1994-10-16",
          "1987-03-31",
          "1992-08-04",
          "1984-05-01",
          "1993-07-14",
          "2002-07-09",
          "1989-07-01",
          "1991-05-06",
          "1991-04-29",
          "1990-05-09",
          "1988-02-19",
          "2002-02-14",
          "1995-11-09",
          "1997-02-04",
          "2000-02-05",
          "1994-09-30",
          "1992-05-22",
          "1974-08-28",
          "1948-05-09",
          "1974-05-05",
          "1978-12-08",
          "1968-01-06",
          "1971-05-06",
          "1976-12-28",
          "1965-01-06",
          "1965-10-04",
          "1963-09-27",
          "1964-05-04",
          null,
          "1977-01-14",
          "1974-02-24",
          null,
          "1984-02-24",
          "1969-09-15",
          "1969-04-04",
          "1993-06-30",
          "1977-12-04",
          "1980-07-31",
          "1982-10-30",
          "1988-05-28",
          "1997-05-20",
          "1997-02-10",
          "1954-02-20",
          "1987-07-06",
          "2001-03-13",
          "1993-05-06",
          "1995-05-17",
          "1985-08-13",
          "1995-05-19",
          "2001-09-06",
          "1966-02-16",
          "1963-05-20",
          "1984-09-20",
          "1990-08-07",
          "1969-11-13",
          "1991-02-05",
          "2003-03-03",
          "1997-05-30",
          "1992-10-02",
          "1989-05-02",
          "1992-05-27",
          "1997-11-11",
          "1999-04-02",
          "1970-12-05",
          "1974-03-07",
          "1989-08-25",
          "1979-05-16",
          "1987-07-15",
          "1994-08-01",
          null,
          "2000-05-30",
          "1975-01-08",
          "1996-07-21",
          "1999-10-12",
          "2003-04-02",
          "1997-12-10",
          "1997-10-30",
          "1997-01-18",
          "2002-05-07",
          "1973-02-15",
          "1976-02-03",
          "1983-01-21",
          "1971-10-31",
          "1980-07-23",
          "2001-01-14",
          "1978-03-01",
          "1999-02-23",
          "1984-02-21",
          "1980-02-04",
          "1987-11-25",
          "1990-11-11",
          "1995-02-02",
          "1979-05-30",
          "1989-06-13",
          "1982-11-25",
          null,
          "1996-11-17",
          "1998-04-22",
          "1982-10-14",
          "1967-04-30",
          "1985-05-20",
          "1986-10-17",
          "1995-01-10",
          "1988-07-09",
          "1997-09-10",
          "1985-04-21",
          "1979-07-16",
          "1978-02-24",
          "2000-01-29",
          "1998-07-01",
          "1954-11-05",
          "1994-02-06",
          "1991-03-11",
          "1988-06-13",
          null,
          "1995-01-27",
          "1998-09-04",
          "1988-06-02",
          "1985-02-08",
          "1971-01-08",
          "1961-07-08",
          null,
          null,
          "1995-05-11",
          "1995-05-11",
          "1996-06-11",
          "1999-07-24",
          "1990-08-23",
          "1997-06-06",
          "1978-01-20",
          "1994-01-05",
          "1980-12-09",
          "2001-06-29",
          "1983-12-14",
          "2003-05-27",
          "1984-02-10",
          "1994-08-01",
          "1995-10-07",
          "1997-11-21",
          "1998-05-08",
          "2001-04-17",
          "2002-04-02",
          "1995-09-07",
          "2002-02-02",
          "1994-07-07",
          "1972-10-25",
          "1972-08-04",
          "1973-07-19",
          "1978-03-19",
          "1974-07-06",
          "1980-05-08",
          "1987-04-27",
          "2002-04-04",
          "1981-05-10",
          "1979-05-09",
          "1975-03-01",
          "1954-02-25",
          "1980-02-19",
          "1967-01-07",
          "1983-10-08",
          "1970-03-18",
          "1983-06-09",
          "1972-09-05",
          "1993-08-25",
          "1988-04-27",
          "1997-03-19",
          "2000-02-24",
          "1992-05-05",
          "1968-12-02",
          "2000-10-05",
          "1972-07-24",
          "1975-07-17",
          "1968-11-29",
          "1977-02-26",
          "1990-07-01",
          "1981-08-04",
          "1990-02-23",
          "1989-03-28",
          "1996-02-06",
          "1992-04-25",
          "1955-12-04",
          null,
          "1954-05-20",
          "1987-05-21",
          "2000-04-27",
          "1990-08-22",
          "1997-09-09",
          "1987-06-21",
          null,
          "1988-12-26",
          "1982-02-26",
          "1995-01-04",
          "1970-01-11",
          "1990-12-22",
          null,
          "1972-07-12",
          "1980-05-14",
          "1972-11-02",
          "1968-11-07",
          "1987-08-30",
          "1981-03-29",
          "1973-06-05",
          "1988-05-05",
          "1973-02-05",
          "1980-02-28",
          "1967-01-07",
          "1969-08-06",
          "1962-12-11",
          "1978-10-10",
          "1982-07-18",
          "1978-10-09",
          "1977-07-06",
          "1977-12-29",
          "1988-11-02",
          "1996-08-08",
          "1966-02-18",
          "1994-03-23",
          "1988-05-12",
          "1998-12-23",
          "1957-05-11",
          "1992-04-12",
          "1973-02-12",
          "1969-01-01",
          "2003-01-29",
          null,
          "1961-09-08",
          "1967-06-29",
          "1967-06-25",
          "1967-06-29",
          "1968-02-25",
          "1955-05-20",
          "1968-03-26",
          "1954-10-02",
          "5780-11-26",
          "1999-10-24",
          "1997-03-18",
          "1986-04-21",
          "1980-01-28",
          "1950-07-14",
          null,
          "1965-01-04",
          "1975-11-18",
          "1966-03-15",
          "1971-08-13",
          null,
          "1994-06-23",
          "1997-02-14",
          "1983-11-08",
          null,
          "2000-06-07",
          "1997-01-20",
          "2001-01-27",
          "1998-07-08",
          "1995-12-24",
          "2002-03-26",
          "1994-08-25",
          "1997-07-14",
          null,
          "1960-07-27",
          null,
          "1984-06-26",
          "2001-06-27",
          "1991-05-15",
          null,
          "1995-03-07",
          "1994-06-14",
          null,
          "2018-03-03",
          "1985-05-27",
          "1997-01-02",
          "1989-08-04",
          "2001-03-10",
          "1978-12-19",
          "1984-05-18",
          "2000-03-06",
          "1995-11-06",
          "2019-07-25",
          "2002-01-24",
          "1972-08-13",
          "1969-02-09",
          "1991-05-05",
          "1984-05-30",
          null,
          "1980-02-01",
          "1994-06-06",
          "1985-04-12",
          null,
          "1992-08-24",
          "1986-05-27",
          "1980-03-06",
          "1967-01-06",
          "1996-10-04",
          "1954-12-25",
          "1979-10-04",
          "1992-12-22",
          "1972-01-10",
          "1961-08-21",
          "1977-10-02",
          "1998-10-18",
          "1946-05-10",
          "1971-03-21",
          "1955-08-02",
          "1966-10-18",
          "1990-05-28",
          "1953-07-12",
          "1968-05-24",
          "1970-09-05",
          "1994-07-17",
          "1980-02-03",
          "1986-11-24",
          "1980-05-14",
          "1991-10-06",
          "1984-03-17",
          "1971-11-20",
          "1983-04-17",
          "2004-03-01",
          "1982-02-12",
          "1977-01-23",
          "1997-06-24",
          null,
          "1998-12-24",
          "1964-10-31",
          "1987-05-16",
          "1990-02-02",
          "1950-05-31",
          "1985-10-25",
          "1984-05-08",
          null,
          "1991-03-08",
          null,
          "1990-10-19",
          "1984-11-24",
          "1998-12-15",
          "1978-02-21",
          null,
          "1992-05-21",
          "1985-12-01",
          "1997-05-27",
          "1992-08-04",
          "1997-01-31",
          "1995-10-17",
          "1996-10-02",
          "1998-11-17",
          null,
          "1986-04-20",
          "1990-10-16",
          null,
          "1998-12-03",
          "1992-02-15",
          "1993-02-04",
          "1972-05-07",
          "1996-06-04",
          "1995-05-19",
          "1999-12-30",
          "1999-05-01",
          "1988-10-16",
          "1979-06-18",
          "1983-09-06",
          "1994-05-19",
          "2002-02-07",
          "1997-05-27",
          "1989-07-13",
          "1996-09-17",
          null,
          "1963-12-03",
          "1961-02-25",
          "2001-02-09",
          "1986-03-21",
          "2000-05-13",
          "1987-09-15",
          "1997-05-10",
          "1980-08-06",
          "1982-11-12",
          "1981-06-23",
          "1978-09-25",
          "1978-03-14",
          "1981-05-10",
          "1976-10-26",
          "1968-06-03",
          "1992-07-15",
          "1996-08-31",
          "1972-03-25",
          "1979-07-22",
          "1982-09-23",
          "1992-08-14",
          "1989-03-23",
          "1981-11-11",
          null,
          "1983-01-19",
          "1964-03-17",
          "1982-03-15",
          "2002-02-03",
          "1963-05-10",
          "1978-11-20",
          "1978-03-27",
          "1980-02-23",
          "1988-07-09",
          "1969-08-03",
          "1974-12-14",
          "1979-03-13",
          "1980-11-15",
          "1980-02-21",
          "1966-12-15",
          "1982-09-16",
          "1980-11-24",
          "1970-01-06",
          "1992-04-09",
          "1965-03-11",
          "1973-03-08",
          null,
          "1959-07-11",
          null,
          "1988-02-25",
          null,
          "1980-08-30",
          "1965-06-01",
          "1974-02-26",
          "1969-12-27",
          "1974-09-06",
          "1977-09-25",
          "1967-05-15",
          "1973-05-31",
          "1961-11-22",
          "1971-06-06",
          "1968-09-19",
          "1988-09-02",
          "1987-08-31",
          "1974-05-28",
          "1978-05-18",
          "1979-11-14",
          "1982-11-28",
          "1988-10-11",
          "1988-07-08",
          "1967-09-03",
          "1988-11-17",
          null,
          null,
          "1985-12-29",
          "1994-11-02",
          "1999-12-15",
          "1964-06-24",
          "1979-08-01",
          "1976-03-06",
          "1997-08-02",
          "1999-09-01",
          "1968-10-22",
          "1997-10-03",
          "1978-09-18",
          "1956-01-20",
          "1961-08-23",
          "1978-02-14",
          "1969-02-21",
          "1981-01-01",
          "1984-09-04",
          "1997-09-11",
          "1976-10-16",
          "1972-11-14",
          "1978-03-23",
          "2002-04-03",
          "1981-04-08",
          "1966-10-12",
          null,
          "1971-09-16",
          null,
          "1974-06-25",
          "1975-10-29",
          "1976-10-28",
          "1987-05-12",
          null,
          "1972-05-05",
          "1968-02-29",
          "1959-12-01",
          "1956-07-27",
          "1989-06-04",
          "1997-07-31",
          "1994-05-15",
          "1997-07-12",
          "2000-09-01",
          "1999-07-18",
          "1994-05-29",
          "2003-02-22",
          "1990-11-17",
          "2023-04-17",
          "1996-12-29",
          "1982-12-24",
          "1995-07-19",
          "1990-01-28",
          null,
          "1988-09-08",
          "1998-07-21",
          null,
          "1986-02-27",
          "1956-10-10",
          "1970-05-05",
          null,
          "1987-07-09",
          "1970-02-04",
          "1987-02-26",
          "1985-10-22",
          "1988-06-09",
          "1991-05-20",
          "1983-06-19",
          "1992-12-01",
          "1999-08-06",
          "2001-07-14",
          "1992-06-26",
          "1994-09-06",
          "1996-06-20",
          "1997-06-27",
          "1995-07-03",
          "1992-02-02",
          "1987-03-27",
          "1991-01-31",
          "1998-10-09",
          "1989-04-03",
          null,
          "1986-09-20",
          "1985-02-10",
          "1989-02-16",
          "1987-07-30",
          null,
          "1955-10-11",
          "1975-10-19",
          "1970-09-18",
          "1961-09-02",
          "1986-07-12",
          "1971-08-09",
          null,
          "1958-08-02",
          "1961-08-24",
          "1962-10-12",
          "1987-03-06",
          null,
          null,
          "1989-04-18",
          "1987-12-05",
          "1991-06-04",
          "1983-03-18",
          "1982-12-19",
          "1967-03-15",
          "1970-10-15",
          "1982-08-13",
          "1986-07-01",
          "1973-05-16",
          "1993-03-21",
          "2000-01-13",
          "1968-06-16",
          "1995-01-29",
          "1987-02-10",
          "1999-06-22",
          "1996-05-23",
          "1998-07-22",
          "1981-04-09",
          null,
          "1980-08-08",
          null,
          "1987-06-27",
          "1981-10-28",
          "1995-04-04",
          "1984-12-26",
          "1982-05-06",
          "1998-08-29",
          "1961-07-13",
          "2001-03-01",
          "2000-05-15",
          "1963-11-06",
          null,
          "1963-09-09",
          null,
          "1987-04-20",
          null,
          "1984-09-24",
          "1991-02-05",
          "1998-11-14",
          "1987-04-08",
          "1994-07-07",
          "1999-06-27",
          "1986-06-25",
          "1973-12-22",
          "1981-01-29",
          "1990-03-24",
          "1997-12-12",
          "1990-03-12",
          "1992-08-29",
          "1995-08-16",
          "1952-06-22",
          "1996-04-28",
          "2002-02-06",
          "1976-07-01"
         ],
         "xaxis": "x",
         "yaxis": "y"
        }
       ],
       "layout": {
        "barmode": "relative",
        "legend": {
         "tracegroupgap": 0
        },
        "margin": {
         "t": 60
        },
        "template": {
         "data": {
          "bar": [
           {
            "error_x": {
             "color": "#2a3f5f"
            },
            "error_y": {
             "color": "#2a3f5f"
            },
            "marker": {
             "line": {
              "color": "#E5ECF6",
              "width": 0.5
             },
             "pattern": {
              "fillmode": "overlay",
              "size": 10,
              "solidity": 0.2
             }
            },
            "type": "bar"
           }
          ],
          "barpolar": [
           {
            "marker": {
             "line": {
              "color": "#E5ECF6",
              "width": 0.5
             },
             "pattern": {
              "fillmode": "overlay",
              "size": 10,
              "solidity": 0.2
             }
            },
            "type": "barpolar"
           }
          ],
          "carpet": [
           {
            "aaxis": {
             "endlinecolor": "#2a3f5f",
             "gridcolor": "white",
             "linecolor": "white",
             "minorgridcolor": "white",
             "startlinecolor": "#2a3f5f"
            },
            "baxis": {
             "endlinecolor": "#2a3f5f",
             "gridcolor": "white",
             "linecolor": "white",
             "minorgridcolor": "white",
             "startlinecolor": "#2a3f5f"
            },
            "type": "carpet"
           }
          ],
          "choropleth": [
           {
            "colorbar": {
             "outlinewidth": 0,
             "ticks": ""
            },
            "type": "choropleth"
           }
          ],
          "contour": [
           {
            "colorbar": {
             "outlinewidth": 0,
             "ticks": ""
            },
            "colorscale": [
             [
              0,
              "#0d0887"
             ],
             [
              0.1111111111111111,
              "#46039f"
             ],
             [
              0.2222222222222222,
              "#7201a8"
             ],
             [
              0.3333333333333333,
              "#9c179e"
             ],
             [
              0.4444444444444444,
              "#bd3786"
             ],
             [
              0.5555555555555556,
              "#d8576b"
             ],
             [
              0.6666666666666666,
              "#ed7953"
             ],
             [
              0.7777777777777778,
              "#fb9f3a"
             ],
             [
              0.8888888888888888,
              "#fdca26"
             ],
             [
              1,
              "#f0f921"
             ]
            ],
            "type": "contour"
           }
          ],
          "contourcarpet": [
           {
            "colorbar": {
             "outlinewidth": 0,
             "ticks": ""
            },
            "type": "contourcarpet"
           }
          ],
          "heatmap": [
           {
            "colorbar": {
             "outlinewidth": 0,
             "ticks": ""
            },
            "colorscale": [
             [
              0,
              "#0d0887"
             ],
             [
              0.1111111111111111,
              "#46039f"
             ],
             [
              0.2222222222222222,
              "#7201a8"
             ],
             [
              0.3333333333333333,
              "#9c179e"
             ],
             [
              0.4444444444444444,
              "#bd3786"
             ],
             [
              0.5555555555555556,
              "#d8576b"
             ],
             [
              0.6666666666666666,
              "#ed7953"
             ],
             [
              0.7777777777777778,
              "#fb9f3a"
             ],
             [
              0.8888888888888888,
              "#fdca26"
             ],
             [
              1,
              "#f0f921"
             ]
            ],
            "type": "heatmap"
           }
          ],
          "heatmapgl": [
           {
            "colorbar": {
             "outlinewidth": 0,
             "ticks": ""
            },
            "colorscale": [
             [
              0,
              "#0d0887"
             ],
             [
              0.1111111111111111,
              "#46039f"
             ],
             [
              0.2222222222222222,
              "#7201a8"
             ],
             [
              0.3333333333333333,
              "#9c179e"
             ],
             [
              0.4444444444444444,
              "#bd3786"
             ],
             [
              0.5555555555555556,
              "#d8576b"
             ],
             [
              0.6666666666666666,
              "#ed7953"
             ],
             [
              0.7777777777777778,
              "#fb9f3a"
             ],
             [
              0.8888888888888888,
              "#fdca26"
             ],
             [
              1,
              "#f0f921"
             ]
            ],
            "type": "heatmapgl"
           }
          ],
          "histogram": [
           {
            "marker": {
             "pattern": {
              "fillmode": "overlay",
              "size": 10,
              "solidity": 0.2
             }
            },
            "type": "histogram"
           }
          ],
          "histogram2d": [
           {
            "colorbar": {
             "outlinewidth": 0,
             "ticks": ""
            },
            "colorscale": [
             [
              0,
              "#0d0887"
             ],
             [
              0.1111111111111111,
              "#46039f"
             ],
             [
              0.2222222222222222,
              "#7201a8"
             ],
             [
              0.3333333333333333,
              "#9c179e"
             ],
             [
              0.4444444444444444,
              "#bd3786"
             ],
             [
              0.5555555555555556,
              "#d8576b"
             ],
             [
              0.6666666666666666,
              "#ed7953"
             ],
             [
              0.7777777777777778,
              "#fb9f3a"
             ],
             [
              0.8888888888888888,
              "#fdca26"
             ],
             [
              1,
              "#f0f921"
             ]
            ],
            "type": "histogram2d"
           }
          ],
          "histogram2dcontour": [
           {
            "colorbar": {
             "outlinewidth": 0,
             "ticks": ""
            },
            "colorscale": [
             [
              0,
              "#0d0887"
             ],
             [
              0.1111111111111111,
              "#46039f"
             ],
             [
              0.2222222222222222,
              "#7201a8"
             ],
             [
              0.3333333333333333,
              "#9c179e"
             ],
             [
              0.4444444444444444,
              "#bd3786"
             ],
             [
              0.5555555555555556,
              "#d8576b"
             ],
             [
              0.6666666666666666,
              "#ed7953"
             ],
             [
              0.7777777777777778,
              "#fb9f3a"
             ],
             [
              0.8888888888888888,
              "#fdca26"
             ],
             [
              1,
              "#f0f921"
             ]
            ],
            "type": "histogram2dcontour"
           }
          ],
          "mesh3d": [
           {
            "colorbar": {
             "outlinewidth": 0,
             "ticks": ""
            },
            "type": "mesh3d"
           }
          ],
          "parcoords": [
           {
            "line": {
             "colorbar": {
              "outlinewidth": 0,
              "ticks": ""
             }
            },
            "type": "parcoords"
           }
          ],
          "pie": [
           {
            "automargin": true,
            "type": "pie"
           }
          ],
          "scatter": [
           {
            "fillpattern": {
             "fillmode": "overlay",
             "size": 10,
             "solidity": 0.2
            },
            "type": "scatter"
           }
          ],
          "scatter3d": [
           {
            "line": {
             "colorbar": {
              "outlinewidth": 0,
              "ticks": ""
             }
            },
            "marker": {
             "colorbar": {
              "outlinewidth": 0,
              "ticks": ""
             }
            },
            "type": "scatter3d"
           }
          ],
          "scattercarpet": [
           {
            "marker": {
             "colorbar": {
              "outlinewidth": 0,
              "ticks": ""
             }
            },
            "type": "scattercarpet"
           }
          ],
          "scattergeo": [
           {
            "marker": {
             "colorbar": {
              "outlinewidth": 0,
              "ticks": ""
             }
            },
            "type": "scattergeo"
           }
          ],
          "scattergl": [
           {
            "marker": {
             "colorbar": {
              "outlinewidth": 0,
              "ticks": ""
             }
            },
            "type": "scattergl"
           }
          ],
          "scattermapbox": [
           {
            "marker": {
             "colorbar": {
              "outlinewidth": 0,
              "ticks": ""
             }
            },
            "type": "scattermapbox"
           }
          ],
          "scatterpolar": [
           {
            "marker": {
             "colorbar": {
              "outlinewidth": 0,
              "ticks": ""
             }
            },
            "type": "scatterpolar"
           }
          ],
          "scatterpolargl": [
           {
            "marker": {
             "colorbar": {
              "outlinewidth": 0,
              "ticks": ""
             }
            },
            "type": "scatterpolargl"
           }
          ],
          "scatterternary": [
           {
            "marker": {
             "colorbar": {
              "outlinewidth": 0,
              "ticks": ""
             }
            },
            "type": "scatterternary"
           }
          ],
          "surface": [
           {
            "colorbar": {
             "outlinewidth": 0,
             "ticks": ""
            },
            "colorscale": [
             [
              0,
              "#0d0887"
             ],
             [
              0.1111111111111111,
              "#46039f"
             ],
             [
              0.2222222222222222,
              "#7201a8"
             ],
             [
              0.3333333333333333,
              "#9c179e"
             ],
             [
              0.4444444444444444,
              "#bd3786"
             ],
             [
              0.5555555555555556,
              "#d8576b"
             ],
             [
              0.6666666666666666,
              "#ed7953"
             ],
             [
              0.7777777777777778,
              "#fb9f3a"
             ],
             [
              0.8888888888888888,
              "#fdca26"
             ],
             [
              1,
              "#f0f921"
             ]
            ],
            "type": "surface"
           }
          ],
          "table": [
           {
            "cells": {
             "fill": {
              "color": "#EBF0F8"
             },
             "line": {
              "color": "white"
             }
            },
            "header": {
             "fill": {
              "color": "#C8D4E3"
             },
             "line": {
              "color": "white"
             }
            },
            "type": "table"
           }
          ]
         },
         "layout": {
          "annotationdefaults": {
           "arrowcolor": "#2a3f5f",
           "arrowhead": 0,
           "arrowwidth": 1
          },
          "autotypenumbers": "strict",
          "coloraxis": {
           "colorbar": {
            "outlinewidth": 0,
            "ticks": ""
           }
          },
          "colorscale": {
           "diverging": [
            [
             0,
             "#8e0152"
            ],
            [
             0.1,
             "#c51b7d"
            ],
            [
             0.2,
             "#de77ae"
            ],
            [
             0.3,
             "#f1b6da"
            ],
            [
             0.4,
             "#fde0ef"
            ],
            [
             0.5,
             "#f7f7f7"
            ],
            [
             0.6,
             "#e6f5d0"
            ],
            [
             0.7,
             "#b8e186"
            ],
            [
             0.8,
             "#7fbc41"
            ],
            [
             0.9,
             "#4d9221"
            ],
            [
             1,
             "#276419"
            ]
           ],
           "sequential": [
            [
             0,
             "#0d0887"
            ],
            [
             0.1111111111111111,
             "#46039f"
            ],
            [
             0.2222222222222222,
             "#7201a8"
            ],
            [
             0.3333333333333333,
             "#9c179e"
            ],
            [
             0.4444444444444444,
             "#bd3786"
            ],
            [
             0.5555555555555556,
             "#d8576b"
            ],
            [
             0.6666666666666666,
             "#ed7953"
            ],
            [
             0.7777777777777778,
             "#fb9f3a"
            ],
            [
             0.8888888888888888,
             "#fdca26"
            ],
            [
             1,
             "#f0f921"
            ]
           ],
           "sequentialminus": [
            [
             0,
             "#0d0887"
            ],
            [
             0.1111111111111111,
             "#46039f"
            ],
            [
             0.2222222222222222,
             "#7201a8"
            ],
            [
             0.3333333333333333,
             "#9c179e"
            ],
            [
             0.4444444444444444,
             "#bd3786"
            ],
            [
             0.5555555555555556,
             "#d8576b"
            ],
            [
             0.6666666666666666,
             "#ed7953"
            ],
            [
             0.7777777777777778,
             "#fb9f3a"
            ],
            [
             0.8888888888888888,
             "#fdca26"
            ],
            [
             1,
             "#f0f921"
            ]
           ]
          },
          "colorway": [
           "#636efa",
           "#EF553B",
           "#00cc96",
           "#ab63fa",
           "#FFA15A",
           "#19d3f3",
           "#FF6692",
           "#B6E880",
           "#FF97FF",
           "#FECB52"
          ],
          "font": {
           "color": "#2a3f5f"
          },
          "geo": {
           "bgcolor": "white",
           "lakecolor": "white",
           "landcolor": "#E5ECF6",
           "showlakes": true,
           "showland": true,
           "subunitcolor": "white"
          },
          "hoverlabel": {
           "align": "left"
          },
          "hovermode": "closest",
          "mapbox": {
           "style": "light"
          },
          "paper_bgcolor": "white",
          "plot_bgcolor": "#E5ECF6",
          "polar": {
           "angularaxis": {
            "gridcolor": "white",
            "linecolor": "white",
            "ticks": ""
           },
           "bgcolor": "#E5ECF6",
           "radialaxis": {
            "gridcolor": "white",
            "linecolor": "white",
            "ticks": ""
           }
          },
          "scene": {
           "xaxis": {
            "backgroundcolor": "#E5ECF6",
            "gridcolor": "white",
            "gridwidth": 2,
            "linecolor": "white",
            "showbackground": true,
            "ticks": "",
            "zerolinecolor": "white"
           },
           "yaxis": {
            "backgroundcolor": "#E5ECF6",
            "gridcolor": "white",
            "gridwidth": 2,
            "linecolor": "white",
            "showbackground": true,
            "ticks": "",
            "zerolinecolor": "white"
           },
           "zaxis": {
            "backgroundcolor": "#E5ECF6",
            "gridcolor": "white",
            "gridwidth": 2,
            "linecolor": "white",
            "showbackground": true,
            "ticks": "",
            "zerolinecolor": "white"
           }
          },
          "shapedefaults": {
           "line": {
            "color": "#2a3f5f"
           }
          },
          "ternary": {
           "aaxis": {
            "gridcolor": "white",
            "linecolor": "white",
            "ticks": ""
           },
           "baxis": {
            "gridcolor": "white",
            "linecolor": "white",
            "ticks": ""
           },
           "bgcolor": "#E5ECF6",
           "caxis": {
            "gridcolor": "white",
            "linecolor": "white",
            "ticks": ""
           }
          },
          "title": {
           "x": 0.05
          },
          "xaxis": {
           "automargin": true,
           "gridcolor": "white",
           "linecolor": "white",
           "ticks": "",
           "title": {
            "standoff": 15
           },
           "zerolinecolor": "white",
           "zerolinewidth": 2
          },
          "yaxis": {
           "automargin": true,
           "gridcolor": "white",
           "linecolor": "white",
           "ticks": "",
           "title": {
            "standoff": 15
           },
           "zerolinecolor": "white",
           "zerolinewidth": 2
          }
         }
        },
        "xaxis": {
         "anchor": "y",
         "domain": [
          0,
          1
         ],
         "title": {
          "text": "Data Nasc."
         }
        },
        "yaxis": {
         "anchor": "x",
         "domain": [
          0,
          1
         ],
         "title": {
          "text": "count"
         }
        }
       }
      }
     },
     "metadata": {},
     "output_type": "display_data"
    },
    {
     "data": {
      "application/vnd.plotly.v1+json": {
       "config": {
        "plotlyServerURL": "https://plot.ly"
       },
       "data": [
        {
         "alignmentgroup": "True",
         "bingroup": "x",
         "hovertemplate": "Data Cadastro contrato=%{x}<br>count=%{y}<extra></extra>",
         "legendgroup": "",
         "marker": {
          "color": "#636efa",
          "pattern": {
           "shape": ""
          }
         },
         "name": "",
         "offsetgroup": "",
         "orientation": "v",
         "showlegend": false,
         "type": "histogram",
         "x": [
          "28/04/2020",
          "04/09/2019",
          "03/09/2021",
          "17/10/2022",
          "11/11/2015",
          "11/11/2019",
          "23/08/2021",
          "22/05/2020",
          "11/11/2019",
          "26/03/2022",
          "26/09/2019",
          "27/07/2021",
          "04/04/2023",
          "10/03/2021",
          "30/06/2022",
          "04/11/2019",
          "11/11/2019",
          "12/11/2020",
          "21/02/2022",
          "22/07/2021",
          "14/01/2021",
          "21/06/2019",
          "07/02/2022",
          "11/05/2023",
          "28/04/2022",
          "12/04/2022",
          "01/04/2019",
          "11/11/2019",
          "24/04/2020",
          "20/10/2022",
          "04/04/2023",
          "22/04/2020",
          "06/06/2022",
          "09/07/2021",
          "20/04/2023",
          "17/06/2022",
          "13/12/2019",
          "02/06/2018",
          "09/05/2023",
          "11/08/2020",
          "24/05/2022",
          "11/11/2019",
          "17/02/2020",
          "10/05/2023",
          "26/10/2021",
          "25/05/2022",
          "26/08/2022",
          "03/02/2023",
          "12/08/2021",
          "19/08/2021",
          "25/08/2021",
          "09/02/2023",
          "24/10/2022",
          "01/06/2021",
          "13/11/2015",
          "16/08/2021",
          "01/10/2020",
          "12/02/2021",
          "30/05/2023",
          "02/06/2020",
          "14/12/2022",
          "23/05/2020",
          "08/05/2020",
          "28/04/2020",
          "01/08/2022",
          "04/06/2020",
          "31/07/2017",
          "10/02/2022",
          "30/08/2021",
          "22/07/2020",
          "07/05/2021",
          "03/11/2020",
          "11/12/2019",
          "12/03/2021",
          "06/04/2020",
          "10/04/2020",
          "06/08/2020",
          "06/04/2023",
          "23/11/2020",
          "06/08/2021",
          "27/07/2022",
          "19/01/2021",
          "21/02/2020",
          "07/05/2022",
          "07/03/2020",
          "22/06/2021",
          "01/09/2020",
          "27/09/2021",
          "14/08/2021",
          "05/11/2020",
          "18/05/2020",
          "05/11/2021",
          "31/03/2021",
          "30/04/2020",
          "16/10/2021",
          "12/01/2021",
          "29/10/2022",
          "13/07/2020",
          "17/02/2022",
          "30/09/2020",
          "07/12/2019",
          "18/05/2022",
          "02/05/2022",
          "14/06/2022",
          "23/07/2021",
          "14/12/2022",
          "06/04/2020",
          "06/09/2022",
          "01/12/2020",
          "27/06/2017",
          "05/09/2022",
          "05/01/2022",
          "08/01/2021",
          "23/01/2023",
          "08/12/2018",
          "13/02/2023",
          "19/12/2020",
          "06/07/2018",
          "17/04/2021",
          "11/05/2020",
          "09/07/2021",
          "05/05/2023",
          "25/09/2022",
          "13/05/2022",
          "16/11/2022",
          "03/04/2020",
          "01/10/2021",
          "29/05/2020",
          "20/01/2023",
          "11/03/2021",
          "03/10/2022",
          "12/06/2019",
          "25/05/2022",
          "23/01/2023",
          "25/08/2020",
          "24/02/2023",
          "05/05/2023",
          "27/08/2021",
          "20/05/2022",
          "11/11/2019",
          "15/04/2020",
          "24/03/2022",
          "15/04/2020",
          "24/05/2022",
          "24/04/2020",
          "03/12/2019",
          "14/04/2023",
          "11/02/2023",
          "19/03/2022",
          "23/04/2019",
          "08/05/2023",
          "09/11/2021",
          "12/07/2022",
          "19/12/2019",
          "25/05/2022",
          "09/12/2019",
          "03/05/2020",
          "26/05/2020",
          "04/08/2021",
          "09/05/2020",
          "29/07/2022",
          "29/08/2022",
          "07/02/2023",
          "27/06/2022",
          "21/07/2022",
          "11/11/2019",
          "22/07/2022",
          "22/02/2022",
          "23/01/2023",
          "16/08/2022",
          "28/02/2023",
          "14/09/2021",
          "27/04/2020",
          "14/04/2020",
          "03/12/2020",
          "19/03/2022",
          "11/11/2019",
          "18/08/2021",
          "20/04/2020",
          "26/07/2022",
          "09/11/2020",
          "24/05/2022",
          "18/11/2021",
          "10/01/2022",
          "09/05/2022",
          "11/08/2020",
          "11/11/2019",
          "23/06/2020",
          "29/08/2022",
          "26/02/2022",
          "01/09/2021",
          "26/08/2022",
          "23/04/2022",
          "14/08/2021",
          "11/11/2019",
          "27/03/2023",
          "07/02/2022",
          "17/06/2022",
          "25/03/2021",
          "04/05/2023",
          "20/04/2020",
          "25/04/2019",
          "22/07/2020",
          "10/10/2022",
          "11/11/2019",
          "01/04/2020",
          "11/11/2019",
          "24/06/2021",
          "23/03/2018",
          "21/12/2019",
          "02/06/2022",
          "14/06/2022",
          "23/11/2022",
          "30/10/2018",
          "28/05/2022",
          "24/02/2022",
          "02/10/2021",
          "01/10/2021",
          "26/04/2023",
          "26/05/2022",
          "13/08/2022",
          "18/05/2020",
          "26/12/2022",
          "02/08/2022",
          "30/11/2021",
          "22/05/2023",
          "14/11/2022",
          "22/04/2020",
          "20/05/2020",
          "11/11/2019",
          "10/01/2022",
          "09/10/2019",
          "13/01/2022",
          "15/05/2020",
          "25/08/2020",
          "29/05/2020",
          "23/04/2020",
          "22/04/2022",
          "16/11/2021",
          "11/11/2019",
          "26/06/2019",
          "05/05/2023",
          "06/01/2022",
          "27/08/2020",
          "20/08/2020",
          "18/08/2021",
          "23/01/2023",
          "18/07/2019",
          "07/03/2020",
          "02/09/2021",
          "09/11/2020",
          "31/01/2020",
          "02/04/2020",
          "27/05/2023",
          "08/04/2022",
          "29/09/2022",
          "17/11/2021",
          "31/10/2022",
          "05/01/2021",
          "24/05/2022",
          "11/11/2019",
          "20/05/2022",
          "08/03/2022",
          "10/05/2022",
          "31/10/2022",
          "22/01/2020",
          "22/07/2020",
          "23/01/2023",
          "27/01/2021",
          "20/03/2020",
          "22/06/2021",
          "05/05/2021",
          "25/08/2020",
          "07/05/2022",
          "07/08/2019",
          "05/07/2020",
          "30/01/2023",
          "14/04/2022",
          "23/11/2019",
          "09/03/2022",
          "12/05/2020",
          "24/02/2021",
          "27/04/2019",
          "27/04/2022",
          "13/01/2022",
          "17/08/2018",
          "08/02/2020",
          "06/08/2021",
          "18/10/2018",
          "11/11/2019",
          "13/05/2020",
          "27/06/2022",
          "03/09/2021",
          "16/02/2023",
          "15/01/2022",
          "04/12/2020",
          "10/08/2021",
          "30/01/2023",
          "28/05/2019",
          "01/08/2022",
          "29/06/2020",
          "08/04/2021",
          "02/01/2023",
          "01/06/2022",
          "11/11/2019",
          "23/06/2021",
          "23/09/2021",
          "25/06/2022",
          "08/09/2020",
          "20/06/2020",
          "10/04/2021",
          "19/09/2022",
          "10/11/2021",
          "27/01/2023",
          "17/05/2022",
          "04/10/2022",
          "16/02/2017",
          "17/06/2020",
          "09/03/2021",
          "28/06/2022",
          "27/09/2021",
          "19/10/2018",
          "13/09/2022",
          "02/09/2021",
          "17/03/2020",
          "12/04/2023",
          "17/02/2023",
          "01/02/2022",
          "19/09/2019",
          "23/08/2021",
          "11/11/2019",
          "30/06/2021",
          "19/05/2021",
          "27/10/2021",
          "19/01/2023",
          "21/12/2022",
          "22/04/2020",
          "17/08/2022",
          "24/06/2020",
          "15/05/2017",
          "11/11/2019",
          "22/05/2023",
          "24/05/2022",
          "24/07/2020",
          "15/06/2021",
          "30/04/2021",
          "07/11/2018",
          "22/11/2022",
          "08/08/2020",
          "05/06/2020",
          "14/09/2021",
          "17/09/2021",
          "11/11/2019",
          "06/04/2022",
          "02/09/2021",
          "24/07/2020",
          "18/08/2020",
          "24/08/2020",
          "18/04/2020",
          "22/06/2020",
          "03/12/2022",
          "30/08/2021",
          "13/01/2022",
          "22/08/2022",
          "13/07/2020",
          "20/10/2022",
          "26/08/2020",
          "01/02/2023",
          "01/02/2022",
          "10/04/2020",
          "09/12/2019",
          "16/03/2023",
          "23/07/2020",
          "26/01/2021",
          "11/11/2019",
          "19/05/2023",
          "13/10/2020",
          "15/09/2020",
          "30/05/2022",
          "27/09/2022",
          "25/08/2022",
          "15/03/2022",
          "28/03/2020",
          "05/03/2021",
          "03/02/2022",
          "24/09/2021",
          "28/07/2022",
          "17/12/2021",
          "25/08/2020",
          "09/02/2023",
          "10/07/2020",
          "05/05/2023",
          "08/05/2020",
          "21/03/2022",
          "29/05/2020",
          "06/07/2020",
          "17/05/2023",
          "09/04/2020",
          "07/05/2021",
          "16/04/2021",
          "13/03/2022",
          "21/12/2019",
          "23/12/2022",
          "23/03/2021",
          "10/09/2021",
          "10/08/2022",
          "05/05/2022",
          "08/09/2022",
          "29/11/2022",
          "09/06/2022",
          "18/10/2021",
          "09/02/2023",
          "02/04/2020",
          "24/09/2020",
          "09/04/2020",
          "13/10/2021",
          "16/02/2022",
          "04/03/2023",
          "26/02/2021",
          "24/06/2022",
          "01/10/2022",
          "23/01/2023",
          "02/07/2020",
          "30/08/2021",
          "19/07/2022",
          "15/05/2017",
          "03/09/2020",
          "02/02/2019",
          "24/03/2020",
          "11/11/2019",
          "01/12/2022",
          "12/05/2022",
          "20/05/2023",
          "12/05/2023",
          "14/02/2023",
          "14/05/2020",
          "03/04/2020",
          "22/12/2020",
          "03/06/2020",
          "22/10/2020",
          "03/06/2020",
          "22/05/2021",
          "17/11/2020",
          "04/01/2021",
          "13/12/2019",
          "22/06/2022",
          "30/07/2021",
          "20/12/2021",
          "20/08/2021",
          "29/06/2020",
          "24/04/2020",
          "12/07/2022",
          "28/06/2022",
          "04/10/2022",
          "17/08/2021",
          "27/04/2020",
          "07/07/2020",
          "07/08/2020",
          "12/08/2020",
          "21/05/2021",
          "09/07/2021",
          "01/06/2019",
          "11/05/2020",
          "10/09/2020",
          "27/03/2023",
          "30/06/2020",
          "08/04/2023",
          "12/08/2021",
          "26/11/2020",
          "18/04/2020",
          "21/05/2020",
          "20/04/2022",
          "11/11/2019",
          "09/09/2022",
          "04/01/2023",
          "26/11/2022",
          "16/01/2023",
          "08/11/2022",
          "25/07/2019",
          "29/10/2022",
          "26/07/2021",
          "25/05/2022",
          "04/06/2020",
          "02/08/2021",
          "07/06/2022",
          "04/01/2022",
          "24/04/2020",
          "27/02/2023",
          "21/07/2021",
          "24/03/2021",
          "27/09/2022",
          "25/03/2020",
          "17/12/2021",
          "12/05/2020",
          "16/09/2021",
          "11/04/2022",
          "17/10/2018",
          "11/11/2019",
          "28/08/2021",
          "25/10/2022",
          "14/07/2022",
          "30/10/2021",
          "11/11/2019",
          "18/02/2023",
          "07/03/2023",
          "13/01/2021",
          "11/01/2022",
          "11/05/2022",
          "03/04/2020",
          "07/01/2022",
          "11/11/2019",
          "05/11/2016",
          "05/10/2020",
          "11/11/2019",
          "15/06/2022",
          "07/02/2023",
          "07/11/2022",
          "27/02/2021",
          "25/08/2020",
          "27/12/2021",
          "16/06/2021",
          "15/07/2020",
          "14/09/2021",
          "20/05/2022",
          "11/11/2019",
          "06/08/2021",
          "25/01/2020",
          "11/11/2022",
          "04/11/2022",
          "07/05/2021",
          "16/03/2021",
          "22/10/2021",
          "20/02/2020",
          "21/05/2020",
          "13/11/2020",
          "28/01/2022",
          "26/03/2022",
          "18/04/2020",
          "10/09/2020",
          "24/03/2023",
          "16/12/2020",
          "26/05/2021",
          "03/05/2022",
          "11/11/2019",
          "30/07/2022",
          "28/12/2020",
          "03/08/2021",
          "10/08/2019",
          "15/10/2020",
          "06/09/2022",
          "17/03/2020",
          "15/12/2021",
          "24/01/2022",
          "08/10/2021",
          "11/11/2019",
          "05/11/2020",
          "18/12/2020",
          "01/09/2022",
          "20/06/2020",
          "15/07/2022",
          "07/03/2023",
          "23/04/2019",
          "25/08/2021",
          "22/07/2022",
          "14/12/2022",
          "10/06/2021",
          "11/08/2021",
          "30/05/2022",
          "23/06/2021",
          "24/05/2022",
          "25/08/2022",
          "23/11/2020",
          "23/05/2023",
          "14/07/2021",
          "21/09/2019",
          "05/05/2023",
          "30/03/2021",
          "29/02/2020",
          "21/11/2022",
          "04/06/2021",
          "28/02/2020",
          "14/01/2022",
          "16/06/2020",
          "14/06/2021",
          "23/02/2022",
          "03/01/2023",
          "01/06/2021",
          "12/05/2020",
          "03/03/2022",
          "14/06/2022",
          "27/10/2021",
          "02/03/2022",
          "09/07/2020",
          "09/03/2017",
          "29/08/2022",
          "22/11/2022",
          "29/10/2019",
          "24/04/2019",
          "28/07/2021",
          "25/11/2022",
          "08/09/2021",
          "23/07/2021",
          "08/09/2022",
          "06/10/2022",
          "02/08/2022",
          "31/03/2021",
          "08/05/2020",
          "24/05/2022",
          "01/04/2021",
          "27/12/2022",
          "11/11/2019",
          "24/02/2023",
          "02/07/2016",
          "14/02/2023",
          "11/02/2023",
          "23/05/2023",
          "25/04/2020",
          "26/10/2021",
          "29/07/2022",
          "11/04/2023",
          "10/10/2022",
          "23/09/2021",
          "17/03/2022",
          "04/04/2020",
          "25/04/2020",
          "28/06/2019",
          "28/04/2022",
          "10/04/2021",
          "30/05/2022",
          "21/06/2022",
          "08/11/2019",
          "16/02/2022",
          "07/01/2022",
          "23/12/2019",
          "04/03/2023",
          "22/04/2021",
          "04/11/2020",
          "15/03/2022",
          "10/12/2022",
          "28/11/2022",
          "05/01/2021",
          "30/07/2021",
          "18/03/2021",
          "22/10/2022",
          "27/03/2020",
          "19/11/2022",
          "29/04/2020",
          "27/04/2020",
          "01/06/2020",
          "14/10/2020",
          "16/12/2022",
          "24/05/2021",
          "03/08/2021",
          "30/04/2022",
          "21/08/2020",
          "25/05/2023",
          "27/06/2022",
          "29/02/2020",
          "11/11/2019",
          "16/02/2022",
          "22/07/2020",
          "16/01/2023",
          "08/11/2022",
          "01/02/2020",
          "26/05/2023",
          "09/01/2023",
          "23/01/2023",
          "27/12/2021",
          "02/09/2021",
          "10/11/2022",
          "25/03/2022",
          "27/08/2021",
          "28/10/2022",
          "06/03/2021",
          "30/03/2022",
          "20/05/2022",
          "11/08/2020",
          "27/04/2023",
          "22/02/2021",
          "06/12/2022",
          "17/06/2022",
          "31/03/2022",
          "01/03/2023",
          "23/01/2023",
          "05/08/2022",
          "10/06/2021",
          "09/09/2021",
          "06/09/2022",
          "28/04/2022",
          "16/01/2020",
          "20/03/2023",
          "25/04/2022",
          "14/01/2020",
          "30/04/2020",
          "16/04/2022",
          "18/05/2020",
          "03/05/2023",
          "21/06/2022",
          "28/02/2023",
          "09/11/2015",
          "24/07/2020",
          "31/03/2020",
          "25/03/2022",
          "31/01/2022",
          "04/08/2021",
          "11/11/2019",
          "09/12/2021",
          "11/11/2019",
          "17/01/2022",
          "01/04/2022",
          "23/01/2023",
          "11/11/2019",
          "13/12/2022",
          "26/03/2021",
          "31/12/2021",
          "14/05/2020",
          "06/02/2021",
          "13/04/2020",
          "21/12/2020",
          "15/12/2022",
          "23/03/2020",
          "12/04/2023",
          "20/12/2021",
          "23/02/2023",
          "18/02/2020",
          "02/10/2021",
          "10/01/2022",
          "24/04/2023",
          "20/09/2022",
          "23/06/2020",
          "10/05/2023",
          "02/12/2022",
          "23/09/2020",
          "08/07/2020",
          "15/07/2022",
          "31/05/2022",
          "11/11/2019",
          "29/08/2022",
          "24/03/2022",
          "28/01/2023",
          "11/01/2018",
          "25/08/2020",
          "20/04/2022",
          "05/01/2021",
          "11/11/2019",
          "02/07/2022",
          "20/10/2022",
          "08/07/2022",
          "02/07/2020",
          "17/05/2022",
          "27/06/2019",
          "14/05/2022",
          "24/05/2023",
          "04/06/2021",
          "27/08/2021",
          "08/02/2020",
          "27/07/2022",
          "09/10/2019",
          "19/12/2022",
          "17/04/2023",
          "17/11/2022",
          "18/07/2022",
          "08/07/1988",
          "30/12/2019",
          "10/05/2022",
          "28/02/2020",
          "28/03/2022",
          "16/01/2023",
          "25/05/2022",
          "08/01/2021",
          "21/05/2020",
          "22/09/2022",
          "27/02/2020",
          "19/04/2023",
          "26/07/2021",
          "25/06/2019",
          "02/04/2020",
          "19/08/2021",
          "21/10/2021",
          "07/10/2022",
          "03/03/2023",
          "25/04/2023",
          "17/08/2021",
          "10/08/2019",
          "06/09/2022",
          "16/03/2023",
          "13/08/2021",
          "30/06/2022",
          "23/07/2021",
          "29/04/2021",
          "09/03/2021",
          "02/05/2020",
          "19/05/2018",
          "10/09/2016",
          "19/08/2020",
          "11/04/2020",
          "04/04/2022",
          "12/09/2022",
          "20/10/2015",
          "14/01/2022",
          "11/11/2019",
          "22/05/2020",
          "26/12/2019",
          "13/09/2021",
          "17/06/2022",
          "07/02/2023",
          "11/11/2019",
          "23/10/2022",
          "24/05/2023",
          "03/01/2023",
          "04/03/2023",
          "13/05/2023",
          "19/04/2023",
          "04/11/2022",
          "13/01/2023",
          "26/04/2023",
          "12/08/2021",
          "24/09/2022",
          "01/12/2022",
          "24/08/2021",
          "12/02/2021",
          "12/03/2020",
          "19/10/2022",
          "05/01/2022",
          "08/08/2020",
          "05/07/2019",
          "15/06/2019",
          "01/12/2022",
          "09/08/2021",
          "09/05/2020",
          "28/04/2023",
          "01/09/2022",
          "27/02/2023",
          "01/07/2019",
          "30/04/2020",
          "11/01/2023",
          "15/04/2023",
          "15/08/2020",
          "17/02/2020",
          "16/05/2023",
          "04/12/2020",
          "03/02/2023",
          "02/03/2021",
          "11/11/2019",
          "18/01/2023",
          "02/09/2022",
          "09/02/2023",
          "19/05/2021",
          "16/09/2022",
          "10/09/2021",
          "09/02/2022",
          "11/11/2019",
          "29/11/2019",
          "10/06/2021",
          "27/10/2020",
          "11/11/2019",
          "24/05/2021",
          "07/02/2020",
          "21/05/2020",
          "29/07/2022",
          "29/04/2020",
          "17/03/2023",
          "09/03/2020",
          "23/04/2019",
          "02/08/2022",
          "07/10/2022",
          "02/02/2021",
          "11/11/2019",
          "26/10/2021",
          "09/06/2022",
          "23/02/2022",
          "11/11/2019",
          "09/01/2022",
          "17/08/2021",
          "07/06/2022",
          "02/04/2020",
          "19/12/2019",
          "07/07/2022",
          "14/08/2019",
          "21/11/2022",
          "11/08/2021",
          "31/03/2020",
          "03/04/2020",
          "13/08/2020",
          "13/08/2021",
          "18/10/2022",
          "14/07/2021",
          "28/05/2021",
          "24/02/2021",
          "26/03/2020",
          "13/12/2019",
          "28/09/2021",
          "17/06/2022",
          "12/06/2020",
          "09/06/2022",
          "17/03/2021",
          "24/04/2020",
          "07/01/2021",
          "25/08/2020",
          "21/07/2021",
          "17/05/2022",
          "27/02/2021",
          "15/12/2022",
          "22/03/2023",
          "06/05/2021",
          "17/06/2022",
          "18/11/2022",
          "22/07/2022",
          "11/11/2019",
          "20/08/2022",
          "14/12/2021",
          "11/12/2020",
          "31/05/2022",
          "16/03/2022",
          "13/11/2021",
          "04/02/2022",
          "09/11/2021",
          "20/10/2021",
          "15/02/2020"
         ],
         "xaxis": "x",
         "yaxis": "y"
        }
       ],
       "layout": {
        "barmode": "relative",
        "legend": {
         "tracegroupgap": 0
        },
        "margin": {
         "t": 60
        },
        "template": {
         "data": {
          "bar": [
           {
            "error_x": {
             "color": "#2a3f5f"
            },
            "error_y": {
             "color": "#2a3f5f"
            },
            "marker": {
             "line": {
              "color": "#E5ECF6",
              "width": 0.5
             },
             "pattern": {
              "fillmode": "overlay",
              "size": 10,
              "solidity": 0.2
             }
            },
            "type": "bar"
           }
          ],
          "barpolar": [
           {
            "marker": {
             "line": {
              "color": "#E5ECF6",
              "width": 0.5
             },
             "pattern": {
              "fillmode": "overlay",
              "size": 10,
              "solidity": 0.2
             }
            },
            "type": "barpolar"
           }
          ],
          "carpet": [
           {
            "aaxis": {
             "endlinecolor": "#2a3f5f",
             "gridcolor": "white",
             "linecolor": "white",
             "minorgridcolor": "white",
             "startlinecolor": "#2a3f5f"
            },
            "baxis": {
             "endlinecolor": "#2a3f5f",
             "gridcolor": "white",
             "linecolor": "white",
             "minorgridcolor": "white",
             "startlinecolor": "#2a3f5f"
            },
            "type": "carpet"
           }
          ],
          "choropleth": [
           {
            "colorbar": {
             "outlinewidth": 0,
             "ticks": ""
            },
            "type": "choropleth"
           }
          ],
          "contour": [
           {
            "colorbar": {
             "outlinewidth": 0,
             "ticks": ""
            },
            "colorscale": [
             [
              0,
              "#0d0887"
             ],
             [
              0.1111111111111111,
              "#46039f"
             ],
             [
              0.2222222222222222,
              "#7201a8"
             ],
             [
              0.3333333333333333,
              "#9c179e"
             ],
             [
              0.4444444444444444,
              "#bd3786"
             ],
             [
              0.5555555555555556,
              "#d8576b"
             ],
             [
              0.6666666666666666,
              "#ed7953"
             ],
             [
              0.7777777777777778,
              "#fb9f3a"
             ],
             [
              0.8888888888888888,
              "#fdca26"
             ],
             [
              1,
              "#f0f921"
             ]
            ],
            "type": "contour"
           }
          ],
          "contourcarpet": [
           {
            "colorbar": {
             "outlinewidth": 0,
             "ticks": ""
            },
            "type": "contourcarpet"
           }
          ],
          "heatmap": [
           {
            "colorbar": {
             "outlinewidth": 0,
             "ticks": ""
            },
            "colorscale": [
             [
              0,
              "#0d0887"
             ],
             [
              0.1111111111111111,
              "#46039f"
             ],
             [
              0.2222222222222222,
              "#7201a8"
             ],
             [
              0.3333333333333333,
              "#9c179e"
             ],
             [
              0.4444444444444444,
              "#bd3786"
             ],
             [
              0.5555555555555556,
              "#d8576b"
             ],
             [
              0.6666666666666666,
              "#ed7953"
             ],
             [
              0.7777777777777778,
              "#fb9f3a"
             ],
             [
              0.8888888888888888,
              "#fdca26"
             ],
             [
              1,
              "#f0f921"
             ]
            ],
            "type": "heatmap"
           }
          ],
          "heatmapgl": [
           {
            "colorbar": {
             "outlinewidth": 0,
             "ticks": ""
            },
            "colorscale": [
             [
              0,
              "#0d0887"
             ],
             [
              0.1111111111111111,
              "#46039f"
             ],
             [
              0.2222222222222222,
              "#7201a8"
             ],
             [
              0.3333333333333333,
              "#9c179e"
             ],
             [
              0.4444444444444444,
              "#bd3786"
             ],
             [
              0.5555555555555556,
              "#d8576b"
             ],
             [
              0.6666666666666666,
              "#ed7953"
             ],
             [
              0.7777777777777778,
              "#fb9f3a"
             ],
             [
              0.8888888888888888,
              "#fdca26"
             ],
             [
              1,
              "#f0f921"
             ]
            ],
            "type": "heatmapgl"
           }
          ],
          "histogram": [
           {
            "marker": {
             "pattern": {
              "fillmode": "overlay",
              "size": 10,
              "solidity": 0.2
             }
            },
            "type": "histogram"
           }
          ],
          "histogram2d": [
           {
            "colorbar": {
             "outlinewidth": 0,
             "ticks": ""
            },
            "colorscale": [
             [
              0,
              "#0d0887"
             ],
             [
              0.1111111111111111,
              "#46039f"
             ],
             [
              0.2222222222222222,
              "#7201a8"
             ],
             [
              0.3333333333333333,
              "#9c179e"
             ],
             [
              0.4444444444444444,
              "#bd3786"
             ],
             [
              0.5555555555555556,
              "#d8576b"
             ],
             [
              0.6666666666666666,
              "#ed7953"
             ],
             [
              0.7777777777777778,
              "#fb9f3a"
             ],
             [
              0.8888888888888888,
              "#fdca26"
             ],
             [
              1,
              "#f0f921"
             ]
            ],
            "type": "histogram2d"
           }
          ],
          "histogram2dcontour": [
           {
            "colorbar": {
             "outlinewidth": 0,
             "ticks": ""
            },
            "colorscale": [
             [
              0,
              "#0d0887"
             ],
             [
              0.1111111111111111,
              "#46039f"
             ],
             [
              0.2222222222222222,
              "#7201a8"
             ],
             [
              0.3333333333333333,
              "#9c179e"
             ],
             [
              0.4444444444444444,
              "#bd3786"
             ],
             [
              0.5555555555555556,
              "#d8576b"
             ],
             [
              0.6666666666666666,
              "#ed7953"
             ],
             [
              0.7777777777777778,
              "#fb9f3a"
             ],
             [
              0.8888888888888888,
              "#fdca26"
             ],
             [
              1,
              "#f0f921"
             ]
            ],
            "type": "histogram2dcontour"
           }
          ],
          "mesh3d": [
           {
            "colorbar": {
             "outlinewidth": 0,
             "ticks": ""
            },
            "type": "mesh3d"
           }
          ],
          "parcoords": [
           {
            "line": {
             "colorbar": {
              "outlinewidth": 0,
              "ticks": ""
             }
            },
            "type": "parcoords"
           }
          ],
          "pie": [
           {
            "automargin": true,
            "type": "pie"
           }
          ],
          "scatter": [
           {
            "fillpattern": {
             "fillmode": "overlay",
             "size": 10,
             "solidity": 0.2
            },
            "type": "scatter"
           }
          ],
          "scatter3d": [
           {
            "line": {
             "colorbar": {
              "outlinewidth": 0,
              "ticks": ""
             }
            },
            "marker": {
             "colorbar": {
              "outlinewidth": 0,
              "ticks": ""
             }
            },
            "type": "scatter3d"
           }
          ],
          "scattercarpet": [
           {
            "marker": {
             "colorbar": {
              "outlinewidth": 0,
              "ticks": ""
             }
            },
            "type": "scattercarpet"
           }
          ],
          "scattergeo": [
           {
            "marker": {
             "colorbar": {
              "outlinewidth": 0,
              "ticks": ""
             }
            },
            "type": "scattergeo"
           }
          ],
          "scattergl": [
           {
            "marker": {
             "colorbar": {
              "outlinewidth": 0,
              "ticks": ""
             }
            },
            "type": "scattergl"
           }
          ],
          "scattermapbox": [
           {
            "marker": {
             "colorbar": {
              "outlinewidth": 0,
              "ticks": ""
             }
            },
            "type": "scattermapbox"
           }
          ],
          "scatterpolar": [
           {
            "marker": {
             "colorbar": {
              "outlinewidth": 0,
              "ticks": ""
             }
            },
            "type": "scatterpolar"
           }
          ],
          "scatterpolargl": [
           {
            "marker": {
             "colorbar": {
              "outlinewidth": 0,
              "ticks": ""
             }
            },
            "type": "scatterpolargl"
           }
          ],
          "scatterternary": [
           {
            "marker": {
             "colorbar": {
              "outlinewidth": 0,
              "ticks": ""
             }
            },
            "type": "scatterternary"
           }
          ],
          "surface": [
           {
            "colorbar": {
             "outlinewidth": 0,
             "ticks": ""
            },
            "colorscale": [
             [
              0,
              "#0d0887"
             ],
             [
              0.1111111111111111,
              "#46039f"
             ],
             [
              0.2222222222222222,
              "#7201a8"
             ],
             [
              0.3333333333333333,
              "#9c179e"
             ],
             [
              0.4444444444444444,
              "#bd3786"
             ],
             [
              0.5555555555555556,
              "#d8576b"
             ],
             [
              0.6666666666666666,
              "#ed7953"
             ],
             [
              0.7777777777777778,
              "#fb9f3a"
             ],
             [
              0.8888888888888888,
              "#fdca26"
             ],
             [
              1,
              "#f0f921"
             ]
            ],
            "type": "surface"
           }
          ],
          "table": [
           {
            "cells": {
             "fill": {
              "color": "#EBF0F8"
             },
             "line": {
              "color": "white"
             }
            },
            "header": {
             "fill": {
              "color": "#C8D4E3"
             },
             "line": {
              "color": "white"
             }
            },
            "type": "table"
           }
          ]
         },
         "layout": {
          "annotationdefaults": {
           "arrowcolor": "#2a3f5f",
           "arrowhead": 0,
           "arrowwidth": 1
          },
          "autotypenumbers": "strict",
          "coloraxis": {
           "colorbar": {
            "outlinewidth": 0,
            "ticks": ""
           }
          },
          "colorscale": {
           "diverging": [
            [
             0,
             "#8e0152"
            ],
            [
             0.1,
             "#c51b7d"
            ],
            [
             0.2,
             "#de77ae"
            ],
            [
             0.3,
             "#f1b6da"
            ],
            [
             0.4,
             "#fde0ef"
            ],
            [
             0.5,
             "#f7f7f7"
            ],
            [
             0.6,
             "#e6f5d0"
            ],
            [
             0.7,
             "#b8e186"
            ],
            [
             0.8,
             "#7fbc41"
            ],
            [
             0.9,
             "#4d9221"
            ],
            [
             1,
             "#276419"
            ]
           ],
           "sequential": [
            [
             0,
             "#0d0887"
            ],
            [
             0.1111111111111111,
             "#46039f"
            ],
            [
             0.2222222222222222,
             "#7201a8"
            ],
            [
             0.3333333333333333,
             "#9c179e"
            ],
            [
             0.4444444444444444,
             "#bd3786"
            ],
            [
             0.5555555555555556,
             "#d8576b"
            ],
            [
             0.6666666666666666,
             "#ed7953"
            ],
            [
             0.7777777777777778,
             "#fb9f3a"
            ],
            [
             0.8888888888888888,
             "#fdca26"
            ],
            [
             1,
             "#f0f921"
            ]
           ],
           "sequentialminus": [
            [
             0,
             "#0d0887"
            ],
            [
             0.1111111111111111,
             "#46039f"
            ],
            [
             0.2222222222222222,
             "#7201a8"
            ],
            [
             0.3333333333333333,
             "#9c179e"
            ],
            [
             0.4444444444444444,
             "#bd3786"
            ],
            [
             0.5555555555555556,
             "#d8576b"
            ],
            [
             0.6666666666666666,
             "#ed7953"
            ],
            [
             0.7777777777777778,
             "#fb9f3a"
            ],
            [
             0.8888888888888888,
             "#fdca26"
            ],
            [
             1,
             "#f0f921"
            ]
           ]
          },
          "colorway": [
           "#636efa",
           "#EF553B",
           "#00cc96",
           "#ab63fa",
           "#FFA15A",
           "#19d3f3",
           "#FF6692",
           "#B6E880",
           "#FF97FF",
           "#FECB52"
          ],
          "font": {
           "color": "#2a3f5f"
          },
          "geo": {
           "bgcolor": "white",
           "lakecolor": "white",
           "landcolor": "#E5ECF6",
           "showlakes": true,
           "showland": true,
           "subunitcolor": "white"
          },
          "hoverlabel": {
           "align": "left"
          },
          "hovermode": "closest",
          "mapbox": {
           "style": "light"
          },
          "paper_bgcolor": "white",
          "plot_bgcolor": "#E5ECF6",
          "polar": {
           "angularaxis": {
            "gridcolor": "white",
            "linecolor": "white",
            "ticks": ""
           },
           "bgcolor": "#E5ECF6",
           "radialaxis": {
            "gridcolor": "white",
            "linecolor": "white",
            "ticks": ""
           }
          },
          "scene": {
           "xaxis": {
            "backgroundcolor": "#E5ECF6",
            "gridcolor": "white",
            "gridwidth": 2,
            "linecolor": "white",
            "showbackground": true,
            "ticks": "",
            "zerolinecolor": "white"
           },
           "yaxis": {
            "backgroundcolor": "#E5ECF6",
            "gridcolor": "white",
            "gridwidth": 2,
            "linecolor": "white",
            "showbackground": true,
            "ticks": "",
            "zerolinecolor": "white"
           },
           "zaxis": {
            "backgroundcolor": "#E5ECF6",
            "gridcolor": "white",
            "gridwidth": 2,
            "linecolor": "white",
            "showbackground": true,
            "ticks": "",
            "zerolinecolor": "white"
           }
          },
          "shapedefaults": {
           "line": {
            "color": "#2a3f5f"
           }
          },
          "ternary": {
           "aaxis": {
            "gridcolor": "white",
            "linecolor": "white",
            "ticks": ""
           },
           "baxis": {
            "gridcolor": "white",
            "linecolor": "white",
            "ticks": ""
           },
           "bgcolor": "#E5ECF6",
           "caxis": {
            "gridcolor": "white",
            "linecolor": "white",
            "ticks": ""
           }
          },
          "title": {
           "x": 0.05
          },
          "xaxis": {
           "automargin": true,
           "gridcolor": "white",
           "linecolor": "white",
           "ticks": "",
           "title": {
            "standoff": 15
           },
           "zerolinecolor": "white",
           "zerolinewidth": 2
          },
          "yaxis": {
           "automargin": true,
           "gridcolor": "white",
           "linecolor": "white",
           "ticks": "",
           "title": {
            "standoff": 15
           },
           "zerolinecolor": "white",
           "zerolinewidth": 2
          }
         }
        },
        "xaxis": {
         "anchor": "y",
         "domain": [
          0,
          1
         ],
         "title": {
          "text": "Data Cadastro contrato"
         }
        },
        "yaxis": {
         "anchor": "x",
         "domain": [
          0,
          1
         ],
         "title": {
          "text": "count"
         }
        }
       }
      }
     },
     "metadata": {},
     "output_type": "display_data"
    },
    {
     "data": {
      "application/vnd.plotly.v1+json": {
       "config": {
        "plotlyServerURL": "https://plot.ly"
       },
       "data": [
        {
         "alignmentgroup": "True",
         "bingroup": "x",
         "hovertemplate": "Contrato ID=%{x}<br>count=%{y}<extra></extra>",
         "legendgroup": "",
         "marker": {
          "color": "#636efa",
          "pattern": {
           "shape": ""
          }
         },
         "name": "",
         "offsetgroup": "",
         "orientation": "v",
         "showlegend": false,
         "type": "histogram",
         "x": [
          6817,
          2623,
          4770,
          8643,
          6170,
          2725,
          7796,
          3287,
          470,
          5441,
          2652,
          7683,
          9413,
          7320,
          5764,
          2712,
          2724,
          4115,
          2039,
          7666,
          4278,
          2502,
          5244,
          9571,
          5529,
          5488,
          5875,
          180,
          6813,
          8677,
          9406,
          3139,
          8248,
          1740,
          9479,
          2230,
          6594,
          5910,
          9559,
          3726,
          2216,
          454,
          791,
          9567,
          4950,
          5637,
          8400,
          9163,
          7752,
          7783,
          4751,
          9186,
          8672,
          1713,
          6171,
          4732,
          3983,
          7298,
          9653,
          3410,
          8902,
          3360,
          6870,
          3167,
          2294,
          1065,
          6307,
          5259,
          7818,
          1181,
          4494,
          7176,
          6591,
          1538,
          6755,
          6787,
          1199,
          9423,
          4146,
          4708,
          5801,
          1424,
          2898,
          5559,
          811,
          1739,
          3889,
          1847,
          1809,
          4083,
          3329,
          5031,
          7371,
          3182,
          4975,
          4266,
          8712,
          3580,
          2033,
          7131,
          2760,
          5618,
          8011,
          8277,
          1792,
          8913,
          3053,
          8459,
          7228,
          6317,
          8453,
          7999,
          7266,
          9073,
          6098,
          9201,
          7255,
          6318,
          4457,
          6868,
          4644,
          9538,
          8559,
          5583,
          8801,
          3051,
          4903,
          3400,
          9054,
          4396,
          8581,
          2483,
          8196,
          6922,
          7560,
          9236,
          9544,
          7813,
          2212,
          413,
          3103,
          5394,
          4993,
          5629,
          3150,
          2749,
          9451,
          9196,
          2080,
          2357,
          9557,
          1890,
          5789,
          6604,
          5639,
          2767,
          3245,
          3387,
          7726,
          1007,
          5810,
          8409,
          9180,
          2261,
          8336,
          214,
          5798,
          5307,
          9113,
          5845,
          9260,
          4825,
          961,
          922,
          7238,
          5407,
          247,
          4738,
          3134,
          2289,
          632,
          8199,
          5079,
          5168,
          5561,
          3697,
          448,
          1112,
          8407,
          2038,
          4760,
          8396,
          5513,
          1810,
          126,
          9388,
          5264,
          5739,
          7867,
          9527,
          3126,
          2371,
          7027,
          8621,
          536,
          878,
          215,
          1762,
          6341,
          6611,
          5699,
          2236,
          8831,
          6128,
          5597,
          5321,
          4883,
          4902,
          9500,
          8202,
          2315,
          6881,
          8963,
          8363,
          1912,
          9607,
          8730,
          6777,
          6906,
          87,
          8007,
          2681,
          5172,
          3301,
          7950,
          3403,
          6816,
          5510,
          2169,
          277,
          2517,
          9543,
          8000,
          3876,
          1222,
          7770,
          9085,
          2548,
          812,
          4766,
          5015,
          2852,
          3029,
          9641,
          5472,
          8566,
          5043,
          8717,
          7267,
          5632,
          585,
          8178,
          5353,
          2211,
          8733,
          2834,
          7026,
          8989,
          7291,
          602,
          7578,
          4474,
          3756,
          5566,
          2572,
          3511,
          9142,
          2135,
          652,
          2066,
          509,
          4366,
          2374,
          8123,
          8022,
          5941,
          6675,
          7730,
          6371,
          276,
          3285,
          8291,
          4775,
          9219,
          8028,
          7239,
          7736,
          9143,
          2461,
          2296,
          6990,
          7418,
          8972,
          5652,
          495,
          7594,
          4840,
          8300,
          1240,
          1106,
          7413,
          8514,
          5020,
          9132,
          5623,
          8603,
          6151,
          3466,
          1531,
          5746,
          4879,
          6191,
          8487,
          4764,
          2969,
          9442,
          9221,
          5194,
          2646,
          7765,
          459,
          4629,
          4490,
          4992,
          9041,
          8932,
          3142,
          8360,
          3518,
          6159,
          565,
          9614,
          8191,
          7032,
          1744,
          984,
          6165,
          8814,
          1204,
          6153,
          4822,
          1838,
          89,
          5459,
          4767,
          3635,
          7080,
          3859,
          3122,
          3496,
          8860,
          7826,
          8021,
          8377,
          3581,
          8614,
          3869,
          9150,
          5223,
          3086,
          2764,
          9348,
          1183,
          4301,
          185,
          9600,
          7163,
          1262,
          5665,
          8552,
          8398,
          5382,
          868,
          4385,
          5225,
          4876,
          5808,
          7949,
          3782,
          9191,
          1156,
          9536,
          999,
          5421,
          3407,
          3502,
          9593,
          3079,
          5370,
          4877,
          5308,
          6599,
          6980,
          1586,
          7839,
          5837,
          8147,
          8464,
          8861,
          8266,
          1867,
          9190,
          3025,
          3954,
          6779,
          1863,
          5288,
          9293,
          4375,
          8298,
          8537,
          8326,
          1136,
          4757,
          2277,
          6391,
          3651,
          5972,
          2989,
          42,
          8859,
          8159,
          9604,
          9574,
          9207,
          3293,
          6757,
          4224,
          3423,
          7167,
          6935,
          7500,
          4124,
          1380,
          6592,
          2247,
          7701,
          7944,
          7788,
          3521,
          6792,
          5786,
          5769,
          8589,
          7768,
          3173,
          1149,
          7061,
          3755,
          7469,
          7627,
          6022,
          3266,
          3900,
          9390,
          1127,
          9428,
          7751,
          4166,
          3123,
          3343,
          8122,
          294,
          8470,
          8953,
          8731,
          8983,
          8749,
          6297,
          8698,
          7678,
          8200,
          1071,
          4698,
          5711,
          5158,
          6821,
          9253,
          7664,
          4419,
          8568,
          3001,
          7947,
          6856,
          4856,
          8089,
          6400,
          216,
          7816,
          8686,
          5791,
          1868,
          389,
          9229,
          9310,
          4271,
          8012,
          5578,
          885,
          5167,
          336,
          5982,
          3997,
          263,
          5734,
          9176,
          8753,
          1502,
          3688,
          7974,
          7575,
          7019,
          4823,
          2171,
          120,
          7720,
          742,
          8781,
          8743,
          4479,
          4406,
          4969,
          2896,
          3336,
          4130,
          5212,
          743,
          3144,
          4844,
          9379,
          4213,
          4553,
          5537,
          311,
          2299,
          1375,
          7717,
          8051,
          4022,
          8404,
          2957,
          7938,
          5203,
          4943,
          187,
          4074,
          815,
          8431,
          3504,
          2282,
          9309,
          2353,
          1820,
          8334,
          8906,
          7515,
          7741,
          8210,
          7558,
          5657,
          5849,
          7192,
          9619,
          4645,
          6511,
          9545,
          7394,
          2907,
          8803,
          7503,
          7863,
          5187,
          6962,
          4583,
          5315,
          8988,
          7533,
          3314,
          8061,
          5731,
          1886,
          5335,
          3582,
          5996,
          8422,
          8818,
          6543,
          2366,
          7693,
          8832,
          4787,
          7670,
          8454,
          8600,
          5825,
          4428,
          3239,
          5525,
          7379,
          8964,
          192,
          9237,
          6225,
          9212,
          9197,
          9621,
          3181,
          1884,
          5821,
          9437,
          8616,
          4873,
          5403,
          363,
          6823,
          6141,
          5530,
          7377,
          8226,
          8290,
          2722,
          5285,
          5165,
          2793,
          9294,
          7440,
          7172,
          5388,
          8910,
          8847,
          7268,
          7681,
          7342,
          8654,
          869,
          8808,
          3222,
          6804,
          3415,
          7164,
          8921,
          7501,
          4688,
          5532,
          3848,
          9632,
          5760,
          2909,
          400,
          8055,
          7033,
          9042,
          8747,
          2854,
          9637,
          9026,
          9097,
          7952,
          4768,
          2186,
          8074,
          7811,
          8714,
          7327,
          5449,
          8175,
          3774,
          9506,
          1114,
          8878,
          5727,
          5456,
          9264,
          9053,
          5830,
          4530,
          4802,
          8450,
          5526,
          6647,
          9361,
          5512,
          732,
          3226,
          5481,
          3281,
          9526,
          5747,
          9262,
          6053,
          7039,
          3005,
          5439,
          8052,
          7713,
          349,
          7929,
          504,
          5193,
          5457,
          9064,
          131,
          8898,
          7357,
          5149,
          6862,
          4333,
          6788,
          7262,
          8933,
          2974,
          9444,
          7948,
          9233,
          2881,
          4914,
          8014,
          9490,
          8499,
          3508,
          9565,
          8868,
          3944,
          1150,
          5792,
          5678,
          391,
          8408,
          5430,
          9140,
          6049,
          3800,
          5499,
          4247,
          388,
          2258,
          8664,
          8314,
          3542,
          5604,
          2518,
          5613,
          9624,
          4564,
          4756,
          6678,
          5806,
          2682,
          8928,
          9462,
          8790,
          2275,
          6470,
          6627,
          2202,
          6618,
          5445,
          9065,
          5660,
          4257,
          3334,
          8536,
          4748,
          9478,
          7674,
          2516,
          3043,
          4742,
          4945,
          8607,
          9282,
          9499,
          7764,
          6440,
          8457,
          9342,
          7757,
          5771,
          4673,
          7448,
          7191,
          3248,
          6445,
          5902,
          3834,
          3093,
          5458,
          8476,
          6262,
          1981,
          528,
          3351,
          6609,
          4813,
          8279,
          9181,
          521,
          8690,
          9625,
          8991,
          9291,
          9578,
          9476,
          8719,
          9040,
          9503,
          7748,
          8523,
          8864,
          7802,
          7302,
          6720,
          8675,
          7991,
          3675,
          2529,
          2493,
          8865,
          1807,
          3286,
          9512,
          8444,
          9252,
          2521,
          6839,
          9043,
          9457,
          3827,
          786,
          9591,
          7241,
          9166,
          1517,
          189,
          9045,
          8446,
          9185,
          7484,
          8505,
          4811,
          5279,
          147,
          4587,
          7547,
          111,
          28,
          4559,
          6275,
          3363,
          5794,
          3179,
          9356,
          2928,
          2352,
          8356,
          8612,
          4316,
          261,
          5000,
          5721,
          5316,
          108,
          5169,
          4736,
          5710,
          881,
          6603,
          8316,
          2587,
          8819,
          7740,
          4754,
          883,
          3798,
          4727,
          8655,
          7636,
          1693,
          6742,
          6745,
          2778,
          4891,
          2231,
          3446,
          5723,
          4384,
          3151,
          4255,
          3712,
          4669,
          5634,
          7321,
          8914,
          9367,
          7462,
          5738,
          8807,
          8340,
          475,
          5852,
          7909,
          4206,
          8234,
          5389,
          5069,
          5242,
          4989,
          1865,
          4576
         ],
         "xaxis": "x",
         "yaxis": "y"
        }
       ],
       "layout": {
        "barmode": "relative",
        "legend": {
         "tracegroupgap": 0
        },
        "margin": {
         "t": 60
        },
        "template": {
         "data": {
          "bar": [
           {
            "error_x": {
             "color": "#2a3f5f"
            },
            "error_y": {
             "color": "#2a3f5f"
            },
            "marker": {
             "line": {
              "color": "#E5ECF6",
              "width": 0.5
             },
             "pattern": {
              "fillmode": "overlay",
              "size": 10,
              "solidity": 0.2
             }
            },
            "type": "bar"
           }
          ],
          "barpolar": [
           {
            "marker": {
             "line": {
              "color": "#E5ECF6",
              "width": 0.5
             },
             "pattern": {
              "fillmode": "overlay",
              "size": 10,
              "solidity": 0.2
             }
            },
            "type": "barpolar"
           }
          ],
          "carpet": [
           {
            "aaxis": {
             "endlinecolor": "#2a3f5f",
             "gridcolor": "white",
             "linecolor": "white",
             "minorgridcolor": "white",
             "startlinecolor": "#2a3f5f"
            },
            "baxis": {
             "endlinecolor": "#2a3f5f",
             "gridcolor": "white",
             "linecolor": "white",
             "minorgridcolor": "white",
             "startlinecolor": "#2a3f5f"
            },
            "type": "carpet"
           }
          ],
          "choropleth": [
           {
            "colorbar": {
             "outlinewidth": 0,
             "ticks": ""
            },
            "type": "choropleth"
           }
          ],
          "contour": [
           {
            "colorbar": {
             "outlinewidth": 0,
             "ticks": ""
            },
            "colorscale": [
             [
              0,
              "#0d0887"
             ],
             [
              0.1111111111111111,
              "#46039f"
             ],
             [
              0.2222222222222222,
              "#7201a8"
             ],
             [
              0.3333333333333333,
              "#9c179e"
             ],
             [
              0.4444444444444444,
              "#bd3786"
             ],
             [
              0.5555555555555556,
              "#d8576b"
             ],
             [
              0.6666666666666666,
              "#ed7953"
             ],
             [
              0.7777777777777778,
              "#fb9f3a"
             ],
             [
              0.8888888888888888,
              "#fdca26"
             ],
             [
              1,
              "#f0f921"
             ]
            ],
            "type": "contour"
           }
          ],
          "contourcarpet": [
           {
            "colorbar": {
             "outlinewidth": 0,
             "ticks": ""
            },
            "type": "contourcarpet"
           }
          ],
          "heatmap": [
           {
            "colorbar": {
             "outlinewidth": 0,
             "ticks": ""
            },
            "colorscale": [
             [
              0,
              "#0d0887"
             ],
             [
              0.1111111111111111,
              "#46039f"
             ],
             [
              0.2222222222222222,
              "#7201a8"
             ],
             [
              0.3333333333333333,
              "#9c179e"
             ],
             [
              0.4444444444444444,
              "#bd3786"
             ],
             [
              0.5555555555555556,
              "#d8576b"
             ],
             [
              0.6666666666666666,
              "#ed7953"
             ],
             [
              0.7777777777777778,
              "#fb9f3a"
             ],
             [
              0.8888888888888888,
              "#fdca26"
             ],
             [
              1,
              "#f0f921"
             ]
            ],
            "type": "heatmap"
           }
          ],
          "heatmapgl": [
           {
            "colorbar": {
             "outlinewidth": 0,
             "ticks": ""
            },
            "colorscale": [
             [
              0,
              "#0d0887"
             ],
             [
              0.1111111111111111,
              "#46039f"
             ],
             [
              0.2222222222222222,
              "#7201a8"
             ],
             [
              0.3333333333333333,
              "#9c179e"
             ],
             [
              0.4444444444444444,
              "#bd3786"
             ],
             [
              0.5555555555555556,
              "#d8576b"
             ],
             [
              0.6666666666666666,
              "#ed7953"
             ],
             [
              0.7777777777777778,
              "#fb9f3a"
             ],
             [
              0.8888888888888888,
              "#fdca26"
             ],
             [
              1,
              "#f0f921"
             ]
            ],
            "type": "heatmapgl"
           }
          ],
          "histogram": [
           {
            "marker": {
             "pattern": {
              "fillmode": "overlay",
              "size": 10,
              "solidity": 0.2
             }
            },
            "type": "histogram"
           }
          ],
          "histogram2d": [
           {
            "colorbar": {
             "outlinewidth": 0,
             "ticks": ""
            },
            "colorscale": [
             [
              0,
              "#0d0887"
             ],
             [
              0.1111111111111111,
              "#46039f"
             ],
             [
              0.2222222222222222,
              "#7201a8"
             ],
             [
              0.3333333333333333,
              "#9c179e"
             ],
             [
              0.4444444444444444,
              "#bd3786"
             ],
             [
              0.5555555555555556,
              "#d8576b"
             ],
             [
              0.6666666666666666,
              "#ed7953"
             ],
             [
              0.7777777777777778,
              "#fb9f3a"
             ],
             [
              0.8888888888888888,
              "#fdca26"
             ],
             [
              1,
              "#f0f921"
             ]
            ],
            "type": "histogram2d"
           }
          ],
          "histogram2dcontour": [
           {
            "colorbar": {
             "outlinewidth": 0,
             "ticks": ""
            },
            "colorscale": [
             [
              0,
              "#0d0887"
             ],
             [
              0.1111111111111111,
              "#46039f"
             ],
             [
              0.2222222222222222,
              "#7201a8"
             ],
             [
              0.3333333333333333,
              "#9c179e"
             ],
             [
              0.4444444444444444,
              "#bd3786"
             ],
             [
              0.5555555555555556,
              "#d8576b"
             ],
             [
              0.6666666666666666,
              "#ed7953"
             ],
             [
              0.7777777777777778,
              "#fb9f3a"
             ],
             [
              0.8888888888888888,
              "#fdca26"
             ],
             [
              1,
              "#f0f921"
             ]
            ],
            "type": "histogram2dcontour"
           }
          ],
          "mesh3d": [
           {
            "colorbar": {
             "outlinewidth": 0,
             "ticks": ""
            },
            "type": "mesh3d"
           }
          ],
          "parcoords": [
           {
            "line": {
             "colorbar": {
              "outlinewidth": 0,
              "ticks": ""
             }
            },
            "type": "parcoords"
           }
          ],
          "pie": [
           {
            "automargin": true,
            "type": "pie"
           }
          ],
          "scatter": [
           {
            "fillpattern": {
             "fillmode": "overlay",
             "size": 10,
             "solidity": 0.2
            },
            "type": "scatter"
           }
          ],
          "scatter3d": [
           {
            "line": {
             "colorbar": {
              "outlinewidth": 0,
              "ticks": ""
             }
            },
            "marker": {
             "colorbar": {
              "outlinewidth": 0,
              "ticks": ""
             }
            },
            "type": "scatter3d"
           }
          ],
          "scattercarpet": [
           {
            "marker": {
             "colorbar": {
              "outlinewidth": 0,
              "ticks": ""
             }
            },
            "type": "scattercarpet"
           }
          ],
          "scattergeo": [
           {
            "marker": {
             "colorbar": {
              "outlinewidth": 0,
              "ticks": ""
             }
            },
            "type": "scattergeo"
           }
          ],
          "scattergl": [
           {
            "marker": {
             "colorbar": {
              "outlinewidth": 0,
              "ticks": ""
             }
            },
            "type": "scattergl"
           }
          ],
          "scattermapbox": [
           {
            "marker": {
             "colorbar": {
              "outlinewidth": 0,
              "ticks": ""
             }
            },
            "type": "scattermapbox"
           }
          ],
          "scatterpolar": [
           {
            "marker": {
             "colorbar": {
              "outlinewidth": 0,
              "ticks": ""
             }
            },
            "type": "scatterpolar"
           }
          ],
          "scatterpolargl": [
           {
            "marker": {
             "colorbar": {
              "outlinewidth": 0,
              "ticks": ""
             }
            },
            "type": "scatterpolargl"
           }
          ],
          "scatterternary": [
           {
            "marker": {
             "colorbar": {
              "outlinewidth": 0,
              "ticks": ""
             }
            },
            "type": "scatterternary"
           }
          ],
          "surface": [
           {
            "colorbar": {
             "outlinewidth": 0,
             "ticks": ""
            },
            "colorscale": [
             [
              0,
              "#0d0887"
             ],
             [
              0.1111111111111111,
              "#46039f"
             ],
             [
              0.2222222222222222,
              "#7201a8"
             ],
             [
              0.3333333333333333,
              "#9c179e"
             ],
             [
              0.4444444444444444,
              "#bd3786"
             ],
             [
              0.5555555555555556,
              "#d8576b"
             ],
             [
              0.6666666666666666,
              "#ed7953"
             ],
             [
              0.7777777777777778,
              "#fb9f3a"
             ],
             [
              0.8888888888888888,
              "#fdca26"
             ],
             [
              1,
              "#f0f921"
             ]
            ],
            "type": "surface"
           }
          ],
          "table": [
           {
            "cells": {
             "fill": {
              "color": "#EBF0F8"
             },
             "line": {
              "color": "white"
             }
            },
            "header": {
             "fill": {
              "color": "#C8D4E3"
             },
             "line": {
              "color": "white"
             }
            },
            "type": "table"
           }
          ]
         },
         "layout": {
          "annotationdefaults": {
           "arrowcolor": "#2a3f5f",
           "arrowhead": 0,
           "arrowwidth": 1
          },
          "autotypenumbers": "strict",
          "coloraxis": {
           "colorbar": {
            "outlinewidth": 0,
            "ticks": ""
           }
          },
          "colorscale": {
           "diverging": [
            [
             0,
             "#8e0152"
            ],
            [
             0.1,
             "#c51b7d"
            ],
            [
             0.2,
             "#de77ae"
            ],
            [
             0.3,
             "#f1b6da"
            ],
            [
             0.4,
             "#fde0ef"
            ],
            [
             0.5,
             "#f7f7f7"
            ],
            [
             0.6,
             "#e6f5d0"
            ],
            [
             0.7,
             "#b8e186"
            ],
            [
             0.8,
             "#7fbc41"
            ],
            [
             0.9,
             "#4d9221"
            ],
            [
             1,
             "#276419"
            ]
           ],
           "sequential": [
            [
             0,
             "#0d0887"
            ],
            [
             0.1111111111111111,
             "#46039f"
            ],
            [
             0.2222222222222222,
             "#7201a8"
            ],
            [
             0.3333333333333333,
             "#9c179e"
            ],
            [
             0.4444444444444444,
             "#bd3786"
            ],
            [
             0.5555555555555556,
             "#d8576b"
            ],
            [
             0.6666666666666666,
             "#ed7953"
            ],
            [
             0.7777777777777778,
             "#fb9f3a"
            ],
            [
             0.8888888888888888,
             "#fdca26"
            ],
            [
             1,
             "#f0f921"
            ]
           ],
           "sequentialminus": [
            [
             0,
             "#0d0887"
            ],
            [
             0.1111111111111111,
             "#46039f"
            ],
            [
             0.2222222222222222,
             "#7201a8"
            ],
            [
             0.3333333333333333,
             "#9c179e"
            ],
            [
             0.4444444444444444,
             "#bd3786"
            ],
            [
             0.5555555555555556,
             "#d8576b"
            ],
            [
             0.6666666666666666,
             "#ed7953"
            ],
            [
             0.7777777777777778,
             "#fb9f3a"
            ],
            [
             0.8888888888888888,
             "#fdca26"
            ],
            [
             1,
             "#f0f921"
            ]
           ]
          },
          "colorway": [
           "#636efa",
           "#EF553B",
           "#00cc96",
           "#ab63fa",
           "#FFA15A",
           "#19d3f3",
           "#FF6692",
           "#B6E880",
           "#FF97FF",
           "#FECB52"
          ],
          "font": {
           "color": "#2a3f5f"
          },
          "geo": {
           "bgcolor": "white",
           "lakecolor": "white",
           "landcolor": "#E5ECF6",
           "showlakes": true,
           "showland": true,
           "subunitcolor": "white"
          },
          "hoverlabel": {
           "align": "left"
          },
          "hovermode": "closest",
          "mapbox": {
           "style": "light"
          },
          "paper_bgcolor": "white",
          "plot_bgcolor": "#E5ECF6",
          "polar": {
           "angularaxis": {
            "gridcolor": "white",
            "linecolor": "white",
            "ticks": ""
           },
           "bgcolor": "#E5ECF6",
           "radialaxis": {
            "gridcolor": "white",
            "linecolor": "white",
            "ticks": ""
           }
          },
          "scene": {
           "xaxis": {
            "backgroundcolor": "#E5ECF6",
            "gridcolor": "white",
            "gridwidth": 2,
            "linecolor": "white",
            "showbackground": true,
            "ticks": "",
            "zerolinecolor": "white"
           },
           "yaxis": {
            "backgroundcolor": "#E5ECF6",
            "gridcolor": "white",
            "gridwidth": 2,
            "linecolor": "white",
            "showbackground": true,
            "ticks": "",
            "zerolinecolor": "white"
           },
           "zaxis": {
            "backgroundcolor": "#E5ECF6",
            "gridcolor": "white",
            "gridwidth": 2,
            "linecolor": "white",
            "showbackground": true,
            "ticks": "",
            "zerolinecolor": "white"
           }
          },
          "shapedefaults": {
           "line": {
            "color": "#2a3f5f"
           }
          },
          "ternary": {
           "aaxis": {
            "gridcolor": "white",
            "linecolor": "white",
            "ticks": ""
           },
           "baxis": {
            "gridcolor": "white",
            "linecolor": "white",
            "ticks": ""
           },
           "bgcolor": "#E5ECF6",
           "caxis": {
            "gridcolor": "white",
            "linecolor": "white",
            "ticks": ""
           }
          },
          "title": {
           "x": 0.05
          },
          "xaxis": {
           "automargin": true,
           "gridcolor": "white",
           "linecolor": "white",
           "ticks": "",
           "title": {
            "standoff": 15
           },
           "zerolinecolor": "white",
           "zerolinewidth": 2
          },
          "yaxis": {
           "automargin": true,
           "gridcolor": "white",
           "linecolor": "white",
           "ticks": "",
           "title": {
            "standoff": 15
           },
           "zerolinecolor": "white",
           "zerolinewidth": 2
          }
         }
        },
        "xaxis": {
         "anchor": "y",
         "domain": [
          0,
          1
         ],
         "title": {
          "text": "Contrato ID"
         }
        },
        "yaxis": {
         "anchor": "x",
         "domain": [
          0,
          1
         ],
         "title": {
          "text": "count"
         }
        }
       }
      }
     },
     "metadata": {},
     "output_type": "display_data"
    },
    {
     "data": {
      "application/vnd.plotly.v1+json": {
       "config": {
        "plotlyServerURL": "https://plot.ly"
       },
       "data": [
        {
         "alignmentgroup": "True",
         "bingroup": "x",
         "hovertemplate": "POP=%{x}<br>count=%{y}<extra></extra>",
         "legendgroup": "",
         "marker": {
          "color": "#636efa",
          "pattern": {
           "shape": ""
          }
         },
         "name": "",
         "offsetgroup": "",
         "orientation": "v",
         "showlegend": false,
         "type": "histogram",
         "x": [
          "FILIAL - 3-RJ",
          "FILIAL 1 E 2-RJ",
          "FILIAL 1 E 2-RJ",
          "FILIAL 1 E 2-RJ",
          "FILIAL - 3-RJ",
          "FILIAL 1 E 2-RJ",
          "FILIAL - 3-RJ",
          "FILIAL 1 E 2-RJ",
          "FILIAL 1 E 2-RJ",
          "FILIAL 1 E 2-RJ",
          "FILIAL 1 E 2-RJ",
          "FILIAL - 3-RJ",
          "FILIAL 1 E 2-RJ",
          "FILIAL - 3-RJ",
          "FILIAL 1 E 2-RJ",
          "FILIAL 1 E 2-RJ",
          "FILIAL 1 E 2-RJ",
          "FILIAL 1 E 2-RJ",
          "FILIAL 1 E 2-RJ",
          "FILIAL - 3-RJ",
          "FILIAL 1 E 2-RJ",
          "FILIAL 1 E 2-RJ",
          "FILIAL 1 E 2-RJ",
          "FILIAL 1 E 2-RJ",
          "FILIAL 1 E 2-RJ",
          "FILIAL 1 E 2-RJ",
          "FILIAL - 3-RJ",
          "FILIAL 1 E 2-RJ",
          "FILIAL - 3-RJ",
          "FILIAL 1 E 2-RJ",
          "FILIAL 1 E 2-RJ",
          "FILIAL 1 E 2-RJ",
          "FILIAL - 3-RJ",
          "FILIAL 1 E 2-RJ",
          "FILIAL - 3-RJ",
          "FILIAL 1 E 2-RJ",
          "FILIAL - 3-RJ",
          "FILIAL - 3-RJ",
          "FILIAL 1 E 2-RJ",
          "FILIAL 1 E 2-RJ",
          "FILIAL 1 E 2-RJ",
          "FILIAL 1 E 2-RJ",
          "FILIAL 1 E 2-RJ",
          "FILIAL - 3-RJ",
          "FILIAL 1 E 2-RJ",
          "FILIAL - 3-RJ",
          "FILIAL 1 E 2-RJ",
          "FILIAL - 3-RJ",
          "FILIAL - 3-RJ",
          "FILIAL - 3-RJ",
          "FILIAL 1 E 2-RJ",
          "FILIAL - 3-RJ",
          "FILIAL - 3-RJ",
          "FILIAL 1 E 2-RJ",
          "FILIAL - 3-RJ",
          "FILIAL 1 E 2-RJ",
          "FILIAL 1 E 2-RJ",
          "FILIAL - 3-RJ",
          "FILIAL 1 E 2-RJ",
          "FILIAL 1 E 2-RJ",
          "FILIAL 1 E 2-RJ",
          "FILIAL 1 E 2-RJ",
          "FILIAL - 3-RJ",
          "FILIAL 1 E 2-RJ",
          "FILIAL 1 E 2-RJ",
          "FILIAL 1 E 2-RJ",
          "FILIAL - 3-RJ",
          "FILIAL 1 E 2-RJ",
          "FILIAL - 3-RJ",
          "FILIAL 1 E 2-RJ",
          "FILIAL 1 E 2-RJ",
          "FILIAL - 3-RJ",
          "FILIAL - 3-RJ",
          "FILIAL 1 E 2-RJ",
          "FILIAL - 3-RJ",
          "FILIAL - 3-RJ",
          "FILIAL 1 E 2-RJ",
          "FILIAL 1 E 2-RJ",
          "FILIAL 1 E 2-RJ",
          "FILIAL 1 E 2-RJ",
          "FILIAL 1 E 2-RJ",
          "FILIAL 1 E 2-RJ",
          "FILIAL 1 E 2-RJ",
          "FILIAL 1 E 2-RJ",
          "FILIAL 1 E 2-RJ",
          "FILIAL 1 E 2-RJ",
          "FILIAL 1 E 2-RJ",
          "FILIAL 1 E 2-RJ",
          "FILIAL 1 E 2-RJ",
          "FILIAL 1 E 2-RJ",
          "FILIAL 1 E 2-RJ",
          "FILIAL 1 E 2-RJ",
          "FILIAL - 3-RJ",
          "FILIAL 1 E 2-RJ",
          "FILIAL 1 E 2-RJ",
          "FILIAL 1 E 2-RJ",
          "FILIAL 1 E 2-RJ",
          "FILIAL 1 E 2-RJ",
          "FILIAL 1 E 2-RJ",
          "FILIAL - 3-RJ",
          "FILIAL 1 E 2-RJ",
          "FILIAL 1 E 2-RJ",
          "FILIAL - 3-RJ",
          "FILIAL 1 E 2-RJ",
          "FILIAL 1 E 2-RJ",
          "FILIAL 1 E 2-RJ",
          "FILIAL 1 E 2-RJ",
          "FILIAL 1 E 2-RJ",
          "FILIAL - 3-RJ",
          "FILIAL - 3-RJ",
          "FILIAL - 3-RJ",
          "FILIAL - 3-RJ",
          "FILIAL - 3-RJ",
          "FILIAL 1 E 2-RJ",
          "FILIAL - 3-RJ",
          "FILIAL 1 E 2-RJ",
          "FILIAL - 3-RJ",
          "FILIAL - 3-RJ",
          "FILIAL 1 E 2-RJ",
          "FILIAL - 3-RJ",
          "FILIAL 1 E 2-RJ",
          "FILIAL 1 E 2-RJ",
          "FILIAL 1 E 2-RJ",
          "FILIAL 1 E 2-RJ",
          "FILIAL - 3-RJ",
          "FILIAL 1 E 2-RJ",
          "FILIAL 1 E 2-RJ",
          "FILIAL 1 E 2-RJ",
          "FILIAL 1 E 2-RJ",
          "FILIAL 1 E 2-RJ",
          "FILIAL - 3-RJ",
          "FILIAL 1 E 2-RJ",
          "FILIAL - 3-RJ",
          "FILIAL - 3-RJ",
          "FILIAL - 3-RJ",
          "FILIAL 1 E 2-RJ",
          "FILIAL 1 E 2-RJ",
          "FILIAL - 3-RJ",
          "FILIAL 1 E 2-RJ",
          "FILIAL 1 E 2-RJ",
          "FILIAL 1 E 2-RJ",
          "FILIAL - 3-RJ",
          "FILIAL 1 E 2-RJ",
          "FILIAL 1 E 2-RJ",
          "FILIAL 1 E 2-RJ",
          "FILIAL 1 E 2-RJ",
          "FILIAL 1 E 2-RJ",
          "FILIAL 1 E 2-RJ",
          "FILIAL 1 E 2-RJ",
          "FILIAL 1 E 2-RJ",
          "FILIAL - 3-RJ",
          "FILIAL 1 E 2-RJ",
          "FILIAL 1 E 2-RJ",
          "FILIAL - 3-RJ",
          "FILIAL 1 E 2-RJ",
          "FILIAL 1 E 2-RJ",
          "FILIAL 1 E 2-RJ",
          "FILIAL 1 E 2-RJ",
          "FILIAL - 3-RJ",
          "FILIAL 1 E 2-RJ",
          "FILIAL 1 E 2-RJ",
          "FILIAL - 3-RJ",
          "FILIAL - 3-RJ",
          "FILIAL 1 E 2-RJ",
          "FILIAL - 3-RJ",
          "FILIAL 1 E 2-RJ",
          "FILIAL 1 E 2-RJ",
          "FILIAL 1 E 2-RJ",
          "FILIAL 1 E 2-RJ",
          "FILIAL 1 E 2-RJ",
          "FILIAL 1 E 2-RJ",
          "FILIAL 1 E 2-RJ",
          "FILIAL 1 E 2-RJ",
          "FILIAL 1 E 2-RJ",
          "FILIAL - 3-RJ",
          "FILIAL 1 E 2-RJ",
          "FILIAL 1 E 2-RJ",
          "FILIAL - 3-RJ",
          "FILIAL 1 E 2-RJ",
          "FILIAL 1 E 2-RJ",
          "FILIAL 1 E 2-RJ",
          "FILIAL - 3-RJ",
          "FILIAL 1 E 2-RJ",
          "FILIAL 1 E 2-RJ",
          "FILIAL 1 E 2-RJ",
          "FILIAL 1 E 2-RJ",
          "FILIAL 1 E 2-RJ",
          "FILIAL 1 E 2-RJ",
          "FILIAL - 3-RJ",
          "FILIAL 1 E 2-RJ",
          "FILIAL 1 E 2-RJ",
          "FILIAL - 3-RJ",
          "FILIAL 1 E 2-RJ",
          "FILIAL 1 E 2-RJ",
          "FILIAL 1 E 2-RJ",
          "FILIAL 1 E 2-RJ",
          "FILIAL 1 E 2-RJ",
          "FILIAL 1 E 2-RJ",
          "FILIAL - 3-RJ",
          "FILIAL 1 E 2-RJ",
          "FILIAL 1 E 2-RJ",
          "FILIAL 1 E 2-RJ",
          "FILIAL - 3-RJ",
          "FILIAL 1 E 2-RJ",
          "FILIAL 1 E 2-RJ",
          "FILIAL 1 E 2-RJ",
          "FILIAL 1 E 2-RJ",
          "FILIAL 1 E 2-RJ",
          "FILIAL - 3-RJ",
          "FILIAL - 3-RJ",
          "FILIAL 1 E 2-RJ",
          "FILIAL 1 E 2-RJ",
          "FILIAL 1 E 2-RJ",
          "FILIAL - 3-RJ",
          "FILIAL 1 E 2-RJ",
          "FILIAL 1 E 2-RJ",
          "FILIAL 1 E 2-RJ",
          "FILIAL 1 E 2-RJ",
          "FILIAL 1 E 2-RJ",
          "FILIAL - 3-RJ",
          "FILIAL 1 E 2-RJ",
          "FILIAL - 3-RJ",
          "FILIAL - 3-RJ",
          "FILIAL - 3-RJ",
          "FILIAL 1 E 2-RJ",
          "FILIAL 1 E 2-RJ",
          "FILIAL - 3-RJ",
          "FILIAL - 3-RJ",
          "FILIAL - 3-RJ",
          "FILIAL 1 E 2-RJ",
          "FILIAL - 3-RJ",
          "FILIAL 1 E 2-RJ",
          "FILIAL 1 E 2-RJ",
          "FILIAL 1 E 2-RJ",
          "FILIAL - 3-RJ",
          "FILIAL 1 E 2-RJ",
          "FILIAL - 3-RJ",
          "FILIAL 1 E 2-RJ",
          "FILIAL 1 E 2-RJ",
          "FILIAL 1 E 2-RJ",
          "FILIAL 1 E 2-RJ",
          "FILIAL 1 E 2-RJ",
          "FILIAL - 3-RJ",
          "FILIAL 1 E 2-RJ",
          "FILIAL 1 E 2-RJ",
          "FILIAL - 3-RJ",
          "FILIAL - 3-RJ",
          "FILIAL 1 E 2-RJ",
          "FILIAL 1 E 2-RJ",
          "FILIAL 1 E 2-RJ",
          "FILIAL 1 E 2-RJ",
          "FILIAL 1 E 2-RJ",
          "FILIAL 1 E 2-RJ",
          "FILIAL 1 E 2-RJ",
          "FILIAL 1 E 2-RJ",
          "FILIAL 1 E 2-RJ",
          "FILIAL - 3-RJ",
          "FILIAL 1 E 2-RJ",
          "FILIAL - 3-RJ",
          "FILIAL 1 E 2-RJ",
          "FILIAL 1 E 2-RJ",
          "FILIAL - 3-RJ",
          "FILIAL 1 E 2-RJ",
          "FILIAL 1 E 2-RJ",
          "FILIAL 1 E 2-RJ",
          "FILIAL 1 E 2-RJ",
          "FILIAL - 3-RJ",
          "FILIAL 1 E 2-RJ",
          "FILIAL - 3-RJ",
          "FILIAL 1 E 2-RJ",
          "FILIAL - 3-RJ",
          "FILIAL 1 E 2-RJ",
          "FILIAL 1 E 2-RJ",
          "FILIAL 1 E 2-RJ",
          "FILIAL 1 E 2-RJ",
          "FILIAL 1 E 2-RJ",
          "FILIAL 1 E 2-RJ",
          "FILIAL 1 E 2-RJ",
          "FILIAL 1 E 2-RJ",
          "FILIAL 1 E 2-RJ",
          "FILIAL 1 E 2-RJ",
          "FILIAL 1 E 2-RJ",
          "FILIAL 1 E 2-RJ",
          "FILIAL - 3-RJ",
          "FILIAL - 3-RJ",
          "FILIAL - 3-RJ",
          "FILIAL - 3-RJ",
          "FILIAL 1 E 2-RJ",
          "FILIAL - 3-RJ",
          "FILIAL 1 E 2-RJ",
          "FILIAL 1 E 2-RJ",
          "FILIAL - 3-RJ",
          "FILIAL 1 E 2-RJ",
          "FILIAL - 3-RJ",
          "FILIAL - 3-RJ",
          "FILIAL - 3-RJ",
          "FILIAL - 3-RJ",
          "FILIAL 1 E 2-RJ",
          "FILIAL 1 E 2-RJ",
          "FILIAL 1 E 2-RJ",
          "FILIAL - 3-RJ",
          "FILIAL - 3-RJ",
          "FILIAL 1 E 2-RJ",
          "FILIAL 1 E 2-RJ",
          "FILIAL 1 E 2-RJ",
          "FILIAL - 3-RJ",
          "FILIAL 1 E 2-RJ",
          "FILIAL - 3-RJ",
          "FILIAL 1 E 2-RJ",
          "FILIAL 1 E 2-RJ",
          "FILIAL - 3-RJ",
          "FILIAL - 3-RJ",
          "FILIAL 1 E 2-RJ",
          "FILIAL - 3-RJ",
          "FILIAL 1 E 2-RJ",
          "FILIAL 1 E 2-RJ",
          "FILIAL - 3-RJ",
          "FILIAL 1 E 2-RJ",
          "FILIAL 1 E 2-RJ",
          "FILIAL 1 E 2-RJ",
          "FILIAL 1 E 2-RJ",
          "FILIAL - 3-RJ",
          "FILIAL 1 E 2-RJ",
          "FILIAL 1 E 2-RJ",
          "FILIAL 1 E 2-RJ",
          "FILIAL - 3-RJ",
          "FILIAL 1 E 2-RJ",
          "FILIAL 1 E 2-RJ",
          "FILIAL 1 E 2-RJ",
          "FILIAL - 3-RJ",
          "FILIAL 1 E 2-RJ",
          "FILIAL 1 E 2-RJ",
          "FILIAL 1 E 2-RJ",
          "FILIAL 1 E 2-RJ",
          "FILIAL 1 E 2-RJ",
          "FILIAL 1 E 2-RJ",
          "FILIAL 1 E 2-RJ",
          "FILIAL - 3-RJ",
          "FILIAL 1 E 2-RJ",
          "FILIAL - 3-RJ",
          "FILIAL 1 E 2-RJ",
          "FILIAL - 3-RJ",
          "FILIAL - 3-RJ",
          "FILIAL - 3-RJ",
          "FILIAL 1 E 2-RJ",
          "FILIAL 1 E 2-RJ",
          "FILIAL - 3-RJ",
          "FILIAL - 3-RJ",
          "FILIAL 1 E 2-RJ",
          "FILIAL - 3-RJ",
          "FILIAL 1 E 2-RJ",
          "FILIAL 1 E 2-RJ",
          "FILIAL 1 E 2-RJ",
          "FILIAL - 3-RJ",
          "FILIAL 1 E 2-RJ",
          "FILIAL 1 E 2-RJ",
          "FILIAL - 3-RJ",
          "FILIAL 1 E 2-RJ",
          "FILIAL 1 E 2-RJ",
          "FILIAL 1 E 2-RJ",
          "FILIAL - 3-RJ",
          "FILIAL - 3-RJ",
          "FILIAL - 3-RJ",
          "FILIAL 1 E 2-RJ",
          "FILIAL 1 E 2-RJ",
          "FILIAL - 3-RJ",
          "FILIAL 1 E 2-RJ",
          "FILIAL - 3-RJ",
          "FILIAL 1 E 2-RJ",
          "FILIAL 1 E 2-RJ",
          "FILIAL 1 E 2-RJ",
          "FILIAL 1 E 2-RJ",
          "FILIAL 1 E 2-RJ",
          "FILIAL 1 E 2-RJ",
          "FILIAL 1 E 2-RJ",
          "FILIAL - 3-RJ",
          "FILIAL - 3-RJ",
          "FILIAL 1 E 2-RJ",
          "FILIAL 1 E 2-RJ",
          "FILIAL 1 E 2-RJ",
          "FILIAL - 3-RJ",
          "FILIAL 1 E 2-RJ",
          "FILIAL 1 E 2-RJ",
          "FILIAL 1 E 2-RJ",
          "FILIAL 1 E 2-RJ",
          "FILIAL 1 E 2-RJ",
          "FILIAL 1 E 2-RJ",
          "FILIAL - 3-RJ",
          "FILIAL 1 E 2-RJ",
          "FILIAL 1 E 2-RJ",
          "FILIAL 1 E 2-RJ",
          "FILIAL 1 E 2-RJ",
          "FILIAL 1 E 2-RJ",
          "FILIAL 1 E 2-RJ",
          "FILIAL 1 E 2-RJ",
          "FILIAL 1 E 2-RJ",
          "FILIAL 1 E 2-RJ",
          "FILIAL 1 E 2-RJ",
          "FILIAL 1 E 2-RJ",
          "FILIAL 1 E 2-RJ",
          "FILIAL 1 E 2-RJ",
          "FILIAL - 3-RJ",
          "FILIAL - 3-RJ",
          "FILIAL 1 E 2-RJ",
          "FILIAL - 3-RJ",
          "FILIAL 1 E 2-RJ",
          "FILIAL - 3-RJ",
          "FILIAL - 3-RJ",
          "FILIAL 1 E 2-RJ",
          "FILIAL - 3-RJ",
          "FILIAL 1 E 2-RJ",
          "FILIAL - 3-RJ",
          "FILIAL 1 E 2-RJ",
          "FILIAL 1 E 2-RJ",
          "FILIAL - 3-RJ",
          "FILIAL 1 E 2-RJ",
          "FILIAL 1 E 2-RJ",
          "FILIAL 1 E 2-RJ",
          "FILIAL 1 E 2-RJ",
          "FILIAL - 3-RJ",
          "FILIAL - 3-RJ",
          "FILIAL - 3-RJ",
          "FILIAL 1 E 2-RJ",
          "FILIAL 1 E 2-RJ",
          "FILIAL 1 E 2-RJ",
          "FILIAL - 3-RJ",
          "FILIAL 1 E 2-RJ",
          "FILIAL - 3-RJ",
          "FILIAL 1 E 2-RJ",
          "FILIAL 1 E 2-RJ",
          "FILIAL - 3-RJ",
          "FILIAL - 3-RJ",
          "FILIAL 1 E 2-RJ",
          "FILIAL 1 E 2-RJ",
          "FILIAL 1 E 2-RJ",
          "FILIAL 1 E 2-RJ",
          "FILIAL - 3-RJ",
          "FILIAL 1 E 2-RJ",
          "FILIAL 1 E 2-RJ",
          "FILIAL - 3-RJ",
          "FILIAL - 3-RJ",
          "FILIAL - 3-RJ",
          "FILIAL 1 E 2-RJ",
          "FILIAL 1 E 2-RJ",
          "FILIAL - 3-RJ",
          "FILIAL 1 E 2-RJ",
          "FILIAL - 3-RJ",
          "FILIAL - 3-RJ",
          "FILIAL - 3-RJ",
          "FILIAL 1 E 2-RJ",
          "FILIAL - 3-RJ",
          "FILIAL 1 E 2-RJ",
          "FILIAL 1 E 2-RJ",
          "FILIAL 1 E 2-RJ",
          "FILIAL - 3-RJ",
          "FILIAL 1 E 2-RJ",
          "FILIAL 1 E 2-RJ",
          "FILIAL - 3-RJ",
          "FILIAL 1 E 2-RJ",
          "FILIAL - 3-RJ",
          "FILIAL - 3-RJ",
          "FILIAL - 3-RJ",
          "FILIAL 1 E 2-RJ",
          "FILIAL 1 E 2-RJ",
          "FILIAL - 3-RJ",
          "FILIAL 1 E 2-RJ",
          "FILIAL - 3-RJ",
          "FILIAL - 3-RJ",
          "FILIAL 1 E 2-RJ",
          "FILIAL 1 E 2-RJ",
          "FILIAL 1 E 2-RJ",
          "FILIAL - 3-RJ",
          "FILIAL 1 E 2-RJ",
          "FILIAL 1 E 2-RJ",
          "FILIAL 1 E 2-RJ",
          "FILIAL 1 E 2-RJ",
          "FILIAL 1 E 2-RJ",
          "FILIAL - 3-RJ",
          "FILIAL - 3-RJ",
          "FILIAL - 3-RJ",
          "FILIAL - 3-RJ",
          "FILIAL - 3-RJ",
          "FILIAL 1 E 2-RJ",
          "FILIAL 1 E 2-RJ",
          "FILIAL - 3-RJ",
          "FILIAL 1 E 2-RJ",
          "FILIAL - 3-RJ",
          "FILIAL 1 E 2-RJ",
          "FILIAL - 3-RJ",
          "FILIAL 1 E 2-RJ",
          "FILIAL 1 E 2-RJ",
          "FILIAL 1 E 2-RJ",
          "FILIAL - 3-RJ",
          "FILIAL - 3-RJ",
          "FILIAL - 3-RJ",
          "FILIAL - 3-RJ",
          "FILIAL - 3-RJ",
          "FILIAL 1 E 2-RJ",
          "FILIAL - 3-RJ",
          "FILIAL - 3-RJ",
          "FILIAL 1 E 2-RJ",
          "FILIAL 1 E 2-RJ",
          "FILIAL 1 E 2-RJ",
          "FILIAL 1 E 2-RJ",
          "FILIAL 1 E 2-RJ",
          "FILIAL 1 E 2-RJ",
          "FILIAL - 3-RJ",
          "FILIAL 1 E 2-RJ",
          "FILIAL 1 E 2-RJ",
          "FILIAL 1 E 2-RJ",
          "FILIAL 1 E 2-RJ",
          "FILIAL - 3-RJ",
          "FILIAL 1 E 2-RJ",
          "FILIAL 1 E 2-RJ",
          "FILIAL 1 E 2-RJ",
          "FILIAL - 3-RJ",
          "FILIAL 1 E 2-RJ",
          "FILIAL 1 E 2-RJ",
          "FILIAL 1 E 2-RJ",
          "FILIAL - 3-RJ",
          "FILIAL - 3-RJ",
          "FILIAL - 3-RJ",
          "FILIAL 1 E 2-RJ",
          "FILIAL 1 E 2-RJ",
          "FILIAL 1 E 2-RJ",
          "FILIAL - 3-RJ",
          "FILIAL 1 E 2-RJ",
          "FILIAL 1 E 2-RJ",
          "FILIAL 1 E 2-RJ",
          "FILIAL 1 E 2-RJ",
          "FILIAL 1 E 2-RJ",
          "FILIAL 1 E 2-RJ",
          "FILIAL 1 E 2-RJ",
          "FILIAL 1 E 2-RJ",
          "FILIAL 1 E 2-RJ",
          "FILIAL 1 E 2-RJ",
          "FILIAL 1 E 2-RJ",
          "FILIAL 1 E 2-RJ",
          "FILIAL 1 E 2-RJ",
          "FILIAL 1 E 2-RJ",
          "FILIAL 1 E 2-RJ",
          "FILIAL 1 E 2-RJ",
          "FILIAL 1 E 2-RJ",
          "FILIAL 1 E 2-RJ",
          "FILIAL 1 E 2-RJ",
          "FILIAL 1 E 2-RJ",
          "FILIAL - 3-RJ",
          "FILIAL - 3-RJ",
          "FILIAL 1 E 2-RJ",
          "FILIAL 1 E 2-RJ",
          "FILIAL 1 E 2-RJ",
          "FILIAL - 3-RJ",
          "FILIAL 1 E 2-RJ",
          "FILIAL 1 E 2-RJ",
          "FILIAL 1 E 2-RJ",
          "FILIAL 1 E 2-RJ",
          "FILIAL 1 E 2-RJ",
          "FILIAL - 3-RJ",
          "FILIAL 1 E 2-RJ",
          "FILIAL 1 E 2-RJ",
          "FILIAL - 3-RJ",
          "FILIAL 1 E 2-RJ",
          "FILIAL 1 E 2-RJ",
          "FILIAL - 3-RJ",
          "FILIAL 1 E 2-RJ",
          "FILIAL - 3-RJ",
          "FILIAL - 3-RJ",
          "FILIAL - 3-RJ",
          "FILIAL - 3-RJ",
          "FILIAL 1 E 2-RJ",
          "FILIAL 1 E 2-RJ",
          "FILIAL - 3-RJ",
          "FILIAL 1 E 2-RJ",
          "FILIAL 1 E 2-RJ",
          "FILIAL - 3-RJ",
          "FILIAL - 3-RJ",
          "FILIAL - 3-RJ",
          "FILIAL 1 E 2-RJ",
          "FILIAL - 3-RJ",
          "FILIAL - 3-RJ",
          "FILIAL - 3-RJ",
          "FILIAL 1 E 2-RJ",
          "FILIAL - 3-RJ",
          "FILIAL 1 E 2-RJ",
          "FILIAL 1 E 2-RJ",
          "FILIAL 1 E 2-RJ",
          "FILIAL - 3-RJ",
          "FILIAL 1 E 2-RJ",
          "FILIAL - 3-RJ",
          "FILIAL 1 E 2-RJ",
          "FILIAL 1 E 2-RJ",
          "FILIAL 1 E 2-RJ",
          "FILIAL 1 E 2-RJ",
          "FILIAL - 3-RJ",
          "FILIAL - 3-RJ",
          "FILIAL - 3-RJ",
          "FILIAL - 3-RJ",
          "FILIAL 1 E 2-RJ",
          "FILIAL - 3-RJ",
          "FILIAL 1 E 2-RJ",
          "FILIAL 1 E 2-RJ",
          "FILIAL - 3-RJ",
          "FILIAL - 3-RJ",
          "FILIAL 1 E 2-RJ",
          "FILIAL 1 E 2-RJ",
          "FILIAL 1 E 2-RJ",
          "FILIAL 1 E 2-RJ",
          "FILIAL 1 E 2-RJ",
          "FILIAL - 3-RJ",
          "FILIAL 1 E 2-RJ",
          "FILIAL 1 E 2-RJ",
          "FILIAL 1 E 2-RJ",
          "FILIAL 1 E 2-RJ",
          "FILIAL 1 E 2-RJ",
          "FILIAL 1 E 2-RJ",
          "FILIAL 1 E 2-RJ",
          "FILIAL 1 E 2-RJ",
          "FILIAL 1 E 2-RJ",
          "FILIAL 1 E 2-RJ",
          "FILIAL 1 E 2-RJ",
          "FILIAL - 3-RJ",
          "FILIAL 1 E 2-RJ",
          "FILIAL 1 E 2-RJ",
          "FILIAL 1 E 2-RJ",
          "FILIAL - 3-RJ",
          "FILIAL - 3-RJ",
          "FILIAL 1 E 2-RJ",
          "FILIAL - 3-RJ",
          "FILIAL - 3-RJ",
          "FILIAL - 3-RJ",
          "FILIAL 1 E 2-RJ",
          "FILIAL 1 E 2-RJ",
          "FILIAL 1 E 2-RJ",
          "FILIAL 1 E 2-RJ",
          "FILIAL 1 E 2-RJ",
          "FILIAL - 3-RJ",
          "FILIAL - 3-RJ",
          "FILIAL 1 E 2-RJ",
          "FILIAL 1 E 2-RJ",
          "FILIAL 1 E 2-RJ",
          "FILIAL - 3-RJ",
          "FILIAL - 3-RJ",
          "FILIAL - 3-RJ",
          "FILIAL 1 E 2-RJ",
          "FILIAL 1 E 2-RJ",
          "FILIAL 1 E 2-RJ",
          "FILIAL 1 E 2-RJ",
          "FILIAL - 3-RJ",
          "FILIAL 1 E 2-RJ",
          "FILIAL - 3-RJ",
          "FILIAL - 3-RJ",
          "FILIAL - 3-RJ",
          "FILIAL 1 E 2-RJ",
          "FILIAL 1 E 2-RJ",
          "FILIAL 1 E 2-RJ",
          "FILIAL 1 E 2-RJ",
          "FILIAL 1 E 2-RJ",
          "FILIAL 1 E 2-RJ",
          "FILIAL 1 E 2-RJ",
          "FILIAL - 3-RJ",
          "FILIAL - 3-RJ",
          "FILIAL 1 E 2-RJ",
          "FILIAL 1 E 2-RJ",
          "FILIAL 1 E 2-RJ",
          "FILIAL 1 E 2-RJ",
          "FILIAL 1 E 2-RJ",
          "FILIAL 1 E 2-RJ",
          "FILIAL - 3-RJ",
          "FILIAL 1 E 2-RJ",
          "FILIAL 1 E 2-RJ",
          "FILIAL - 3-RJ",
          "FILIAL - 3-RJ",
          "FILIAL 1 E 2-RJ",
          "FILIAL - 3-RJ",
          "FILIAL 1 E 2-RJ",
          "FILIAL - 3-RJ",
          "FILIAL 1 E 2-RJ",
          "FILIAL 1 E 2-RJ",
          "FILIAL 1 E 2-RJ",
          "FILIAL 1 E 2-RJ",
          "FILIAL 1 E 2-RJ",
          "FILIAL - 3-RJ",
          "FILIAL - 3-RJ",
          "FILIAL 1 E 2-RJ",
          "FILIAL 1 E 2-RJ",
          "FILIAL 1 E 2-RJ",
          "FILIAL - 3-RJ",
          "FILIAL 1 E 2-RJ",
          "FILIAL 1 E 2-RJ",
          "FILIAL - 3-RJ",
          "FILIAL 1 E 2-RJ",
          "FILIAL - 3-RJ",
          "FILIAL 1 E 2-RJ",
          "FILIAL 1 E 2-RJ",
          "FILIAL 1 E 2-RJ",
          "FILIAL - 3-RJ",
          "FILIAL 1 E 2-RJ",
          "FILIAL 1 E 2-RJ",
          "FILIAL 1 E 2-RJ",
          "FILIAL - 3-RJ",
          "FILIAL 1 E 2-RJ",
          "FILIAL 1 E 2-RJ",
          "FILIAL 1 E 2-RJ",
          "FILIAL - 3-RJ",
          "FILIAL - 3-RJ",
          "FILIAL 1 E 2-RJ",
          "FILIAL - 3-RJ",
          "FILIAL 1 E 2-RJ",
          "FILIAL 1 E 2-RJ",
          "FILIAL 1 E 2-RJ",
          "FILIAL - 3-RJ",
          "FILIAL 1 E 2-RJ",
          "FILIAL 1 E 2-RJ",
          "FILIAL - 3-RJ",
          "FILIAL 1 E 2-RJ",
          "FILIAL - 3-RJ",
          "FILIAL 1 E 2-RJ",
          "FILIAL - 3-RJ",
          "FILIAL - 3-RJ",
          "FILIAL 1 E 2-RJ",
          "FILIAL 1 E 2-RJ",
          "FILIAL 1 E 2-RJ",
          "FILIAL - 3-RJ",
          "FILIAL 1 E 2-RJ",
          "FILIAL 1 E 2-RJ",
          "FILIAL 1 E 2-RJ",
          "FILIAL - 3-RJ",
          "FILIAL 1 E 2-RJ",
          "FILIAL - 3-RJ",
          "FILIAL 1 E 2-RJ",
          "FILIAL 1 E 2-RJ",
          "FILIAL 1 E 2-RJ",
          "FILIAL 1 E 2-RJ",
          "FILIAL 1 E 2-RJ",
          "FILIAL 1 E 2-RJ",
          "FILIAL 1 E 2-RJ",
          "FILIAL 1 E 2-RJ",
          "FILIAL - 3-RJ",
          "FILIAL 1 E 2-RJ",
          "FILIAL 1 E 2-RJ",
          "FILIAL - 3-RJ",
          "FILIAL 1 E 2-RJ",
          "FILIAL 1 E 2-RJ",
          "FILIAL 1 E 2-RJ",
          "FILIAL 1 E 2-RJ",
          "FILIAL 1 E 2-RJ",
          "FILIAL - 3-RJ",
          "FILIAL - 3-RJ",
          "FILIAL 1 E 2-RJ",
          "FILIAL 1 E 2-RJ",
          "FILIAL 1 E 2-RJ",
          "FILIAL 1 E 2-RJ",
          "FILIAL 1 E 2-RJ",
          "FILIAL 1 E 2-RJ",
          "FILIAL 1 E 2-RJ",
          "FILIAL - 3-RJ",
          "FILIAL 1 E 2-RJ",
          "FILIAL 1 E 2-RJ",
          "FILIAL 1 E 2-RJ",
          "FILIAL 1 E 2-RJ",
          "FILIAL - 3-RJ",
          "FILIAL 1 E 2-RJ",
          "FILIAL - 3-RJ",
          "FILIAL - 3-RJ",
          "FILIAL 1 E 2-RJ",
          "FILIAL - 3-RJ",
          "FILIAL 1 E 2-RJ",
          "FILIAL 1 E 2-RJ",
          "FILIAL 1 E 2-RJ",
          "FILIAL 1 E 2-RJ",
          "FILIAL 1 E 2-RJ",
          "FILIAL 1 E 2-RJ",
          "FILIAL 1 E 2-RJ",
          "FILIAL 1 E 2-RJ",
          "FILIAL - 3-RJ",
          "FILIAL 1 E 2-RJ",
          "FILIAL 1 E 2-RJ",
          "FILIAL 1 E 2-RJ",
          "FILIAL 1 E 2-RJ",
          "FILIAL 1 E 2-RJ",
          "FILIAL 1 E 2-RJ",
          "FILIAL 1 E 2-RJ",
          "FILIAL - 3-RJ",
          "FILIAL - 3-RJ",
          "FILIAL - 3-RJ",
          "FILIAL 1 E 2-RJ",
          "FILIAL - 3-RJ",
          "FILIAL 1 E 2-RJ",
          "FILIAL - 3-RJ",
          "FILIAL - 3-RJ",
          "FILIAL - 3-RJ",
          "FILIAL 1 E 2-RJ",
          "FILIAL - 3-RJ",
          "FILIAL - 3-RJ",
          "FILIAL 1 E 2-RJ",
          "FILIAL 1 E 2-RJ",
          "FILIAL - 3-RJ",
          "FILIAL - 3-RJ",
          "FILIAL - 3-RJ",
          "FILIAL 1 E 2-RJ",
          "FILIAL 1 E 2-RJ",
          "FILIAL 1 E 2-RJ",
          "FILIAL - 3-RJ",
          "FILIAL 1 E 2-RJ",
          "FILIAL - 3-RJ",
          "FILIAL 1 E 2-RJ",
          "FILIAL 1 E 2-RJ",
          "FILIAL - 3-RJ",
          "FILIAL 1 E 2-RJ",
          "FILIAL - 3-RJ",
          "FILIAL 1 E 2-RJ",
          "FILIAL 1 E 2-RJ",
          "FILIAL 1 E 2-RJ",
          "FILIAL - 3-RJ",
          "FILIAL 1 E 2-RJ",
          "FILIAL 1 E 2-RJ",
          "FILIAL - 3-RJ",
          "FILIAL 1 E 2-RJ",
          "FILIAL 1 E 2-RJ",
          "FILIAL - 3-RJ",
          "FILIAL - 3-RJ",
          "FILIAL - 3-RJ",
          "FILIAL 1 E 2-RJ",
          "FILIAL - 3-RJ",
          "FILIAL 1 E 2-RJ",
          "FILIAL 1 E 2-RJ",
          "FILIAL 1 E 2-RJ",
          "FILIAL 1 E 2-RJ",
          "FILIAL 1 E 2-RJ",
          "FILIAL 1 E 2-RJ",
          "FILIAL 1 E 2-RJ",
          "FILIAL 1 E 2-RJ",
          "FILIAL - 3-RJ",
          "FILIAL 1 E 2-RJ",
          "FILIAL - 3-RJ",
          "FILIAL 1 E 2-RJ",
          "FILIAL 1 E 2-RJ",
          "FILIAL 1 E 2-RJ",
          "FILIAL 1 E 2-RJ",
          "FILIAL 1 E 2-RJ",
          "FILIAL - 3-RJ",
          "FILIAL - 3-RJ",
          "FILIAL 1 E 2-RJ",
          "FILIAL 1 E 2-RJ",
          "FILIAL - 3-RJ",
          "FILIAL 1 E 2-RJ",
          "FILIAL 1 E 2-RJ",
          "FILIAL - 3-RJ",
          "FILIAL 1 E 2-RJ",
          "FILIAL 1 E 2-RJ",
          "FILIAL - 3-RJ",
          "FILIAL 1 E 2-RJ",
          "FILIAL 1 E 2-RJ",
          "FILIAL - 3-RJ",
          "FILIAL 1 E 2-RJ",
          "FILIAL 1 E 2-RJ",
          "FILIAL 1 E 2-RJ",
          "FILIAL - 3-RJ",
          "FILIAL 1 E 2-RJ",
          "FILIAL 1 E 2-RJ",
          "FILIAL 1 E 2-RJ",
          "FILIAL 1 E 2-RJ",
          "FILIAL 1 E 2-RJ",
          "FILIAL 1 E 2-RJ",
          "FILIAL - 3-RJ",
          "FILIAL 1 E 2-RJ",
          "FILIAL 1 E 2-RJ",
          "FILIAL 1 E 2-RJ",
          "FILIAL 1 E 2-RJ",
          "FILIAL 1 E 2-RJ",
          "FILIAL 1 E 2-RJ",
          "FILIAL 1 E 2-RJ",
          "FILIAL 1 E 2-RJ",
          "FILIAL 1 E 2-RJ",
          "FILIAL 1 E 2-RJ",
          "FILIAL 1 E 2-RJ",
          "FILIAL - 3-RJ",
          "FILIAL - 3-RJ",
          "FILIAL 1 E 2-RJ",
          "FILIAL 1 E 2-RJ",
          "FILIAL - 3-RJ",
          "FILIAL 1 E 2-RJ",
          "FILIAL 1 E 2-RJ",
          "FILIAL 1 E 2-RJ",
          "FILIAL 1 E 2-RJ",
          "FILIAL - 3-RJ",
          "FILIAL - 3-RJ",
          "FILIAL 1 E 2-RJ",
          "FILIAL - 3-RJ",
          "FILIAL - 3-RJ",
          "FILIAL 1 E 2-RJ",
          "FILIAL 1 E 2-RJ",
          "FILIAL 1 E 2-RJ",
          "FILIAL 1 E 2-RJ",
          "FILIAL 1 E 2-RJ",
          "FILIAL 1 E 2-RJ",
          "FILIAL 1 E 2-RJ",
          "FILIAL 1 E 2-RJ",
          "FILIAL 1 E 2-RJ",
          "FILIAL 1 E 2-RJ",
          "FILIAL - 3-RJ",
          "FILIAL - 3-RJ",
          "FILIAL 1 E 2-RJ",
          "FILIAL - 3-RJ",
          "FILIAL - 3-RJ",
          "FILIAL 1 E 2-RJ",
          "FILIAL 1 E 2-RJ",
          "FILIAL - 3-RJ",
          "FILIAL 1 E 2-RJ",
          "FILIAL 1 E 2-RJ",
          "FILIAL - 3-RJ",
          "FILIAL - 3-RJ",
          "FILIAL - 3-RJ",
          "FILIAL 1 E 2-RJ",
          "FILIAL - 3-RJ",
          "FILIAL 1 E 2-RJ",
          "FILIAL 1 E 2-RJ",
          "FILIAL - 3-RJ",
          "FILIAL 1 E 2-RJ"
         ],
         "xaxis": "x",
         "yaxis": "y"
        }
       ],
       "layout": {
        "barmode": "relative",
        "legend": {
         "tracegroupgap": 0
        },
        "margin": {
         "t": 60
        },
        "template": {
         "data": {
          "bar": [
           {
            "error_x": {
             "color": "#2a3f5f"
            },
            "error_y": {
             "color": "#2a3f5f"
            },
            "marker": {
             "line": {
              "color": "#E5ECF6",
              "width": 0.5
             },
             "pattern": {
              "fillmode": "overlay",
              "size": 10,
              "solidity": 0.2
             }
            },
            "type": "bar"
           }
          ],
          "barpolar": [
           {
            "marker": {
             "line": {
              "color": "#E5ECF6",
              "width": 0.5
             },
             "pattern": {
              "fillmode": "overlay",
              "size": 10,
              "solidity": 0.2
             }
            },
            "type": "barpolar"
           }
          ],
          "carpet": [
           {
            "aaxis": {
             "endlinecolor": "#2a3f5f",
             "gridcolor": "white",
             "linecolor": "white",
             "minorgridcolor": "white",
             "startlinecolor": "#2a3f5f"
            },
            "baxis": {
             "endlinecolor": "#2a3f5f",
             "gridcolor": "white",
             "linecolor": "white",
             "minorgridcolor": "white",
             "startlinecolor": "#2a3f5f"
            },
            "type": "carpet"
           }
          ],
          "choropleth": [
           {
            "colorbar": {
             "outlinewidth": 0,
             "ticks": ""
            },
            "type": "choropleth"
           }
          ],
          "contour": [
           {
            "colorbar": {
             "outlinewidth": 0,
             "ticks": ""
            },
            "colorscale": [
             [
              0,
              "#0d0887"
             ],
             [
              0.1111111111111111,
              "#46039f"
             ],
             [
              0.2222222222222222,
              "#7201a8"
             ],
             [
              0.3333333333333333,
              "#9c179e"
             ],
             [
              0.4444444444444444,
              "#bd3786"
             ],
             [
              0.5555555555555556,
              "#d8576b"
             ],
             [
              0.6666666666666666,
              "#ed7953"
             ],
             [
              0.7777777777777778,
              "#fb9f3a"
             ],
             [
              0.8888888888888888,
              "#fdca26"
             ],
             [
              1,
              "#f0f921"
             ]
            ],
            "type": "contour"
           }
          ],
          "contourcarpet": [
           {
            "colorbar": {
             "outlinewidth": 0,
             "ticks": ""
            },
            "type": "contourcarpet"
           }
          ],
          "heatmap": [
           {
            "colorbar": {
             "outlinewidth": 0,
             "ticks": ""
            },
            "colorscale": [
             [
              0,
              "#0d0887"
             ],
             [
              0.1111111111111111,
              "#46039f"
             ],
             [
              0.2222222222222222,
              "#7201a8"
             ],
             [
              0.3333333333333333,
              "#9c179e"
             ],
             [
              0.4444444444444444,
              "#bd3786"
             ],
             [
              0.5555555555555556,
              "#d8576b"
             ],
             [
              0.6666666666666666,
              "#ed7953"
             ],
             [
              0.7777777777777778,
              "#fb9f3a"
             ],
             [
              0.8888888888888888,
              "#fdca26"
             ],
             [
              1,
              "#f0f921"
             ]
            ],
            "type": "heatmap"
           }
          ],
          "heatmapgl": [
           {
            "colorbar": {
             "outlinewidth": 0,
             "ticks": ""
            },
            "colorscale": [
             [
              0,
              "#0d0887"
             ],
             [
              0.1111111111111111,
              "#46039f"
             ],
             [
              0.2222222222222222,
              "#7201a8"
             ],
             [
              0.3333333333333333,
              "#9c179e"
             ],
             [
              0.4444444444444444,
              "#bd3786"
             ],
             [
              0.5555555555555556,
              "#d8576b"
             ],
             [
              0.6666666666666666,
              "#ed7953"
             ],
             [
              0.7777777777777778,
              "#fb9f3a"
             ],
             [
              0.8888888888888888,
              "#fdca26"
             ],
             [
              1,
              "#f0f921"
             ]
            ],
            "type": "heatmapgl"
           }
          ],
          "histogram": [
           {
            "marker": {
             "pattern": {
              "fillmode": "overlay",
              "size": 10,
              "solidity": 0.2
             }
            },
            "type": "histogram"
           }
          ],
          "histogram2d": [
           {
            "colorbar": {
             "outlinewidth": 0,
             "ticks": ""
            },
            "colorscale": [
             [
              0,
              "#0d0887"
             ],
             [
              0.1111111111111111,
              "#46039f"
             ],
             [
              0.2222222222222222,
              "#7201a8"
             ],
             [
              0.3333333333333333,
              "#9c179e"
             ],
             [
              0.4444444444444444,
              "#bd3786"
             ],
             [
              0.5555555555555556,
              "#d8576b"
             ],
             [
              0.6666666666666666,
              "#ed7953"
             ],
             [
              0.7777777777777778,
              "#fb9f3a"
             ],
             [
              0.8888888888888888,
              "#fdca26"
             ],
             [
              1,
              "#f0f921"
             ]
            ],
            "type": "histogram2d"
           }
          ],
          "histogram2dcontour": [
           {
            "colorbar": {
             "outlinewidth": 0,
             "ticks": ""
            },
            "colorscale": [
             [
              0,
              "#0d0887"
             ],
             [
              0.1111111111111111,
              "#46039f"
             ],
             [
              0.2222222222222222,
              "#7201a8"
             ],
             [
              0.3333333333333333,
              "#9c179e"
             ],
             [
              0.4444444444444444,
              "#bd3786"
             ],
             [
              0.5555555555555556,
              "#d8576b"
             ],
             [
              0.6666666666666666,
              "#ed7953"
             ],
             [
              0.7777777777777778,
              "#fb9f3a"
             ],
             [
              0.8888888888888888,
              "#fdca26"
             ],
             [
              1,
              "#f0f921"
             ]
            ],
            "type": "histogram2dcontour"
           }
          ],
          "mesh3d": [
           {
            "colorbar": {
             "outlinewidth": 0,
             "ticks": ""
            },
            "type": "mesh3d"
           }
          ],
          "parcoords": [
           {
            "line": {
             "colorbar": {
              "outlinewidth": 0,
              "ticks": ""
             }
            },
            "type": "parcoords"
           }
          ],
          "pie": [
           {
            "automargin": true,
            "type": "pie"
           }
          ],
          "scatter": [
           {
            "fillpattern": {
             "fillmode": "overlay",
             "size": 10,
             "solidity": 0.2
            },
            "type": "scatter"
           }
          ],
          "scatter3d": [
           {
            "line": {
             "colorbar": {
              "outlinewidth": 0,
              "ticks": ""
             }
            },
            "marker": {
             "colorbar": {
              "outlinewidth": 0,
              "ticks": ""
             }
            },
            "type": "scatter3d"
           }
          ],
          "scattercarpet": [
           {
            "marker": {
             "colorbar": {
              "outlinewidth": 0,
              "ticks": ""
             }
            },
            "type": "scattercarpet"
           }
          ],
          "scattergeo": [
           {
            "marker": {
             "colorbar": {
              "outlinewidth": 0,
              "ticks": ""
             }
            },
            "type": "scattergeo"
           }
          ],
          "scattergl": [
           {
            "marker": {
             "colorbar": {
              "outlinewidth": 0,
              "ticks": ""
             }
            },
            "type": "scattergl"
           }
          ],
          "scattermapbox": [
           {
            "marker": {
             "colorbar": {
              "outlinewidth": 0,
              "ticks": ""
             }
            },
            "type": "scattermapbox"
           }
          ],
          "scatterpolar": [
           {
            "marker": {
             "colorbar": {
              "outlinewidth": 0,
              "ticks": ""
             }
            },
            "type": "scatterpolar"
           }
          ],
          "scatterpolargl": [
           {
            "marker": {
             "colorbar": {
              "outlinewidth": 0,
              "ticks": ""
             }
            },
            "type": "scatterpolargl"
           }
          ],
          "scatterternary": [
           {
            "marker": {
             "colorbar": {
              "outlinewidth": 0,
              "ticks": ""
             }
            },
            "type": "scatterternary"
           }
          ],
          "surface": [
           {
            "colorbar": {
             "outlinewidth": 0,
             "ticks": ""
            },
            "colorscale": [
             [
              0,
              "#0d0887"
             ],
             [
              0.1111111111111111,
              "#46039f"
             ],
             [
              0.2222222222222222,
              "#7201a8"
             ],
             [
              0.3333333333333333,
              "#9c179e"
             ],
             [
              0.4444444444444444,
              "#bd3786"
             ],
             [
              0.5555555555555556,
              "#d8576b"
             ],
             [
              0.6666666666666666,
              "#ed7953"
             ],
             [
              0.7777777777777778,
              "#fb9f3a"
             ],
             [
              0.8888888888888888,
              "#fdca26"
             ],
             [
              1,
              "#f0f921"
             ]
            ],
            "type": "surface"
           }
          ],
          "table": [
           {
            "cells": {
             "fill": {
              "color": "#EBF0F8"
             },
             "line": {
              "color": "white"
             }
            },
            "header": {
             "fill": {
              "color": "#C8D4E3"
             },
             "line": {
              "color": "white"
             }
            },
            "type": "table"
           }
          ]
         },
         "layout": {
          "annotationdefaults": {
           "arrowcolor": "#2a3f5f",
           "arrowhead": 0,
           "arrowwidth": 1
          },
          "autotypenumbers": "strict",
          "coloraxis": {
           "colorbar": {
            "outlinewidth": 0,
            "ticks": ""
           }
          },
          "colorscale": {
           "diverging": [
            [
             0,
             "#8e0152"
            ],
            [
             0.1,
             "#c51b7d"
            ],
            [
             0.2,
             "#de77ae"
            ],
            [
             0.3,
             "#f1b6da"
            ],
            [
             0.4,
             "#fde0ef"
            ],
            [
             0.5,
             "#f7f7f7"
            ],
            [
             0.6,
             "#e6f5d0"
            ],
            [
             0.7,
             "#b8e186"
            ],
            [
             0.8,
             "#7fbc41"
            ],
            [
             0.9,
             "#4d9221"
            ],
            [
             1,
             "#276419"
            ]
           ],
           "sequential": [
            [
             0,
             "#0d0887"
            ],
            [
             0.1111111111111111,
             "#46039f"
            ],
            [
             0.2222222222222222,
             "#7201a8"
            ],
            [
             0.3333333333333333,
             "#9c179e"
            ],
            [
             0.4444444444444444,
             "#bd3786"
            ],
            [
             0.5555555555555556,
             "#d8576b"
            ],
            [
             0.6666666666666666,
             "#ed7953"
            ],
            [
             0.7777777777777778,
             "#fb9f3a"
            ],
            [
             0.8888888888888888,
             "#fdca26"
            ],
            [
             1,
             "#f0f921"
            ]
           ],
           "sequentialminus": [
            [
             0,
             "#0d0887"
            ],
            [
             0.1111111111111111,
             "#46039f"
            ],
            [
             0.2222222222222222,
             "#7201a8"
            ],
            [
             0.3333333333333333,
             "#9c179e"
            ],
            [
             0.4444444444444444,
             "#bd3786"
            ],
            [
             0.5555555555555556,
             "#d8576b"
            ],
            [
             0.6666666666666666,
             "#ed7953"
            ],
            [
             0.7777777777777778,
             "#fb9f3a"
            ],
            [
             0.8888888888888888,
             "#fdca26"
            ],
            [
             1,
             "#f0f921"
            ]
           ]
          },
          "colorway": [
           "#636efa",
           "#EF553B",
           "#00cc96",
           "#ab63fa",
           "#FFA15A",
           "#19d3f3",
           "#FF6692",
           "#B6E880",
           "#FF97FF",
           "#FECB52"
          ],
          "font": {
           "color": "#2a3f5f"
          },
          "geo": {
           "bgcolor": "white",
           "lakecolor": "white",
           "landcolor": "#E5ECF6",
           "showlakes": true,
           "showland": true,
           "subunitcolor": "white"
          },
          "hoverlabel": {
           "align": "left"
          },
          "hovermode": "closest",
          "mapbox": {
           "style": "light"
          },
          "paper_bgcolor": "white",
          "plot_bgcolor": "#E5ECF6",
          "polar": {
           "angularaxis": {
            "gridcolor": "white",
            "linecolor": "white",
            "ticks": ""
           },
           "bgcolor": "#E5ECF6",
           "radialaxis": {
            "gridcolor": "white",
            "linecolor": "white",
            "ticks": ""
           }
          },
          "scene": {
           "xaxis": {
            "backgroundcolor": "#E5ECF6",
            "gridcolor": "white",
            "gridwidth": 2,
            "linecolor": "white",
            "showbackground": true,
            "ticks": "",
            "zerolinecolor": "white"
           },
           "yaxis": {
            "backgroundcolor": "#E5ECF6",
            "gridcolor": "white",
            "gridwidth": 2,
            "linecolor": "white",
            "showbackground": true,
            "ticks": "",
            "zerolinecolor": "white"
           },
           "zaxis": {
            "backgroundcolor": "#E5ECF6",
            "gridcolor": "white",
            "gridwidth": 2,
            "linecolor": "white",
            "showbackground": true,
            "ticks": "",
            "zerolinecolor": "white"
           }
          },
          "shapedefaults": {
           "line": {
            "color": "#2a3f5f"
           }
          },
          "ternary": {
           "aaxis": {
            "gridcolor": "white",
            "linecolor": "white",
            "ticks": ""
           },
           "baxis": {
            "gridcolor": "white",
            "linecolor": "white",
            "ticks": ""
           },
           "bgcolor": "#E5ECF6",
           "caxis": {
            "gridcolor": "white",
            "linecolor": "white",
            "ticks": ""
           }
          },
          "title": {
           "x": 0.05
          },
          "xaxis": {
           "automargin": true,
           "gridcolor": "white",
           "linecolor": "white",
           "ticks": "",
           "title": {
            "standoff": 15
           },
           "zerolinecolor": "white",
           "zerolinewidth": 2
          },
          "yaxis": {
           "automargin": true,
           "gridcolor": "white",
           "linecolor": "white",
           "ticks": "",
           "title": {
            "standoff": 15
           },
           "zerolinecolor": "white",
           "zerolinewidth": 2
          }
         }
        },
        "xaxis": {
         "anchor": "y",
         "domain": [
          0,
          1
         ],
         "title": {
          "text": "POP"
         }
        },
        "yaxis": {
         "anchor": "x",
         "domain": [
          0,
          1
         ],
         "title": {
          "text": "count"
         }
        }
       }
      }
     },
     "metadata": {},
     "output_type": "display_data"
    },
    {
     "data": {
      "application/vnd.plotly.v1+json": {
       "config": {
        "plotlyServerURL": "https://plot.ly"
       },
       "data": [
        {
         "alignmentgroup": "True",
         "bingroup": "x",
         "hovertemplate": "Endereço=%{x}<br>count=%{y}<extra></extra>",
         "legendgroup": "",
         "marker": {
          "color": "#636efa",
          "pattern": {
           "shape": ""
          }
         },
         "name": "",
         "offsetgroup": "",
         "orientation": "v",
         "showlegend": false,
         "type": "histogram",
         "x": [
          "CONJUNTO CARLOS LAMARCA RUA 5 CASA N: 13",
          "RUA MADRE SILVA",
          "RUA ANAJAS",
          "RUA ITU",
          "TRAVESSA VINTE E SETE",
          "RUA IPÊ",
          "RUA AGAÍ",
          "RUA ITORORÓS",
          "RUA FLORESTAL",
          "RUA TUIUTI",
          "RUA ITU",
          "RUA MONTE CORDOVA",
          "RUA BELÉM",
          "RUA 8",
          "AVENIDA JOAQUIM DA COSTA LIMA",
          "TRAVESSA DA PAZ",
          "RUA AÇU",
          "RUA ALDEBARA",
          "AVENIDA PARQUE VÁRZEA DO CARMO",
          "RUA AGAÍ",
          "RUA TUIUTI",
          "RUA MAUES",
          "RUA APIACA",
          "RUA VALPARAÍBA",
          "RUA LUÍS DE CAMÕES",
          "RUA CARAMURU",
          "RUA HARRY THRUMAN",
          "RUA MACEIÓ",
          "AVENIDA BELFORD ROXO",
          "RUA IPÊ",
          "RUA BARÃO DE CONGONHAS",
          "RUA ITORORÓS",
          "TRAVESSA TRINTA",
          "RUA ARACAJU",
          "RUA AGAÍ",
          "RUA ARACAJU",
          "TRAVESSA SETE",
          "RUA ANAJAS",
          "RUA TUIUTI",
          "RUA TUIUTI",
          "RUA ARACAJU",
          "RUA JOSÉ GONÇALVES LEAL",
          "RUA AJURANA",
          "RUA TUPACERETA",
          "RUA AGAÍ ( RUA 8)",
          "RUA AJUARA",
          "AVENIDA JOAQUIM DA COSTA LIMA",
          "AVENIDA PARQUE VÁRZEA DO CARMO",
          "TRAVESSA DOZE",
          "TRAVESSA VINTE E SEIS",
          "RUA SÁ CARNEIRO",
          "RUA AMARAGI",
          "TRAVESSA DEZESSEIS",
          "TRAVESSA TERESINHA",
          "RUA GUASSUPI (CJ B VERMELHO)",
          "RUA TUIUTI",
          "RUA TUPACERETA",
          "TRAVESSA QUATORZE",
          "RUA CABO BRANCO",
          "AVENIDA SÃO BENTO",
          "RUA CURUPAITI",
          "RUA HAVAI",
          "TRAVESSA VINTE E SEIS",
          "RUA INDAIAÇU",
          "AVENIDA JOAQUIM DA COSTA LIMA",
          "AVENIDA PARQUE VÁRZEA DO CARMO",
          "RUA HARRY TRHUMAN",
          "TRAVESSA DEZOITO",
          "RUA ARIAPO",
          "RUA SÃO LUÍS",
          "AVENIDA BELFORD ROXO",
          "RUA ANAJAS",
          "AVENIDA UM",
          "RUA JABRE",
          "TRAVESSA 16",
          "RUA AMARAGI",
          "RUA APIACÁS",
          "TRAVESSA VINTE E SEIS",
          "RUA XAVANTES",
          "RUA SIDÔNIO PAES",
          "RUA DAS ACÁCIAS",
          "RUA ARACAJU",
          "RUA AÇU",
          "ESTRADA DO MACACO/ AV: DUARTE DOS SANTOS FONTE",
          "RUA RECIFE",
          "RUA AJURANA",
          "RUA TUPACERETA",
          "TRAVESSA DA PAZ",
          "RUA RECIFE",
          "RUA TATUI",
          "RUA COARI",
          "RUA SANTA AMÉLIA",
          "TRAVESSA DEZESSEIS",
          "RUA CARAMURU",
          "RUA ARACUA",
          "AVENIDA SAMI",
          "RUA TERESINA",
          "RUA SIDÔNIO PAES",
          "RUA MACEIÓ",
          "RUA GUASSUPI (CJ B VERMELHO)",
          "RUA AÇU",
          "RUA IPÊ",
          "RUA SANTA AMÉLIA",
          "RUA ACEGUA",
          "RUA CABO BRANCO",
          "RUA SIDÔNIO PAES",
          "RUA DOS ADVOGADOS",
          "RUA TUIUTI",
          "TRAVESSA TREZE",
          "TRAVESSA TRINTA E DOIS",
          "TRAVESSA DOIS",
          "TRAVESSA DEZOITO",
          "RUA SIDÔNIO PAES",
          "RUA XAVANTES",
          "RUA AGAÍ",
          "RUA SÃO LUÍS",
          "RUA AJOARA",
          "TRAVESSA DEZESSEIS",
          "RUA IBITINGA",
          "RUA GUASSUPI",
          "RUA IJUÍ",
          "AVENIDA BABI",
          "RUA AJUARA",
          "RUA JUNQUEIRA FREIRE",
          "RUA DOS ENGENHEIROS",
          "RUA SIRIUS",
          "RUA 8 ",
          "RUA GUARARAPES",
          "RUA TATUI",
          "RUA INDAIAÇU",
          "TRAVESSA VINTE E NOVE",
          "RUA AÇU",
          "RUA AIAÇÁ",
          "RUA AGAÍ",
          "TRAVESSA TRÊS",
          "RUA GUARARAPES",
          "RUA ESOPO",
          "RUA BELÉM",
          "RUA CABO BRANCO",
          "RUA ACAPU",
          "RUA TUIUTI",
          "RUA AGAÍ",
          "RUA TAPEROA",
          "RUA AGAÍ/ RUA 4",
          "RUA MADRE SILVA",
          "RUA CARIOCA",
          "RUA TAPEROA",
          "RUA ACAPU",
          "RUA ARACAJU",
          "RUA GUARARAPES",
          "RUA RIGOLETO",
          "RUA PORTO VELHO",
          "RUA JABOTICABAL",
          "TRAVESSA ONZE",
          "RUA JUNQUEIRA FREIRE",
          "RUA SIDÔNIO PAES",
          "RUA JABOTICABAL",
          "AVENIDA BELFORD ROXO",
          "RUA FLORESTAL",
          "RUA CAMARATUBA",
          "RUA MACEIÓ",
          "TRAVESSA VINTE E TRÊS",
          "TRAVESSA SIDÔNIO PAES",
          "ESTRADA DO BARRO VERMELHO",
          "RUA JAGUARIBE",
          "RUA ARACAJU",
          "AVENIDA JOAQUIM DA COSTA LIMA",
          "RUA SIDÔNIO PAES",
          "RUA TUIUTI",
          "AVENIDA JOAQUIM DA COSTA LIMA",
          "RUA BELO HORIZONTE",
          "RUA MADRE SILVA",
          "RUA MACEIÓ",
          "RUA SÃO SALVADOR",
          "RUA ANDIARA",
          "RUA CAMARATUBA",
          "AVENIDA CAMPINAS",
          "RUA CINCO",
          "RUA CARAMURU",
          "RUA SÃO LUÍS",
          "RUA FLORESTAL",
          "RUA ANAJAS",
          "RUA IBITINGA",
          "RUA RIGOLETO",
          "AVENIDA ATLÂNTICA",
          "RUA TUIUTI",
          "RUA BELO HORIZONTE",
          "RUA MACEIÓ",
          "RUA AGAÍ",
          "RUA ARACAJU",
          "RUA HAVAI",
          "RUA ANAJAS",
          "RUA CATANDUVAS",
          "RUA CAMARATUBA",
          "RUA SÃO SALVADOR",
          "RUA VALDETE REIS",
          "RUA SIDÔNIO PAES",
          "RUA AGAÍ",
          "TRAVESSA TRINTA E TRÊS",
          "RUA SIDÔNIO PAES",
          "AVENIDA SÃO BENTO",
          "RUA MAUÁ",
          "RUA AGAÍ",
          "RUA TUIUTI",
          "RUA SÃO LUÍS",
          "ESTRADA DO BARRO VERMELHO",
          "RUA LAGUNA",
          "RUA PORTO VELHO",
          "ESTRADA DO BARRO VERMELHO",
          "RUA SIDÔNIO PAES",
          "RUA FLORESTAL",
          "RUA CAMPINAS",
          "RUA ITAPIRANGA",
          "ESTRADA DO BARRO VERMELHO",
          "RUA JABRE",
          "RUA ANDIARA",
          "ESTRADA DO BARRO VERMELHO",
          "RUA AGAÍ",
          "RUA JOSÉ GONÇALVES LEAL",
          "RUA CABO BRANCO",
          "ESTRADA DO BARRO VERMELHO",
          "RUA ANAJAS",
          "TRAVESSA TREZE",
          "RUA AGAÍ/ RUA 02 SEM TERRA",
          "RUA CUIABÁ",
          "AVENIDA BABI",
          "AVENIDA BELFORD ROXO",
          "RUA ANAJAS",
          "ESTRADA DO BARRO VERMELHO",
          "AVENIDA CAMPINAS",
          "RUA ARACUA",
          "RUA MANOEL BARBOSA",
          "RUA VAUSTRUDES SILVA",
          "RUA COARI",
          "RUA ANAJAS",
          "AVENIDA SAMI",
          "RUA AMARAGI",
          "TRAVESSA QUINZE",
          "RUA JOÃO PESSOA",
          "RUA RECIFE",
          "RUA GUARARAPES",
          "RUA ARACAJU",
          "RUA AJURANA",
          "RUA CAETÉS",
          "RUA APIACÁS",
          "RUA ANAJAS",
          "ESTRADA DO BARRO VERMELHO",
          "RUA JURUÁ",
          "RUA SÃO SALVADOR",
          "TRAVESSA TREZE",
          "RUA TUIUTI",
          "RUA MANUEL BARBOSA",
          "RUA FLORESTA",
          "AVENIDA BABI",
          "RUA GUASSUPI",
          "RUA BRENO DE SOUZA ALVES",
          "RUA AMARAGI",
          "RUA AÇU",
          "TRAVESSA TRÊS",
          "RUA AGAÍ/ RUA DA GLORIA",
          "RUA MACEIÓ",
          "RUA DAS MANGUEIRAS",
          "RUA ALFA",
          "AVENIDA JOAQUIM DA COSTA LIMA - LADO PAR",
          "RUA IPÊ",
          "RUA BARÃO DE CONGONHAS",
          "RUA AGAÍ",
          "RUA BARÃO DE CONGONHAS",
          "RUA ANDIRA",
          "RUA JOSÉ GONÇALVES LEAL",
          "TRAVESSA VINTE E SEIS",
          "RUA TATUI",
          "RUA TUIUTI",
          "RUA IPÊ",
          "RUA IPÊ",
          "RUA TUIUTI",
          "RUA ROBERTO SILVEIRA",
          "RUA JOÃO PESSOA",
          "RUA TUIUTI",
          "RUA ITANARI",
          "ESTRADA DO BARRO VERMELHO",
          "TRAVESSA DA PAZ",
          "RUA GUARARAPES",
          "Avenida Santa Amélia",
          "RUA ANDIRA",
          "TRAVESSA DOIS",
          "RUA AGAI TRAVESSA 25",
          "RUA APIACA",
          "TRAVESSA VINTE E NOVE",
          "RUA SÃO SALVADOR",
          "TRAVESSA DA PAZ",
          "RUA FLORESTAL",
          "RUA CURUPAITI",
          "TRAVESSA VINTE E OITO",
          "ESTRADA DO BARRO VERMELHO",
          "RUA ANAJAS",
          "TRAVESSA DEZESSETE",
          "RUA ANAJAS",
          "RUA MAUÁ",
          "RUA BELO HORIZONTE",
          "RUA GUASSUPI",
          "RUA AGAÍ",
          "RUA TUIUTI",
          "RUA SIDÔNIO PAES",
          "RUA RECIFE",
          "AVENIDA BELFORD ROXO",
          "RUA ARACUA",
          "RUA AMARAGI",
          "RUA CAMARATUBA",
          "RUA ARACAJU",
          "TRAVESSA VINTE E CINCO",
          "RUA TUIUTI",
          "RUA TUIUTI",
          "ESTRADA DO BARRO VERMELHO",
          "RUA JUNQUEIRA FREIRE",
          "RUA ITAPOLIS",
          "RUA DOIS",
          "AVENIDA BELFORD ROXO",
          "RUA JABRE",
          "RUA DA GLORIA",
          "RUA ABIRU",
          "RUA ANAJÁS",
          "RUA CARIOCA",
          "RUA TUIUTI",
          "AVENIDA ALBERTO SAMPAIO",
          "RUA AGAÍ",
          "ESTRADA DO BARRO VERMELHO",
          "RUA IBITINGA",
          "RUA MANOEL BARBOSA",
          "RUA AMARAGI",
          "RUA JAGUARIBE",
          "AVENIDA JOAQUIM DA COSTA LIMA - LADO ÍMPAR",
          "RUA BARÃO DE CONGONHAS",
          "RUA AIACA",
          "RUA ACAPU",
          "RUA ANAJAS",
          "RUA TUIUTI",
          "RUA ANAJAS",
          "RUA IPÊ",
          "TRAVESSA VINTE E OITO",
          "RUA MACEIÓ",
          "TRAVESSA SEIS",
          "RUA AJURANA",
          "TRAVESSA TRINTA E OITO",
          "RUA CAMARATUBA",
          "AVENIDA SÃO PAULO",
          "RUA AGAÍ",
          "RUA TRÊS ",
          "ESTRADA DO BARRO VERMELHO",
          "TRAVESSA VINTE E DOIS",
          "RUA DONA SOFÍA",
          "RUA SÃO LUÍS",
          "RUA RECIFE",
          "SEM TERRA ",
          "RUA BARÃO DE CONGONHAS",
          "RUA AÇU",
          "TRAVESSA OITO",
          "RUA MAUÁ",
          "RUA CARIOCA",
          "RUA HAVAI",
          "TRAVESSA QUINZE",
          "TRAVESSA VINTE E OITO",
          "TRAVESSA VINTE",
          "RUA CAIÇARA",
          "RUA DOS MÉDICOS",
          "RUA HARRY TRHUMAN",
          "RUA TUIUTI",
          "RUA AGAÍ",
          "RUA CURUPAITI",
          "RUA TUIUTI",
          "RUA ITAPOLIS",
          "RUA GUATAPARA",
          "RUA JOSÉ GONÇALVES LEAL",
          "ESTRADA DO MACACO",
          "AVENIDA SÃO PAULO",
          "TRAVESSA VINTE E CINCO",
          "RUA FLORESTAL",
          "AVENIDA SANTA AMÉLIA",
          "RUA XAVANTES",
          "RUA RECIFE",
          "ESTRADA DO BARRO VERMELHO",
          "TRAVESSA OITO",
          "RUA NITERÓI",
          "RUA ANHANGUERA",
          "TRAVESSA QUINZE",
          "RUA RIGOLETO",
          "RUA ABIRU",
          "RUA APIACA",
          "RUA TUIUTI",
          "RUA DO IPÊ",
          "RUA CUIABÁ",
          "AVENIDA BABI",
          "RUA FLORESTAL",
          "RUA ITU",
          "RUA TATUI",
          "RUA GUATAMBU",
          "RUA PRADO JÚNIOR",
          "RUA TATUI",
          "RUA TUIUTI",
          "RUA IJUÍ",
          "RUA AMARAGI",
          "RUA HARRY TRHUMAN",
          "RUA AIACA",
          "RUA SÃO LUÍS",
          "RUA ACEGUA",
          "RUA XAVANTES",
          "ESTRADA DO BARRO VERMELHO",
          "RUA PARAÍSO",
          "RUA HAVAI",
          "RUA 7",
          "RUA PORTO VELHO",
          "RUA TUIUTI",
          "RUA COARI",
          "RUA ITORORÓS",
          "TRAVESSA 9 ",
          "RUA PORTO ALEGRE",
          "RUA JABRE",
          "RUA LUIZ DE CAMÕES",
          "RUA ROBERTO SILVEIRA",
          "TRAVESSA DEZENOVE",
          "TRAVESSA QUATRO",
          "RUA AGAÍ",
          "AVENIDA JOAQUIM DA COSTA LIMA",
          "MANICORÉ",
          "RUA MANAUS",
          "ESTRADA DO BARRO VERMELHO",
          "RUA SÁ CARNEIRO",
          "ESTRADA DO BARRO VERMELHO",
          "AVENIDA SAMI",
          "RUA RECIFE",
          "TRAVESSA TREZE",
          "ESTRADA DO BARRO VERMELHO",
          "RUA VITORINO PALHARES",
          "AVENIDA JOAQUIM DA COSTA LIMA - LADO ÍMPAR",
          "TRAVESSA 20",
          "RUA CARIOCA",
          "RUA RIGOLETO",
          "AVENIDA SÃO BENTO",
          "AVENIDA SAMI",
          "ESTRADA DO BARRO VERMELHO",
          "RUA AGAÍ",
          "ESTRADA DO BARRO VERMELHO",
          "RUA GUARARAPES",
          "R. LUIS ALVES FRANÇA",
          "TRAVESSA DEZESSEIS",
          "AVENIDA PARQUE VÁRZEA DO CARMO",
          "TRAVESSA TRINTA E TRÊS",
          "ESTRADA DO BARRO VERMELHO",
          "TRAVESSA TRÊS",
          "RUA HAVAI",
          "TRAVESSA SETE",
          "RUA TUIUTI",
          "RUA TOBIAS BARRETO",
          "TRAVESSA DOIS",
          "RUA DOIS",
          "RUA ESTRELA D'ALVA",
          "AVENIDA PARQUE VÁRZEA DO CARMO",
          "TRAVESSA 22",
          "RUA PIRAQUÊ",
          "RUA AGAÍ",
          "RUA ANDIRA",
          "RUA GUASSUPI (CJ B VERMELHO)",
          "RUA AMARATINA",
          "RUA CARAMURU",
          "ESTRADA DO BARRO VERMELHO",
          "ESTRADA DO BARRO VERMELHO",
          "RUA PARAÍSO",
          "TRAVESSA TRINTA E TRÊS",
          "RUA MADRE SILVA",
          "RUA TUIUTI",
          "RUA XAVANTES",
          "RUA ANDIRA",
          "RUA JOSÉ GONÇALVES LEAL",
          "RUA PIRATININGA",
          "RUA GUATAMBU",
          "RUA TRINTA E QUATRO",
          "RUA ANAJAS",
          "RUA ARIAPO",
          "TRAVESSA VINTE E OITO",
          "RUA ANDIRA",
          "RUA AGAÍ",
          "RUA SETE SEM TERRA",
          "RUA FLORESTAL",
          "RUA CARIOCA",
          "RUA SIDÔNIO PAES",
          "RUA SIDÔNIO PAES",
          "RUA ANDIRA",
          "TRAVESSA TRINTA",
          "RUA ANDIRA",
          "RUA IJUÍ",
          "AVENIDA PARQUE VÁRZEA DO CARMO",
          "RUA ALDEBARA",
          "RUA ANDIRA",
          "RUA LUTHER KING",
          "TRAVESSA TRINTA E QUATRO",
          "RUA ANAJAS",
          "RUA PARAÍSO",
          "RUA BELO HORIZONTE",
          "ESTRADA DO BARRO VERMELHO",
          "AVENIDA ATLÂNTICA",
          "ESTRADA DO BABI",
          "RUA CABO BRANCO",
          "RUA APIACAS",
          "RUA TUIUTI",
          "RUA CUIABÁ",
          "SEM TERRA",
          "RUA GUASSUPI (CJ B VERMELHO)",
          "AVENIDA JOAQUIM DA COSTA LIMA",
          "RUA AJURANA",
          "CAMINHO GROTA FUNDA",
          "RUA SÃO LUÍS",
          "RUA ALMIRANTE PENA GATO",
          "RUA ROBERTO SILVEIRA",
          "RUA CAMARATUBA",
          "RUA ARIAPO",
          "RUA AMARUI",
          "RUA IBITINGA",
          "RUA CAMARATUBA",
          "RUA TUIUTI",
          "RUA CAMARATUBA",
          "RUA AGAÍ",
          "RUA OCIDENTAL",
          "RUA AIACA",
          "RUA CAMPINAS",
          "TRAVESSA TERESINHA",
          "RUA SANTA AMÉLIA",
          "AVENIDA PARQUE VÁRZEA DO CARMO",
          "AVENIDA JOAQUIM DA COSTA LIMA",
          "RUA CURUPAITI",
          "RUA TUIUTI",
          "RUA TUIUTI",
          "RUA AMARUI",
          "RUA ALCIONE",
          "RUA SIRIUS",
          "RUA DOS ADVOGADOS",
          "RUA SIDÔNIO PAES",
          "RUA ITAMARACÁ",
          "RUA JURUÁ",
          "RUA DOS ADVOGADOS",
          "RUA FLORESTA",
          "RUA IJUÍ",
          "RUA BARÃO DE CONGONHAS",
          "RUA ITUXE",
          "AVENIDA CAMPINAS",
          "RUA JOÃO PESSOA",
          "RUA ACEGUA",
          "ESTRADA BELFORD ROXO",
          "TRAVESSA TREZE",
          "RUA PARAGUAÇU",
          "AVENIDA ESTRELA BRANCA",
          "AVENIDA ALBERTO SAMPAIO",
          "RUA ANAJAS",
          "TRAVESSA VINTE E SEIS",
          "RUA TUIUTI",
          "AVENIDA PARQUE VÁRZEA DO CARMO",
          "RUA COMERCIAL",
          "RUA ARACAJU",
          "RUA TAPEROA",
          "RUA HAVAI",
          "RUA JOSÉ GONÇALVES LEAL/ ANTIGA RUA GOIÂNIA",
          "RUA DONA SOFIA",
          "FONTE DA ROSA",
          "RUA FLORESTAL",
          "TRAVESSA VINTE",
          "RUA COMERCIAL",
          "RUA AMARAGI",
          "RUA 18",
          "TRAVESSA VINTE",
          "RUA ANDIARA",
          "RUA TATUI",
          "AVENIDA BELFORD ROXO",
          "TRAVESSA TRINTA E TRÊS",
          "RUA ESOPO",
          "RUA IJUÍ",
          "RUA AMARAGI",
          "RUA GUASSUPI",
          "RUA AMARUI",
          "RUA DOS MÉDICOS",
          "RUA ACAPU",
          "RUA AGAÍ",
          "TRAVESSA 29",
          "RUA AÇU",
          "TRAVESSA QUINZE",
          "RUA BARÃO DE CONGONHAS",
          "RUA JABRE",
          "BECO FORTALEZA",
          "RUA ANDIRA",
          "RUA TURUNA",
          "TRAVESSA DEZ",
          "RUA DAS CAMÉLIAS",
          "AVENIDA PARQUE VÁRZEA DO CARMO",
          "RUA ABIRU",
          "AVENIDA BEIRA RIO",
          "TRAVESSA DEZESSETE",
          "RUA AGAÍ",
          "RUA ACAPU",
          "RUA SIDÔNIO PAES",
          "RUA PARAGUAÇU",
          "AVENIDA UM",
          "ESTRADA DO BARRO VERMELHO",
          "RUA ARIAPO",
          "TRAVESSA VINTE E SEIS",
          "TRAVESSA QUATRO",
          "RUA PORTO VELHO",
          "RUA ROBERTO SILVEIRA",
          "RUA TUIUTI",
          "TRAVESSA DA PAZ",
          "RUA ARACUA",
          "RUA AMARAGI",
          "RUA GONÇALVES CRESPO",
          "ESTRADA DO BARRO VERMELHO",
          "RUA ACAPU",
          "AVENIDA BELFORD ROXO",
          "AVENIDA JOAQUIM DA COSTA LIMA - LADO ÍMPAR",
          "RUA JAÚ",
          "AVENIDA JOAQUIM DA COSTA LIMA",
          "RUA ITORORÓS",
          "RUA RECIFE",
          "RUA ITORORÓS",
          "AVENIDA DUQUE DE BRAGANÇA",
          "TRAVESSA TREZE",
          "RUA TATUI",
          "RUA AGAÍ",
          "RUA ACEGUA",
          "RUA ARIAPO",
          "TRAVESSA ONZE",
          "RUA CARAMURU",
          "AVENIDA BELFORD ROXO",
          "TRAVESSA DEZESSEIS",
          "RUA ANAJAS",
          "RUA TUPACERETA",
          "RUA TUIUTI",
          "RUA SIDÔNIO PAES",
          "AVENIDA JOAQUIM DA COSTA LIMA",
          "RUA APIACÁS",
          "GUASSUPI",
          "AVENIDA BELFORD ROXO",
          "RUA ANAJAS",
          "RUA ALTAMIRO BARONI",
          "RUA AIBU",
          "TRAVESSA VINTE E CINCO",
          "RUA AMARAGI",
          "RUA QUATRO",
          "RUA AMARAU",
          "AVENIDA PARQUE VÁRZEA DO CARMO",
          "RUA PORTO ALEGRE",
          "RUA TUIUTI",
          "RUA AGAÍ",
          "RUA VALPARAÍBA",
          "RUA DOIS",
          "TRAVESSA VINTE",
          "TRAVESSA 11",
          "AVENIDA SÃO BENTO",
          "RUA NOVA",
          "AVENIDA BELFORD ROXO ",
          "AVENIDA BABI",
          "AVENIDA BELFORD ROXO",
          "RUA PARAGUAÇU",
          "RUA BELO HORIZONTE",
          "RUA AJUARA",
          "RUA AMARAGI",
          "RUA TUIUTI",
          "RUA TUIUTI",
          "RUA MAUÁ",
          "AVENIDA JOAQUIM DA COSTA LIMA - LADO PAR",
          "AVENIDA SÃO PAULO",
          "RUA ACAPU",
          "RUA APIACA",
          "RUA ANDIRA",
          "RUA BELÉM",
          "RUA PROJETADA",
          "TRAVESSA VINTE",
          "RUA SIDÔNIO PAES",
          "TRAVESSA VINTE E OITO",
          "TRAVESSA TRÊS",
          "RUA AMARUI",
          "RUA TUIUTI",
          "RUA TUIUTI",
          "RUA BOA VISTA",
          "RUA TUPACERETA",
          "RUA DAS BEGONIAS",
          "RUA AJURANA",
          "TRAVESSA ONZE",
          "RUA ARACUA",
          "RUA CARIOCA",
          "RUA GUASSUPI",
          "RUA PARAÍSO",
          "RUA CURUPAITI",
          "AVENIDA ATLÂNTICA",
          "TRAVESSA TRINTA",
          "RUA PARTICULAR (JD DIMAS FILHO)",
          "RUA AMARUI",
          "RUA MACEIÓ",
          "TRAVESSA DA PAZ",
          "RUA TUIUTI",
          "TRAVESSA SIDÔNIO PAES",
          "RUA BELO HORIZONTE",
          "AVENIDA JOAQUIM DA COSTA LIMA",
          "AVENIDA BELFORD ROXO",
          "ESTRADA DO BARRO VERMELHO",
          "RUA ANAJAS",
          "RUA BARÃO DE CONGONHAS",
          "RUA SIDÔNIO PAES",
          "RUA SETE",
          "RUA AMARUI",
          "RUA NITERÓI",
          "RUA SANTA AMÉLIA",
          "RUA SÃO LUÍS",
          "AVENIDA ATLÂNTICA",
          "RUA TUIUTI",
          "RUA DA GLÓRIA",
          "AVENIDA JOAQUIM DA COSTA LIMA",
          "RUA ITANARI",
          "TRAVESSA CINCO",
          "RUA DOS ENGENHEIROS",
          "RUA AGAÍ",
          "RUA IPÊ",
          "TRAVESSA 9",
          "RUA PROJETADA - SEM TERRA",
          "RUA PARAGUAÇU",
          "AVENIDA SAMI",
          "RUA CABO BRANCO",
          "RUA CAMARATUBA",
          "RUA TOBIAS BARRETO",
          "RUA VALPARAÍBA",
          "RUA IPIXUNA",
          "RUA ARACUA",
          "AVENIDA SAMI",
          "RUA ANAJAS",
          "AVENIDA BELFORD ROXO",
          "TRAVESSA CARIBE",
          "RUA HAVAI",
          "RUA HAVAI",
          "RUA PORTO VELHO",
          "RUA BELO HORIZONTE",
          "RUA LUÍS DELFINO",
          "RUA JOSÉ GONÇALVES LEAL",
          "TRAVESSA VINTE E TRÊS",
          "AVENIDA UM",
          "RUA TUPACERETA",
          "RUA ARIAPO",
          "RUA TUIUTI",
          "RUA AGAÍ",
          "TRAVESSA TRINTA E OITO",
          "RUA SÃO LUÍS",
          "RUA JOSÉ GONÇALVES LEAL",
          "RUA ACAPU",
          "RUA AGAÍ (TRAVESSA QUINZE)",
          "RUA HAVAI",
          "RUA ESTRELA D'ALVA",
          "RUA ERNESTO PINHEIRO BARCELOS",
          "SEM TERRA",
          "RUA AMARAGI",
          "AVENIDA ATLÂNTICA",
          "RUA IBITINGA",
          "TRAVESSA QUATRO",
          "RUA HAVAI",
          "RUA NOVA",
          "AVENIDA ALBERTO SAMPAIO",
          "RUA BELÉM",
          "RUA AGAÍ",
          "AVENIDA PARQUE VÁRZEA DO CARMO",
          "RUA MANAUS",
          "TRAVESSA VINTE E UM",
          "RUA JABRE",
          "TRAVESSA VINTE E SETE",
          "RUA SANTA AMÉLIA",
          "RUA GUATAPARA",
          "RUA GONÇALVES CRESPO",
          "AVENIDA ALBERTO SAMPAIO",
          "RUA HAVAI",
          "RUA AGAÍ",
          "RUA SIRIUS",
          "RUA ROBERTO SILVEIRA",
          "RUA APIACA",
          "TRAVESSA DA PAZ",
          "RUA AMARATINA",
          "RUA SIRIUS",
          "TRAVESSA TRINTA E NOVE",
          "RUA SANTA AMÉLIA",
          "RUA TUPACERETA",
          "AVENIDA JOAQUIM DA COSTA LIMA",
          "TRAVESSA VINTE E TRÊS",
          "ESTRADA DO BARRO VERMELHO",
          "RUA CURUPAITI",
          "RUA GUATAPARA",
          "RUA AMARUI",
          "RUA JOÃO PESSOA",
          "RUA 6 SEM TERRA ",
          "RUA PARAÍSO",
          "TRAVESSA TRINTA E QUATRO",
          "AVENIDA SAMI",
          "TRAVESSA TREZE",
          "RUA HARRY TRHUMAN",
          "RUA CATANDUVAS",
          "AVENIDA SAMI",
          "RUA UM (SEM TERRA)",
          "TRAVESSA 18",
          "TRAVESSA VINTE E QUATRO",
          "RUA SÃO LUÍS",
          "RUA ARACAJU",
          "AVENIDA BELFORD ROXO",
          "RUA AMARAGI",
          "TRAVESSA VINTE E NOVE",
          "RUA FLORESTAL",
          "RUA GUARARAPES",
          "RUA CUIABÁ",
          "RUA AGAÍ",
          "AVENIDA SAMI",
          "RUA AMARAGI",
          "RUA GUATAMBU",
          "RUA MACEIÓ",
          "RUA BELO HORIZONTE",
          "RUA JABRE",
          "RUA ACEGUA",
          "RUA SÃO SALVADOR",
          "RUA APIACA",
          "RUA CAMARATUBA",
          "RUA VITORINO PALHARES",
          "RUA ANDIARA",
          "RUA ANDIRA",
          "RUA LUTHER KING",
          "RUA IPÊ",
          "RUA ARACUA",
          "RUA TUIUTI",
          "RUA TUPACERETA",
          "RUA PARAGUAÇU",
          "RUA CAMPINAS",
          "RUA LUIZ ALVES FRANÇA",
          "AVENIDA SAMI",
          "RUA FLORESTAL",
          "RUA SÃO LUÍS",
          "TRAVESSA TRINTA E QUATRO",
          "RUA IPÊ",
          "TRAVESSA QUARENTA (CONJ BARRO VERMELHO)",
          "RUA BANGUEL",
          "RUA NATAL",
          "RUA XAVANTES",
          "RUA AJURANA",
          "RUA JUNQUEIRA FREIRE",
          "TRAVESSA SETE",
          "TRAVESSA VINTE E DOIS",
          "RUA ACAPU",
          "RUA ARACAJU",
          "ESTRADA DO BARRO VERMELHO",
          "AVENIDA JOAQUIM DA COSTA LIMA",
          "RUA MANAUS",
          "TRAVESSA TRINTA",
          "RUA CARAMURU",
          "RUA CATANDUVAS",
          "RUA AMARAGI",
          "RUA NITERÓI",
          "RUA GUARARAPES",
          "RUA RIGOLETO",
          "RUA ARACAJU",
          "RUA LAGUNA",
          "RUA XAVANTES",
          "RUA JAGUARIBE",
          "RUA DOS MÉDICOS",
          "RUA VITORINO PALHARES",
          "RUA VALPARAÍBA",
          "RUA UM",
          "RUA ESOPO",
          "RUA ELZA MATULEVICIUS GONÇALVES",
          "RUA AGAÍ/ TRAVESSA 28",
          "RUA SÃO LUÍS",
          "RUA FLORESTA",
          "RUA RIO BRANCO",
          "RUA AMARUI",
          "RUA ITORORÓS",
          "RUA ARIAPO",
          "RUA SÃO LUÍS",
          "AVENIDA SAMI",
          "RUA DOS MÉDICOS",
          "RUA ANTÔNIO PARREIRAS",
          "ESTRADA DO BARRO VERMELHO",
          "TRAVESSA TRINTA E TRÊS",
          "RUA SIDÔNIO PAES",
          "RUA NOVA",
          "TRAVESSA VINTE",
          "RUA ACAPU",
          "RUA SIDÔNIO PAES",
          "RUA SÃO PAULO",
          "RUA TUIUTI",
          "RUA ITU",
          "ESTRADA DO BARRO VERMELHO",
          "RUA AGAÍ",
          "RUA ACAPU",
          "RUA GUATAPARA",
          "TRAVESSA DEZOITO",
          "RUA PARAGUAÇU",
          "TRAVESSA TRINTA E TRÊS",
          "RUA ARACAJU",
          "RUA CURUPAITI",
          "Rua Agaí",
          "RUA ALDEBARA",
          "RUA SIDÔNIO PAES",
          "SEM TERRA",
          "RUA TUIUTI",
          "RUA BECO DO MATO",
          "RUA GUASSUPI",
          "RUA ANAJAS",
          "RUA JOÃO PESSOA",
          "TRAVESSA DOIS",
          "ESTRADA DO BARRO VERMELHO",
          "RUA CURUPAITI",
          "RUA TATUI",
          "TRAVESSA DEZOITO",
          "AVENIDA PARQUE VÁRZEA DO CARMO",
          "RUA XAVANTES",
          "RUA JABRE",
          "RUA AGAÍ",
          "RUA APIACA",
          "AVENIDA UM",
          "RUA 4 ( SEM TERRA )",
          "RUA TUIUTI",
          "ESTRADA DO BARRO VERMELHO",
          "RUA NATUBA",
          "RUA AMARATINA"
         ],
         "xaxis": "x",
         "yaxis": "y"
        }
       ],
       "layout": {
        "barmode": "relative",
        "legend": {
         "tracegroupgap": 0
        },
        "margin": {
         "t": 60
        },
        "template": {
         "data": {
          "bar": [
           {
            "error_x": {
             "color": "#2a3f5f"
            },
            "error_y": {
             "color": "#2a3f5f"
            },
            "marker": {
             "line": {
              "color": "#E5ECF6",
              "width": 0.5
             },
             "pattern": {
              "fillmode": "overlay",
              "size": 10,
              "solidity": 0.2
             }
            },
            "type": "bar"
           }
          ],
          "barpolar": [
           {
            "marker": {
             "line": {
              "color": "#E5ECF6",
              "width": 0.5
             },
             "pattern": {
              "fillmode": "overlay",
              "size": 10,
              "solidity": 0.2
             }
            },
            "type": "barpolar"
           }
          ],
          "carpet": [
           {
            "aaxis": {
             "endlinecolor": "#2a3f5f",
             "gridcolor": "white",
             "linecolor": "white",
             "minorgridcolor": "white",
             "startlinecolor": "#2a3f5f"
            },
            "baxis": {
             "endlinecolor": "#2a3f5f",
             "gridcolor": "white",
             "linecolor": "white",
             "minorgridcolor": "white",
             "startlinecolor": "#2a3f5f"
            },
            "type": "carpet"
           }
          ],
          "choropleth": [
           {
            "colorbar": {
             "outlinewidth": 0,
             "ticks": ""
            },
            "type": "choropleth"
           }
          ],
          "contour": [
           {
            "colorbar": {
             "outlinewidth": 0,
             "ticks": ""
            },
            "colorscale": [
             [
              0,
              "#0d0887"
             ],
             [
              0.1111111111111111,
              "#46039f"
             ],
             [
              0.2222222222222222,
              "#7201a8"
             ],
             [
              0.3333333333333333,
              "#9c179e"
             ],
             [
              0.4444444444444444,
              "#bd3786"
             ],
             [
              0.5555555555555556,
              "#d8576b"
             ],
             [
              0.6666666666666666,
              "#ed7953"
             ],
             [
              0.7777777777777778,
              "#fb9f3a"
             ],
             [
              0.8888888888888888,
              "#fdca26"
             ],
             [
              1,
              "#f0f921"
             ]
            ],
            "type": "contour"
           }
          ],
          "contourcarpet": [
           {
            "colorbar": {
             "outlinewidth": 0,
             "ticks": ""
            },
            "type": "contourcarpet"
           }
          ],
          "heatmap": [
           {
            "colorbar": {
             "outlinewidth": 0,
             "ticks": ""
            },
            "colorscale": [
             [
              0,
              "#0d0887"
             ],
             [
              0.1111111111111111,
              "#46039f"
             ],
             [
              0.2222222222222222,
              "#7201a8"
             ],
             [
              0.3333333333333333,
              "#9c179e"
             ],
             [
              0.4444444444444444,
              "#bd3786"
             ],
             [
              0.5555555555555556,
              "#d8576b"
             ],
             [
              0.6666666666666666,
              "#ed7953"
             ],
             [
              0.7777777777777778,
              "#fb9f3a"
             ],
             [
              0.8888888888888888,
              "#fdca26"
             ],
             [
              1,
              "#f0f921"
             ]
            ],
            "type": "heatmap"
           }
          ],
          "heatmapgl": [
           {
            "colorbar": {
             "outlinewidth": 0,
             "ticks": ""
            },
            "colorscale": [
             [
              0,
              "#0d0887"
             ],
             [
              0.1111111111111111,
              "#46039f"
             ],
             [
              0.2222222222222222,
              "#7201a8"
             ],
             [
              0.3333333333333333,
              "#9c179e"
             ],
             [
              0.4444444444444444,
              "#bd3786"
             ],
             [
              0.5555555555555556,
              "#d8576b"
             ],
             [
              0.6666666666666666,
              "#ed7953"
             ],
             [
              0.7777777777777778,
              "#fb9f3a"
             ],
             [
              0.8888888888888888,
              "#fdca26"
             ],
             [
              1,
              "#f0f921"
             ]
            ],
            "type": "heatmapgl"
           }
          ],
          "histogram": [
           {
            "marker": {
             "pattern": {
              "fillmode": "overlay",
              "size": 10,
              "solidity": 0.2
             }
            },
            "type": "histogram"
           }
          ],
          "histogram2d": [
           {
            "colorbar": {
             "outlinewidth": 0,
             "ticks": ""
            },
            "colorscale": [
             [
              0,
              "#0d0887"
             ],
             [
              0.1111111111111111,
              "#46039f"
             ],
             [
              0.2222222222222222,
              "#7201a8"
             ],
             [
              0.3333333333333333,
              "#9c179e"
             ],
             [
              0.4444444444444444,
              "#bd3786"
             ],
             [
              0.5555555555555556,
              "#d8576b"
             ],
             [
              0.6666666666666666,
              "#ed7953"
             ],
             [
              0.7777777777777778,
              "#fb9f3a"
             ],
             [
              0.8888888888888888,
              "#fdca26"
             ],
             [
              1,
              "#f0f921"
             ]
            ],
            "type": "histogram2d"
           }
          ],
          "histogram2dcontour": [
           {
            "colorbar": {
             "outlinewidth": 0,
             "ticks": ""
            },
            "colorscale": [
             [
              0,
              "#0d0887"
             ],
             [
              0.1111111111111111,
              "#46039f"
             ],
             [
              0.2222222222222222,
              "#7201a8"
             ],
             [
              0.3333333333333333,
              "#9c179e"
             ],
             [
              0.4444444444444444,
              "#bd3786"
             ],
             [
              0.5555555555555556,
              "#d8576b"
             ],
             [
              0.6666666666666666,
              "#ed7953"
             ],
             [
              0.7777777777777778,
              "#fb9f3a"
             ],
             [
              0.8888888888888888,
              "#fdca26"
             ],
             [
              1,
              "#f0f921"
             ]
            ],
            "type": "histogram2dcontour"
           }
          ],
          "mesh3d": [
           {
            "colorbar": {
             "outlinewidth": 0,
             "ticks": ""
            },
            "type": "mesh3d"
           }
          ],
          "parcoords": [
           {
            "line": {
             "colorbar": {
              "outlinewidth": 0,
              "ticks": ""
             }
            },
            "type": "parcoords"
           }
          ],
          "pie": [
           {
            "automargin": true,
            "type": "pie"
           }
          ],
          "scatter": [
           {
            "fillpattern": {
             "fillmode": "overlay",
             "size": 10,
             "solidity": 0.2
            },
            "type": "scatter"
           }
          ],
          "scatter3d": [
           {
            "line": {
             "colorbar": {
              "outlinewidth": 0,
              "ticks": ""
             }
            },
            "marker": {
             "colorbar": {
              "outlinewidth": 0,
              "ticks": ""
             }
            },
            "type": "scatter3d"
           }
          ],
          "scattercarpet": [
           {
            "marker": {
             "colorbar": {
              "outlinewidth": 0,
              "ticks": ""
             }
            },
            "type": "scattercarpet"
           }
          ],
          "scattergeo": [
           {
            "marker": {
             "colorbar": {
              "outlinewidth": 0,
              "ticks": ""
             }
            },
            "type": "scattergeo"
           }
          ],
          "scattergl": [
           {
            "marker": {
             "colorbar": {
              "outlinewidth": 0,
              "ticks": ""
             }
            },
            "type": "scattergl"
           }
          ],
          "scattermapbox": [
           {
            "marker": {
             "colorbar": {
              "outlinewidth": 0,
              "ticks": ""
             }
            },
            "type": "scattermapbox"
           }
          ],
          "scatterpolar": [
           {
            "marker": {
             "colorbar": {
              "outlinewidth": 0,
              "ticks": ""
             }
            },
            "type": "scatterpolar"
           }
          ],
          "scatterpolargl": [
           {
            "marker": {
             "colorbar": {
              "outlinewidth": 0,
              "ticks": ""
             }
            },
            "type": "scatterpolargl"
           }
          ],
          "scatterternary": [
           {
            "marker": {
             "colorbar": {
              "outlinewidth": 0,
              "ticks": ""
             }
            },
            "type": "scatterternary"
           }
          ],
          "surface": [
           {
            "colorbar": {
             "outlinewidth": 0,
             "ticks": ""
            },
            "colorscale": [
             [
              0,
              "#0d0887"
             ],
             [
              0.1111111111111111,
              "#46039f"
             ],
             [
              0.2222222222222222,
              "#7201a8"
             ],
             [
              0.3333333333333333,
              "#9c179e"
             ],
             [
              0.4444444444444444,
              "#bd3786"
             ],
             [
              0.5555555555555556,
              "#d8576b"
             ],
             [
              0.6666666666666666,
              "#ed7953"
             ],
             [
              0.7777777777777778,
              "#fb9f3a"
             ],
             [
              0.8888888888888888,
              "#fdca26"
             ],
             [
              1,
              "#f0f921"
             ]
            ],
            "type": "surface"
           }
          ],
          "table": [
           {
            "cells": {
             "fill": {
              "color": "#EBF0F8"
             },
             "line": {
              "color": "white"
             }
            },
            "header": {
             "fill": {
              "color": "#C8D4E3"
             },
             "line": {
              "color": "white"
             }
            },
            "type": "table"
           }
          ]
         },
         "layout": {
          "annotationdefaults": {
           "arrowcolor": "#2a3f5f",
           "arrowhead": 0,
           "arrowwidth": 1
          },
          "autotypenumbers": "strict",
          "coloraxis": {
           "colorbar": {
            "outlinewidth": 0,
            "ticks": ""
           }
          },
          "colorscale": {
           "diverging": [
            [
             0,
             "#8e0152"
            ],
            [
             0.1,
             "#c51b7d"
            ],
            [
             0.2,
             "#de77ae"
            ],
            [
             0.3,
             "#f1b6da"
            ],
            [
             0.4,
             "#fde0ef"
            ],
            [
             0.5,
             "#f7f7f7"
            ],
            [
             0.6,
             "#e6f5d0"
            ],
            [
             0.7,
             "#b8e186"
            ],
            [
             0.8,
             "#7fbc41"
            ],
            [
             0.9,
             "#4d9221"
            ],
            [
             1,
             "#276419"
            ]
           ],
           "sequential": [
            [
             0,
             "#0d0887"
            ],
            [
             0.1111111111111111,
             "#46039f"
            ],
            [
             0.2222222222222222,
             "#7201a8"
            ],
            [
             0.3333333333333333,
             "#9c179e"
            ],
            [
             0.4444444444444444,
             "#bd3786"
            ],
            [
             0.5555555555555556,
             "#d8576b"
            ],
            [
             0.6666666666666666,
             "#ed7953"
            ],
            [
             0.7777777777777778,
             "#fb9f3a"
            ],
            [
             0.8888888888888888,
             "#fdca26"
            ],
            [
             1,
             "#f0f921"
            ]
           ],
           "sequentialminus": [
            [
             0,
             "#0d0887"
            ],
            [
             0.1111111111111111,
             "#46039f"
            ],
            [
             0.2222222222222222,
             "#7201a8"
            ],
            [
             0.3333333333333333,
             "#9c179e"
            ],
            [
             0.4444444444444444,
             "#bd3786"
            ],
            [
             0.5555555555555556,
             "#d8576b"
            ],
            [
             0.6666666666666666,
             "#ed7953"
            ],
            [
             0.7777777777777778,
             "#fb9f3a"
            ],
            [
             0.8888888888888888,
             "#fdca26"
            ],
            [
             1,
             "#f0f921"
            ]
           ]
          },
          "colorway": [
           "#636efa",
           "#EF553B",
           "#00cc96",
           "#ab63fa",
           "#FFA15A",
           "#19d3f3",
           "#FF6692",
           "#B6E880",
           "#FF97FF",
           "#FECB52"
          ],
          "font": {
           "color": "#2a3f5f"
          },
          "geo": {
           "bgcolor": "white",
           "lakecolor": "white",
           "landcolor": "#E5ECF6",
           "showlakes": true,
           "showland": true,
           "subunitcolor": "white"
          },
          "hoverlabel": {
           "align": "left"
          },
          "hovermode": "closest",
          "mapbox": {
           "style": "light"
          },
          "paper_bgcolor": "white",
          "plot_bgcolor": "#E5ECF6",
          "polar": {
           "angularaxis": {
            "gridcolor": "white",
            "linecolor": "white",
            "ticks": ""
           },
           "bgcolor": "#E5ECF6",
           "radialaxis": {
            "gridcolor": "white",
            "linecolor": "white",
            "ticks": ""
           }
          },
          "scene": {
           "xaxis": {
            "backgroundcolor": "#E5ECF6",
            "gridcolor": "white",
            "gridwidth": 2,
            "linecolor": "white",
            "showbackground": true,
            "ticks": "",
            "zerolinecolor": "white"
           },
           "yaxis": {
            "backgroundcolor": "#E5ECF6",
            "gridcolor": "white",
            "gridwidth": 2,
            "linecolor": "white",
            "showbackground": true,
            "ticks": "",
            "zerolinecolor": "white"
           },
           "zaxis": {
            "backgroundcolor": "#E5ECF6",
            "gridcolor": "white",
            "gridwidth": 2,
            "linecolor": "white",
            "showbackground": true,
            "ticks": "",
            "zerolinecolor": "white"
           }
          },
          "shapedefaults": {
           "line": {
            "color": "#2a3f5f"
           }
          },
          "ternary": {
           "aaxis": {
            "gridcolor": "white",
            "linecolor": "white",
            "ticks": ""
           },
           "baxis": {
            "gridcolor": "white",
            "linecolor": "white",
            "ticks": ""
           },
           "bgcolor": "#E5ECF6",
           "caxis": {
            "gridcolor": "white",
            "linecolor": "white",
            "ticks": ""
           }
          },
          "title": {
           "x": 0.05
          },
          "xaxis": {
           "automargin": true,
           "gridcolor": "white",
           "linecolor": "white",
           "ticks": "",
           "title": {
            "standoff": 15
           },
           "zerolinecolor": "white",
           "zerolinewidth": 2
          },
          "yaxis": {
           "automargin": true,
           "gridcolor": "white",
           "linecolor": "white",
           "ticks": "",
           "title": {
            "standoff": 15
           },
           "zerolinecolor": "white",
           "zerolinewidth": 2
          }
         }
        },
        "xaxis": {
         "anchor": "y",
         "domain": [
          0,
          1
         ],
         "title": {
          "text": "Endereço"
         }
        },
        "yaxis": {
         "anchor": "x",
         "domain": [
          0,
          1
         ],
         "title": {
          "text": "count"
         }
        }
       }
      }
     },
     "metadata": {},
     "output_type": "display_data"
    },
    {
     "data": {
      "application/vnd.plotly.v1+json": {
       "config": {
        "plotlyServerURL": "https://plot.ly"
       },
       "data": [
        {
         "alignmentgroup": "True",
         "bingroup": "x",
         "hovertemplate": "Bairro=%{x}<br>count=%{y}<extra></extra>",
         "legendgroup": "",
         "marker": {
          "color": "#636efa",
          "pattern": {
           "shape": ""
          }
         },
         "name": "",
         "offsetgroup": "",
         "orientation": "v",
         "showlegend": false,
         "type": "histogram",
         "x": [
          "BARRO VERMELHO",
          "BARRO VERMELHO",
          "HITERLAND",
          "PARQUE SÃO BERNARDO",
          "BARRO VERMELHO",
          "PARQUE SÃO BERNARDO",
          "BARRO VERMELHO",
          "VILA VIÇOSA",
          "SANTA AMELIA",
          "HITERLAND",
          "BARRO VERMELHO",
          "BARRO VERMELHO",
          "SANTA AMÉLIA",
          "BARRO VERMELHO",
          "PARQUE SANTA AMÉLIA",
          "SITIO RETIRO FELIZ",
          "PARQUE SÃO BERNARDO",
          "JARDIM DAS ESTRELAS",
          "SANTA AMÉLIA",
          "BARRO VERMELHO",
          "HITERLAND",
          "NOVA PIAM",
          "HITERLAND",
          "VILA MAIA",
          "PARQUE SÃO BERNARDO",
          "PARQUE SÃO BERNARDO",
          "BARRO VERMELHO",
          "SANTA AMÉLIA",
          "BARRO VERMELHO",
          "PARQUE SÃO BERNARDO",
          "RECANTUS",
          "VILA VIÇOSA",
          "BARRO VERMELHO",
          "SANTA AMÉLIA",
          "BARRO VERMELHO",
          "SANTA AMÉLIA",
          "BARRO VERMELHO",
          "HITERLAND",
          "INTERLAND",
          "HITERLAND",
          "SANTA AMÉLIA",
          "SANTA AMÉLIA",
          "HITERLAND",
          "SÃO BERNARDO",
          "BARRO VERMELHO",
          "HITERLAND",
          "PARQUE SÃO BERNARDO",
          "SANTA AMÉLIA",
          "BARRO VERMELHO",
          "BARRO VERMELHO",
          "SITIO RETIRO FELIZ",
          "SANTA AMÉLIA",
          "BARRO VERMELHO",
          "SANTA AMÉLIA",
          "BARRO VERMELHO",
          "HITERLAND",
          "PARQUE SÃO BERNARDO",
          "BARRO VERMELHO",
          "SANTA AMÉLIA",
          "PRIMUS",
          "VILA VIÇOSA",
          "VILA VIÇOSA",
          "BARRO VERMELHO",
          "VILA MAIA",
          "SANTA AMÉLIA",
          "SANTA AMÉLIA",
          "BARRO VERMELHO",
          "BARRO VERMELHO",
          "SANTA AMÉLIA",
          "SANTA AMÉLIA",
          "PARQUE SÃO BERNARDO",
          "HITERLAND",
          "BARRO VERMELHO",
          "SANTA AMÉLIA",
          "BARRO VERMELHO",
          "SANTA AMÉLIA",
          "SANTA AMÉLIA",
          "BARRO VERMELHO",
          "PARQUE SÃO BERNARDO",
          "PARQUE SÃO BERNARDO",
          "NOVA PIAM",
          "SANTA AMÉLIA",
          "PARQUE SÃO BERNARDO",
          "SÃO JORGE",
          "SANTA AMÉLIA",
          "SANTA AMÉLIA",
          "PARQUE SÃO BERNARDO",
          "BARRO VERMELHO",
          "SANTA AMÉLIA",
          "PARQUE SÃO BERNARDO",
          "HITERLAND",
          "PARQUE SANTA AMÉLIA",
          "BARRO VERMELHO",
          "PARQUE SÃO BERNARDO",
          "HITERLAND",
          "BABI",
          "SANTA AMÉLIA",
          "PARQUE SÃO BERNARDO",
          "SANTA AMÉLIA",
          "BARRO VERMELHO",
          "PARQUE SÃO BERNARDO",
          "PARQUE SÃO BERNARDO",
          "PARQUE SANTA AMÉLIA",
          "SANTA AMÉLIA",
          "SANTA AMÉLIA",
          "BARRO VERMELHO",
          "PARQUE AMERICANO",
          "HITERLAND",
          "BARRO VERMELHO",
          "BARRO VERMELHO",
          "BARRO VERMELHO",
          "BARRO VERMELHO",
          "BARRO VERMELHO",
          "PARQUE SÃO BERNARDO",
          "BARRO VERMELHO",
          "SANTA AMÉLIA",
          "BARRO VERMELHO",
          "BARRO VERMELHO",
          "PARQUE SÃO BERNARDO",
          "VILA ERA",
          "PARQUE SÃO BERNARDO",
          "RECANTUS",
          "HITERLAND",
          "PARQUE SÃO BERNARDO",
          "PARQUE AMERICANO",
          "JARDIM DAS ESTRELAS",
          "BARRO VERMELHO",
          "PARQUE SÃO BERNARDO",
          "PARQUE SÃO BERNARDO",
          "VILA MAIA",
          "BARRO VERMELHO",
          "PARQUE SÃO BERNARDO",
          "SANTA AMÉLIA",
          "BARRO VERMELHO",
          "BARRO VERMELHO",
          "SÃO BERNARDO",
          "RECANTUS",
          "SANTA AMÉLIA",
          "SANTA AMÉLIA",
          "SANTA AMÉLIA",
          "HITERLAND",
          "BARRO VERMELHO",
          "PARQUE SANTA AMÉLIA",
          "BARRO VERMELHO",
          "PARQUE SÃO BERNARDO",
          "PARQUE SÃO BERNARDO",
          "SANTA AMÉLIA",
          "SANTA AMÉLIA",
          "SANTA AMÉLIA",
          "PARQUE SÃO BERNARDO",
          "BARRO VERMELHO",
          "BOA ESPERANÇA",
          "VILA MAIA",
          "BARRO VERMELHO",
          "PARQUE SÃO BERNARDO",
          "PARQUE SÃO BERNARDO",
          "VILA MAIA",
          "PARQUE SÃO BERNARDO",
          "SANTA AMÉLIA",
          "SANTA AMÉLIA",
          "SANTA AMÉLIA",
          "BARRO VERMELHO",
          "BARRO VERMELHO",
          "SANTA AMÉLIA",
          "SANTA AMELIA",
          "SANTA AMÉLIA",
          "PARQUE SÃO BERNARDO",
          "PARQUE SÃO BERNARDO",
          "HITERLAND",
          "PARQUE SANTA AMÉLIA",
          "SANTA AMÉLIA",
          "PARQUE SÃO BERNARDO",
          "SANTA AMÉLIA",
          "SANTA AMÉLIA",
          "HITERLAND",
          "PARQUE SANTA AMÉLIA",
          "SANTA AMÉLIA",
          "BARRO VERMELHO",
          "PARQUE SÃO BERNARDO",
          "SANTA AMÉLIA",
          "SANTA AMÉLIA",
          "HITERLAND",
          "PARQUE SÃO BERNARDO",
          "BARRO VERMELHO",
          "VILA MAIA",
          "HITERLAND",
          "SANTA AMÉLIA",
          "SANTA AMÉLIA",
          "BARRO VERMELHO",
          "SANTA AMÉLIA",
          "SITIO RETIRO FELIZ",
          "HITERLAND",
          "PARQUE SÃO BERNARDO",
          "SANTA AMÉLIA",
          "SANTA AMÉLIA",
          "XAVANTES",
          "PARQUE SÃO BERNARDO",
          "BARRO VERMELHO",
          "BARRO VERMELHO",
          "BARRO VERMELHO",
          "PRIMUS",
          "PARQUE SÃO BERNARDO",
          "BARRO VERMELHO",
          "HITERLAND",
          "SANTA AMÉLIA",
          "SANTA AMÉLIA",
          "PIAM",
          "BOA ESPERANÇA",
          "SANTA AMÉLIA",
          "BARRO VERMELHO",
          "SANTA AMÉLIA",
          "SANTA AMÉLIA",
          "SÃO BERNARDO",
          "BARRO VERMELHO",
          "HITERLAND",
          "SANTA AMÉLIA",
          "SANTA AMÉLIA",
          "BARRO VERMELHO",
          "SANTA AMÉLIA",
          "SANTA AMÉLIA",
          "SANTA AMÉLIA",
          "HITERLAND",
          "BARRO VERMELHO",
          "BARRO VERMELHO",
          "SANTA AMÉLIA",
          "RECANTUS",
          "PARQUE SÃO BERNARDO",
          "HITERLAND",
          "SANTA AMÉLIA",
          "SANTA AMÉLIA",
          "HITERLAND",
          "PAULINE",
          "VILA MAIA",
          "HITERLAND",
          "HITERLAND",
          "BABI",
          "SANTA AMÉLIA",
          "BARRO VERMELHO",
          "SANTA AMÉLIA",
          "SANTA AMÉLIA",
          "PARQUE SÃO BERNARDO",
          "SANTA AMÉLIA",
          "SANTA AMÉLIA",
          "PARQUE SÃO BERNARDO",
          "SANTA AMÉLIA",
          "HITERLAND",
          "SANTA AMÉLIA",
          "PARQUE SÃO BERNARDO",
          "SANTA AMÉLIA",
          "BARRO VERMELHO",
          "HITERLAND",
          "PARQUE SÃO BERNARDO",
          "PARQUE SÃO BERNARDO",
          "RECANTUS",
          "VILA ERA",
          "PARQUE SÃO BERNARDO",
          "SANTA AMÉLIA",
          "PARQUE SÃO BERNARDO",
          "BARRO VERMELHO",
          "BARRO VERMELHO",
          "SANTA AMÉLIA",
          "NOVA PIAM",
          "JARDIM DAS ESTRELAS",
          "SANTA AMÉLIA",
          "PARQUE SÃO BERNARDO",
          "PARQUE AMERICANO",
          "BARRO VERMELHO",
          "RECANTUS",
          "HITERLAND",
          "SANTA AMÉLIA",
          "BARRO VERMELHO",
          "SÃO BERNARDO",
          "HITERLAND",
          "PARQUE SÃO BERNARDO",
          "PARQUE SÃO BERNARDO",
          "HITERLAND",
          "SÃO BERNARDO",
          "SANTA AMÉLIA",
          "BARRO VERMELHO",
          "DAS GRAÇAS",
          "SANTA AMÉLIA",
          "SITIO RETIRO FELIZ",
          "PARQUE SÃO BERNARDO",
          "Santa Amélia",
          "HITERLAND",
          "BARRO VERMELHO",
          "BARRO VERMELHO",
          "HITERLAND",
          "BARRO VERMELHO",
          "SANTA AMÉLIA",
          "SITIO RETIRO FELIZ",
          "SANTA AMÉLIA",
          "VILA VIÇOSA",
          "BARRO VERMELHO",
          "SANTA AMÉLIA",
          "HITERLAND",
          "BARRO VERMELHO",
          "HITERLAND",
          "PARQUE SÃO BERNARDO",
          "SANTA AMÉLIA",
          "VILA ERA",
          "BARRO VERMELHO",
          "SITIO RETIRO FELIZ",
          "BARRO VERMELHO",
          "SANTA AMÉLIA",
          "BARRO VERMELHO",
          "HITERLAND",
          "SANTA AMÉLIA",
          "SANTA AMÉLIA",
          "SANTA AMÉLIA",
          "BARRO VERMELHO",
          "HITERLAND",
          "HITERLAND",
          "BARRO VERMELHO",
          "PARQUE SÃO BERNARDO",
          "PARQUE SÃO BERNARDO",
          "BARRO VERMELHO",
          "BARRO VERMELHO",
          "SANTA AMÉLIA",
          "BARRO VERMELHO",
          "BARRO VERMELHO",
          "SANTA AMÉLIA",
          "PARQUE SÃO BERNARDO",
          "HITERLAND",
          "NOVA AURORA",
          "BARRO VERMELHO",
          "BARRO VERMELHO",
          "PARQUE SÃO BERNARDO",
          "PAULINE",
          "SANTA AMÉLIA",
          "HITERLAND",
          "PIAM",
          "PARQUE AMERICANO",
          "SANTA AMÉLIA",
          "SANTA AMÉLIA",
          "HITERLAND",
          "HITERLAND",
          "HITERLAND",
          "PARQUE SÃO BERNARDO",
          "BARRO VERMELHO",
          "SANTA AMÉLIA",
          "BARRO VERMELHO",
          "SANTA AMÉLIA",
          "BARRO VERMELHO",
          "SANTA AMÉLIA",
          "SANTA AMÉLIA",
          "BARRO VERMELHO",
          "BARRO VERMELHO",
          "SANTA AMÉLIA",
          "BARRO VERMELHO",
          "PARQUE SÃO BERNARDO",
          "SANTA AMÉLIA",
          "SANTA AMÉLIA",
          "BARRO VERMELHO",
          "PARQUE AMERICANO",
          "PARQUE SÃO BERNARDO",
          "BARRO VERMELHO",
          "PARQUE SÃO BERNARDO",
          "PARQUE SÃO BERNARDO",
          "SITIO RETIRO FELIZ",
          "BARRO VERMELHO",
          "BARRO VERMELHO",
          "BARRO VERMELHO",
          "PARQUE SANTA AMÉLIA",
          "PARQUE AMERICANO",
          "BARRO VERMELHO",
          "HITERLAND",
          "BARRO VERMELHO",
          "VILA VIÇOSA",
          "HITERLAND",
          "PARQUE SÃO BERNARDO",
          "VILA ERA",
          "SANTA AMÉLIA",
          "SÃO JORGE",
          "SANTA AMÉLIA",
          "BARRO VERMELHO",
          "SANTA AMÉLIA",
          "SANTA AMÉLIA",
          "PARQUE SÃO BERNARDO",
          "SANTA AMÉLIA",
          "SANTA AMÉLIA",
          "BARRO VERMELHO",
          "SANTA AMÉLIA",
          "PARQUE SÃO BERNARDO",
          "BARRO VERMELHO",
          "BARRO VERMELHO",
          "BARRO VERMELHO",
          "HITERLAND",
          "HITERLAND",
          "SÃO BERNARDO",
          "SANTA AMÉLIA",
          "RECANTUS",
          "SANTA AMÉLIA",
          "PARQUE SÃO BERNARDO",
          "PARQUE SÃO BERNARDO",
          "VILA ERA",
          "SANTA MARIA",
          "PARQUE SÃO BERNARDO",
          "HITERLAND",
          "PARQUE SÃO BERNARDO",
          "SANTA AMÉLIA",
          "BARRO VERMELHO",
          "SANTA AMÉLIA",
          "SANTA AMÉLIA",
          "SANTA AMÉLIA",
          "PARQUE SÃO BERNARDO",
          "SANTA AMÉLIA",
          "BARRO VERMELHO",
          "VILA VIÇOSA",
          "BARRO VERMELHO",
          "BOA ESPERANÇA",
          "BARRO VERMELHO",
          "HITERLAND",
          "VILA VIÇOSA",
          "BARRO VERMELHO",
          "SANTA AMÉLIA",
          "SANTA AMÉLIA",
          "SANTA MARIA",
          "PARQUE SÃO BERNARDO",
          "BARRO VERMELHO",
          "BARRO VERMELHO",
          "BARRO VERMELHO",
          "VILAR NOVO",
          "PARQUE SÃO BERNARDO",
          "SANTA AMÉLIA",
          "SANTA AMÉLIA",
          "SITIO RETIRO FELIZ",
          "BARRO VERMELHO",
          "BABI",
          "SANTA AMÉLIA",
          "BARRO VERMELHO",
          "SANTA AMÉLIA",
          "SANTA MARIA",
          "SÃO VICENTE",
          "BARRO VERMELHO",
          "PARQUE SÃO BERNARDO",
          "BARRO VERMELHO",
          "PRIMUS",
          "BABI",
          "SANTA AMÉLIA",
          "BARRO VERMELHO",
          "BARRO VERMELHO",
          "PARQUE SÃO BERNARDO",
          "DAS GRAÇAS",
          "BARRO VERMELHO",
          "SANTA AMÉLIA",
          "BARRO VERMELHO",
          "SANTA AMÉLIA",
          "BARRO VERMELHO",
          "SITIO RETIRO FELIZ",
          "BARRO VERMELHO",
          "HITERLAND",
          "VILA JOLA",
          "BARRO VERMELHO",
          "BARRO VERMELHO",
          "JARDIM DAS ESTRELAS",
          "SANTA AMÉLIA",
          "BARRO VERMELHO",
          "VILA MAIA",
          "BARRO VERMELHO",
          "HITERLAND",
          "BARRO VERMELHO",
          "VILA MAIA",
          "PARQUE SÃO BERNARDO",
          "BARRO VERMELHO",
          "SANTA AMÉLIA",
          "BARRO VERMELHO",
          "BARRO VERMELHO",
          "PARQUE SÃO BERNARDO",
          "HITERLAND",
          "PARQUE SÃO BERNARDO",
          "HITERLAND",
          "SANTA AMÉLIA",
          "PARQUE SÃO BERNARDO",
          "VILA ERA",
          "BARRO VERMELHO",
          "HITERLAND",
          "SANTA AMÉLIA",
          "BARRO VERMELHO",
          "HITERLAND",
          "BARRO VERMELHO",
          "BARRO VERMELHO",
          "SANTA AMÉLIA",
          "PARQUE SÃO BERNARDO",
          "PARQUE SÃO BERNARDO",
          "PARQUE SÃO BERNARDO",
          "HITERLAND",
          "BARRO VERMELHO",
          "HITERLAND",
          "PARQUE SÃO BERNARDO",
          "SANTA AMÉLIA",
          "JARDIM DAS ESTRELAS",
          "HITERLAND",
          "BARRO VERMELHO",
          "BARRO VERMELHO",
          "HITERLAND",
          "BARRO VERMELHO",
          "SANTA AMÉLIA",
          "SANTA AMÉLIA",
          "VILA MAIA",
          "SHANGRI-LÁ",
          "SANTA AMÉLIA",
          "SANTA AMELIA",
          "BARRO VERMELHO",
          "SANTA AMÉLIA",
          "BARRO VERMELHO",
          "BARRO VERMELHO",
          "PARQUE SANTA AMÉLIA",
          "SANTA AMÉLIA",
          "VILA SÃO SEBASTIÃO",
          "SANTA AMÉLIA",
          "BARRO VERMELHO",
          "PARQUE SÃO BERNARDO",
          "SANTA AMÉLIA",
          "SANTA AMÉLIA",
          "HITERLAND",
          "SÃO BERNARDO",
          "SANTA AMÉLIA",
          "HITERLAND",
          "PARQUE SANTA AMÉLIA",
          "BARRO VERMELHO",
          "BARRO VERMELHO",
          "SANTA AMÉLIA",
          "SANTA AMÉLIA",
          "SANTA AMÉLIA",
          "PARQUE SANTA AMÉLIA",
          "SANTA AMÉLIA",
          "PARQUE SANTA AMÉLIA",
          "VILA VIÇOSA",
          "HITERLAND",
          "HITERLAND",
          "HITERLAND",
          "JARDIM DAS ESTRELAS",
          "JARDIM DAS ESTRELAS",
          "PARQUE AMERICANO",
          "PARQUE SÃO BERNARDO",
          "DAS GRAÇAS",
          "PARQUE SÃO BERNARDO",
          "PARQUE AMERICANO",
          "PAULINE",
          "PARQUE SÃO BERNARDO",
          "PARQUE AMERICANO",
          "PARQUE SÃO BERNARDO",
          "SANTA AMÉLIA",
          "SANTA AMÉLIA",
          "SANTA AMÉLIA",
          "BOM PASTOR",
          "BARRO VERMELHO",
          "PARQUE SÃO BERNARDO",
          "SANTA MARIA",
          "NOVA AURORA",
          "HITERLAND",
          "BARRO VERMELHO",
          "HITERLAND",
          "SANTA AMÉLIA",
          "BABI",
          "SANTA AMÉLIA",
          "PARQUE SANTA AMÉLIA",
          "VILA VIÇOSA",
          "SANTA AMÉLIA",
          "BARRO VERMELHO",
          "SÃO BERNARDO",
          "SANTA AMÉLIA",
          "BARRO VERMELHO",
          "BABI",
          "SANTA AMÉLIA",
          "BARRO VERMELHO",
          "BARRO VERMELHO",
          "HITERLAND",
          "PARQUE SÃO BERNARDO",
          "BARRO VERMELHO",
          "BARRO VERMELHO",
          "RECANTUS",
          "PARQUE SÃO BERNARDO",
          "SANTA AMÉLIA",
          "VILA ERA",
          "HITERLAND",
          "PARQUE AMERICANO",
          "SANTA AMÉLIA",
          "BARRO VERMELHO",
          "BARRO VERMELHO",
          "PARQUE SÃO BERNARDO",
          "BARRO VERMELHO",
          "PARQUE AMERICANO",
          "HITERLAND",
          "SANTA AMÉLIA",
          "HITERLAND",
          "VILA MAIA",
          "BARRO VERMELHO",
          "NOVA PIAM",
          "SANTA AMÉLIA",
          "BARRO VERMELHO",
          "SÃO BERNARDO",
          "BARRO VERMELHO",
          "BARRO VERMELHO",
          "SANTA AMÉLIA",
          "BARRO VERMELHO",
          "PARQUE SÃO BERNARDO",
          "BARRO VERMELHO",
          "SANTA AMÉLIA",
          "SANTA AMÉLIA",
          "BARRO VERMELHO",
          "BARRO VERMELHO",
          "BOA ESPERANÇA",
          "PARQUE SÃO BERNARDO",
          "HITERLAND",
          "SITIO RETIRO FELIZ",
          "HITERLAND",
          "SANTA AMÉLIA",
          "VILA JOLA",
          "SANTA AMÉLIA",
          "SANTA AMÉLIA",
          "BARRO VERMELHO",
          "PIAM",
          "SAO BERNARDO",
          "CENTRO",
          "VILA VIÇOSA",
          "VILAR NOVO",
          "VILA VIÇOSA",
          "BARRO VERMELHO",
          "BARRO VERMELHO",
          "PARQUE SÃO BERNARDO",
          "BARRO VERMELHO",
          "SANTA AMÉLIA",
          "SANTA AMÉLIA",
          "BARRO VERMELHO",
          "PARQUE SÃO BERNARDO",
          "BARRO VERMELHO",
          "BARRO VERMELHO",
          "HITERLAND",
          "SÃO BERNARDO",
          "HITERLAND",
          "PARQUE SÃO BERNARDO",
          "CENTRO",
          "SANTA AMÉLIA",
          "SANTA AMÉLIA",
          "BARRO VERMELHO",
          "HITERLAND",
          "VILA MAIA",
          "HITERLAND",
          "BARRO VERMELHO",
          "SANTA AMÉLIA",
          "BARRO VERMELHO",
          "NOVA PIAM",
          "SANTA AMÉLIA",
          "SANTA AMÉLIA",
          "HITERLAND",
          "SEM TERRA",
          "VILA MAIA",
          "BARRO VERMELHO",
          "BARRO VERMELHO",
          "BARRO VERMELHO",
          "PRIMUS",
          "PARQUE SÃO BERNARDO",
          "PARQUE SÃO BERNARDO",
          "RECANTUS",
          "BARRO VERMELHO",
          "PARQUE SÃO BERNARDO",
          "SANTA AMÉLIA",
          "HITERLAND",
          "SANTA AMÉLIA",
          "HITERLAND",
          "BARRO VERMELHO",
          "PARQUE SÃO BERNARDO",
          "SANTA AMÉLIA",
          "SANTA AMÉLIA",
          "SANTA AMÉLIA",
          "HITERLAND",
          "HITERLAND",
          "SANTA AMÉLIA",
          "BARRO VERMELHO",
          "BARRO VERMELHO",
          "BARRO VERMELHO",
          "BARRO VERMELHO",
          "BARRO VERMELHO",
          "HITERLAND",
          "HITERLAND",
          "BARRO VERMELHO",
          "SANTA AMÉLIA",
          "SÃO BERNARDO",
          "NOVA PIAM",
          "SANTA AMÉLIA",
          "BARRO VERMELHO",
          "HITERLAND",
          "PARQUE SÃO BERNARDO",
          "VILA ERA",
          "BARRO VERMELHO",
          "VILA VIÇOSA",
          "VILA MAIA",
          "BARRO VERMELHO",
          "PIAM",
          "HITERLAND",
          "SANTA AMÉLIA",
          "SITIO RETIRO FELIZ",
          "HITERLAND",
          "PARQUE SÃO BERNARDO",
          "SANTA AMÉLIA",
          "CENTRO",
          "BARRO VERMELHO",
          "BARRO VERMELHO",
          "HITERLAND",
          "PARQUE AMERICANO",
          "PARQUE SÃO BERNARDO",
          "BARRO VERMELHO",
          "HITERLAND",
          "SANTA AMÉLIA",
          "PARQUE SANTA AMÉLIA",
          "SANTA AMÉLIA",
          "VILA MAIA",
          "HITERLAND",
          "BARRO VERMELHO",
          "SANTA AMÉLIA",
          "BAIRRO DAS GRAÇAS",
          "BARRO VERMELHO",
          "PARQUE AMERICANO",
          "BARRO VERMELHO",
          "PARQUE SÃO BERNARDO",
          "BARRO VERMELHO",
          "BARRO VERMELHO",
          "PARQUE SÃO BERNARDO",
          "BABI",
          "SANTA AMÉLIA",
          "PARQUE SANTA AMÉLIA",
          "SANTA MARIA",
          "VILA MAIA",
          "NOVA PIAM",
          "HITERLAND",
          "BABI",
          "HITERLAND",
          "PARQUE SÃO BERNARDO",
          "SITIO RETIRO FELIZ",
          "SITIO RETIRO FELIZ",
          "SITIO RETIRO FELIZ",
          "BOA ESPERANÇA",
          "SANTA AMÉLIA",
          "VILA JOLA",
          "SANTA AMÉLIA",
          "BARRO VERMELHO",
          "BARRO VERMELHO",
          "PARQUE SÃO BERNARDO",
          "SANTA AMÉLIA",
          "HITERLAND",
          "BARRO VERMELHO",
          "BARRO VERMELHO",
          "SANTA AMÉLIA",
          "SANTA AMÉLIA",
          "SANTA AMÉLIA",
          "BARRO VERMELHO",
          "SITIO RETIRO FELIZ",
          "JARDIM DAS ESTRELAS",
          "NOVA PIAM",
          "BARRO VERMELHO",
          "SANTA AMÉLIA",
          "VILA MAIA",
          "PARQUE SÃO BERNARDO",
          "BARRO VERMELHO",
          "VILA VIÇOSA",
          "PARQUE SÃO BERNARDO",
          "NOVA AURORA",
          "SANTA AMÉLIA",
          "BARRO VERMELHO",
          "SANTA AMÉLIA",
          "SANTA AMÉLIA",
          "BARRO VERMELHO",
          "HITERLAND",
          "BARRO VERMELHO",
          "PARQUE SANTA AMÉLIA",
          "VILA ERA",
          "VILA JOLA",
          "NOVA AURORA",
          "VILA VIÇOSA",
          "BARRO VERMELHO",
          "JARDIM DAS ESTRELAS",
          "BARRO VERMELHO",
          "HITERLAND",
          "SÃO BERNARDO",
          "VILA MAIA",
          "JARDIM DAS ESTRELAS",
          "BARRO VERMELHO",
          "PARQUE SANTA AMÉLIA",
          "SÃO BERNARDO",
          "CENTRO",
          "BARRO VERMELHO",
          "SANTA AMÉLIA",
          "VILA VIÇOSA",
          "VILA ERA",
          "HITERLAND",
          "SANTA AMÉLIA",
          "BARRO VERMELHO",
          "BARRO VERMELHO",
          "BARRO VERMELHO",
          "BABI",
          "BARRO VERMELHO",
          "BARRO VERMELHO",
          "PARQUE SÃO BERNARDO",
          "BABI",
          "BARRO VERMELHO",
          "BARRO VERMELHO",
          "BARRO VERMELHO",
          "SANTA AMÉLIA",
          "SANTA AMÉLIA",
          "PARQUE SÃO BERNARDO",
          "SANTA AMÉLIA",
          "BARRO VERMELHO",
          "SANTA AMÉLIA",
          "SÃO BERNARDO",
          "SANTA AMÉLIA",
          "BARRO VERMELHO",
          "BABI",
          "SANTA AMÉLIA",
          "VILA ERA",
          "SANTA AMÉLIA",
          "VILAR NOVO",
          "HITERLAND",
          "SANTA AMÉLIA",
          "SANTA AMÉLIA",
          "HITERLAND",
          "PARQUE SANTA AMÉLIA",
          "VILA JOLA",
          "HITERLAND",
          "HITERLAND",
          "BARRO VERMELHO",
          "PARQUE SÃO BERNARDO",
          "HITERLAND",
          "HITERLAND",
          "SÃO BERNARDO",
          "PARQUE SÃO BERNARDO",
          "SANTA AMÉLIA",
          "DAS GRAÇAS",
          "BABI",
          "SANTA AMÉLIA",
          "SANTA AMÉLIA",
          "BARRO VERMELHO",
          "PARQUE SÃO BERNARDO",
          "HITERLAND",
          "NOVA PIAM",
          "SANTA AMÉLIA",
          "PARQUE SÃO BERNARDO",
          "SANTA AMÉLIA",
          "SANTA MARIA",
          "BARRO VERMELHO",
          "BARRO VERMELHO",
          "SANTA AMÉLIA",
          "SANTA AMÉLIA",
          "SANTA AMÉLIA",
          "PIAM",
          "SANTA AMÉLIA",
          "BARRO VERMELHO",
          "PARQUE SÃO BERNARDO",
          "PARQUE SÃO BERNARDO",
          "SANTA AMÉLIA",
          "SANTA AMÉLIA",
          "SÃO BERNARDO",
          "BARRO VERMELHO",
          "SANTA AMÉLIA",
          "PIAM",
          "PARQUE SÃO BERNARDO",
          "HITERLAND",
          "PARQUE AMERICANO",
          "VILA JOLA",
          "VILA MAIA",
          "BARRO VERMELHO",
          "BOA SORTE",
          "SÃO BERNARDO",
          "BARRO VERMELHO",
          "SANTA AMÉLIA",
          "PARQUE SÃO BERNARDO",
          "SANTA AMÉLIA",
          "HITERLAND",
          "VILA VIÇOSA",
          "SANTA AMÉLIA",
          "SANTA AMÉLIA",
          "BABI",
          "PARQUE AMERICANO",
          "VILA JOLA",
          "SANTA AMÉLIA",
          "BARRO VERMELHO",
          "BARRO VERMELHO",
          "PARQUE SÃO BERNARDO",
          "BARRO VERMELHO",
          "SANTA AMÉLIA",
          "PARQUE SÃO BERNARDO",
          "DAS GRAÇAS",
          "HITERLAND",
          "PARQUE SÃO BERNARDO",
          "BARRO VERMELHO",
          "BARRO VERMELHO",
          "SANTA AMÉLIA",
          "VILA ERA",
          "BARRO VERMELHO",
          "PARQUE SÃO BERNARDO",
          "BARRO VERMELHO",
          "SANTA AMÉLIA",
          "VILA VIÇOSA",
          "Barro Vermelho",
          "JARDIM DAS ESTRELAS",
          "PARQUE SÃO BERNARDO",
          "BARRO VERMELHO",
          "HITERLAND",
          "BARRO VERMELHO",
          "VILA ERA",
          "HITERLAND",
          "SANTA AMÉLIA",
          "BARRO VERMELHO",
          "SANTA AMÉLIA",
          "VILA VIÇOSA",
          "PARQUE SÃO BERNARDO",
          "BARRO VERMELHO",
          "SANTA AMÉLIA",
          "PARQUE SÃO BERNARDO",
          "HITERLAND",
          "BARRO VERMELHO",
          "HITERLAND",
          "BARRO VERMELHO",
          "BARRO VERMELHO",
          "HITERLAND",
          "SANTA AMÉLIA",
          "SANTA AMÉLIA",
          "VILA MAIA"
         ],
         "xaxis": "x",
         "yaxis": "y"
        }
       ],
       "layout": {
        "barmode": "relative",
        "legend": {
         "tracegroupgap": 0
        },
        "margin": {
         "t": 60
        },
        "template": {
         "data": {
          "bar": [
           {
            "error_x": {
             "color": "#2a3f5f"
            },
            "error_y": {
             "color": "#2a3f5f"
            },
            "marker": {
             "line": {
              "color": "#E5ECF6",
              "width": 0.5
             },
             "pattern": {
              "fillmode": "overlay",
              "size": 10,
              "solidity": 0.2
             }
            },
            "type": "bar"
           }
          ],
          "barpolar": [
           {
            "marker": {
             "line": {
              "color": "#E5ECF6",
              "width": 0.5
             },
             "pattern": {
              "fillmode": "overlay",
              "size": 10,
              "solidity": 0.2
             }
            },
            "type": "barpolar"
           }
          ],
          "carpet": [
           {
            "aaxis": {
             "endlinecolor": "#2a3f5f",
             "gridcolor": "white",
             "linecolor": "white",
             "minorgridcolor": "white",
             "startlinecolor": "#2a3f5f"
            },
            "baxis": {
             "endlinecolor": "#2a3f5f",
             "gridcolor": "white",
             "linecolor": "white",
             "minorgridcolor": "white",
             "startlinecolor": "#2a3f5f"
            },
            "type": "carpet"
           }
          ],
          "choropleth": [
           {
            "colorbar": {
             "outlinewidth": 0,
             "ticks": ""
            },
            "type": "choropleth"
           }
          ],
          "contour": [
           {
            "colorbar": {
             "outlinewidth": 0,
             "ticks": ""
            },
            "colorscale": [
             [
              0,
              "#0d0887"
             ],
             [
              0.1111111111111111,
              "#46039f"
             ],
             [
              0.2222222222222222,
              "#7201a8"
             ],
             [
              0.3333333333333333,
              "#9c179e"
             ],
             [
              0.4444444444444444,
              "#bd3786"
             ],
             [
              0.5555555555555556,
              "#d8576b"
             ],
             [
              0.6666666666666666,
              "#ed7953"
             ],
             [
              0.7777777777777778,
              "#fb9f3a"
             ],
             [
              0.8888888888888888,
              "#fdca26"
             ],
             [
              1,
              "#f0f921"
             ]
            ],
            "type": "contour"
           }
          ],
          "contourcarpet": [
           {
            "colorbar": {
             "outlinewidth": 0,
             "ticks": ""
            },
            "type": "contourcarpet"
           }
          ],
          "heatmap": [
           {
            "colorbar": {
             "outlinewidth": 0,
             "ticks": ""
            },
            "colorscale": [
             [
              0,
              "#0d0887"
             ],
             [
              0.1111111111111111,
              "#46039f"
             ],
             [
              0.2222222222222222,
              "#7201a8"
             ],
             [
              0.3333333333333333,
              "#9c179e"
             ],
             [
              0.4444444444444444,
              "#bd3786"
             ],
             [
              0.5555555555555556,
              "#d8576b"
             ],
             [
              0.6666666666666666,
              "#ed7953"
             ],
             [
              0.7777777777777778,
              "#fb9f3a"
             ],
             [
              0.8888888888888888,
              "#fdca26"
             ],
             [
              1,
              "#f0f921"
             ]
            ],
            "type": "heatmap"
           }
          ],
          "heatmapgl": [
           {
            "colorbar": {
             "outlinewidth": 0,
             "ticks": ""
            },
            "colorscale": [
             [
              0,
              "#0d0887"
             ],
             [
              0.1111111111111111,
              "#46039f"
             ],
             [
              0.2222222222222222,
              "#7201a8"
             ],
             [
              0.3333333333333333,
              "#9c179e"
             ],
             [
              0.4444444444444444,
              "#bd3786"
             ],
             [
              0.5555555555555556,
              "#d8576b"
             ],
             [
              0.6666666666666666,
              "#ed7953"
             ],
             [
              0.7777777777777778,
              "#fb9f3a"
             ],
             [
              0.8888888888888888,
              "#fdca26"
             ],
             [
              1,
              "#f0f921"
             ]
            ],
            "type": "heatmapgl"
           }
          ],
          "histogram": [
           {
            "marker": {
             "pattern": {
              "fillmode": "overlay",
              "size": 10,
              "solidity": 0.2
             }
            },
            "type": "histogram"
           }
          ],
          "histogram2d": [
           {
            "colorbar": {
             "outlinewidth": 0,
             "ticks": ""
            },
            "colorscale": [
             [
              0,
              "#0d0887"
             ],
             [
              0.1111111111111111,
              "#46039f"
             ],
             [
              0.2222222222222222,
              "#7201a8"
             ],
             [
              0.3333333333333333,
              "#9c179e"
             ],
             [
              0.4444444444444444,
              "#bd3786"
             ],
             [
              0.5555555555555556,
              "#d8576b"
             ],
             [
              0.6666666666666666,
              "#ed7953"
             ],
             [
              0.7777777777777778,
              "#fb9f3a"
             ],
             [
              0.8888888888888888,
              "#fdca26"
             ],
             [
              1,
              "#f0f921"
             ]
            ],
            "type": "histogram2d"
           }
          ],
          "histogram2dcontour": [
           {
            "colorbar": {
             "outlinewidth": 0,
             "ticks": ""
            },
            "colorscale": [
             [
              0,
              "#0d0887"
             ],
             [
              0.1111111111111111,
              "#46039f"
             ],
             [
              0.2222222222222222,
              "#7201a8"
             ],
             [
              0.3333333333333333,
              "#9c179e"
             ],
             [
              0.4444444444444444,
              "#bd3786"
             ],
             [
              0.5555555555555556,
              "#d8576b"
             ],
             [
              0.6666666666666666,
              "#ed7953"
             ],
             [
              0.7777777777777778,
              "#fb9f3a"
             ],
             [
              0.8888888888888888,
              "#fdca26"
             ],
             [
              1,
              "#f0f921"
             ]
            ],
            "type": "histogram2dcontour"
           }
          ],
          "mesh3d": [
           {
            "colorbar": {
             "outlinewidth": 0,
             "ticks": ""
            },
            "type": "mesh3d"
           }
          ],
          "parcoords": [
           {
            "line": {
             "colorbar": {
              "outlinewidth": 0,
              "ticks": ""
             }
            },
            "type": "parcoords"
           }
          ],
          "pie": [
           {
            "automargin": true,
            "type": "pie"
           }
          ],
          "scatter": [
           {
            "fillpattern": {
             "fillmode": "overlay",
             "size": 10,
             "solidity": 0.2
            },
            "type": "scatter"
           }
          ],
          "scatter3d": [
           {
            "line": {
             "colorbar": {
              "outlinewidth": 0,
              "ticks": ""
             }
            },
            "marker": {
             "colorbar": {
              "outlinewidth": 0,
              "ticks": ""
             }
            },
            "type": "scatter3d"
           }
          ],
          "scattercarpet": [
           {
            "marker": {
             "colorbar": {
              "outlinewidth": 0,
              "ticks": ""
             }
            },
            "type": "scattercarpet"
           }
          ],
          "scattergeo": [
           {
            "marker": {
             "colorbar": {
              "outlinewidth": 0,
              "ticks": ""
             }
            },
            "type": "scattergeo"
           }
          ],
          "scattergl": [
           {
            "marker": {
             "colorbar": {
              "outlinewidth": 0,
              "ticks": ""
             }
            },
            "type": "scattergl"
           }
          ],
          "scattermapbox": [
           {
            "marker": {
             "colorbar": {
              "outlinewidth": 0,
              "ticks": ""
             }
            },
            "type": "scattermapbox"
           }
          ],
          "scatterpolar": [
           {
            "marker": {
             "colorbar": {
              "outlinewidth": 0,
              "ticks": ""
             }
            },
            "type": "scatterpolar"
           }
          ],
          "scatterpolargl": [
           {
            "marker": {
             "colorbar": {
              "outlinewidth": 0,
              "ticks": ""
             }
            },
            "type": "scatterpolargl"
           }
          ],
          "scatterternary": [
           {
            "marker": {
             "colorbar": {
              "outlinewidth": 0,
              "ticks": ""
             }
            },
            "type": "scatterternary"
           }
          ],
          "surface": [
           {
            "colorbar": {
             "outlinewidth": 0,
             "ticks": ""
            },
            "colorscale": [
             [
              0,
              "#0d0887"
             ],
             [
              0.1111111111111111,
              "#46039f"
             ],
             [
              0.2222222222222222,
              "#7201a8"
             ],
             [
              0.3333333333333333,
              "#9c179e"
             ],
             [
              0.4444444444444444,
              "#bd3786"
             ],
             [
              0.5555555555555556,
              "#d8576b"
             ],
             [
              0.6666666666666666,
              "#ed7953"
             ],
             [
              0.7777777777777778,
              "#fb9f3a"
             ],
             [
              0.8888888888888888,
              "#fdca26"
             ],
             [
              1,
              "#f0f921"
             ]
            ],
            "type": "surface"
           }
          ],
          "table": [
           {
            "cells": {
             "fill": {
              "color": "#EBF0F8"
             },
             "line": {
              "color": "white"
             }
            },
            "header": {
             "fill": {
              "color": "#C8D4E3"
             },
             "line": {
              "color": "white"
             }
            },
            "type": "table"
           }
          ]
         },
         "layout": {
          "annotationdefaults": {
           "arrowcolor": "#2a3f5f",
           "arrowhead": 0,
           "arrowwidth": 1
          },
          "autotypenumbers": "strict",
          "coloraxis": {
           "colorbar": {
            "outlinewidth": 0,
            "ticks": ""
           }
          },
          "colorscale": {
           "diverging": [
            [
             0,
             "#8e0152"
            ],
            [
             0.1,
             "#c51b7d"
            ],
            [
             0.2,
             "#de77ae"
            ],
            [
             0.3,
             "#f1b6da"
            ],
            [
             0.4,
             "#fde0ef"
            ],
            [
             0.5,
             "#f7f7f7"
            ],
            [
             0.6,
             "#e6f5d0"
            ],
            [
             0.7,
             "#b8e186"
            ],
            [
             0.8,
             "#7fbc41"
            ],
            [
             0.9,
             "#4d9221"
            ],
            [
             1,
             "#276419"
            ]
           ],
           "sequential": [
            [
             0,
             "#0d0887"
            ],
            [
             0.1111111111111111,
             "#46039f"
            ],
            [
             0.2222222222222222,
             "#7201a8"
            ],
            [
             0.3333333333333333,
             "#9c179e"
            ],
            [
             0.4444444444444444,
             "#bd3786"
            ],
            [
             0.5555555555555556,
             "#d8576b"
            ],
            [
             0.6666666666666666,
             "#ed7953"
            ],
            [
             0.7777777777777778,
             "#fb9f3a"
            ],
            [
             0.8888888888888888,
             "#fdca26"
            ],
            [
             1,
             "#f0f921"
            ]
           ],
           "sequentialminus": [
            [
             0,
             "#0d0887"
            ],
            [
             0.1111111111111111,
             "#46039f"
            ],
            [
             0.2222222222222222,
             "#7201a8"
            ],
            [
             0.3333333333333333,
             "#9c179e"
            ],
            [
             0.4444444444444444,
             "#bd3786"
            ],
            [
             0.5555555555555556,
             "#d8576b"
            ],
            [
             0.6666666666666666,
             "#ed7953"
            ],
            [
             0.7777777777777778,
             "#fb9f3a"
            ],
            [
             0.8888888888888888,
             "#fdca26"
            ],
            [
             1,
             "#f0f921"
            ]
           ]
          },
          "colorway": [
           "#636efa",
           "#EF553B",
           "#00cc96",
           "#ab63fa",
           "#FFA15A",
           "#19d3f3",
           "#FF6692",
           "#B6E880",
           "#FF97FF",
           "#FECB52"
          ],
          "font": {
           "color": "#2a3f5f"
          },
          "geo": {
           "bgcolor": "white",
           "lakecolor": "white",
           "landcolor": "#E5ECF6",
           "showlakes": true,
           "showland": true,
           "subunitcolor": "white"
          },
          "hoverlabel": {
           "align": "left"
          },
          "hovermode": "closest",
          "mapbox": {
           "style": "light"
          },
          "paper_bgcolor": "white",
          "plot_bgcolor": "#E5ECF6",
          "polar": {
           "angularaxis": {
            "gridcolor": "white",
            "linecolor": "white",
            "ticks": ""
           },
           "bgcolor": "#E5ECF6",
           "radialaxis": {
            "gridcolor": "white",
            "linecolor": "white",
            "ticks": ""
           }
          },
          "scene": {
           "xaxis": {
            "backgroundcolor": "#E5ECF6",
            "gridcolor": "white",
            "gridwidth": 2,
            "linecolor": "white",
            "showbackground": true,
            "ticks": "",
            "zerolinecolor": "white"
           },
           "yaxis": {
            "backgroundcolor": "#E5ECF6",
            "gridcolor": "white",
            "gridwidth": 2,
            "linecolor": "white",
            "showbackground": true,
            "ticks": "",
            "zerolinecolor": "white"
           },
           "zaxis": {
            "backgroundcolor": "#E5ECF6",
            "gridcolor": "white",
            "gridwidth": 2,
            "linecolor": "white",
            "showbackground": true,
            "ticks": "",
            "zerolinecolor": "white"
           }
          },
          "shapedefaults": {
           "line": {
            "color": "#2a3f5f"
           }
          },
          "ternary": {
           "aaxis": {
            "gridcolor": "white",
            "linecolor": "white",
            "ticks": ""
           },
           "baxis": {
            "gridcolor": "white",
            "linecolor": "white",
            "ticks": ""
           },
           "bgcolor": "#E5ECF6",
           "caxis": {
            "gridcolor": "white",
            "linecolor": "white",
            "ticks": ""
           }
          },
          "title": {
           "x": 0.05
          },
          "xaxis": {
           "automargin": true,
           "gridcolor": "white",
           "linecolor": "white",
           "ticks": "",
           "title": {
            "standoff": 15
           },
           "zerolinecolor": "white",
           "zerolinewidth": 2
          },
          "yaxis": {
           "automargin": true,
           "gridcolor": "white",
           "linecolor": "white",
           "ticks": "",
           "title": {
            "standoff": 15
           },
           "zerolinecolor": "white",
           "zerolinewidth": 2
          }
         }
        },
        "xaxis": {
         "anchor": "y",
         "domain": [
          0,
          1
         ],
         "title": {
          "text": "Bairro"
         }
        },
        "yaxis": {
         "anchor": "x",
         "domain": [
          0,
          1
         ],
         "title": {
          "text": "count"
         }
        }
       }
      }
     },
     "metadata": {},
     "output_type": "display_data"
    },
    {
     "data": {
      "application/vnd.plotly.v1+json": {
       "config": {
        "plotlyServerURL": "https://plot.ly"
       },
       "data": [
        {
         "alignmentgroup": "True",
         "bingroup": "x",
         "hovertemplate": "Plano=%{x}<br>count=%{y}<extra></extra>",
         "legendgroup": "",
         "marker": {
          "color": "#636efa",
          "pattern": {
           "shape": ""
          }
         },
         "name": "",
         "offsetgroup": "",
         "orientation": "v",
         "showlegend": false,
         "type": "histogram",
         "x": [
          "4 MEGA",
          "80_MEGA_FIBER",
          "250 MEGA FIBR4",
          "SUPREMO_500MB_FIBRA_99",
          "SUPREMO_500MB_FIBRA_99",
          "30 MEGA FIBRA SB",
          "SUPREMO_150MB_FIBRA",
          "60_MEGA_FIBER",
          "80MEGA FTTH",
          "300_MEGA_FIBRA_2022",
          "SUPREMO_150MB_FIBRA",
          "250 MEGA FIBR4",
          "100MB_SPACE",
          "350 MEGA FIBRA",
          "SUPREMO_500MB_FIBRA_99",
          "SUPREMO_500MB_FIBRA_99",
          "SUPREMO_500MB_FIBRA_99",
          "150 MEGA RC",
          "250 MEGA FIBR4",
          "250 MEGA FIBR4",
          "30 MEGA FIBRA SB",
          "30 MEGA FIBRA SB",
          "250 MEGA FIBR4",
          "SUPREMO_600MB_FIBRA",
          "300_MEGA_FIBRA_2022_100%_UPLOAD",
          "SUPREMO_600MB_FIBRA",
          "SUPREMO_600MB_FIBRA",
          "350MB_NOVO_105.90",
          "250 MEGA FIBR4",
          "SUPREMO_500MB_FIBRA_99",
          "SUPREMO_500MB_FIBRA_99",
          "SUPREMO_150MB_FIBRA",
          "SUPREMO_500MB_FIBRA_99",
          "SUPREMO_150MB_FIBRA",
          "SUPREMO_500MB_FIBRA_99",
          "100MB_SPACE",
          "4 MEGA",
          "3 MEGA",
          "SUPREMO_500MB_FIBRA_99",
          "30 MEGA FIBRA SB",
          "250 MEGA FIBR4",
          "100MB_SPACE",
          "80MEGA FTTH",
          "SUPREMO_150MB_FIBRA",
          "250 MEGA FIBR4",
          "SUPREMO_500MB_FIBRA_99",
          "SUPREMO_500MB_FIBRA_99",
          "250 MEGA FIBR4",
          "SUPREMO_500MB_FIBRA_99",
          "250 MEGA FIBR4",
          "SUPREMO_500MB_FIBRA_99",
          "150 MEGA SPACE 2022",
          "SUPREMO_500MB_FIBRA_99",
          "SUPREMO_150MB_FIBRA",
          "SUPREMO_150MB_FIBRA",
          "250 MEGA FIBR4",
          "300_MEGA_FIBRA_2022",
          "250 MEGA FIBR4",
          "SUPREMO_500MB_FIBRA_99",
          "SUPREMO_500MB_FIBRA_99",
          "SUPREMO_150MB_FIBRA",
          "30 MEGA FIBRA SB",
          "8 MEGA",
          "60_MEGA_FIBER",
          "SUPREMO_500MB_FIBRA_99",
          "SUPREMO_150MB_FIBRA",
          "8 MEGA",
          "400 MEGA FIBRA",
          "SUPREMO_600MB_FIBRA",
          "80MEGA FTTH",
          "SUPREMO_500MB_FIBRA_99",
          "8 MEGA",
          "350 MEGA FIBRA",
          "350MB_NOVO_105.90",
          "250 MEGA FIBR4",
          "SUPREMO_500MB_FIBRA_99",
          "SUPREMO_500MB_FIBRA_99",
          "SUPREMO_500MB_FIBRA_99",
          "30 MEGA FIBRA SB",
          "SUPREMO_500MB_FIBRA_99",
          "SUPREMO_500MB_FIBRA_99",
          "350MB_NOVO_105.90",
          "60_MEGA_FIBER",
          "SUPREMO_500MB_FIBRA_99",
          "SUPREMO_150MB_FIBRA",
          "100MB_SPACE",
          "30 MEGA FIBRA SB",
          "SUPREMO_500MB_FIBRA_99",
          "SUPREMO_150MB_FIBRA",
          "30 MEGA FIBRA SB",
          "30 MEGA FIBRA SB",
          "250 MEGA FIBR4",
          "SUPREMO_500MB_FIBRA_99",
          "60_MEGA_FIBER",
          "250 MEGA FIBR4",
          "150 MEGA RC",
          "350MB_NOVO_105.90",
          "SUPREMO_500MB_FIBRA_99",
          "SUPREMO_150MB_FIBRA",
          "4 MEGA",
          "80_MEGA_FIBER",
          "SUPREMO_150MB_FIBRA",
          "150 MEGA SPACE 2022",
          "SUPREMO_500MB_FIBRA_99",
          "SUPREMO_150MB_FIBRA",
          "SUPREMO_150MB_FIBRA",
          "150 MEGA RC",
          "SUPREMO_150MB_FIBRA",
          "SUPREMO_500MB_FIBRA_99",
          "3 MEGA",
          "SUPREMO_500MB_FIBRA_99",
          "SUPREMO_500MB_FIBRA_99",
          "250 MEGA FIBR4",
          "SUPREMO_500MB_FIBRA_99",
          "SUPREMO_500MB_FIBRA_99",
          "100MB_SPACE",
          "8 MEGA",
          "4 MEGA",
          "30 MEGA FIBRA SB",
          "8 MEGA",
          "250 MEGA FIBR4",
          "SUPREMO_500MB_FIBRA_99",
          "SUPREMO_500MB_FIBRA_99",
          "SUPREMO_500MB_FIBRA_99",
          "SUPREMO_500MB_FIBRA_99",
          "30 MEGA FIBRA SB",
          "250 MEGA FIBR4",
          "60_MEGA_FIBER",
          "SUPREMO_150MB_FIBRA",
          "30 MEGA FIBRA SB",
          "SUPREMO_500MB_FIBRA_99",
          "200_MEGA_PLUS",
          "SUPREMO_500MB_FIBRA_99",
          "SUPREMO_500MB_FIBRA_99",
          "8 MEGA",
          "SUPREMO_500MB_FIBRA_99",
          "SUPREMO_500MB_FIBRA_99",
          "250 MEGA FIBR4",
          "SUPREMO_600MB_FIBRA",
          "SUPREMO_500MB_FIBRA_99",
          "80_MEGA_FIBER",
          "100MB_SPACE",
          "250 MEGA FIBR4",
          "SUPREMO_500MB_FIBRA_99",
          "30 MEGA FIBRA SB",
          "30 MEGA FIBRA SB",
          "SUPREMO_600MB_FIBRA",
          "150 MEGA SPACE 2022",
          "80MEGA FTTH",
          "200_MEGA_PLUS",
          "SUPREMO_500MB_FIBRA_99",
          "100MB_SPACE",
          "SUPREMO_150MB_FIBRA",
          "SUPREMO_700MB_FIBRA",
          "SUPREMO_500MB_FIBRA_99",
          "SUPREMO_500MB_FIBRA_99",
          "200_MEGA_PLUS",
          "30 MEGA FIBRA SB",
          "400 MEGA FIBRA",
          "SUPREMO_600MB_FIBRA",
          "SUPREMO_500MB_FIBRA_99",
          "SUPREMO_500MB_FIBRA_99",
          "SUPREMO_500MB_FIBRA_99",
          "SUPREMO_500MB_FIBRA_99",
          "SUPREMO_500MB_FIBRA_99",
          "100MB_SPACE",
          "SUPREMO_500MB_FIBRA_99",
          "250 MEGA FIBR4",
          "SUPREMO_500MB_FIBRA_99",
          "SUPREMO_500MB_FIBRA_99",
          "250 MEGA FIBR4",
          "30 MEGA FIBRA SB",
          "250 MEGA FIBR4",
          "30 mega_migração_ftth",
          "250 MEGA FIBR4",
          "100MB_SPACE",
          "SUPREMO_150MB_FIBRA",
          "250 MEGA FIBR4",
          "60_MEGA_FIBER",
          "60MEGA FTTH",
          "30 mega_migração_ftth",
          "150 MEGA SPACE 2022",
          "300_MEGA_PARCERIA",
          "250 MEGA FIBR4",
          "SUPREMO_500MB_FIBRA_99",
          "80_MEGA_FIBER",
          "30 mega_migração_ftth",
          "100MB_SPACE",
          "SUPREMO_500MB_FIBRA_99",
          "80MEGA FTTH",
          "250 MEGA FIBR4",
          "SUPREMO_600MB_FIBRA",
          "SUPREMO_500MB_FIBRA_99",
          "80MEGA FTTH",
          "30 mega_migração_ftth",
          "SUPREMO_500MB_FIBRA_99",
          "250 MEGA FIBR4",
          "SUPREMO_500MB_FIBRA_99",
          "SUPREMO_700MB_FIBRA",
          "150 MEGA SPACE 2022",
          "150 MEGA RC",
          "80_MEGA_FIBER",
          "4 MEGA",
          "30 MEGA FIBRA SB",
          "30 mega_migração_ftth",
          "SUPREMO_150MB_FIBRA",
          "350MB_NOVO_105.90",
          "80MEGA FTTH",
          "SUPREMO_700MB_FIBRA",
          "250 MEGA FIBR4",
          "SUPREMO_600MB_FIBRA",
          "SUPREMO_500MB_FIBRA_99",
          "SUPREMO_500MB_FIBRA_99",
          "SUPREMO_500MB_FIBRA_99",
          "SUPREMO_600MB_FIBRA",
          "SUPREMO_600MB_FIBRA",
          "SUPREMO_500MB_FIBRA_99",
          "SUPREMO_500MB_FIBRA_99",
          "100MB_SPACE",
          "SUPREMO_700MB_FIBRA",
          "30 mega_migração_ftth",
          "250 MEGA FIBR4",
          "SUPREMO_500MB_FIBRA_99",
          "SUPREMO_500MB_FIBRA_99",
          "60MEGA FTTH",
          "SUPREMO_500MB_FIBRA_99",
          "SUPREMO_500MB_FIBRA_99",
          "350 MEGA FIBRA",
          "4 MEGA",
          "60MEGA FTTH",
          "250 MEGA FIBR4",
          "200_MEGA_PLUS",
          "SUPREMO_150MB_FIBRA",
          "30 MEGA FIBRA SB",
          "350 MEGA FIBRA",
          "SUPREMO_700MB_FIBRA",
          "8 MEGA",
          "SUPREMO_500MB_FIBRA_99",
          "SUPREMO_150MB_FIBRA",
          "30 mega_migração_ftth",
          "SUPREMO_500MB_FIBRA_99",
          "100MB_SPACE",
          "250 MEGA FIBR4",
          "300_MEGA_FIBRA_2022",
          "SUPREMO_150MB_FIBRA",
          "250 MEGA FIBR4",
          "SUPREMO_700MB_FIBRA",
          "300_MEGA_FIBRA_2022",
          "SUPREMO_150MB_FIBRA",
          "250 MEGA FIBR4",
          "30 MEGA FIBRA SB",
          "150 MEGA SPACE 2022",
          "30 MEGA FIBRA SB",
          "SUPREMO_500MB_FIBRA_99",
          "300_MEGA_FIBRA_2022",
          "SUPREMO_500MB_FIBRA_99",
          "250 MEGA FIBR4",
          "SUPREMO_500MB_FIBRA_99",
          "8 MEGA",
          "SUPREMO_500MB_FIBRA_99",
          "250 MEGA FIBR4",
          "SUPREMO_600MB_FIBRA",
          "SUPREMO_500MB_FIBRA_99",
          "SUPREMO_150MB_FIBRA",
          "SUPREMO_500MB_FIBRA_99",
          "150 MEGA RC",
          "4 MEGA",
          "SUPREMO_500MB_FIBRA_99",
          "SUPREMO_150MB_FIBRA",
          "100MB_SPACE",
          "250 MEGA FIBR4",
          "150 MEGA RC",
          "80_MEGA_FIBER",
          "SUPREMO_500MB_FIBRA_99",
          "80_MEGA_FIBER",
          "30 MEGA FIBRA SB",
          "SUPREMO_500MB_FIBRA_99",
          "400 MEGA FIBRA",
          "SUPREMO_500MB_FIBRA_99",
          "80MEGA FTTH",
          "30 mega_migração_ftth",
          "30 MEGA FIBRA SB",
          "300_MEGA_FIBRA_2022",
          "SUPREMO_500MB_FIBRA_99",
          "250 MEGA FIBR4",
          "3 MEGA",
          "250 MEGA FIBR4",
          "SUPREMO_500MB_FIBRA_99",
          "250 MEGA FIBR4",
          "SUPREMO_150MB_FIBRA",
          "SUPREMO_150MB_FIBRA",
          "SUPREMO_150MB_FIBRA",
          "250 MEGA FIBR4",
          "SUPREMO_500MB_FIBRA_99",
          "4 MEGA",
          "4 MEGA",
          "SUPREMO_150MB_FIBRA",
          "SUPREMO_500MB_FIBRA_99",
          "300_MEGA_FIBRA_2022",
          "SUPREMO_600MB_FIBRA",
          "4 MEGA",
          "SUPREMO_500MB_FIBRA_99",
          "SUPREMO_500MB_FIBRA_99",
          "SUPREMO_500MB_FIBRA_99",
          "80MEGA FTTH",
          "250 MEGA FIBR4",
          "SUPREMO_500MB_FIBRA_99",
          "SUPREMO_500MB_FIBRA_99",
          "SUPREMO_500MB_FIBRA_99",
          "80MEGA FTTH",
          "4 MEGA",
          "SUPREMO_500MB_FIBRA_99",
          "250 MEGA FIBR4",
          "100MB_SPACE",
          "SUPREMO_150MB_FIBRA",
          "SUPREMO_500MB_FIBRA_99",
          "3 MEGA",
          "400 MEGA FIBRA",
          "80MEGA FTTH",
          "30 MEGA FIBRA SB",
          "400 MEGA FIBRA",
          "60_MEGA_FIBER",
          "SUPREMO_500MB_FIBRA_99",
          "250 MEGA FIBR4",
          "150 MEGA RC",
          "SUPREMO_500MB_FIBRA_99",
          "SUPREMO_500MB_FIBRA_99",
          "250 MEGA FIBR4",
          "30 MEGA FIBRA SB",
          "150 MEGA SPACE 2022",
          "30 mega_migração_ftth",
          "250 MEGA FIBR4",
          "30 MEGA FIBRA SB",
          "250 MEGA FIBR4",
          "SUPREMO_500MB_FIBRA_99",
          "150 MEGA SPACE 2022",
          "60_MEGA_FIBER",
          "SUPREMO_500MB_FIBRA_99",
          "80_MEGA_FIBER",
          "250 MEGA FIBR4",
          "SUPREMO_500MB_FIBRA_99",
          "SUPREMO_500MB_FIBRA_99",
          "SUPREMO_500MB_FIBRA_99",
          "4 MEGA",
          "SUPREMO_150MB_FIBRA",
          "60MEGA FTTH",
          "SUPREMO_500MB_FIBRA_99",
          "SUPREMO_500MB_FIBRA_99",
          "SUPREMO_500MB_FIBRA_99",
          "3 MEGA",
          "250 MEGA FIBR4",
          "80MEGA FTTH",
          "80MEGA FTTH",
          "SUPREMO_150MB_FIBRA",
          "SUPREMO_500MB_FIBRA_99",
          "30 MEGA FIBRA SB",
          "350 MEGA FIBRA",
          "SUPREMO_500MB_FIBRA_99",
          "60_MEGA_FIBER",
          "200_MEGA_PLUS",
          "SUPREMO_500MB_FIBRA_99",
          "250 MEGA FIBR4",
          "SUPREMO_500MB_FIBRA_99",
          "150 MEGA SPACE 2022",
          "200_MEGA_PLUS",
          "8 MEGA",
          "300_MEGA_PARCERIA",
          "SUPREMO_500MB_FIBRA_99",
          "SUPREMO_500MB_FIBRA_99",
          "SUPREMO_500MB_FIBRA_99",
          "30 MEGA FIBRA SB",
          "SUPREMO_500MB_FIBRA_99",
          "60MEGA FTTH",
          "SUPREMO_500MB_FIBRA_99",
          "80MEGA FTTH",
          "SUPREMO_150MB_FIBRA",
          "300_MEGA_FIBRA_2022",
          "60MEGA FTTH",
          "SUPREMO_600MB_FIBRA",
          "100MB_SPACE",
          "250 MEGA FIBR4",
          "300_MEGA_FIBRA_2022",
          "350MB_NOVO_105.90",
          "SUPREMO_500MB_FIBRA_99",
          "250 MEGA FIBR4",
          "250 MEGA FIBR4",
          "SUPREMO_500MB_FIBRA_99",
          "350 MEGA FIBRA",
          "SUPREMO_500MB_FIBRA_99",
          "SUPREMO_500MB_FIBRA_99",
          "80MEGA FTTH",
          "SUPREMO_500MB_FIBRA_99",
          "SUPREMO_600MB_FIBRA",
          "300_MEGA_FIBRA_2022",
          "200_MEGA_PLUS",
          "SUPREMO_500MB_FIBRA_99",
          "SUPREMO_150MB_FIBRA",
          "80_MEGA_FIBER",
          "SUPREMO_600MB_FIBRA",
          "30 MEGA FIBRA SB",
          "300_MEGA_FIBRA_2022",
          "250 MEGA FIBR4",
          "SUPREMO_500MB_FIBRA_99",
          "SUPREMO_150MB_FIBRA",
          "250 MEGA FIBR4",
          "SUPREMO_150MB_FIBRA",
          "SUPREMO_500MB_FIBRA_99",
          "SUPREMO_500MB_FIBRA_99",
          "SUPREMO_150MB_FIBRA",
          "SUPREMO_500MB_FIBRA_99",
          "80MEGA FTTH",
          "SUPREMO_500MB_FIBRA_99",
          "60_MEGA_FIBER",
          "300_MEGA_FIBRA_2022",
          "250 MEGA FIBR4",
          "100MB_SPACE",
          "30 MEGA FIBRA SB",
          "SUPREMO_500MB_FIBRA_99",
          "30 MEGA FIBRA SB",
          "SUPREMO_500MB_FIBRA_99",
          "SUPREMO_500MB_FIBRA_99",
          "SUPREMO_500MB_FIBRA_99",
          "100MB_SPACE",
          "250 MEGA FIBR4",
          "SUPREMO_600MB_FIBRA",
          "3 MEGA",
          "60_MEGA_FIBER",
          "60_MEGA_FIBER",
          "SUPREMO_150MB_FIBRA",
          "60_MEGA_FIBER",
          "SUPREMO_150MB_FIBRA",
          "8 MEGA",
          "SUPREMO_500MB_FIBRA_99",
          "SUPREMO_500MB_FIBRA_99",
          "SUPREMO_500MB_FIBRA_99",
          "200_MEGA_2021",
          "8 MEGA",
          "SUPREMO_500MB_FIBRA_99",
          "60_MEGA_FIBER",
          "SUPREMO_500MB_FIBRA_99",
          "250 MEGA FIBR4",
          "SUPREMO_500MB_FIBRA_99",
          "SUPREMO_500MB_FIBRA_99",
          "SUPREMO_500MB_FIBRA_99",
          "8 MEGA",
          "250 MEGA FIBR4",
          "SUPREMO_500MB_FIBRA_99",
          "SUPREMO_600MB_FIBRA",
          "250 MEGA FIBR4",
          "SUPREMO_600MB_FIBRA",
          "8 MEGA",
          "SUPREMO_500MB_FIBRA_99",
          "SUPREMO_500MB_FIBRA_99",
          "SUPREMO_500MB_FIBRA_99",
          "SUPREMO_500MB_FIBRA_99",
          "SUPREMO_150MB_FIBRA",
          "SUPREMO_150MB_FIBRA",
          "4 MEGA",
          "200_MEGA_PLUS",
          "4 MEGA",
          "250 MEGA FIBR4",
          "SUPREMO_500MB_FIBRA_99",
          "60_MEGA_FIBER",
          "200_MEGA_PLUS",
          "SUPREMO_500MB_FIBRA_99",
          "100MB_SPACE",
          "SUPREMO_500MB_FIBRA_99",
          "250 MEGA FIBR4",
          "30 MEGA FIBRA SB",
          "60_MEGA_FIBER",
          "200_MEGA_2021",
          "SUPREMO_500MB_FIBRA_99",
          "60MEGA FTTH",
          "SUPREMO_500MB_FIBRA_99",
          "SUPREMO_500MB_FIBRA_99",
          "SUPREMO_150MB_FIBRA",
          "SUPREMO_500MB_FIBRA_99",
          "SUPREMO_500MB_FIBRA_99",
          "8 MEGA",
          "SUPREMO_600MB_FIBRA",
          "250 MEGA FIBR4",
          "SUPREMO_500MB_FIBRA_99",
          "30 mega_migração_ftth",
          "30 MEGA FIBRA SB",
          "SUPREMO_500MB_FIBRA_99",
          "30 MEGA FIBRA SB",
          "150 MEGA SPACE 2022",
          "SUPREMO_500MB_FIBRA_99",
          "SUPREMO_500MB_FIBRA_99",
          "30 MEGA FIBRA SB",
          "250 MEGA FIBR4",
          "SUPREMO_500MB_FIBRA_99",
          "250 MEGA FIBR4",
          "250 MEGA FIBR4",
          "250 MEGA FIBR4",
          "SUPREMO_500MB_FIBRA_99",
          "250 MEGA FIBR4",
          "100MB_SPACE",
          "SUPREMO_500MB_FIBRA_99",
          "SUPREMO_500MB_FIBRA_99",
          "SUPREMO_500MB_FIBRA_99",
          "SUPREMO_600MB_FIBRA",
          "60MEGA FTTH",
          "150 MEGA SPACE 2022",
          "250 MEGA FIBR4",
          "SUPREMO_500MB_FIBRA_99",
          "250 MEGA FIBR4",
          "SUPREMO_700MB_FIBRA",
          "SUPREMO_500MB_FIBRA_99",
          "SUPREMO_500MB_FIBRA_99",
          "30 mega_migração_ftth",
          "8 MEGA",
          "30 MEGA FIBRA SB",
          "SUPREMO_150MB_FIBRA",
          "SUPREMO_500MB_FIBRA_99",
          "SUPREMO_500MB_FIBRA_99",
          "SUPREMO_500MB_FIBRA_99",
          "SUPREMO_600MB_FIBRA",
          "30 MEGA FIBRA SB",
          "250 MEGA FIBR4",
          "SUPREMO_600MB_FIBRA",
          "4 MEGA",
          "SUPREMO_500MB_FIBRA_99",
          "80MEGA FTTH",
          "250 MEGA FIBR4",
          "250 MEGA FIBR4",
          "350 MEGA FIBRA",
          "SUPREMO_500MB_FIBRA_99",
          "SUPREMO_500MB_FIBRA_99",
          "200_MEGA_2021",
          "200_MEGA_2021",
          "250 MEGA FIBR4",
          "150 MEGA RC",
          "150 MEGA RC",
          "SUPREMO_500MB_FIBRA_99",
          "SUPREMO_500MB_FIBRA_99",
          "30 mega_migração_ftth",
          "30 MEGA FIBRA SB",
          "300_MEGA_FIBRA_2022",
          "SUPREMO_500MB_FIBRA_99",
          "200_MEGA_PLUS",
          "150 MEGA RC",
          "SUPREMO_500MB_FIBRA_99",
          "SUPREMO_150MB_FIBRA",
          "100MB_SPACE",
          "SUPREMO_150MB_FIBRA",
          "250 MEGA FIBR4",
          "250 MEGA FIBR4",
          "300_MEGA_FIBRA_2022",
          "SUPREMO_150MB_FIBRA",
          "150 MEGA RC",
          "250 MEGA FIBR4",
          "250 MEGA FIBR4",
          "30 MEGA FIBRA SB",
          "30 mega_migração_ftth",
          "300_MEGA_FIBRA_2022",
          "80MEGA FTTH",
          "SUPREMO_500MB_FIBRA_99",
          "200_MEGA_PLUS",
          "250 MEGA FIBR4",
          "SUPREMO_150MB_FIBRA",
          "80_MEGA_FIBER",
          "SUPREMO_150MB_FIBRA",
          "SUPREMO_150MB_FIBRA",
          "SUPREMO_500MB_FIBRA_99",
          "4 MEGA",
          "250 MEGA FIBR4",
          "SUPREMO_500MB_FIBRA_99",
          "4 MEGA",
          "150 MEGA RC",
          "250 MEGA FIBR4",
          "SUPREMO_500MB_FIBRA_99",
          "SUPREMO_500MB_FIBRA_99",
          "250 MEGA FIBR4",
          "350 MEGA FIBRA",
          "SUPREMO_500MB_FIBRA_99",
          "250 MEGA FIBR4",
          "60_MEGA_FIBER",
          "SUPREMO_500MB_FIBRA_99",
          "250 MEGA FIBR4",
          "4 MEGA",
          "250 MEGA FIBR4",
          "SUPREMO_500MB_FIBRA_99",
          "200_MEGA_2021",
          "250 MEGA FIBR4",
          "250 MEGA FIBR4",
          "SUPREMO_500MB_FIBRA_99",
          "300_MEGA_PARCERIA",
          "250 MEGA FIBR4",
          "SUPREMO_500MB_FIBRA_99",
          "80MEGA FTTH",
          "250 MEGA FIBR4",
          "SUPREMO_500MB_FIBRA_99",
          "60_MEGA_FIBER",
          "SUPREMO_500MB_FIBRA_99",
          "SUPREMO_500MB_FIBRA_99",
          "250 MEGA FIBR4",
          "SUPREMO_500MB_FIBRA_99",
          "250 MEGA FIBR4",
          "SUPREMO_500MB_FIBRA_99",
          "250 MEGA FIBR4",
          "SUPREMO_600MB_FIBRA",
          "150 MEGA SPACE 2022",
          "100MB_SPACE",
          "SUPREMO_500MB_FIBRA_99",
          "30 MEGA FIBRA SB",
          "60_MEGA_FIBER",
          "SUPREMO_500MB_FIBRA_99",
          "8 MEGA",
          "SUPREMO_500MB_FIBRA_99",
          "60MEGA FTTH",
          "SUPREMO_500MB_FIBRA_99",
          "SUPREMO_150MB_FIBRA",
          "SUPREMO_600MB_FIBRA",
          "SUPREMO_500MB_FIBRA_99",
          "350MB_NOVO_105.90",
          "30 MEGA FIBRA SB",
          "SUPREMO_150MB_FIBRA",
          "SUPREMO_150MB_FIBRA",
          "SUPREMO_500MB_FIBRA_99",
          "SUPREMO_500MB_FIBRA_99",
          "30 MEGA FIBRA SB",
          "300_MEGA_FIBRA_2022",
          "80MEGA FTTH",
          "4 MEGA",
          "SUPREMO_500MB_FIBRA_99",
          "SUPREMO_500MB_FIBRA_99",
          "8 MEGA",
          "SUPREMO_500MB_FIBRA_99",
          "SUPREMO_500MB_FIBRA_99",
          "30 MEGA FIBRA SB",
          "400 MEGA FIBRA",
          "SUPREMO_500MB_FIBRA_99",
          "30 MEGA FIBRA SB",
          "SUPREMO_500MB_FIBRA_99",
          "250 MEGA FIBR4",
          "8 MEGA",
          "300_MEGA_FIBRA_2022",
          "SUPREMO_500MB_FIBRA_99",
          "SUPREMO_500MB_FIBRA_99",
          "SUPREMO_500MB_FIBRA_99",
          "4 MEGA",
          "SUPREMO_500MB_FIBRA_99",
          "SUPREMO_600MB_FIBRA",
          "30 mega_migração_ftth",
          "350MB_NOVO_105.90",
          "200_MEGA_2021",
          "8 MEGA",
          "30 MEGA FIBRA SB",
          "4 MEGA",
          "SUPREMO_500MB_FIBRA_99",
          "SUPREMO_600MB_FIBRA",
          "SUPREMO_500MB_FIBRA_99",
          "30 MEGA FIBRA SB",
          "30 MEGA FIBRA SB",
          "SUPREMO_500MB_FIBRA_99",
          "SUPREMO_600MB_FIBRA",
          "30 MEGA FIBRA SB",
          "30 mega_migração_ftth",
          "SUPREMO_500MB_FIBRA_99",
          "250 MEGA FIBR4",
          "SUPREMO_500MB_FIBRA_99",
          "SUPREMO_500MB_FIBRA_99",
          "150 MEGA RC",
          "150 MEGA SPACE 2022",
          "350MB_NOVO_105.90",
          "SUPREMO_500MB_FIBRA_99",
          "250 MEGA FIBR4",
          "250 MEGA FIBR4",
          "350MB_NOVO_105.90",
          "8 MEGA",
          "250 MEGA FIBR4",
          "SUPREMO_600MB_FIBRA",
          "250 MEGA FIBR4",
          "SUPREMO_500MB_FIBRA_99",
          "SUPREMO_500MB_FIBRA_99",
          "30 MEGA FIBRA SB",
          "SUPREMO_500MB_FIBRA_99",
          "30 mega_migração_ftth",
          "SUPREMO_600MB_FIBRA",
          "SUPREMO_500MB_FIBRA_99",
          "300_MEGA_FIBRA_2022",
          "SUPREMO_500MB_FIBRA_99",
          "SUPREMO_500MB_FIBRA_99",
          "SUPREMO_500MB_FIBRA_99",
          "30 MEGA FIBRA SB",
          "250 MEGA FIBR4",
          "SUPREMO_500MB_FIBRA_99",
          "30 MEGA FIBRA SB",
          "SUPREMO_500MB_FIBRA_99",
          "SUPREMO_500MB_FIBRA_99",
          "SUPREMO_500MB_FIBRA_99",
          "SUPREMO_600MB_FIBRA",
          "60_MEGA_FIBER",
          "SUPREMO_150MB_FIBRA",
          "60_MEGA_FIBER",
          "250 MEGA FIBR4",
          "SUPREMO_500MB_FIBRA_99",
          "150 MEGA SPACE 2022",
          "350 MEGA FIBRA",
          "SUPREMO_500MB_FIBRA_99",
          "200_MEGA_2021",
          "300_MEGA_FIBRA_2022",
          "SUPREMO_150MB_FIBRA",
          "SUPREMO_500MB_FIBRA_99",
          "SUPREMO_150MB_FIBRA",
          "250 MEGA FIBR4",
          "80MEGA FTTH",
          "SUPREMO_500MB_FIBRA_99",
          "SUPREMO_500MB_FIBRA_99",
          "SUPREMO_500MB_FIBRA_99",
          "80MEGA FTTH",
          "250 MEGA FIBR4",
          "8 MEGA",
          "SUPREMO_500MB_FIBRA_99",
          "4 MEGA",
          "30 MEGA FIBRA SB",
          "250 MEGA FIBR4",
          "SUPREMO_500MB_FIBRA_99",
          "SUPREMO_150MB_FIBRA",
          "150 MEGA RC",
          "SUPREMO_500MB_FIBRA_99",
          "250 MEGA FIBR4",
          "SUPREMO_500MB_FIBRA_99",
          "SUPREMO_500MB_FIBRA_99",
          "250 MEGA FIBR4",
          "SUPREMO_600MB_FIBRA",
          "SUPREMO_500MB_FIBRA_99",
          "SUPREMO_500MB_FIBRA_99",
          "SUPREMO_500MB_FIBRA_99",
          "SUPREMO_500MB_FIBRA_99",
          "SUPREMO_150MB_FIBRA",
          "SUPREMO_150MB_FIBRA",
          "100MB_SPACE",
          "SUPREMO_500MB_FIBRA_99",
          "SUPREMO_500MB_FIBRA_99",
          "250 MEGA FIBR4",
          "SUPREMO_500MB_FIBRA_99",
          "SUPREMO_150MB_FIBRA",
          "250 MEGA FIBR4",
          "250 MEGA FIBR4",
          "30 MEGA FIBRA SB",
          "SUPREMO_150MB_FIBRA",
          "300_MEGA_FIBRA_2022",
          "30 mega_migração_ftth",
          "80MEGA FTTH",
          "SUPREMO_500MB_FIBRA_99",
          "SUPREMO_500MB_FIBRA_99",
          "250 MEGA FIBR4",
          "SUPREMO_500MB_FIBRA_99",
          "150 MEGA RC",
          "SUPREMO_500MB_FIBRA_99",
          "SUPREMO_500MB_FIBRA_99",
          "30 MEGA FIBRA SB",
          "30 MEGA FIBRA SB",
          "4 MEGA",
          "SUPREMO_500MB_FIBRA_99",
          "60_MEGA_FIBER",
          "30 MEGA FIBRA SB",
          "SUPREMO_500MB_FIBRA_99",
          "SUPREMO_500MB_FIBRA_99",
          "80MEGA FTTH",
          "350MB_NOVO_105.90",
          "4 MEGA",
          "30 mega_migração_ftth",
          "250 MEGA FIBR4",
          "SUPREMO_500MB_FIBRA_99",
          "150 MEGA SPACE 2022",
          "SUPREMO_500MB_FIBRA_99",
          "80_MEGA_FIBER",
          "SUPREMO_600MB_FIBRA",
          "SUPREMO_500MB_FIBRA_99",
          "60_MEGA_FIBER",
          "SUPREMO_500MB_FIBRA_99",
          "250 MEGA FIBR4",
          "SUPREMO_150MB_FIBRA",
          "150 MEGA RC",
          "250 MEGA FIBR4",
          "250 MEGA FIBR4",
          "SUPREMO_500MB_FIBRA_99",
          "SUPREMO_500MB_FIBRA_99",
          "SUPREMO_500MB_FIBRA_99",
          "SUPREMO_500MB_FIBRA_99",
          "8 MEGA",
          "SUPREMO_500MB_FIBRA_99",
          "SUPREMO_600MB_FIBRA",
          "250 MEGA FIBR4",
          "SUPREMO_150MB_FIBRA",
          "SUPREMO_500MB_FIBRA_99",
          "250 MEGA FIBR4",
          "SUPREMO_500MB_FIBRA_99",
          "30 MEGA FIBRA SB",
          "SUPREMO_150MB_FIBRA",
          "3 MEGA",
          "200_MEGA_PLUS",
          "30 MEGA FIBRA SB",
          "SUPREMO_500MB_FIBRA_99",
          "SUPREMO_500MB_FIBRA_99",
          "4 MEGA",
          "SUPREMO_500MB_FIBRA_99",
          "80MEGA FTTH",
          "60_MEGA_FIBER",
          "4 MEGA",
          "250 MEGA FIBR4",
          "SUPREMO_500MB_FIBRA_99",
          "SUPREMO_150MB_FIBRA",
          "60MEGA FTTH",
          "SUPREMO_150MB_FIBRA",
          "SUPREMO_150MB_FIBRA",
          "SUPREMO_500MB_FIBRA_99",
          "SUPREMO_500MB_FIBRA_99",
          "100MB_SPACE",
          "250 MEGA FIBR4",
          "SUPREMO_500MB_FIBRA_99",
          "SUPREMO_500MB_FIBRA_99",
          "100MB_SPACE",
          "SUPREMO_500MB_FIBRA_99",
          "SUPREMO_700MB_FIBRA",
          "SUPREMO_500MB_FIBRA_99",
          "8 MEGA",
          "8 MEGA",
          "4 MEGA",
          "SUPREMO_500MB_FIBRA_99",
          "SUPREMO_700MB_FIBRA",
          "SUPREMO_500MB_FIBRA_99",
          "80_MEGA_FIBER",
          "30 MEGA FIBRA SB",
          "400 MEGA FIBRA",
          "SUPREMO_500MB_FIBRA_99",
          "60_MEGA_FIBER",
          "SUPREMO_700MB_FIBRA",
          "250 MEGA FIBR4",
          "SUPREMO_500MB_FIBRA_99",
          "200_MEGA_PLUS",
          "4 MEGA",
          "SUPREMO_500MB_FIBRA_99",
          "SUPREMO_600MB_FIBRA",
          "300_MEGA_FIBRA_2022",
          "350MB_NOVO_105.90",
          "SUPREMO_150MB_FIBRA",
          "4 MEGA",
          "SUPREMO_500MB_FIBRA_99",
          "SUPREMO_500MB_FIBRA_99",
          "100MB_SPACE",
          "SUPREMO_500MB_FIBRA_99",
          "SUPREMO_500MB_FIBRA_99",
          "SUPREMO_500MB_FIBRA_99",
          "250 MEGA FIBR4",
          "60_MEGA_FIBER",
          "250 MEGA FIBR4",
          "250 MEGA FIBR4",
          "350MB_NOVO_105.90",
          "SUPREMO_500MB_FIBRA_99",
          "SUPREMO_500MB_FIBRA_99",
          "30 mega_migração_ftth",
          "30 mega_migração_ftth",
          "30 MEGA FIBRA SB",
          "SUPREMO_500MB_FIBRA_99",
          "60_MEGA_FIBER",
          "SUPREMO_500MB_FIBRA_99",
          "150 MEGA RC",
          "SUPREMO_500MB_FIBRA_99",
          "150 MEGA RC",
          "30 MEGA FIBRA SB",
          "SUPREMO_500MB_FIBRA_99",
          "350MB_NOVO_105.90",
          "250 MEGA FIBR4",
          "100MB_SPACE",
          "SUPREMO_600MB_FIBRA",
          "SUPREMO_500MB_FIBRA_99",
          "30 MEGA FIBRA SB",
          "30 mega_migração_ftth",
          "250 MEGA FIBR4",
          "150 MEGA RC",
          "SUPREMO_600MB_FIBRA",
          "350MB_NOVO_105.90",
          "4 MEGA",
          "SUPREMO_500MB_FIBRA_99",
          "30 MEGA FIBRA SB",
          "SUPREMO_500MB_FIBRA_99",
          "250 MEGA FIBR4",
          "SUPREMO_150MB_FIBRA",
          "100MB_SPACE",
          "30 MEGA FIBRA SB",
          "SUPREMO_500MB_FIBRA_99",
          "8 MEGA",
          "SUPREMO_500MB_FIBRA_99",
          "SUPREMO_500MB_FIBRA_99",
          "8 MEGA",
          "SUPREMO_500MB_FIBRA_99",
          "200_MEGA_PLUS",
          "250 MEGA FIBR4",
          "100MB_SPACE",
          "SUPREMO_500MB_FIBRA_99",
          "SUPREMO_600MB_FIBRA",
          "150 MEGA RC",
          "30 MEGA FIBRA SB",
          "30 MEGA FIBRA SB",
          "30 MEGA FIBRA SB",
          "SUPREMO_500MB_FIBRA_99",
          "SUPREMO_500MB_FIBRA_99",
          "4 MEGA",
          "350MB_NOVO_105.90",
          "SUPREMO_500MB_FIBRA_99",
          "SUPREMO_500MB_FIBRA_99",
          "SUPREMO_500MB_FIBRA_99",
          "SUPREMO_500MB_FIBRA_99",
          "SUPREMO_500MB_FIBRA_99",
          "SUPREMO_500MB_FIBRA_99",
          "SUPREMO_500MB_FIBRA_99",
          "SUPREMO_500MB_FIBRA_99",
          "SUPREMO_500MB_FIBRA_99",
          "SUPREMO_500MB_FIBRA_99",
          "300_MEGA_FIBRA_2022",
          "30 MEGA FIBRA SB",
          "30 MEGA FIBRA SB",
          "SUPREMO_500MB_FIBRA_99",
          "60MEGA FTTH",
          "150 MEGA RC"
         ],
         "xaxis": "x",
         "yaxis": "y"
        }
       ],
       "layout": {
        "barmode": "relative",
        "legend": {
         "tracegroupgap": 0
        },
        "margin": {
         "t": 60
        },
        "template": {
         "data": {
          "bar": [
           {
            "error_x": {
             "color": "#2a3f5f"
            },
            "error_y": {
             "color": "#2a3f5f"
            },
            "marker": {
             "line": {
              "color": "#E5ECF6",
              "width": 0.5
             },
             "pattern": {
              "fillmode": "overlay",
              "size": 10,
              "solidity": 0.2
             }
            },
            "type": "bar"
           }
          ],
          "barpolar": [
           {
            "marker": {
             "line": {
              "color": "#E5ECF6",
              "width": 0.5
             },
             "pattern": {
              "fillmode": "overlay",
              "size": 10,
              "solidity": 0.2
             }
            },
            "type": "barpolar"
           }
          ],
          "carpet": [
           {
            "aaxis": {
             "endlinecolor": "#2a3f5f",
             "gridcolor": "white",
             "linecolor": "white",
             "minorgridcolor": "white",
             "startlinecolor": "#2a3f5f"
            },
            "baxis": {
             "endlinecolor": "#2a3f5f",
             "gridcolor": "white",
             "linecolor": "white",
             "minorgridcolor": "white",
             "startlinecolor": "#2a3f5f"
            },
            "type": "carpet"
           }
          ],
          "choropleth": [
           {
            "colorbar": {
             "outlinewidth": 0,
             "ticks": ""
            },
            "type": "choropleth"
           }
          ],
          "contour": [
           {
            "colorbar": {
             "outlinewidth": 0,
             "ticks": ""
            },
            "colorscale": [
             [
              0,
              "#0d0887"
             ],
             [
              0.1111111111111111,
              "#46039f"
             ],
             [
              0.2222222222222222,
              "#7201a8"
             ],
             [
              0.3333333333333333,
              "#9c179e"
             ],
             [
              0.4444444444444444,
              "#bd3786"
             ],
             [
              0.5555555555555556,
              "#d8576b"
             ],
             [
              0.6666666666666666,
              "#ed7953"
             ],
             [
              0.7777777777777778,
              "#fb9f3a"
             ],
             [
              0.8888888888888888,
              "#fdca26"
             ],
             [
              1,
              "#f0f921"
             ]
            ],
            "type": "contour"
           }
          ],
          "contourcarpet": [
           {
            "colorbar": {
             "outlinewidth": 0,
             "ticks": ""
            },
            "type": "contourcarpet"
           }
          ],
          "heatmap": [
           {
            "colorbar": {
             "outlinewidth": 0,
             "ticks": ""
            },
            "colorscale": [
             [
              0,
              "#0d0887"
             ],
             [
              0.1111111111111111,
              "#46039f"
             ],
             [
              0.2222222222222222,
              "#7201a8"
             ],
             [
              0.3333333333333333,
              "#9c179e"
             ],
             [
              0.4444444444444444,
              "#bd3786"
             ],
             [
              0.5555555555555556,
              "#d8576b"
             ],
             [
              0.6666666666666666,
              "#ed7953"
             ],
             [
              0.7777777777777778,
              "#fb9f3a"
             ],
             [
              0.8888888888888888,
              "#fdca26"
             ],
             [
              1,
              "#f0f921"
             ]
            ],
            "type": "heatmap"
           }
          ],
          "heatmapgl": [
           {
            "colorbar": {
             "outlinewidth": 0,
             "ticks": ""
            },
            "colorscale": [
             [
              0,
              "#0d0887"
             ],
             [
              0.1111111111111111,
              "#46039f"
             ],
             [
              0.2222222222222222,
              "#7201a8"
             ],
             [
              0.3333333333333333,
              "#9c179e"
             ],
             [
              0.4444444444444444,
              "#bd3786"
             ],
             [
              0.5555555555555556,
              "#d8576b"
             ],
             [
              0.6666666666666666,
              "#ed7953"
             ],
             [
              0.7777777777777778,
              "#fb9f3a"
             ],
             [
              0.8888888888888888,
              "#fdca26"
             ],
             [
              1,
              "#f0f921"
             ]
            ],
            "type": "heatmapgl"
           }
          ],
          "histogram": [
           {
            "marker": {
             "pattern": {
              "fillmode": "overlay",
              "size": 10,
              "solidity": 0.2
             }
            },
            "type": "histogram"
           }
          ],
          "histogram2d": [
           {
            "colorbar": {
             "outlinewidth": 0,
             "ticks": ""
            },
            "colorscale": [
             [
              0,
              "#0d0887"
             ],
             [
              0.1111111111111111,
              "#46039f"
             ],
             [
              0.2222222222222222,
              "#7201a8"
             ],
             [
              0.3333333333333333,
              "#9c179e"
             ],
             [
              0.4444444444444444,
              "#bd3786"
             ],
             [
              0.5555555555555556,
              "#d8576b"
             ],
             [
              0.6666666666666666,
              "#ed7953"
             ],
             [
              0.7777777777777778,
              "#fb9f3a"
             ],
             [
              0.8888888888888888,
              "#fdca26"
             ],
             [
              1,
              "#f0f921"
             ]
            ],
            "type": "histogram2d"
           }
          ],
          "histogram2dcontour": [
           {
            "colorbar": {
             "outlinewidth": 0,
             "ticks": ""
            },
            "colorscale": [
             [
              0,
              "#0d0887"
             ],
             [
              0.1111111111111111,
              "#46039f"
             ],
             [
              0.2222222222222222,
              "#7201a8"
             ],
             [
              0.3333333333333333,
              "#9c179e"
             ],
             [
              0.4444444444444444,
              "#bd3786"
             ],
             [
              0.5555555555555556,
              "#d8576b"
             ],
             [
              0.6666666666666666,
              "#ed7953"
             ],
             [
              0.7777777777777778,
              "#fb9f3a"
             ],
             [
              0.8888888888888888,
              "#fdca26"
             ],
             [
              1,
              "#f0f921"
             ]
            ],
            "type": "histogram2dcontour"
           }
          ],
          "mesh3d": [
           {
            "colorbar": {
             "outlinewidth": 0,
             "ticks": ""
            },
            "type": "mesh3d"
           }
          ],
          "parcoords": [
           {
            "line": {
             "colorbar": {
              "outlinewidth": 0,
              "ticks": ""
             }
            },
            "type": "parcoords"
           }
          ],
          "pie": [
           {
            "automargin": true,
            "type": "pie"
           }
          ],
          "scatter": [
           {
            "fillpattern": {
             "fillmode": "overlay",
             "size": 10,
             "solidity": 0.2
            },
            "type": "scatter"
           }
          ],
          "scatter3d": [
           {
            "line": {
             "colorbar": {
              "outlinewidth": 0,
              "ticks": ""
             }
            },
            "marker": {
             "colorbar": {
              "outlinewidth": 0,
              "ticks": ""
             }
            },
            "type": "scatter3d"
           }
          ],
          "scattercarpet": [
           {
            "marker": {
             "colorbar": {
              "outlinewidth": 0,
              "ticks": ""
             }
            },
            "type": "scattercarpet"
           }
          ],
          "scattergeo": [
           {
            "marker": {
             "colorbar": {
              "outlinewidth": 0,
              "ticks": ""
             }
            },
            "type": "scattergeo"
           }
          ],
          "scattergl": [
           {
            "marker": {
             "colorbar": {
              "outlinewidth": 0,
              "ticks": ""
             }
            },
            "type": "scattergl"
           }
          ],
          "scattermapbox": [
           {
            "marker": {
             "colorbar": {
              "outlinewidth": 0,
              "ticks": ""
             }
            },
            "type": "scattermapbox"
           }
          ],
          "scatterpolar": [
           {
            "marker": {
             "colorbar": {
              "outlinewidth": 0,
              "ticks": ""
             }
            },
            "type": "scatterpolar"
           }
          ],
          "scatterpolargl": [
           {
            "marker": {
             "colorbar": {
              "outlinewidth": 0,
              "ticks": ""
             }
            },
            "type": "scatterpolargl"
           }
          ],
          "scatterternary": [
           {
            "marker": {
             "colorbar": {
              "outlinewidth": 0,
              "ticks": ""
             }
            },
            "type": "scatterternary"
           }
          ],
          "surface": [
           {
            "colorbar": {
             "outlinewidth": 0,
             "ticks": ""
            },
            "colorscale": [
             [
              0,
              "#0d0887"
             ],
             [
              0.1111111111111111,
              "#46039f"
             ],
             [
              0.2222222222222222,
              "#7201a8"
             ],
             [
              0.3333333333333333,
              "#9c179e"
             ],
             [
              0.4444444444444444,
              "#bd3786"
             ],
             [
              0.5555555555555556,
              "#d8576b"
             ],
             [
              0.6666666666666666,
              "#ed7953"
             ],
             [
              0.7777777777777778,
              "#fb9f3a"
             ],
             [
              0.8888888888888888,
              "#fdca26"
             ],
             [
              1,
              "#f0f921"
             ]
            ],
            "type": "surface"
           }
          ],
          "table": [
           {
            "cells": {
             "fill": {
              "color": "#EBF0F8"
             },
             "line": {
              "color": "white"
             }
            },
            "header": {
             "fill": {
              "color": "#C8D4E3"
             },
             "line": {
              "color": "white"
             }
            },
            "type": "table"
           }
          ]
         },
         "layout": {
          "annotationdefaults": {
           "arrowcolor": "#2a3f5f",
           "arrowhead": 0,
           "arrowwidth": 1
          },
          "autotypenumbers": "strict",
          "coloraxis": {
           "colorbar": {
            "outlinewidth": 0,
            "ticks": ""
           }
          },
          "colorscale": {
           "diverging": [
            [
             0,
             "#8e0152"
            ],
            [
             0.1,
             "#c51b7d"
            ],
            [
             0.2,
             "#de77ae"
            ],
            [
             0.3,
             "#f1b6da"
            ],
            [
             0.4,
             "#fde0ef"
            ],
            [
             0.5,
             "#f7f7f7"
            ],
            [
             0.6,
             "#e6f5d0"
            ],
            [
             0.7,
             "#b8e186"
            ],
            [
             0.8,
             "#7fbc41"
            ],
            [
             0.9,
             "#4d9221"
            ],
            [
             1,
             "#276419"
            ]
           ],
           "sequential": [
            [
             0,
             "#0d0887"
            ],
            [
             0.1111111111111111,
             "#46039f"
            ],
            [
             0.2222222222222222,
             "#7201a8"
            ],
            [
             0.3333333333333333,
             "#9c179e"
            ],
            [
             0.4444444444444444,
             "#bd3786"
            ],
            [
             0.5555555555555556,
             "#d8576b"
            ],
            [
             0.6666666666666666,
             "#ed7953"
            ],
            [
             0.7777777777777778,
             "#fb9f3a"
            ],
            [
             0.8888888888888888,
             "#fdca26"
            ],
            [
             1,
             "#f0f921"
            ]
           ],
           "sequentialminus": [
            [
             0,
             "#0d0887"
            ],
            [
             0.1111111111111111,
             "#46039f"
            ],
            [
             0.2222222222222222,
             "#7201a8"
            ],
            [
             0.3333333333333333,
             "#9c179e"
            ],
            [
             0.4444444444444444,
             "#bd3786"
            ],
            [
             0.5555555555555556,
             "#d8576b"
            ],
            [
             0.6666666666666666,
             "#ed7953"
            ],
            [
             0.7777777777777778,
             "#fb9f3a"
            ],
            [
             0.8888888888888888,
             "#fdca26"
            ],
            [
             1,
             "#f0f921"
            ]
           ]
          },
          "colorway": [
           "#636efa",
           "#EF553B",
           "#00cc96",
           "#ab63fa",
           "#FFA15A",
           "#19d3f3",
           "#FF6692",
           "#B6E880",
           "#FF97FF",
           "#FECB52"
          ],
          "font": {
           "color": "#2a3f5f"
          },
          "geo": {
           "bgcolor": "white",
           "lakecolor": "white",
           "landcolor": "#E5ECF6",
           "showlakes": true,
           "showland": true,
           "subunitcolor": "white"
          },
          "hoverlabel": {
           "align": "left"
          },
          "hovermode": "closest",
          "mapbox": {
           "style": "light"
          },
          "paper_bgcolor": "white",
          "plot_bgcolor": "#E5ECF6",
          "polar": {
           "angularaxis": {
            "gridcolor": "white",
            "linecolor": "white",
            "ticks": ""
           },
           "bgcolor": "#E5ECF6",
           "radialaxis": {
            "gridcolor": "white",
            "linecolor": "white",
            "ticks": ""
           }
          },
          "scene": {
           "xaxis": {
            "backgroundcolor": "#E5ECF6",
            "gridcolor": "white",
            "gridwidth": 2,
            "linecolor": "white",
            "showbackground": true,
            "ticks": "",
            "zerolinecolor": "white"
           },
           "yaxis": {
            "backgroundcolor": "#E5ECF6",
            "gridcolor": "white",
            "gridwidth": 2,
            "linecolor": "white",
            "showbackground": true,
            "ticks": "",
            "zerolinecolor": "white"
           },
           "zaxis": {
            "backgroundcolor": "#E5ECF6",
            "gridcolor": "white",
            "gridwidth": 2,
            "linecolor": "white",
            "showbackground": true,
            "ticks": "",
            "zerolinecolor": "white"
           }
          },
          "shapedefaults": {
           "line": {
            "color": "#2a3f5f"
           }
          },
          "ternary": {
           "aaxis": {
            "gridcolor": "white",
            "linecolor": "white",
            "ticks": ""
           },
           "baxis": {
            "gridcolor": "white",
            "linecolor": "white",
            "ticks": ""
           },
           "bgcolor": "#E5ECF6",
           "caxis": {
            "gridcolor": "white",
            "linecolor": "white",
            "ticks": ""
           }
          },
          "title": {
           "x": 0.05
          },
          "xaxis": {
           "automargin": true,
           "gridcolor": "white",
           "linecolor": "white",
           "ticks": "",
           "title": {
            "standoff": 15
           },
           "zerolinecolor": "white",
           "zerolinewidth": 2
          },
          "yaxis": {
           "automargin": true,
           "gridcolor": "white",
           "linecolor": "white",
           "ticks": "",
           "title": {
            "standoff": 15
           },
           "zerolinecolor": "white",
           "zerolinewidth": 2
          }
         }
        },
        "xaxis": {
         "anchor": "y",
         "domain": [
          0,
          1
         ],
         "title": {
          "text": "Plano"
         }
        },
        "yaxis": {
         "anchor": "x",
         "domain": [
          0,
          1
         ],
         "title": {
          "text": "count"
         }
        }
       }
      }
     },
     "metadata": {},
     "output_type": "display_data"
    },
    {
     "data": {
      "application/vnd.plotly.v1+json": {
       "config": {
        "plotlyServerURL": "https://plot.ly"
       },
       "data": [
        {
         "alignmentgroup": "True",
         "bingroup": "x",
         "hovertemplate": "Plano Valor=%{x}<br>count=%{y}<extra></extra>",
         "legendgroup": "",
         "marker": {
          "color": "#636efa",
          "pattern": {
           "shape": ""
          }
         },
         "name": "",
         "offsetgroup": "",
         "orientation": "v",
         "showlegend": false,
         "type": "histogram",
         "x": [
          60,
          79.9,
          99.9,
          99.9,
          99.9,
          64.9,
          89.9,
          69.9,
          105.9,
          99.9,
          89.9,
          99.9,
          89.9,
          129.9,
          99.9,
          99.9,
          99.9,
          64.9,
          99.9,
          99.9,
          64.9,
          64.9,
          99.9,
          119.9,
          99.9,
          119.9,
          119.9,
          105.9,
          99.9,
          99.9,
          99.9,
          89.9,
          99.9,
          89.9,
          99.9,
          89.9,
          60,
          57.5,
          99.9,
          64.9,
          99.9,
          89.9,
          105.9,
          89.9,
          99.9,
          99.9,
          99.9,
          99.9,
          99.9,
          99.9,
          99.9,
          89.9,
          99.9,
          89.9,
          89.9,
          99.9,
          99.9,
          99.9,
          99.9,
          99.9,
          89.9,
          64.9,
          82,
          69.9,
          99.9,
          89.9,
          82,
          149.9,
          119.9,
          105.9,
          99.9,
          82,
          129.9,
          105.9,
          99.9,
          99.9,
          99.9,
          99.9,
          64.9,
          99.9,
          99.9,
          105.9,
          69.9,
          99.9,
          89.9,
          89.9,
          64.9,
          99.9,
          89.9,
          64.9,
          64.9,
          99.9,
          99.9,
          69.9,
          99.9,
          64.9,
          105.9,
          99.9,
          89.9,
          60,
          79.9,
          89.9,
          89.9,
          99.9,
          89.9,
          89.9,
          64.9,
          89.9,
          99.9,
          57.5,
          99.9,
          99.9,
          99.9,
          99.9,
          99.9,
          89.9,
          82,
          60,
          64.9,
          82,
          99.9,
          99.9,
          99.9,
          99.9,
          99.9,
          64.9,
          99.9,
          69.9,
          89.9,
          64.9,
          99.9,
          89.9,
          99.9,
          99.9,
          82,
          99.9,
          99.9,
          99.9,
          119.9,
          99.9,
          79.9,
          89.9,
          99.9,
          99.9,
          64.9,
          64.9,
          119.9,
          89.9,
          105.9,
          89.9,
          99.9,
          89.9,
          89.9,
          139.9,
          99.9,
          99.9,
          89.9,
          64.9,
          149.9,
          119.9,
          99.9,
          99.9,
          99.9,
          99.9,
          99.9,
          89.9,
          99.9,
          99.9,
          99.9,
          99.9,
          99.9,
          64.9,
          99.9,
          69.9,
          99.9,
          89.9,
          89.9,
          99.9,
          69.9,
          99.9,
          69.9,
          89.9,
          59.9,
          99.9,
          99.9,
          79.9,
          69.9,
          89.9,
          99.9,
          105.9,
          99.9,
          119.9,
          99.9,
          105.9,
          69.9,
          99.9,
          99.9,
          99.9,
          139.9,
          89.9,
          64.9,
          79.9,
          60,
          64.9,
          69.9,
          89.9,
          105.9,
          105.9,
          139.9,
          99.9,
          119.9,
          99.9,
          99.9,
          99.9,
          119.9,
          119.9,
          99.9,
          99.9,
          89.9,
          139.9,
          69.9,
          99.9,
          99.9,
          99.9,
          99.9,
          99.9,
          99.9,
          129.9,
          60,
          99.9,
          99.9,
          89.9,
          89.9,
          64.9,
          129.9,
          139.9,
          82,
          99.9,
          89.9,
          69.9,
          99.9,
          89.9,
          99.9,
          99.9,
          89.9,
          99.9,
          139.9,
          99.9,
          89.9,
          99.9,
          64.9,
          89.9,
          64.9,
          99.9,
          99.9,
          99.9,
          99.9,
          99.9,
          82,
          99.9,
          99.9,
          119.9,
          99.9,
          89.9,
          99.9,
          64.9,
          60,
          99.9,
          89.9,
          89.9,
          99.9,
          64.9,
          79.9,
          99.9,
          79.9,
          64.9,
          99.9,
          149.9,
          99.9,
          105.9,
          69.9,
          64.9,
          99.9,
          99.9,
          99.9,
          57.5,
          99.9,
          99.9,
          99.9,
          89.9,
          89.9,
          89.9,
          99.9,
          99.9,
          60,
          60,
          89.9,
          99.9,
          99.9,
          119.9,
          60,
          99.9,
          99.9,
          99.9,
          105.9,
          99.9,
          99.9,
          99.9,
          99.9,
          105.9,
          60,
          99.9,
          99.9,
          89.9,
          89.9,
          99.9,
          57.5,
          149.9,
          105.9,
          64.9,
          149.9,
          69.9,
          99.9,
          99.9,
          64.9,
          99.9,
          99.9,
          99.9,
          64.9,
          89.9,
          69.9,
          99.9,
          64.9,
          99.9,
          99.9,
          89.9,
          69.9,
          99.9,
          79.9,
          99.9,
          99.9,
          99.9,
          99.9,
          60,
          89.9,
          99.9,
          99.9,
          99.9,
          99.9,
          57.5,
          99.9,
          105.9,
          105.9,
          89.9,
          99.9,
          64.9,
          129.9,
          99.9,
          69.9,
          89.9,
          99.9,
          99.9,
          99.9,
          89.9,
          89.9,
          82,
          59.9,
          99.9,
          99.9,
          99.9,
          64.9,
          99.9,
          99.9,
          99.9,
          105.9,
          89.9,
          99.9,
          99.9,
          119.9,
          89.9,
          99.9,
          99.9,
          105.9,
          99.9,
          99.9,
          99.9,
          99.9,
          129.9,
          99.9,
          99.9,
          105.9,
          99.9,
          119.9,
          99.9,
          89.9,
          99.9,
          89.9,
          79.9,
          119.9,
          64.9,
          99.9,
          99.9,
          99.9,
          89.9,
          99.9,
          89.9,
          99.9,
          99.9,
          89.9,
          99.9,
          105.9,
          99.9,
          69.9,
          99.9,
          99.9,
          89.9,
          64.9,
          99.9,
          64.9,
          99.9,
          99.9,
          99.9,
          89.9,
          99.9,
          119.9,
          57.5,
          69.9,
          69.9,
          89.9,
          69.9,
          89.9,
          82,
          99.9,
          99.9,
          99.9,
          99.9,
          82,
          99.9,
          69.9,
          99.9,
          99.9,
          99.9,
          99.9,
          99.9,
          82,
          99.9,
          99.9,
          119.9,
          99.9,
          119.9,
          82,
          99.9,
          99.9,
          99.9,
          99.9,
          89.9,
          89.9,
          60,
          89.9,
          60,
          99.9,
          99.9,
          69.9,
          89.9,
          99.9,
          89.9,
          99.9,
          99.9,
          64.9,
          69.9,
          99.9,
          99.9,
          99.9,
          99.9,
          99.9,
          89.9,
          99.9,
          99.9,
          82,
          119.9,
          99.9,
          99.9,
          69.9,
          64.9,
          99.9,
          64.9,
          89.9,
          99.9,
          99.9,
          64.9,
          99.9,
          99.9,
          99.9,
          99.9,
          99.9,
          99.9,
          99.9,
          89.9,
          99.9,
          99.9,
          99.9,
          119.9,
          99.9,
          89.9,
          99.9,
          99.9,
          99.9,
          139.9,
          99.9,
          99.9,
          69.9,
          82,
          64.9,
          89.9,
          99.9,
          99.9,
          99.9,
          119.9,
          64.9,
          99.9,
          119.9,
          60,
          99.9,
          105.9,
          99.9,
          99.9,
          129.9,
          99.9,
          99.9,
          99.9,
          99.9,
          99.9,
          64.9,
          64.9,
          99.9,
          99.9,
          69.9,
          64.9,
          99.9,
          99.9,
          89.9,
          64.9,
          99.9,
          89.9,
          89.9,
          89.9,
          99.9,
          99.9,
          99.9,
          89.9,
          64.9,
          99.9,
          99.9,
          64.9,
          69.9,
          99.9,
          105.9,
          99.9,
          89.9,
          99.9,
          89.9,
          79.9,
          89.9,
          89.9,
          99.9,
          60,
          99.9,
          99.9,
          60,
          64.9,
          99.9,
          99.9,
          99.9,
          99.9,
          129.9,
          99.9,
          99.9,
          69.9,
          99.9,
          99.9,
          60,
          99.9,
          99.9,
          99.9,
          99.9,
          99.9,
          99.9,
          59.9,
          99.9,
          99.9,
          105.9,
          99.9,
          99.9,
          69.9,
          99.9,
          99.9,
          99.9,
          99.9,
          99.9,
          99.9,
          99.9,
          119.9,
          89.9,
          89.9,
          99.9,
          64.9,
          69.9,
          99.9,
          82,
          99.9,
          99.9,
          99.9,
          89.9,
          119.9,
          99.9,
          105.9,
          64.9,
          89.9,
          89.9,
          99.9,
          99.9,
          64.9,
          99.9,
          105.9,
          60,
          99.9,
          99.9,
          82,
          99.9,
          99.9,
          64.9,
          149.9,
          99.9,
          64.9,
          99.9,
          99.9,
          82,
          99.9,
          99.9,
          99.9,
          99.9,
          60,
          99.9,
          119.9,
          69.9,
          105.9,
          99.9,
          82,
          64.9,
          60,
          99.9,
          119.9,
          99.9,
          64.9,
          64.9,
          99.9,
          119.9,
          64.9,
          69.9,
          99.9,
          99.9,
          99.9,
          99.9,
          64.9,
          89.9,
          105.9,
          99.9,
          99.9,
          99.9,
          105.9,
          82,
          99.9,
          119.9,
          99.9,
          99.9,
          99.9,
          64.9,
          99.9,
          69.9,
          119.9,
          99.9,
          99.9,
          99.9,
          99.9,
          99.9,
          64.9,
          99.9,
          99.9,
          64.9,
          99.9,
          99.9,
          99.9,
          119.9,
          69.9,
          89.9,
          69.9,
          99.9,
          99.9,
          89.9,
          129.9,
          99.9,
          99.9,
          99.9,
          89.9,
          99.9,
          89.9,
          99.9,
          105.9,
          99.9,
          99.9,
          99.9,
          105.9,
          99.9,
          82,
          99.9,
          60,
          64.9,
          99.9,
          99.9,
          89.9,
          64.9,
          99.9,
          99.9,
          99.9,
          99.9,
          99.9,
          119.9,
          99.9,
          99.9,
          99.9,
          99.9,
          89.9,
          89.9,
          89.9,
          99.9,
          99.9,
          99.9,
          99.9,
          89.9,
          99.9,
          99.9,
          64.9,
          89.9,
          99.9,
          69.9,
          105.9,
          99.9,
          99.9,
          99.9,
          99.9,
          64.9,
          99.9,
          99.9,
          64.9,
          64.9,
          60,
          99.9,
          69.9,
          64.9,
          99.9,
          99.9,
          105.9,
          105.9,
          60,
          69.9,
          99.9,
          99.9,
          89.9,
          99.9,
          79.9,
          119.9,
          99.9,
          69.9,
          99.9,
          99.9,
          89.9,
          64.9,
          99.9,
          99.9,
          99.9,
          99.9,
          99.9,
          99.9,
          82,
          99.9,
          119.9,
          99.9,
          89.9,
          99.9,
          99.9,
          99.9,
          64.9,
          89.9,
          57.5,
          89.9,
          64.9,
          99.9,
          99.9,
          60,
          99.9,
          105.9,
          69.9,
          60,
          99.9,
          99.9,
          89.9,
          99.9,
          89.9,
          89.9,
          99.9,
          99.9,
          89.9,
          99.9,
          99.9,
          99.9,
          89.9,
          99.9,
          139.9,
          99.9,
          82,
          82,
          60,
          99.9,
          139.9,
          99.9,
          79.9,
          64.9,
          149.9,
          99.9,
          69.9,
          139.9,
          99.9,
          99.9,
          89.9,
          60,
          99.9,
          119.9,
          99.9,
          105.9,
          89.9,
          60,
          99.9,
          99.9,
          89.9,
          99.9,
          99.9,
          99.9,
          99.9,
          69.9,
          99.9,
          99.9,
          105.9,
          99.9,
          99.9,
          69.9,
          69.9,
          64.9,
          99.9,
          69.9,
          99.9,
          64.9,
          99.9,
          64.9,
          64.9,
          99.9,
          105.9,
          99.9,
          89.9,
          119.9,
          99.9,
          64.9,
          69.9,
          99.9,
          64.9,
          119.9,
          105.9,
          60,
          99.9,
          64.9,
          99.9,
          99.9,
          89.9,
          89.9,
          64.9,
          99.9,
          82,
          99.9,
          99.9,
          82,
          99.9,
          89.9,
          99.9,
          89.9,
          99.9,
          119.9,
          64.9,
          64.9,
          64.9,
          64.9,
          99.9,
          99.9,
          60,
          105.9,
          99.9,
          99.9,
          99.9,
          99.9,
          99.9,
          99.9,
          99.9,
          99.9,
          99.9,
          99.9,
          99.9,
          64.9,
          64.9,
          99.9,
          99.9,
          64.9
         ],
         "xaxis": "x",
         "yaxis": "y"
        }
       ],
       "layout": {
        "barmode": "relative",
        "legend": {
         "tracegroupgap": 0
        },
        "margin": {
         "t": 60
        },
        "template": {
         "data": {
          "bar": [
           {
            "error_x": {
             "color": "#2a3f5f"
            },
            "error_y": {
             "color": "#2a3f5f"
            },
            "marker": {
             "line": {
              "color": "#E5ECF6",
              "width": 0.5
             },
             "pattern": {
              "fillmode": "overlay",
              "size": 10,
              "solidity": 0.2
             }
            },
            "type": "bar"
           }
          ],
          "barpolar": [
           {
            "marker": {
             "line": {
              "color": "#E5ECF6",
              "width": 0.5
             },
             "pattern": {
              "fillmode": "overlay",
              "size": 10,
              "solidity": 0.2
             }
            },
            "type": "barpolar"
           }
          ],
          "carpet": [
           {
            "aaxis": {
             "endlinecolor": "#2a3f5f",
             "gridcolor": "white",
             "linecolor": "white",
             "minorgridcolor": "white",
             "startlinecolor": "#2a3f5f"
            },
            "baxis": {
             "endlinecolor": "#2a3f5f",
             "gridcolor": "white",
             "linecolor": "white",
             "minorgridcolor": "white",
             "startlinecolor": "#2a3f5f"
            },
            "type": "carpet"
           }
          ],
          "choropleth": [
           {
            "colorbar": {
             "outlinewidth": 0,
             "ticks": ""
            },
            "type": "choropleth"
           }
          ],
          "contour": [
           {
            "colorbar": {
             "outlinewidth": 0,
             "ticks": ""
            },
            "colorscale": [
             [
              0,
              "#0d0887"
             ],
             [
              0.1111111111111111,
              "#46039f"
             ],
             [
              0.2222222222222222,
              "#7201a8"
             ],
             [
              0.3333333333333333,
              "#9c179e"
             ],
             [
              0.4444444444444444,
              "#bd3786"
             ],
             [
              0.5555555555555556,
              "#d8576b"
             ],
             [
              0.6666666666666666,
              "#ed7953"
             ],
             [
              0.7777777777777778,
              "#fb9f3a"
             ],
             [
              0.8888888888888888,
              "#fdca26"
             ],
             [
              1,
              "#f0f921"
             ]
            ],
            "type": "contour"
           }
          ],
          "contourcarpet": [
           {
            "colorbar": {
             "outlinewidth": 0,
             "ticks": ""
            },
            "type": "contourcarpet"
           }
          ],
          "heatmap": [
           {
            "colorbar": {
             "outlinewidth": 0,
             "ticks": ""
            },
            "colorscale": [
             [
              0,
              "#0d0887"
             ],
             [
              0.1111111111111111,
              "#46039f"
             ],
             [
              0.2222222222222222,
              "#7201a8"
             ],
             [
              0.3333333333333333,
              "#9c179e"
             ],
             [
              0.4444444444444444,
              "#bd3786"
             ],
             [
              0.5555555555555556,
              "#d8576b"
             ],
             [
              0.6666666666666666,
              "#ed7953"
             ],
             [
              0.7777777777777778,
              "#fb9f3a"
             ],
             [
              0.8888888888888888,
              "#fdca26"
             ],
             [
              1,
              "#f0f921"
             ]
            ],
            "type": "heatmap"
           }
          ],
          "heatmapgl": [
           {
            "colorbar": {
             "outlinewidth": 0,
             "ticks": ""
            },
            "colorscale": [
             [
              0,
              "#0d0887"
             ],
             [
              0.1111111111111111,
              "#46039f"
             ],
             [
              0.2222222222222222,
              "#7201a8"
             ],
             [
              0.3333333333333333,
              "#9c179e"
             ],
             [
              0.4444444444444444,
              "#bd3786"
             ],
             [
              0.5555555555555556,
              "#d8576b"
             ],
             [
              0.6666666666666666,
              "#ed7953"
             ],
             [
              0.7777777777777778,
              "#fb9f3a"
             ],
             [
              0.8888888888888888,
              "#fdca26"
             ],
             [
              1,
              "#f0f921"
             ]
            ],
            "type": "heatmapgl"
           }
          ],
          "histogram": [
           {
            "marker": {
             "pattern": {
              "fillmode": "overlay",
              "size": 10,
              "solidity": 0.2
             }
            },
            "type": "histogram"
           }
          ],
          "histogram2d": [
           {
            "colorbar": {
             "outlinewidth": 0,
             "ticks": ""
            },
            "colorscale": [
             [
              0,
              "#0d0887"
             ],
             [
              0.1111111111111111,
              "#46039f"
             ],
             [
              0.2222222222222222,
              "#7201a8"
             ],
             [
              0.3333333333333333,
              "#9c179e"
             ],
             [
              0.4444444444444444,
              "#bd3786"
             ],
             [
              0.5555555555555556,
              "#d8576b"
             ],
             [
              0.6666666666666666,
              "#ed7953"
             ],
             [
              0.7777777777777778,
              "#fb9f3a"
             ],
             [
              0.8888888888888888,
              "#fdca26"
             ],
             [
              1,
              "#f0f921"
             ]
            ],
            "type": "histogram2d"
           }
          ],
          "histogram2dcontour": [
           {
            "colorbar": {
             "outlinewidth": 0,
             "ticks": ""
            },
            "colorscale": [
             [
              0,
              "#0d0887"
             ],
             [
              0.1111111111111111,
              "#46039f"
             ],
             [
              0.2222222222222222,
              "#7201a8"
             ],
             [
              0.3333333333333333,
              "#9c179e"
             ],
             [
              0.4444444444444444,
              "#bd3786"
             ],
             [
              0.5555555555555556,
              "#d8576b"
             ],
             [
              0.6666666666666666,
              "#ed7953"
             ],
             [
              0.7777777777777778,
              "#fb9f3a"
             ],
             [
              0.8888888888888888,
              "#fdca26"
             ],
             [
              1,
              "#f0f921"
             ]
            ],
            "type": "histogram2dcontour"
           }
          ],
          "mesh3d": [
           {
            "colorbar": {
             "outlinewidth": 0,
             "ticks": ""
            },
            "type": "mesh3d"
           }
          ],
          "parcoords": [
           {
            "line": {
             "colorbar": {
              "outlinewidth": 0,
              "ticks": ""
             }
            },
            "type": "parcoords"
           }
          ],
          "pie": [
           {
            "automargin": true,
            "type": "pie"
           }
          ],
          "scatter": [
           {
            "fillpattern": {
             "fillmode": "overlay",
             "size": 10,
             "solidity": 0.2
            },
            "type": "scatter"
           }
          ],
          "scatter3d": [
           {
            "line": {
             "colorbar": {
              "outlinewidth": 0,
              "ticks": ""
             }
            },
            "marker": {
             "colorbar": {
              "outlinewidth": 0,
              "ticks": ""
             }
            },
            "type": "scatter3d"
           }
          ],
          "scattercarpet": [
           {
            "marker": {
             "colorbar": {
              "outlinewidth": 0,
              "ticks": ""
             }
            },
            "type": "scattercarpet"
           }
          ],
          "scattergeo": [
           {
            "marker": {
             "colorbar": {
              "outlinewidth": 0,
              "ticks": ""
             }
            },
            "type": "scattergeo"
           }
          ],
          "scattergl": [
           {
            "marker": {
             "colorbar": {
              "outlinewidth": 0,
              "ticks": ""
             }
            },
            "type": "scattergl"
           }
          ],
          "scattermapbox": [
           {
            "marker": {
             "colorbar": {
              "outlinewidth": 0,
              "ticks": ""
             }
            },
            "type": "scattermapbox"
           }
          ],
          "scatterpolar": [
           {
            "marker": {
             "colorbar": {
              "outlinewidth": 0,
              "ticks": ""
             }
            },
            "type": "scatterpolar"
           }
          ],
          "scatterpolargl": [
           {
            "marker": {
             "colorbar": {
              "outlinewidth": 0,
              "ticks": ""
             }
            },
            "type": "scatterpolargl"
           }
          ],
          "scatterternary": [
           {
            "marker": {
             "colorbar": {
              "outlinewidth": 0,
              "ticks": ""
             }
            },
            "type": "scatterternary"
           }
          ],
          "surface": [
           {
            "colorbar": {
             "outlinewidth": 0,
             "ticks": ""
            },
            "colorscale": [
             [
              0,
              "#0d0887"
             ],
             [
              0.1111111111111111,
              "#46039f"
             ],
             [
              0.2222222222222222,
              "#7201a8"
             ],
             [
              0.3333333333333333,
              "#9c179e"
             ],
             [
              0.4444444444444444,
              "#bd3786"
             ],
             [
              0.5555555555555556,
              "#d8576b"
             ],
             [
              0.6666666666666666,
              "#ed7953"
             ],
             [
              0.7777777777777778,
              "#fb9f3a"
             ],
             [
              0.8888888888888888,
              "#fdca26"
             ],
             [
              1,
              "#f0f921"
             ]
            ],
            "type": "surface"
           }
          ],
          "table": [
           {
            "cells": {
             "fill": {
              "color": "#EBF0F8"
             },
             "line": {
              "color": "white"
             }
            },
            "header": {
             "fill": {
              "color": "#C8D4E3"
             },
             "line": {
              "color": "white"
             }
            },
            "type": "table"
           }
          ]
         },
         "layout": {
          "annotationdefaults": {
           "arrowcolor": "#2a3f5f",
           "arrowhead": 0,
           "arrowwidth": 1
          },
          "autotypenumbers": "strict",
          "coloraxis": {
           "colorbar": {
            "outlinewidth": 0,
            "ticks": ""
           }
          },
          "colorscale": {
           "diverging": [
            [
             0,
             "#8e0152"
            ],
            [
             0.1,
             "#c51b7d"
            ],
            [
             0.2,
             "#de77ae"
            ],
            [
             0.3,
             "#f1b6da"
            ],
            [
             0.4,
             "#fde0ef"
            ],
            [
             0.5,
             "#f7f7f7"
            ],
            [
             0.6,
             "#e6f5d0"
            ],
            [
             0.7,
             "#b8e186"
            ],
            [
             0.8,
             "#7fbc41"
            ],
            [
             0.9,
             "#4d9221"
            ],
            [
             1,
             "#276419"
            ]
           ],
           "sequential": [
            [
             0,
             "#0d0887"
            ],
            [
             0.1111111111111111,
             "#46039f"
            ],
            [
             0.2222222222222222,
             "#7201a8"
            ],
            [
             0.3333333333333333,
             "#9c179e"
            ],
            [
             0.4444444444444444,
             "#bd3786"
            ],
            [
             0.5555555555555556,
             "#d8576b"
            ],
            [
             0.6666666666666666,
             "#ed7953"
            ],
            [
             0.7777777777777778,
             "#fb9f3a"
            ],
            [
             0.8888888888888888,
             "#fdca26"
            ],
            [
             1,
             "#f0f921"
            ]
           ],
           "sequentialminus": [
            [
             0,
             "#0d0887"
            ],
            [
             0.1111111111111111,
             "#46039f"
            ],
            [
             0.2222222222222222,
             "#7201a8"
            ],
            [
             0.3333333333333333,
             "#9c179e"
            ],
            [
             0.4444444444444444,
             "#bd3786"
            ],
            [
             0.5555555555555556,
             "#d8576b"
            ],
            [
             0.6666666666666666,
             "#ed7953"
            ],
            [
             0.7777777777777778,
             "#fb9f3a"
            ],
            [
             0.8888888888888888,
             "#fdca26"
            ],
            [
             1,
             "#f0f921"
            ]
           ]
          },
          "colorway": [
           "#636efa",
           "#EF553B",
           "#00cc96",
           "#ab63fa",
           "#FFA15A",
           "#19d3f3",
           "#FF6692",
           "#B6E880",
           "#FF97FF",
           "#FECB52"
          ],
          "font": {
           "color": "#2a3f5f"
          },
          "geo": {
           "bgcolor": "white",
           "lakecolor": "white",
           "landcolor": "#E5ECF6",
           "showlakes": true,
           "showland": true,
           "subunitcolor": "white"
          },
          "hoverlabel": {
           "align": "left"
          },
          "hovermode": "closest",
          "mapbox": {
           "style": "light"
          },
          "paper_bgcolor": "white",
          "plot_bgcolor": "#E5ECF6",
          "polar": {
           "angularaxis": {
            "gridcolor": "white",
            "linecolor": "white",
            "ticks": ""
           },
           "bgcolor": "#E5ECF6",
           "radialaxis": {
            "gridcolor": "white",
            "linecolor": "white",
            "ticks": ""
           }
          },
          "scene": {
           "xaxis": {
            "backgroundcolor": "#E5ECF6",
            "gridcolor": "white",
            "gridwidth": 2,
            "linecolor": "white",
            "showbackground": true,
            "ticks": "",
            "zerolinecolor": "white"
           },
           "yaxis": {
            "backgroundcolor": "#E5ECF6",
            "gridcolor": "white",
            "gridwidth": 2,
            "linecolor": "white",
            "showbackground": true,
            "ticks": "",
            "zerolinecolor": "white"
           },
           "zaxis": {
            "backgroundcolor": "#E5ECF6",
            "gridcolor": "white",
            "gridwidth": 2,
            "linecolor": "white",
            "showbackground": true,
            "ticks": "",
            "zerolinecolor": "white"
           }
          },
          "shapedefaults": {
           "line": {
            "color": "#2a3f5f"
           }
          },
          "ternary": {
           "aaxis": {
            "gridcolor": "white",
            "linecolor": "white",
            "ticks": ""
           },
           "baxis": {
            "gridcolor": "white",
            "linecolor": "white",
            "ticks": ""
           },
           "bgcolor": "#E5ECF6",
           "caxis": {
            "gridcolor": "white",
            "linecolor": "white",
            "ticks": ""
           }
          },
          "title": {
           "x": 0.05
          },
          "xaxis": {
           "automargin": true,
           "gridcolor": "white",
           "linecolor": "white",
           "ticks": "",
           "title": {
            "standoff": 15
           },
           "zerolinecolor": "white",
           "zerolinewidth": 2
          },
          "yaxis": {
           "automargin": true,
           "gridcolor": "white",
           "linecolor": "white",
           "ticks": "",
           "title": {
            "standoff": 15
           },
           "zerolinecolor": "white",
           "zerolinewidth": 2
          }
         }
        },
        "xaxis": {
         "anchor": "y",
         "domain": [
          0,
          1
         ],
         "title": {
          "text": "Plano Valor"
         }
        },
        "yaxis": {
         "anchor": "x",
         "domain": [
          0,
          1
         ],
         "title": {
          "text": "count"
         }
        }
       }
      }
     },
     "metadata": {},
     "output_type": "display_data"
    },
    {
     "data": {
      "application/vnd.plotly.v1+json": {
       "config": {
        "plotlyServerURL": "https://plot.ly"
       },
       "data": [
        {
         "alignmentgroup": "True",
         "bingroup": "x",
         "hovertemplate": "Acres.Desc.=%{x}<br>count=%{y}<extra></extra>",
         "legendgroup": "",
         "marker": {
          "color": "#636efa",
          "pattern": {
           "shape": ""
          }
         },
         "name": "",
         "offsetgroup": "",
         "orientation": "v",
         "showlegend": false,
         "type": "histogram",
         "x": [
          10,
          10,
          10,
          0,
          10,
          5,
          0,
          10,
          10,
          0,
          0,
          10,
          0,
          10,
          0,
          10,
          0,
          10,
          0,
          10,
          10,
          10,
          0,
          0,
          0,
          0,
          10,
          10,
          10,
          0,
          0,
          10,
          0,
          0,
          0,
          0,
          10,
          10,
          0,
          5,
          0,
          0,
          10,
          0,
          10,
          0,
          0,
          0,
          10,
          0,
          0,
          0,
          0,
          10,
          10,
          10,
          10,
          10,
          0,
          0,
          0,
          10,
          10,
          10,
          0,
          10,
          10,
          0,
          10,
          10,
          10,
          10,
          10,
          10,
          0,
          10,
          10,
          0,
          10,
          10,
          0,
          10,
          10,
          0,
          10,
          10,
          10,
          0,
          10,
          10,
          10,
          10,
          0,
          10,
          0,
          10,
          0,
          10,
          0,
          10,
          10,
          0,
          0,
          0,
          0,
          0,
          10,
          0,
          10,
          10,
          0,
          10,
          10,
          0,
          0,
          0,
          10,
          10,
          10,
          10,
          0,
          0,
          0,
          0,
          0,
          10,
          10,
          10,
          0,
          10,
          0,
          10,
          0,
          0,
          10,
          0,
          0,
          10,
          0,
          10,
          10,
          0,
          10,
          0,
          5,
          10,
          0,
          0,
          0,
          10,
          0,
          10,
          0,
          0,
          0,
          0,
          10,
          10,
          10,
          10,
          0,
          0,
          0,
          0,
          0,
          10,
          0,
          0,
          0,
          0,
          0,
          5,
          10,
          10,
          10,
          0,
          10,
          0,
          10,
          0,
          10,
          0,
          10,
          10,
          0,
          10,
          10,
          10,
          0,
          0,
          10,
          0,
          0,
          10,
          10,
          0,
          0,
          0,
          10,
          0,
          10,
          10,
          10,
          0,
          0,
          10,
          10,
          10,
          0,
          0,
          0,
          0,
          0,
          10,
          0,
          0,
          10,
          0,
          0,
          0,
          0,
          10,
          0,
          0,
          10,
          0,
          0,
          10,
          10,
          10,
          10,
          10,
          10,
          10,
          10,
          10,
          10,
          0,
          10,
          5,
          0,
          0,
          10,
          10,
          10,
          10,
          0,
          10,
          0,
          10,
          0,
          10,
          5,
          0,
          0,
          0,
          0,
          0,
          10,
          0,
          10,
          0,
          0,
          0,
          0,
          10,
          10,
          0,
          0,
          10,
          10,
          10,
          10,
          0,
          10,
          0,
          0,
          0,
          0,
          0,
          10,
          10,
          10,
          0,
          10,
          10,
          10,
          10,
          10,
          10,
          0,
          0,
          10,
          0,
          10,
          10,
          0,
          0,
          10,
          0,
          10,
          10,
          0,
          0,
          10,
          0,
          0,
          0,
          10,
          10,
          10,
          0,
          10,
          0,
          0,
          0,
          10,
          10,
          0,
          0,
          10,
          10,
          0,
          10,
          10,
          0,
          0,
          10,
          5,
          0,
          10,
          10,
          10,
          10,
          0,
          0,
          10,
          0,
          10,
          10,
          10,
          0,
          0,
          10,
          10,
          10,
          10,
          0,
          10,
          10,
          10,
          10,
          10,
          0,
          10,
          10,
          10,
          10,
          10,
          10,
          0,
          10,
          0,
          0,
          10,
          0,
          0,
          0,
          10,
          10,
          10,
          0,
          10,
          10,
          10,
          0,
          10,
          10,
          0,
          0,
          0,
          0,
          10,
          10,
          0,
          10,
          0,
          0,
          0,
          0,
          10,
          0,
          10,
          0,
          10,
          10,
          0,
          10,
          10,
          0,
          0,
          10,
          0,
          10,
          0,
          0,
          0,
          0,
          0,
          0,
          10,
          0,
          10,
          10,
          10,
          10,
          0,
          0,
          0,
          0,
          0,
          0,
          10,
          10,
          0,
          0,
          10,
          10,
          0,
          10,
          0,
          0,
          0,
          0,
          0,
          10,
          10,
          10,
          10,
          10,
          10,
          0,
          0,
          0,
          10,
          0,
          10,
          10,
          0,
          10,
          10,
          0,
          0,
          0,
          10,
          0,
          10,
          10,
          0,
          10,
          10,
          10,
          0,
          10,
          0,
          10,
          0,
          10,
          10,
          10,
          10,
          0,
          10,
          0,
          0,
          0,
          0,
          0,
          10,
          0,
          10,
          0,
          10,
          5,
          0,
          10,
          0,
          0,
          10,
          0,
          0,
          10,
          0,
          10,
          10,
          0,
          10,
          10,
          10,
          0,
          0,
          10,
          10,
          0,
          0,
          0,
          0,
          0,
          10,
          10,
          10,
          0,
          5,
          10,
          0,
          0,
          0,
          10,
          10,
          10,
          10,
          10,
          10,
          0,
          10,
          10,
          0,
          0,
          0,
          10,
          10,
          10,
          10,
          10,
          10,
          10,
          0,
          10,
          0,
          0,
          10,
          10,
          0,
          10,
          0,
          10,
          10,
          10,
          10,
          0,
          10,
          10,
          10,
          10,
          10,
          10,
          10,
          0,
          10,
          0,
          0,
          10,
          10,
          0,
          0,
          0,
          10,
          0,
          10,
          0,
          0,
          10,
          0,
          10,
          6.1,
          0,
          10,
          10,
          0,
          10,
          0,
          10,
          0,
          10,
          0,
          0,
          10,
          10,
          0,
          0,
          10,
          0,
          10,
          10,
          0,
          0,
          10,
          0,
          10,
          0,
          10,
          10,
          0,
          0,
          0,
          10,
          10,
          0,
          10,
          0,
          10,
          0,
          0,
          0,
          0,
          0,
          5,
          10,
          0,
          0,
          0,
          10,
          0,
          10,
          10,
          10,
          0,
          10,
          0,
          0,
          5,
          0,
          10,
          10,
          0,
          10,
          10,
          0,
          0,
          0,
          0,
          10,
          10,
          0,
          10,
          0,
          10,
          10,
          10,
          10,
          0,
          10,
          10,
          0,
          10,
          0,
          0,
          5,
          0,
          0,
          0,
          0,
          0,
          10,
          0,
          0,
          0,
          10,
          10,
          0,
          0,
          10,
          0,
          10,
          0,
          0,
          10,
          0,
          10,
          0,
          0,
          0,
          0,
          0,
          0,
          10,
          10,
          0,
          0,
          0,
          0,
          0,
          10,
          10,
          0,
          0,
          0,
          0,
          0,
          6.1,
          0,
          10,
          0,
          10,
          10,
          10,
          10,
          10,
          0,
          0,
          0,
          10,
          0,
          10,
          10,
          10,
          10,
          10,
          0,
          0,
          10,
          0,
          10,
          0,
          10,
          0,
          10,
          0,
          0,
          10,
          0,
          0,
          0,
          0,
          0,
          0,
          0,
          0,
          0,
          0,
          10,
          10,
          0,
          10,
          10,
          0,
          0,
          0,
          10,
          0,
          5,
          0,
          0,
          10,
          10,
          10,
          0,
          10,
          10,
          0,
          0,
          0,
          0,
          10,
          0,
          10,
          0,
          0,
          0,
          10,
          0,
          0,
          10,
          0,
          10,
          10,
          10,
          10,
          10,
          0,
          0,
          0,
          10,
          10,
          0,
          0,
          10,
          0,
          10,
          10,
          10,
          10,
          10,
          10,
          10,
          5,
          0,
          0,
          10,
          10,
          10,
          10,
          10,
          10,
          0,
          0,
          10,
          0,
          0,
          0,
          0,
          0,
          0,
          0,
          0,
          0,
          0,
          0,
          0,
          0,
          10,
          10,
          0,
          10,
          0,
          10,
          10,
          0,
          10,
          10,
          0,
          0,
          0,
          10,
          10,
          0,
          0,
          10,
          10,
          0,
          10,
          0,
          10,
          10,
          0,
          0,
          0,
          10,
          0,
          10,
          0,
          10,
          0,
          10,
          0,
          0,
          10,
          10,
          10,
          0,
          0,
          0,
          10,
          10,
          0,
          0,
          10,
          10,
          10,
          0,
          0,
          10,
          10,
          10,
          0,
          10,
          10,
          0,
          10,
          0,
          10,
          10,
          10,
          10,
          10,
          0,
          10,
          10,
          10,
          0,
          10,
          10,
          0,
          10,
          0,
          10,
          0,
          10,
          10,
          10,
          0,
          10,
          0,
          0,
          10,
          0,
          0,
          0,
          0,
          0,
          0,
          10,
          0,
          0,
          5,
          0,
          10,
          10,
          10
         ],
         "xaxis": "x",
         "yaxis": "y"
        }
       ],
       "layout": {
        "barmode": "relative",
        "legend": {
         "tracegroupgap": 0
        },
        "margin": {
         "t": 60
        },
        "template": {
         "data": {
          "bar": [
           {
            "error_x": {
             "color": "#2a3f5f"
            },
            "error_y": {
             "color": "#2a3f5f"
            },
            "marker": {
             "line": {
              "color": "#E5ECF6",
              "width": 0.5
             },
             "pattern": {
              "fillmode": "overlay",
              "size": 10,
              "solidity": 0.2
             }
            },
            "type": "bar"
           }
          ],
          "barpolar": [
           {
            "marker": {
             "line": {
              "color": "#E5ECF6",
              "width": 0.5
             },
             "pattern": {
              "fillmode": "overlay",
              "size": 10,
              "solidity": 0.2
             }
            },
            "type": "barpolar"
           }
          ],
          "carpet": [
           {
            "aaxis": {
             "endlinecolor": "#2a3f5f",
             "gridcolor": "white",
             "linecolor": "white",
             "minorgridcolor": "white",
             "startlinecolor": "#2a3f5f"
            },
            "baxis": {
             "endlinecolor": "#2a3f5f",
             "gridcolor": "white",
             "linecolor": "white",
             "minorgridcolor": "white",
             "startlinecolor": "#2a3f5f"
            },
            "type": "carpet"
           }
          ],
          "choropleth": [
           {
            "colorbar": {
             "outlinewidth": 0,
             "ticks": ""
            },
            "type": "choropleth"
           }
          ],
          "contour": [
           {
            "colorbar": {
             "outlinewidth": 0,
             "ticks": ""
            },
            "colorscale": [
             [
              0,
              "#0d0887"
             ],
             [
              0.1111111111111111,
              "#46039f"
             ],
             [
              0.2222222222222222,
              "#7201a8"
             ],
             [
              0.3333333333333333,
              "#9c179e"
             ],
             [
              0.4444444444444444,
              "#bd3786"
             ],
             [
              0.5555555555555556,
              "#d8576b"
             ],
             [
              0.6666666666666666,
              "#ed7953"
             ],
             [
              0.7777777777777778,
              "#fb9f3a"
             ],
             [
              0.8888888888888888,
              "#fdca26"
             ],
             [
              1,
              "#f0f921"
             ]
            ],
            "type": "contour"
           }
          ],
          "contourcarpet": [
           {
            "colorbar": {
             "outlinewidth": 0,
             "ticks": ""
            },
            "type": "contourcarpet"
           }
          ],
          "heatmap": [
           {
            "colorbar": {
             "outlinewidth": 0,
             "ticks": ""
            },
            "colorscale": [
             [
              0,
              "#0d0887"
             ],
             [
              0.1111111111111111,
              "#46039f"
             ],
             [
              0.2222222222222222,
              "#7201a8"
             ],
             [
              0.3333333333333333,
              "#9c179e"
             ],
             [
              0.4444444444444444,
              "#bd3786"
             ],
             [
              0.5555555555555556,
              "#d8576b"
             ],
             [
              0.6666666666666666,
              "#ed7953"
             ],
             [
              0.7777777777777778,
              "#fb9f3a"
             ],
             [
              0.8888888888888888,
              "#fdca26"
             ],
             [
              1,
              "#f0f921"
             ]
            ],
            "type": "heatmap"
           }
          ],
          "heatmapgl": [
           {
            "colorbar": {
             "outlinewidth": 0,
             "ticks": ""
            },
            "colorscale": [
             [
              0,
              "#0d0887"
             ],
             [
              0.1111111111111111,
              "#46039f"
             ],
             [
              0.2222222222222222,
              "#7201a8"
             ],
             [
              0.3333333333333333,
              "#9c179e"
             ],
             [
              0.4444444444444444,
              "#bd3786"
             ],
             [
              0.5555555555555556,
              "#d8576b"
             ],
             [
              0.6666666666666666,
              "#ed7953"
             ],
             [
              0.7777777777777778,
              "#fb9f3a"
             ],
             [
              0.8888888888888888,
              "#fdca26"
             ],
             [
              1,
              "#f0f921"
             ]
            ],
            "type": "heatmapgl"
           }
          ],
          "histogram": [
           {
            "marker": {
             "pattern": {
              "fillmode": "overlay",
              "size": 10,
              "solidity": 0.2
             }
            },
            "type": "histogram"
           }
          ],
          "histogram2d": [
           {
            "colorbar": {
             "outlinewidth": 0,
             "ticks": ""
            },
            "colorscale": [
             [
              0,
              "#0d0887"
             ],
             [
              0.1111111111111111,
              "#46039f"
             ],
             [
              0.2222222222222222,
              "#7201a8"
             ],
             [
              0.3333333333333333,
              "#9c179e"
             ],
             [
              0.4444444444444444,
              "#bd3786"
             ],
             [
              0.5555555555555556,
              "#d8576b"
             ],
             [
              0.6666666666666666,
              "#ed7953"
             ],
             [
              0.7777777777777778,
              "#fb9f3a"
             ],
             [
              0.8888888888888888,
              "#fdca26"
             ],
             [
              1,
              "#f0f921"
             ]
            ],
            "type": "histogram2d"
           }
          ],
          "histogram2dcontour": [
           {
            "colorbar": {
             "outlinewidth": 0,
             "ticks": ""
            },
            "colorscale": [
             [
              0,
              "#0d0887"
             ],
             [
              0.1111111111111111,
              "#46039f"
             ],
             [
              0.2222222222222222,
              "#7201a8"
             ],
             [
              0.3333333333333333,
              "#9c179e"
             ],
             [
              0.4444444444444444,
              "#bd3786"
             ],
             [
              0.5555555555555556,
              "#d8576b"
             ],
             [
              0.6666666666666666,
              "#ed7953"
             ],
             [
              0.7777777777777778,
              "#fb9f3a"
             ],
             [
              0.8888888888888888,
              "#fdca26"
             ],
             [
              1,
              "#f0f921"
             ]
            ],
            "type": "histogram2dcontour"
           }
          ],
          "mesh3d": [
           {
            "colorbar": {
             "outlinewidth": 0,
             "ticks": ""
            },
            "type": "mesh3d"
           }
          ],
          "parcoords": [
           {
            "line": {
             "colorbar": {
              "outlinewidth": 0,
              "ticks": ""
             }
            },
            "type": "parcoords"
           }
          ],
          "pie": [
           {
            "automargin": true,
            "type": "pie"
           }
          ],
          "scatter": [
           {
            "fillpattern": {
             "fillmode": "overlay",
             "size": 10,
             "solidity": 0.2
            },
            "type": "scatter"
           }
          ],
          "scatter3d": [
           {
            "line": {
             "colorbar": {
              "outlinewidth": 0,
              "ticks": ""
             }
            },
            "marker": {
             "colorbar": {
              "outlinewidth": 0,
              "ticks": ""
             }
            },
            "type": "scatter3d"
           }
          ],
          "scattercarpet": [
           {
            "marker": {
             "colorbar": {
              "outlinewidth": 0,
              "ticks": ""
             }
            },
            "type": "scattercarpet"
           }
          ],
          "scattergeo": [
           {
            "marker": {
             "colorbar": {
              "outlinewidth": 0,
              "ticks": ""
             }
            },
            "type": "scattergeo"
           }
          ],
          "scattergl": [
           {
            "marker": {
             "colorbar": {
              "outlinewidth": 0,
              "ticks": ""
             }
            },
            "type": "scattergl"
           }
          ],
          "scattermapbox": [
           {
            "marker": {
             "colorbar": {
              "outlinewidth": 0,
              "ticks": ""
             }
            },
            "type": "scattermapbox"
           }
          ],
          "scatterpolar": [
           {
            "marker": {
             "colorbar": {
              "outlinewidth": 0,
              "ticks": ""
             }
            },
            "type": "scatterpolar"
           }
          ],
          "scatterpolargl": [
           {
            "marker": {
             "colorbar": {
              "outlinewidth": 0,
              "ticks": ""
             }
            },
            "type": "scatterpolargl"
           }
          ],
          "scatterternary": [
           {
            "marker": {
             "colorbar": {
              "outlinewidth": 0,
              "ticks": ""
             }
            },
            "type": "scatterternary"
           }
          ],
          "surface": [
           {
            "colorbar": {
             "outlinewidth": 0,
             "ticks": ""
            },
            "colorscale": [
             [
              0,
              "#0d0887"
             ],
             [
              0.1111111111111111,
              "#46039f"
             ],
             [
              0.2222222222222222,
              "#7201a8"
             ],
             [
              0.3333333333333333,
              "#9c179e"
             ],
             [
              0.4444444444444444,
              "#bd3786"
             ],
             [
              0.5555555555555556,
              "#d8576b"
             ],
             [
              0.6666666666666666,
              "#ed7953"
             ],
             [
              0.7777777777777778,
              "#fb9f3a"
             ],
             [
              0.8888888888888888,
              "#fdca26"
             ],
             [
              1,
              "#f0f921"
             ]
            ],
            "type": "surface"
           }
          ],
          "table": [
           {
            "cells": {
             "fill": {
              "color": "#EBF0F8"
             },
             "line": {
              "color": "white"
             }
            },
            "header": {
             "fill": {
              "color": "#C8D4E3"
             },
             "line": {
              "color": "white"
             }
            },
            "type": "table"
           }
          ]
         },
         "layout": {
          "annotationdefaults": {
           "arrowcolor": "#2a3f5f",
           "arrowhead": 0,
           "arrowwidth": 1
          },
          "autotypenumbers": "strict",
          "coloraxis": {
           "colorbar": {
            "outlinewidth": 0,
            "ticks": ""
           }
          },
          "colorscale": {
           "diverging": [
            [
             0,
             "#8e0152"
            ],
            [
             0.1,
             "#c51b7d"
            ],
            [
             0.2,
             "#de77ae"
            ],
            [
             0.3,
             "#f1b6da"
            ],
            [
             0.4,
             "#fde0ef"
            ],
            [
             0.5,
             "#f7f7f7"
            ],
            [
             0.6,
             "#e6f5d0"
            ],
            [
             0.7,
             "#b8e186"
            ],
            [
             0.8,
             "#7fbc41"
            ],
            [
             0.9,
             "#4d9221"
            ],
            [
             1,
             "#276419"
            ]
           ],
           "sequential": [
            [
             0,
             "#0d0887"
            ],
            [
             0.1111111111111111,
             "#46039f"
            ],
            [
             0.2222222222222222,
             "#7201a8"
            ],
            [
             0.3333333333333333,
             "#9c179e"
            ],
            [
             0.4444444444444444,
             "#bd3786"
            ],
            [
             0.5555555555555556,
             "#d8576b"
            ],
            [
             0.6666666666666666,
             "#ed7953"
            ],
            [
             0.7777777777777778,
             "#fb9f3a"
            ],
            [
             0.8888888888888888,
             "#fdca26"
            ],
            [
             1,
             "#f0f921"
            ]
           ],
           "sequentialminus": [
            [
             0,
             "#0d0887"
            ],
            [
             0.1111111111111111,
             "#46039f"
            ],
            [
             0.2222222222222222,
             "#7201a8"
            ],
            [
             0.3333333333333333,
             "#9c179e"
            ],
            [
             0.4444444444444444,
             "#bd3786"
            ],
            [
             0.5555555555555556,
             "#d8576b"
            ],
            [
             0.6666666666666666,
             "#ed7953"
            ],
            [
             0.7777777777777778,
             "#fb9f3a"
            ],
            [
             0.8888888888888888,
             "#fdca26"
            ],
            [
             1,
             "#f0f921"
            ]
           ]
          },
          "colorway": [
           "#636efa",
           "#EF553B",
           "#00cc96",
           "#ab63fa",
           "#FFA15A",
           "#19d3f3",
           "#FF6692",
           "#B6E880",
           "#FF97FF",
           "#FECB52"
          ],
          "font": {
           "color": "#2a3f5f"
          },
          "geo": {
           "bgcolor": "white",
           "lakecolor": "white",
           "landcolor": "#E5ECF6",
           "showlakes": true,
           "showland": true,
           "subunitcolor": "white"
          },
          "hoverlabel": {
           "align": "left"
          },
          "hovermode": "closest",
          "mapbox": {
           "style": "light"
          },
          "paper_bgcolor": "white",
          "plot_bgcolor": "#E5ECF6",
          "polar": {
           "angularaxis": {
            "gridcolor": "white",
            "linecolor": "white",
            "ticks": ""
           },
           "bgcolor": "#E5ECF6",
           "radialaxis": {
            "gridcolor": "white",
            "linecolor": "white",
            "ticks": ""
           }
          },
          "scene": {
           "xaxis": {
            "backgroundcolor": "#E5ECF6",
            "gridcolor": "white",
            "gridwidth": 2,
            "linecolor": "white",
            "showbackground": true,
            "ticks": "",
            "zerolinecolor": "white"
           },
           "yaxis": {
            "backgroundcolor": "#E5ECF6",
            "gridcolor": "white",
            "gridwidth": 2,
            "linecolor": "white",
            "showbackground": true,
            "ticks": "",
            "zerolinecolor": "white"
           },
           "zaxis": {
            "backgroundcolor": "#E5ECF6",
            "gridcolor": "white",
            "gridwidth": 2,
            "linecolor": "white",
            "showbackground": true,
            "ticks": "",
            "zerolinecolor": "white"
           }
          },
          "shapedefaults": {
           "line": {
            "color": "#2a3f5f"
           }
          },
          "ternary": {
           "aaxis": {
            "gridcolor": "white",
            "linecolor": "white",
            "ticks": ""
           },
           "baxis": {
            "gridcolor": "white",
            "linecolor": "white",
            "ticks": ""
           },
           "bgcolor": "#E5ECF6",
           "caxis": {
            "gridcolor": "white",
            "linecolor": "white",
            "ticks": ""
           }
          },
          "title": {
           "x": 0.05
          },
          "xaxis": {
           "automargin": true,
           "gridcolor": "white",
           "linecolor": "white",
           "ticks": "",
           "title": {
            "standoff": 15
           },
           "zerolinecolor": "white",
           "zerolinewidth": 2
          },
          "yaxis": {
           "automargin": true,
           "gridcolor": "white",
           "linecolor": "white",
           "ticks": "",
           "title": {
            "standoff": 15
           },
           "zerolinecolor": "white",
           "zerolinewidth": 2
          }
         }
        },
        "xaxis": {
         "anchor": "y",
         "domain": [
          0,
          1
         ],
         "title": {
          "text": "Acres.Desc."
         }
        },
        "yaxis": {
         "anchor": "x",
         "domain": [
          0,
          1
         ],
         "title": {
          "text": "count"
         }
        }
       }
      }
     },
     "metadata": {},
     "output_type": "display_data"
    },
    {
     "data": {
      "application/vnd.plotly.v1+json": {
       "config": {
        "plotlyServerURL": "https://plot.ly"
       },
       "data": [
        {
         "alignmentgroup": "True",
         "bingroup": "x",
         "hovertemplate": "Vencimento=%{x}<br>count=%{y}<extra></extra>",
         "legendgroup": "",
         "marker": {
          "color": "#636efa",
          "pattern": {
           "shape": ""
          }
         },
         "name": "",
         "offsetgroup": "",
         "orientation": "v",
         "showlegend": false,
         "type": "histogram",
         "x": [
          15,
          10,
          20,
          20,
          20,
          10,
          20,
          25,
          10,
          15,
          20,
          20,
          15,
          20,
          5,
          10,
          15,
          10,
          20,
          15,
          25,
          20,
          20,
          10,
          20,
          20,
          5,
          10,
          10,
          5,
          15,
          5,
          10,
          15,
          15,
          20,
          20,
          10,
          10,
          5,
          20,
          20,
          15,
          10,
          20,
          5,
          15,
          10,
          10,
          10,
          20,
          10,
          20,
          15,
          15,
          15,
          25,
          5,
          20,
          20,
          10,
          10,
          20,
          20,
          20,
          25,
          10,
          20,
          5,
          30,
          10,
          5,
          10,
          10,
          15,
          10,
          10,
          20,
          10,
          20,
          20,
          25,
          10,
          5,
          30,
          15,
          15,
          15,
          5,
          20,
          15,
          10,
          20,
          20,
          20,
          20,
          15,
          5,
          5,
          10,
          30,
          20,
          20,
          10,
          20,
          20,
          20,
          5,
          20,
          25,
          20,
          20,
          15,
          20,
          15,
          5,
          15,
          25,
          15,
          25,
          20,
          10,
          20,
          20,
          20,
          15,
          10,
          5,
          15,
          20,
          20,
          15,
          20,
          20,
          20,
          20,
          5,
          10,
          20,
          20,
          10,
          10,
          20,
          20,
          20,
          15,
          20,
          10,
          15,
          10,
          10,
          5,
          5,
          15,
          10,
          25,
          20,
          20,
          15,
          15,
          15,
          15,
          15,
          10,
          10,
          10,
          20,
          20,
          20,
          10,
          20,
          15,
          30,
          30,
          10,
          5,
          10,
          20,
          20,
          20,
          10,
          20,
          15,
          5,
          20,
          15,
          30,
          20,
          20,
          5,
          15,
          15,
          20,
          20,
          20,
          20,
          20,
          15,
          5,
          15,
          15,
          15,
          15,
          5,
          25,
          30,
          5,
          10,
          15,
          15,
          20,
          15,
          10,
          20,
          20,
          15,
          20,
          10,
          20,
          10,
          20,
          10,
          20,
          10,
          5,
          20,
          5,
          15,
          15,
          10,
          15,
          10,
          15,
          20,
          15,
          10,
          15,
          5,
          25,
          10,
          15,
          10,
          5,
          20,
          15,
          20,
          20,
          5,
          15,
          15,
          20,
          15,
          10,
          20,
          20,
          20,
          20,
          20,
          15,
          10,
          20,
          15,
          15,
          10,
          20,
          25,
          15,
          20,
          5,
          20,
          15,
          15,
          25,
          10,
          15,
          20,
          15,
          20,
          20,
          20,
          15,
          20,
          20,
          20,
          20,
          10,
          10,
          20,
          5,
          20,
          10,
          20,
          5,
          20,
          15,
          15,
          15,
          20,
          10,
          10,
          15,
          5,
          20,
          5,
          20,
          20,
          20,
          20,
          20,
          20,
          20,
          20,
          10,
          20,
          20,
          20,
          15,
          15,
          20,
          20,
          15,
          5,
          5,
          15,
          15,
          20,
          15,
          5,
          5,
          5,
          30,
          15,
          20,
          20,
          20,
          5,
          20,
          20,
          25,
          15,
          20,
          20,
          10,
          10,
          10,
          20,
          20,
          20,
          15,
          20,
          5,
          15,
          10,
          5,
          5,
          20,
          15,
          15,
          15,
          25,
          5,
          15,
          15,
          15,
          5,
          20,
          10,
          20,
          10,
          10,
          15,
          10,
          15,
          20,
          15,
          20,
          15,
          25,
          10,
          20,
          20,
          20,
          25,
          10,
          20,
          20,
          20,
          20,
          25,
          20,
          15,
          10,
          5,
          20,
          10,
          10,
          15,
          10,
          5,
          20,
          20,
          20,
          20,
          15,
          15,
          20,
          15,
          20,
          10,
          5,
          15,
          20,
          15,
          25,
          20,
          20,
          20,
          10,
          20,
          20,
          20,
          20,
          20,
          10,
          5,
          25,
          5,
          10,
          5,
          30,
          20,
          5,
          10,
          10,
          20,
          20,
          20,
          10,
          10,
          10,
          5,
          5,
          15,
          20,
          15,
          20,
          20,
          20,
          20,
          20,
          15,
          20,
          20,
          20,
          20,
          20,
          15,
          20,
          20,
          20,
          20,
          20,
          10,
          5,
          20,
          30,
          20,
          20,
          20,
          15,
          15,
          20,
          20,
          20,
          20,
          20,
          20,
          20,
          20,
          20,
          20,
          5,
          5,
          15,
          10,
          10,
          20,
          20,
          15,
          5,
          10,
          20,
          20,
          20,
          10,
          10,
          20,
          10,
          20,
          20,
          5,
          20,
          15,
          20,
          20,
          20,
          15,
          20,
          15,
          5,
          30,
          20,
          5,
          15,
          5,
          5,
          20,
          15,
          20,
          10,
          20,
          20,
          20,
          20,
          20,
          10,
          20,
          15,
          20,
          5,
          20,
          20,
          15,
          20,
          10,
          20,
          15,
          20,
          10,
          10,
          20,
          20,
          20,
          30,
          10,
          20,
          20,
          20,
          20,
          10,
          10,
          10,
          20,
          20,
          25,
          25,
          15,
          20,
          20,
          20,
          10,
          10,
          20,
          10,
          20,
          20,
          10,
          20,
          5,
          20,
          10,
          10,
          10,
          20,
          15,
          10,
          20,
          10,
          20,
          20,
          15,
          5,
          15,
          10,
          20,
          10,
          20,
          15,
          5,
          15,
          20,
          20,
          10,
          10,
          15,
          20,
          10,
          20,
          20,
          15,
          20,
          20,
          5,
          20,
          20,
          20,
          20,
          20,
          20,
          20,
          25,
          20,
          20,
          20,
          20,
          15,
          20,
          15,
          20,
          20,
          10,
          15,
          20,
          20,
          15,
          15,
          15,
          10,
          20,
          20,
          5,
          20,
          10,
          20,
          10,
          15,
          20,
          10,
          15,
          20,
          25,
          20,
          20,
          5,
          20,
          20,
          20,
          20,
          20,
          15,
          20,
          20,
          20,
          20,
          5,
          20,
          10,
          20,
          25,
          20,
          20,
          10,
          20,
          20,
          20,
          5,
          20,
          20,
          10,
          5,
          20,
          20,
          20,
          5,
          5,
          15,
          15,
          15,
          30,
          20,
          15,
          20,
          20,
          20,
          20,
          20,
          5,
          20,
          10,
          20,
          10,
          10,
          20,
          20,
          20,
          10,
          10,
          10,
          20,
          20,
          20,
          20,
          20,
          15,
          20,
          20,
          5,
          15,
          20,
          20,
          20,
          20,
          10,
          20,
          20,
          20,
          15,
          15,
          10,
          20,
          20,
          20,
          15,
          20,
          20,
          10,
          15,
          20,
          20,
          20,
          15,
          15,
          5,
          10,
          15,
          10,
          20,
          20,
          20,
          20,
          10,
          15,
          20,
          20,
          20,
          10,
          10,
          20,
          5,
          20,
          5,
          10,
          10,
          20,
          20,
          20,
          15,
          15,
          20,
          20,
          20,
          10,
          25,
          20,
          10,
          10,
          20,
          15,
          15,
          5,
          20,
          20,
          15,
          20,
          15,
          20,
          15,
          20,
          5,
          10,
          15,
          15,
          5,
          5,
          20,
          15,
          5,
          10,
          20,
          20,
          20,
          5,
          5,
          5,
          20,
          10,
          20,
          20,
          15,
          20,
          10,
          20,
          10,
          20,
          20,
          10,
          15,
          15,
          10,
          5,
          20,
          15,
          20,
          20,
          20,
          20,
          20,
          20,
          20,
          20,
          20,
          15,
          5,
          20,
          25,
          20,
          20,
          10,
          20,
          10,
          20,
          20,
          15,
          15,
          15,
          15,
          20,
          5,
          15,
          20,
          20,
          20,
          30,
          15,
          20,
          20,
          20,
          10,
          20,
          5,
          10,
          15,
          10,
          20,
          25,
          25,
          20,
          20,
          10,
          15,
          25,
          20,
          10,
          20,
          20,
          5,
          20,
          20,
          10,
          20,
          20,
          15,
          20,
          20,
          20,
          15,
          15,
          10,
          15,
          20,
          20,
          20,
          15,
          20,
          20,
          20,
          10,
          15,
          20,
          20,
          15,
          20,
          20,
          10,
          5,
          20,
          20,
          20,
          15,
          20,
          20,
          10,
          15,
          20,
          10,
          20,
          20,
          10,
          10,
          20,
          15,
          20,
          20,
          20,
          20,
          5,
          15,
          20,
          15
         ],
         "xaxis": "x",
         "yaxis": "y"
        }
       ],
       "layout": {
        "barmode": "relative",
        "legend": {
         "tracegroupgap": 0
        },
        "margin": {
         "t": 60
        },
        "template": {
         "data": {
          "bar": [
           {
            "error_x": {
             "color": "#2a3f5f"
            },
            "error_y": {
             "color": "#2a3f5f"
            },
            "marker": {
             "line": {
              "color": "#E5ECF6",
              "width": 0.5
             },
             "pattern": {
              "fillmode": "overlay",
              "size": 10,
              "solidity": 0.2
             }
            },
            "type": "bar"
           }
          ],
          "barpolar": [
           {
            "marker": {
             "line": {
              "color": "#E5ECF6",
              "width": 0.5
             },
             "pattern": {
              "fillmode": "overlay",
              "size": 10,
              "solidity": 0.2
             }
            },
            "type": "barpolar"
           }
          ],
          "carpet": [
           {
            "aaxis": {
             "endlinecolor": "#2a3f5f",
             "gridcolor": "white",
             "linecolor": "white",
             "minorgridcolor": "white",
             "startlinecolor": "#2a3f5f"
            },
            "baxis": {
             "endlinecolor": "#2a3f5f",
             "gridcolor": "white",
             "linecolor": "white",
             "minorgridcolor": "white",
             "startlinecolor": "#2a3f5f"
            },
            "type": "carpet"
           }
          ],
          "choropleth": [
           {
            "colorbar": {
             "outlinewidth": 0,
             "ticks": ""
            },
            "type": "choropleth"
           }
          ],
          "contour": [
           {
            "colorbar": {
             "outlinewidth": 0,
             "ticks": ""
            },
            "colorscale": [
             [
              0,
              "#0d0887"
             ],
             [
              0.1111111111111111,
              "#46039f"
             ],
             [
              0.2222222222222222,
              "#7201a8"
             ],
             [
              0.3333333333333333,
              "#9c179e"
             ],
             [
              0.4444444444444444,
              "#bd3786"
             ],
             [
              0.5555555555555556,
              "#d8576b"
             ],
             [
              0.6666666666666666,
              "#ed7953"
             ],
             [
              0.7777777777777778,
              "#fb9f3a"
             ],
             [
              0.8888888888888888,
              "#fdca26"
             ],
             [
              1,
              "#f0f921"
             ]
            ],
            "type": "contour"
           }
          ],
          "contourcarpet": [
           {
            "colorbar": {
             "outlinewidth": 0,
             "ticks": ""
            },
            "type": "contourcarpet"
           }
          ],
          "heatmap": [
           {
            "colorbar": {
             "outlinewidth": 0,
             "ticks": ""
            },
            "colorscale": [
             [
              0,
              "#0d0887"
             ],
             [
              0.1111111111111111,
              "#46039f"
             ],
             [
              0.2222222222222222,
              "#7201a8"
             ],
             [
              0.3333333333333333,
              "#9c179e"
             ],
             [
              0.4444444444444444,
              "#bd3786"
             ],
             [
              0.5555555555555556,
              "#d8576b"
             ],
             [
              0.6666666666666666,
              "#ed7953"
             ],
             [
              0.7777777777777778,
              "#fb9f3a"
             ],
             [
              0.8888888888888888,
              "#fdca26"
             ],
             [
              1,
              "#f0f921"
             ]
            ],
            "type": "heatmap"
           }
          ],
          "heatmapgl": [
           {
            "colorbar": {
             "outlinewidth": 0,
             "ticks": ""
            },
            "colorscale": [
             [
              0,
              "#0d0887"
             ],
             [
              0.1111111111111111,
              "#46039f"
             ],
             [
              0.2222222222222222,
              "#7201a8"
             ],
             [
              0.3333333333333333,
              "#9c179e"
             ],
             [
              0.4444444444444444,
              "#bd3786"
             ],
             [
              0.5555555555555556,
              "#d8576b"
             ],
             [
              0.6666666666666666,
              "#ed7953"
             ],
             [
              0.7777777777777778,
              "#fb9f3a"
             ],
             [
              0.8888888888888888,
              "#fdca26"
             ],
             [
              1,
              "#f0f921"
             ]
            ],
            "type": "heatmapgl"
           }
          ],
          "histogram": [
           {
            "marker": {
             "pattern": {
              "fillmode": "overlay",
              "size": 10,
              "solidity": 0.2
             }
            },
            "type": "histogram"
           }
          ],
          "histogram2d": [
           {
            "colorbar": {
             "outlinewidth": 0,
             "ticks": ""
            },
            "colorscale": [
             [
              0,
              "#0d0887"
             ],
             [
              0.1111111111111111,
              "#46039f"
             ],
             [
              0.2222222222222222,
              "#7201a8"
             ],
             [
              0.3333333333333333,
              "#9c179e"
             ],
             [
              0.4444444444444444,
              "#bd3786"
             ],
             [
              0.5555555555555556,
              "#d8576b"
             ],
             [
              0.6666666666666666,
              "#ed7953"
             ],
             [
              0.7777777777777778,
              "#fb9f3a"
             ],
             [
              0.8888888888888888,
              "#fdca26"
             ],
             [
              1,
              "#f0f921"
             ]
            ],
            "type": "histogram2d"
           }
          ],
          "histogram2dcontour": [
           {
            "colorbar": {
             "outlinewidth": 0,
             "ticks": ""
            },
            "colorscale": [
             [
              0,
              "#0d0887"
             ],
             [
              0.1111111111111111,
              "#46039f"
             ],
             [
              0.2222222222222222,
              "#7201a8"
             ],
             [
              0.3333333333333333,
              "#9c179e"
             ],
             [
              0.4444444444444444,
              "#bd3786"
             ],
             [
              0.5555555555555556,
              "#d8576b"
             ],
             [
              0.6666666666666666,
              "#ed7953"
             ],
             [
              0.7777777777777778,
              "#fb9f3a"
             ],
             [
              0.8888888888888888,
              "#fdca26"
             ],
             [
              1,
              "#f0f921"
             ]
            ],
            "type": "histogram2dcontour"
           }
          ],
          "mesh3d": [
           {
            "colorbar": {
             "outlinewidth": 0,
             "ticks": ""
            },
            "type": "mesh3d"
           }
          ],
          "parcoords": [
           {
            "line": {
             "colorbar": {
              "outlinewidth": 0,
              "ticks": ""
             }
            },
            "type": "parcoords"
           }
          ],
          "pie": [
           {
            "automargin": true,
            "type": "pie"
           }
          ],
          "scatter": [
           {
            "fillpattern": {
             "fillmode": "overlay",
             "size": 10,
             "solidity": 0.2
            },
            "type": "scatter"
           }
          ],
          "scatter3d": [
           {
            "line": {
             "colorbar": {
              "outlinewidth": 0,
              "ticks": ""
             }
            },
            "marker": {
             "colorbar": {
              "outlinewidth": 0,
              "ticks": ""
             }
            },
            "type": "scatter3d"
           }
          ],
          "scattercarpet": [
           {
            "marker": {
             "colorbar": {
              "outlinewidth": 0,
              "ticks": ""
             }
            },
            "type": "scattercarpet"
           }
          ],
          "scattergeo": [
           {
            "marker": {
             "colorbar": {
              "outlinewidth": 0,
              "ticks": ""
             }
            },
            "type": "scattergeo"
           }
          ],
          "scattergl": [
           {
            "marker": {
             "colorbar": {
              "outlinewidth": 0,
              "ticks": ""
             }
            },
            "type": "scattergl"
           }
          ],
          "scattermapbox": [
           {
            "marker": {
             "colorbar": {
              "outlinewidth": 0,
              "ticks": ""
             }
            },
            "type": "scattermapbox"
           }
          ],
          "scatterpolar": [
           {
            "marker": {
             "colorbar": {
              "outlinewidth": 0,
              "ticks": ""
             }
            },
            "type": "scatterpolar"
           }
          ],
          "scatterpolargl": [
           {
            "marker": {
             "colorbar": {
              "outlinewidth": 0,
              "ticks": ""
             }
            },
            "type": "scatterpolargl"
           }
          ],
          "scatterternary": [
           {
            "marker": {
             "colorbar": {
              "outlinewidth": 0,
              "ticks": ""
             }
            },
            "type": "scatterternary"
           }
          ],
          "surface": [
           {
            "colorbar": {
             "outlinewidth": 0,
             "ticks": ""
            },
            "colorscale": [
             [
              0,
              "#0d0887"
             ],
             [
              0.1111111111111111,
              "#46039f"
             ],
             [
              0.2222222222222222,
              "#7201a8"
             ],
             [
              0.3333333333333333,
              "#9c179e"
             ],
             [
              0.4444444444444444,
              "#bd3786"
             ],
             [
              0.5555555555555556,
              "#d8576b"
             ],
             [
              0.6666666666666666,
              "#ed7953"
             ],
             [
              0.7777777777777778,
              "#fb9f3a"
             ],
             [
              0.8888888888888888,
              "#fdca26"
             ],
             [
              1,
              "#f0f921"
             ]
            ],
            "type": "surface"
           }
          ],
          "table": [
           {
            "cells": {
             "fill": {
              "color": "#EBF0F8"
             },
             "line": {
              "color": "white"
             }
            },
            "header": {
             "fill": {
              "color": "#C8D4E3"
             },
             "line": {
              "color": "white"
             }
            },
            "type": "table"
           }
          ]
         },
         "layout": {
          "annotationdefaults": {
           "arrowcolor": "#2a3f5f",
           "arrowhead": 0,
           "arrowwidth": 1
          },
          "autotypenumbers": "strict",
          "coloraxis": {
           "colorbar": {
            "outlinewidth": 0,
            "ticks": ""
           }
          },
          "colorscale": {
           "diverging": [
            [
             0,
             "#8e0152"
            ],
            [
             0.1,
             "#c51b7d"
            ],
            [
             0.2,
             "#de77ae"
            ],
            [
             0.3,
             "#f1b6da"
            ],
            [
             0.4,
             "#fde0ef"
            ],
            [
             0.5,
             "#f7f7f7"
            ],
            [
             0.6,
             "#e6f5d0"
            ],
            [
             0.7,
             "#b8e186"
            ],
            [
             0.8,
             "#7fbc41"
            ],
            [
             0.9,
             "#4d9221"
            ],
            [
             1,
             "#276419"
            ]
           ],
           "sequential": [
            [
             0,
             "#0d0887"
            ],
            [
             0.1111111111111111,
             "#46039f"
            ],
            [
             0.2222222222222222,
             "#7201a8"
            ],
            [
             0.3333333333333333,
             "#9c179e"
            ],
            [
             0.4444444444444444,
             "#bd3786"
            ],
            [
             0.5555555555555556,
             "#d8576b"
            ],
            [
             0.6666666666666666,
             "#ed7953"
            ],
            [
             0.7777777777777778,
             "#fb9f3a"
            ],
            [
             0.8888888888888888,
             "#fdca26"
            ],
            [
             1,
             "#f0f921"
            ]
           ],
           "sequentialminus": [
            [
             0,
             "#0d0887"
            ],
            [
             0.1111111111111111,
             "#46039f"
            ],
            [
             0.2222222222222222,
             "#7201a8"
            ],
            [
             0.3333333333333333,
             "#9c179e"
            ],
            [
             0.4444444444444444,
             "#bd3786"
            ],
            [
             0.5555555555555556,
             "#d8576b"
            ],
            [
             0.6666666666666666,
             "#ed7953"
            ],
            [
             0.7777777777777778,
             "#fb9f3a"
            ],
            [
             0.8888888888888888,
             "#fdca26"
            ],
            [
             1,
             "#f0f921"
            ]
           ]
          },
          "colorway": [
           "#636efa",
           "#EF553B",
           "#00cc96",
           "#ab63fa",
           "#FFA15A",
           "#19d3f3",
           "#FF6692",
           "#B6E880",
           "#FF97FF",
           "#FECB52"
          ],
          "font": {
           "color": "#2a3f5f"
          },
          "geo": {
           "bgcolor": "white",
           "lakecolor": "white",
           "landcolor": "#E5ECF6",
           "showlakes": true,
           "showland": true,
           "subunitcolor": "white"
          },
          "hoverlabel": {
           "align": "left"
          },
          "hovermode": "closest",
          "mapbox": {
           "style": "light"
          },
          "paper_bgcolor": "white",
          "plot_bgcolor": "#E5ECF6",
          "polar": {
           "angularaxis": {
            "gridcolor": "white",
            "linecolor": "white",
            "ticks": ""
           },
           "bgcolor": "#E5ECF6",
           "radialaxis": {
            "gridcolor": "white",
            "linecolor": "white",
            "ticks": ""
           }
          },
          "scene": {
           "xaxis": {
            "backgroundcolor": "#E5ECF6",
            "gridcolor": "white",
            "gridwidth": 2,
            "linecolor": "white",
            "showbackground": true,
            "ticks": "",
            "zerolinecolor": "white"
           },
           "yaxis": {
            "backgroundcolor": "#E5ECF6",
            "gridcolor": "white",
            "gridwidth": 2,
            "linecolor": "white",
            "showbackground": true,
            "ticks": "",
            "zerolinecolor": "white"
           },
           "zaxis": {
            "backgroundcolor": "#E5ECF6",
            "gridcolor": "white",
            "gridwidth": 2,
            "linecolor": "white",
            "showbackground": true,
            "ticks": "",
            "zerolinecolor": "white"
           }
          },
          "shapedefaults": {
           "line": {
            "color": "#2a3f5f"
           }
          },
          "ternary": {
           "aaxis": {
            "gridcolor": "white",
            "linecolor": "white",
            "ticks": ""
           },
           "baxis": {
            "gridcolor": "white",
            "linecolor": "white",
            "ticks": ""
           },
           "bgcolor": "#E5ECF6",
           "caxis": {
            "gridcolor": "white",
            "linecolor": "white",
            "ticks": ""
           }
          },
          "title": {
           "x": 0.05
          },
          "xaxis": {
           "automargin": true,
           "gridcolor": "white",
           "linecolor": "white",
           "ticks": "",
           "title": {
            "standoff": 15
           },
           "zerolinecolor": "white",
           "zerolinewidth": 2
          },
          "yaxis": {
           "automargin": true,
           "gridcolor": "white",
           "linecolor": "white",
           "ticks": "",
           "title": {
            "standoff": 15
           },
           "zerolinecolor": "white",
           "zerolinewidth": 2
          }
         }
        },
        "xaxis": {
         "anchor": "y",
         "domain": [
          0,
          1
         ],
         "title": {
          "text": "Vencimento"
         }
        },
        "yaxis": {
         "anchor": "x",
         "domain": [
          0,
          1
         ],
         "title": {
          "text": "count"
         }
        }
       }
      }
     },
     "metadata": {},
     "output_type": "display_data"
    },
    {
     "data": {
      "application/vnd.plotly.v1+json": {
       "config": {
        "plotlyServerURL": "https://plot.ly"
       },
       "data": [
        {
         "alignmentgroup": "True",
         "bingroup": "x",
         "hovertemplate": "Status=%{x}<br>count=%{y}<extra></extra>",
         "legendgroup": "",
         "marker": {
          "color": "#636efa",
          "pattern": {
           "shape": ""
          }
         },
         "name": "",
         "offsetgroup": "",
         "orientation": "v",
         "showlegend": false,
         "type": "histogram",
         "x": [
          " Ativo ",
          " Ativo ",
          " Ativo ",
          " Ativo ",
          " Ativo ",
          " Ativo ",
          " Ativo ",
          " Ativo ",
          " Ativo ",
          " Ativo ",
          " Ativo ",
          " Ativo ",
          " Ativo ",
          " Ativo ",
          " Ativo ",
          " Ativo ",
          " Ativo ",
          " Ativo ",
          " Ativo ",
          " Ativo ",
          " Ativo ",
          " Ativo ",
          " Ativo ",
          " Ativo ",
          " Ativo ",
          " Ativo ",
          " Ativo ",
          " Ativo ",
          " Ativo ",
          " Ativo ",
          " Ativo ",
          " Ativo ",
          " Ativo ",
          " Ativo ",
          " Ativo ",
          " Ativo ",
          " Ativo ",
          " Ativo ",
          " Ativo ",
          " Ativo ",
          " Ativo ",
          " Ativo ",
          " Ativo ",
          " Ativo ",
          " Ativo ",
          " Ativo ",
          " Ativo ",
          " Ativo ",
          " Ativo ",
          " Ativo ",
          " Ativo ",
          " Ativo ",
          " Ativo ",
          " Ativo ",
          " Ativo ",
          " Ativo ",
          " Ativo ",
          " Ativo ",
          " Ativo ",
          " Ativo ",
          " Ativo ",
          " Ativo ",
          " Ativo ",
          " Ativo ",
          " Ativo ",
          " Ativo ",
          " Ativo ",
          " Ativo ",
          " Ativo ",
          " Ativo ",
          " Ativo ",
          " Ativo ",
          " Ativo ",
          " Ativo ",
          " Ativo ",
          " Ativo ",
          " Ativo ",
          " Ativo ",
          " Ativo ",
          " Ativo ",
          " Ativo ",
          " Ativo ",
          " Ativo ",
          " Ativo ",
          " Ativo ",
          " Ativo ",
          " Ativo ",
          " Ativo ",
          " Ativo ",
          " Ativo ",
          " Ativo ",
          " Ativo ",
          " Ativo ",
          " Ativo ",
          " Ativo ",
          " Ativo ",
          " Ativo ",
          " Ativo ",
          " Ativo ",
          " Ativo ",
          " Ativo ",
          " Ativo ",
          " Ativo ",
          " Ativo ",
          " Ativo ",
          " Ativo ",
          " Ativo ",
          " Ativo ",
          " Ativo ",
          " Ativo ",
          " Ativo ",
          " Ativo ",
          " Ativo ",
          " Ativo ",
          " Ativo ",
          " Ativo ",
          " Ativo ",
          " Ativo ",
          " Ativo ",
          " Ativo ",
          " Ativo ",
          " Ativo ",
          " Ativo ",
          " Ativo ",
          " Ativo ",
          " Ativo ",
          " Ativo ",
          " Ativo ",
          " Ativo ",
          " Ativo ",
          " Ativo ",
          " Ativo ",
          " Ativo ",
          " Ativo ",
          " Ativo ",
          " Ativo ",
          " Ativo ",
          " Ativo ",
          " Ativo ",
          " Ativo ",
          " Ativo ",
          " Ativo ",
          " Ativo ",
          " Ativo ",
          " Ativo ",
          " Ativo ",
          " Ativo ",
          " Ativo ",
          " Ativo ",
          " Ativo ",
          " Ativo ",
          " Ativo ",
          " Ativo ",
          " Ativo ",
          " Ativo ",
          " Ativo ",
          " Ativo ",
          " Ativo ",
          " Ativo ",
          " Ativo ",
          " Ativo ",
          " Ativo ",
          " Ativo ",
          " Ativo ",
          " Ativo ",
          " Ativo ",
          " Ativo ",
          " Ativo ",
          " Ativo ",
          " Ativo ",
          " Ativo ",
          " Ativo ",
          " Ativo ",
          " Ativo ",
          " Ativo ",
          " Ativo ",
          " Ativo ",
          " Ativo ",
          " Ativo ",
          " Ativo ",
          " Ativo ",
          " Ativo ",
          " Ativo ",
          " Ativo ",
          " Ativo ",
          " Ativo ",
          " Ativo ",
          " Ativo ",
          " Ativo ",
          " Ativo ",
          " Ativo ",
          " Ativo ",
          " Ativo ",
          " Ativo ",
          " Ativo ",
          " Ativo ",
          " Ativo ",
          " Ativo ",
          " Ativo ",
          " Ativo ",
          " Ativo ",
          " Ativo ",
          " Ativo ",
          " Ativo ",
          " Ativo ",
          " Ativo ",
          " Ativo ",
          " Ativo ",
          " Ativo ",
          " Ativo ",
          " Ativo ",
          " Ativo ",
          " Ativo ",
          " Ativo ",
          " Ativo ",
          " Ativo ",
          " Ativo ",
          " Ativo ",
          " Ativo ",
          " Ativo ",
          " Ativo ",
          " Ativo ",
          " Ativo ",
          " Ativo ",
          " Ativo ",
          " Ativo ",
          " Ativo ",
          " Ativo ",
          " Ativo ",
          " Ativo ",
          " Ativo ",
          " Ativo ",
          " Ativo ",
          " Ativo ",
          " Ativo ",
          " Ativo ",
          " Ativo ",
          " Ativo ",
          " Ativo ",
          " Ativo ",
          " Ativo ",
          " Ativo ",
          " Ativo ",
          " Ativo ",
          " Ativo ",
          " Ativo ",
          " Ativo ",
          " Ativo ",
          " Ativo ",
          " Ativo ",
          " Ativo ",
          " Ativo ",
          " Ativo ",
          " Ativo ",
          " Ativo ",
          " Ativo ",
          " Ativo ",
          " Ativo ",
          " Ativo ",
          " Ativo ",
          " Ativo ",
          " Ativo ",
          " Ativo ",
          " Ativo ",
          " Ativo ",
          " Ativo ",
          " Ativo ",
          " Ativo ",
          " Ativo ",
          " Ativo ",
          " Ativo ",
          " Ativo ",
          " Ativo ",
          " Ativo ",
          " Ativo ",
          " Ativo ",
          " Ativo ",
          " Ativo ",
          " Ativo ",
          " Ativo ",
          " Ativo ",
          " Ativo ",
          " Ativo ",
          " Ativo ",
          " Ativo ",
          " Ativo ",
          " Ativo ",
          " Ativo ",
          " Ativo ",
          " Ativo ",
          " Ativo ",
          " Ativo ",
          " Ativo ",
          " Ativo ",
          " Ativo ",
          " Ativo ",
          " Ativo ",
          " Ativo ",
          " Ativo ",
          " Ativo ",
          " Ativo ",
          " Ativo ",
          " Ativo ",
          " Ativo ",
          " Ativo ",
          " Ativo ",
          " Ativo ",
          " Ativo ",
          " Ativo ",
          " Ativo ",
          " Ativo ",
          " Ativo ",
          " Ativo ",
          " Ativo ",
          " Ativo ",
          " Ativo ",
          " Ativo ",
          " Ativo ",
          " Ativo ",
          " Ativo ",
          " Ativo ",
          " Ativo ",
          " Ativo ",
          " Ativo ",
          " Ativo ",
          " Ativo ",
          " Ativo ",
          " Ativo ",
          " Ativo ",
          " Ativo ",
          " Ativo ",
          " Ativo ",
          " Ativo ",
          " Ativo ",
          " Ativo ",
          " Ativo ",
          " Ativo ",
          " Ativo ",
          " Ativo ",
          " Ativo ",
          " Ativo ",
          " Ativo ",
          " Ativo ",
          " Ativo ",
          " Ativo ",
          " Ativo ",
          " Ativo ",
          " Ativo ",
          " Ativo ",
          " Ativo ",
          " Ativo ",
          " Ativo ",
          " Ativo ",
          " Ativo ",
          " Ativo ",
          " Ativo ",
          " Ativo ",
          " Ativo ",
          " Ativo ",
          " Ativo ",
          " Ativo ",
          " Ativo ",
          " Ativo ",
          " Ativo ",
          " Ativo ",
          " Ativo ",
          " Ativo ",
          " Ativo ",
          " Ativo ",
          " Ativo ",
          " Ativo ",
          " Ativo ",
          " Ativo ",
          " Ativo ",
          " Ativo ",
          " Ativo ",
          " Ativo ",
          " Ativo ",
          " Ativo ",
          " Ativo ",
          " Ativo ",
          " Ativo ",
          " Ativo ",
          " Ativo ",
          " Ativo ",
          " Ativo ",
          " Ativo ",
          " Ativo ",
          " Ativo ",
          " Ativo ",
          " Ativo ",
          " Ativo ",
          " Ativo ",
          " Ativo ",
          " Ativo ",
          " Ativo ",
          " Ativo ",
          " Ativo ",
          " Ativo ",
          " Ativo ",
          " Ativo ",
          " Ativo ",
          " Ativo ",
          " Ativo ",
          " Ativo ",
          " Ativo ",
          " Ativo ",
          " Ativo ",
          " Ativo ",
          " Ativo ",
          " Ativo ",
          " Ativo ",
          " Ativo ",
          " Ativo ",
          " Ativo ",
          " Ativo ",
          " Ativo ",
          " Ativo ",
          " Ativo ",
          " Ativo ",
          " Ativo ",
          " Ativo ",
          " Ativo ",
          " Ativo ",
          " Ativo ",
          " Ativo ",
          " Ativo ",
          " Ativo ",
          " Ativo ",
          " Ativo ",
          " Ativo ",
          " Ativo ",
          " Ativo ",
          " Ativo ",
          " Ativo ",
          " Ativo ",
          " Ativo ",
          " Ativo ",
          " Ativo ",
          " Ativo ",
          " Ativo ",
          " Ativo ",
          " Ativo ",
          " Ativo ",
          " Ativo ",
          " Ativo ",
          " Ativo ",
          " Ativo ",
          " Ativo ",
          " Ativo ",
          " Ativo ",
          " Ativo ",
          " Ativo ",
          " Ativo ",
          " Ativo ",
          " Ativo ",
          " Ativo ",
          " Ativo ",
          " Ativo ",
          " Ativo ",
          " Ativo ",
          " Ativo ",
          " Ativo ",
          " Ativo ",
          " Ativo ",
          " Ativo ",
          " Ativo ",
          " Ativo ",
          " Ativo ",
          " Ativo ",
          " Ativo ",
          " Ativo ",
          " Ativo ",
          " Ativo ",
          " Ativo ",
          " Ativo ",
          " Ativo ",
          " Ativo ",
          " Ativo ",
          " Ativo ",
          " Ativo ",
          " Ativo ",
          " Ativo ",
          " Ativo ",
          " Ativo ",
          " Ativo ",
          " Ativo ",
          " Ativo ",
          " Ativo ",
          " Ativo ",
          " Ativo ",
          " Ativo ",
          " Ativo ",
          " Ativo ",
          " Ativo ",
          " Ativo ",
          " Ativo ",
          " Ativo ",
          " Ativo ",
          " Ativo ",
          " Ativo ",
          " Ativo ",
          " Ativo ",
          " Ativo ",
          " Ativo ",
          " Ativo ",
          " Ativo ",
          " Ativo ",
          " Ativo ",
          " Ativo ",
          " Ativo ",
          " Ativo ",
          " Ativo ",
          " Ativo ",
          " Ativo ",
          " Ativo ",
          " Ativo ",
          " Ativo ",
          " Ativo ",
          " Ativo ",
          " Ativo ",
          " Ativo ",
          " Ativo ",
          " Ativo ",
          " Ativo ",
          " Ativo ",
          " Ativo ",
          " Ativo ",
          " Ativo ",
          " Ativo ",
          " Ativo ",
          " Ativo ",
          " Ativo ",
          " Ativo ",
          " Ativo ",
          " Ativo ",
          " Ativo ",
          " Ativo ",
          " Ativo ",
          " Ativo ",
          " Ativo ",
          " Ativo ",
          " Ativo ",
          " Ativo ",
          " Ativo ",
          " Ativo ",
          " Ativo ",
          " Ativo ",
          " Ativo ",
          " Ativo ",
          " Ativo ",
          " Ativo ",
          " Ativo ",
          " Ativo ",
          " Ativo ",
          " Ativo ",
          " Ativo ",
          " Ativo ",
          " Ativo ",
          " Ativo ",
          " Ativo ",
          " Ativo ",
          " Ativo ",
          " Ativo ",
          " Ativo ",
          " Ativo ",
          " Ativo ",
          " Ativo ",
          " Ativo ",
          " Ativo ",
          " Ativo ",
          " Ativo ",
          " Ativo ",
          " Ativo ",
          " Ativo ",
          " Ativo ",
          " Ativo ",
          " Ativo ",
          " Ativo ",
          " Ativo ",
          " Ativo ",
          " Ativo ",
          " Ativo ",
          " Ativo ",
          " Ativo ",
          " Ativo ",
          " Ativo ",
          " Ativo ",
          " Ativo ",
          " Ativo ",
          " Ativo ",
          " Ativo ",
          " Ativo ",
          " Ativo ",
          " Ativo ",
          " Ativo ",
          " Ativo ",
          " Ativo ",
          " Ativo ",
          " Ativo ",
          " Ativo ",
          " Ativo ",
          " Ativo ",
          " Ativo ",
          " Ativo ",
          " Ativo ",
          " Ativo ",
          " Ativo ",
          " Ativo ",
          " Ativo ",
          " Ativo ",
          " Ativo ",
          " Ativo ",
          " Ativo ",
          " Ativo ",
          " Ativo ",
          " Ativo ",
          " Ativo ",
          " Ativo ",
          " Ativo ",
          " Ativo ",
          " Ativo ",
          " Ativo ",
          " Ativo ",
          " Ativo ",
          " Ativo ",
          " Ativo ",
          " Ativo ",
          " Ativo ",
          " Ativo ",
          " Ativo ",
          " Ativo ",
          " Ativo ",
          " Ativo ",
          " Ativo ",
          " Ativo ",
          " Ativo ",
          " Ativo ",
          " Ativo ",
          " Ativo ",
          " Ativo ",
          " Ativo ",
          " Ativo ",
          " Ativo ",
          " Ativo ",
          " Ativo ",
          " Ativo ",
          " Ativo ",
          " Ativo ",
          " Ativo ",
          " Ativo ",
          " Ativo ",
          " Ativo ",
          " Ativo ",
          " Ativo ",
          " Ativo ",
          " Ativo ",
          " Ativo ",
          " Ativo ",
          " Ativo ",
          " Ativo ",
          " Ativo ",
          " Ativo ",
          " Ativo ",
          " Ativo ",
          " Ativo ",
          " Ativo ",
          " Ativo ",
          " Ativo ",
          " Ativo ",
          " Ativo ",
          " Ativo ",
          " Ativo ",
          " Ativo ",
          " Ativo ",
          " Ativo ",
          " Ativo ",
          " Ativo ",
          " Ativo ",
          " Ativo ",
          " Ativo ",
          " Ativo ",
          " Ativo ",
          " Ativo ",
          " Ativo ",
          " Ativo ",
          " Ativo ",
          " Ativo ",
          " Ativo ",
          " Ativo ",
          " Ativo ",
          " Ativo ",
          " Ativo ",
          " Ativo ",
          " Ativo ",
          " Ativo ",
          " Ativo ",
          " Ativo ",
          " Ativo ",
          " Ativo ",
          " Ativo ",
          " Ativo ",
          " Ativo ",
          " Ativo ",
          " Ativo ",
          " Ativo ",
          " Ativo ",
          " Ativo ",
          " Ativo ",
          " Ativo ",
          " Ativo ",
          " Ativo ",
          " Ativo ",
          " Ativo ",
          " Ativo ",
          " Ativo ",
          " Ativo ",
          " Ativo ",
          " Ativo ",
          " Ativo ",
          " Ativo ",
          " Ativo ",
          " Ativo ",
          " Ativo ",
          " Ativo ",
          " Ativo ",
          " Ativo ",
          " Ativo ",
          " Ativo ",
          " Ativo ",
          " Ativo ",
          " Ativo ",
          " Ativo ",
          " Ativo ",
          " Ativo ",
          " Ativo ",
          " Ativo ",
          " Ativo ",
          " Ativo ",
          " Ativo ",
          " Ativo ",
          " Ativo ",
          " Ativo ",
          " Ativo ",
          " Ativo ",
          " Ativo ",
          " Ativo ",
          " Ativo ",
          " Ativo ",
          " Ativo ",
          " Ativo ",
          " Ativo ",
          " Ativo ",
          " Ativo ",
          " Ativo ",
          " Ativo ",
          " Ativo ",
          " Ativo ",
          " Ativo ",
          " Ativo ",
          " Ativo ",
          " Ativo ",
          " Ativo ",
          " Ativo ",
          " Ativo ",
          " Ativo ",
          " Ativo ",
          " Ativo ",
          " Ativo ",
          " Ativo ",
          " Ativo ",
          " Ativo ",
          " Ativo ",
          " Ativo ",
          " Ativo ",
          " Ativo ",
          " Ativo ",
          " Ativo ",
          " Ativo ",
          " Ativo ",
          " Ativo ",
          " Ativo ",
          " Ativo ",
          " Ativo ",
          " Ativo ",
          " Ativo ",
          " Ativo ",
          " Ativo ",
          " Ativo ",
          " Ativo ",
          " Ativo ",
          " Ativo ",
          " Ativo ",
          " Ativo ",
          " Ativo ",
          " Ativo ",
          " Ativo ",
          " Ativo ",
          " Ativo ",
          " Ativo ",
          " Ativo ",
          " Ativo ",
          " Ativo ",
          " Ativo ",
          " Ativo ",
          " Ativo ",
          " Ativo ",
          " Ativo ",
          " Ativo ",
          " Ativo ",
          " Ativo ",
          " Ativo ",
          " Ativo ",
          " Ativo ",
          " Ativo ",
          " Ativo ",
          " Ativo ",
          " Ativo ",
          " Ativo ",
          " Ativo ",
          " Ativo ",
          " Ativo ",
          " Ativo ",
          " Ativo ",
          " Ativo ",
          " Ativo ",
          " Ativo ",
          " Ativo ",
          " Ativo ",
          " Ativo ",
          " Ativo ",
          " Ativo ",
          " Ativo ",
          " Ativo ",
          " Ativo ",
          " Ativo ",
          " Ativo ",
          " Ativo ",
          " Ativo ",
          " Ativo ",
          " Ativo ",
          " Ativo ",
          " Ativo ",
          " Ativo ",
          " Ativo ",
          " Ativo ",
          " Ativo ",
          " Ativo ",
          " Ativo ",
          " Ativo ",
          " Ativo ",
          " Ativo ",
          " Ativo ",
          " Ativo ",
          " Ativo ",
          " Ativo ",
          " Ativo ",
          " Ativo ",
          " Ativo ",
          " Ativo ",
          " Ativo ",
          " Ativo ",
          " Ativo ",
          " Ativo ",
          " Ativo ",
          " Ativo ",
          " Ativo ",
          " Ativo ",
          " Ativo ",
          " Ativo ",
          " Ativo ",
          " Ativo ",
          " Ativo ",
          " Ativo ",
          " Ativo ",
          " Ativo ",
          " Ativo ",
          " Ativo ",
          " Ativo ",
          " Ativo ",
          " Ativo ",
          " Ativo ",
          " Ativo ",
          " Ativo ",
          " Ativo ",
          " Ativo ",
          " Ativo ",
          " Ativo ",
          " Ativo ",
          " Ativo ",
          " Ativo ",
          " Ativo ",
          " Ativo ",
          " Ativo ",
          " Ativo ",
          " Ativo ",
          " Ativo ",
          " Ativo ",
          " Ativo ",
          " Ativo ",
          " Ativo ",
          " Ativo ",
          " Ativo ",
          " Ativo ",
          " Ativo ",
          " Ativo ",
          " Ativo ",
          " Ativo ",
          " Ativo ",
          " Ativo ",
          " Ativo ",
          " Ativo ",
          " Ativo ",
          " Ativo ",
          " Ativo ",
          " Ativo ",
          " Ativo ",
          " Ativo ",
          " Ativo "
         ],
         "xaxis": "x",
         "yaxis": "y"
        }
       ],
       "layout": {
        "barmode": "relative",
        "legend": {
         "tracegroupgap": 0
        },
        "margin": {
         "t": 60
        },
        "template": {
         "data": {
          "bar": [
           {
            "error_x": {
             "color": "#2a3f5f"
            },
            "error_y": {
             "color": "#2a3f5f"
            },
            "marker": {
             "line": {
              "color": "#E5ECF6",
              "width": 0.5
             },
             "pattern": {
              "fillmode": "overlay",
              "size": 10,
              "solidity": 0.2
             }
            },
            "type": "bar"
           }
          ],
          "barpolar": [
           {
            "marker": {
             "line": {
              "color": "#E5ECF6",
              "width": 0.5
             },
             "pattern": {
              "fillmode": "overlay",
              "size": 10,
              "solidity": 0.2
             }
            },
            "type": "barpolar"
           }
          ],
          "carpet": [
           {
            "aaxis": {
             "endlinecolor": "#2a3f5f",
             "gridcolor": "white",
             "linecolor": "white",
             "minorgridcolor": "white",
             "startlinecolor": "#2a3f5f"
            },
            "baxis": {
             "endlinecolor": "#2a3f5f",
             "gridcolor": "white",
             "linecolor": "white",
             "minorgridcolor": "white",
             "startlinecolor": "#2a3f5f"
            },
            "type": "carpet"
           }
          ],
          "choropleth": [
           {
            "colorbar": {
             "outlinewidth": 0,
             "ticks": ""
            },
            "type": "choropleth"
           }
          ],
          "contour": [
           {
            "colorbar": {
             "outlinewidth": 0,
             "ticks": ""
            },
            "colorscale": [
             [
              0,
              "#0d0887"
             ],
             [
              0.1111111111111111,
              "#46039f"
             ],
             [
              0.2222222222222222,
              "#7201a8"
             ],
             [
              0.3333333333333333,
              "#9c179e"
             ],
             [
              0.4444444444444444,
              "#bd3786"
             ],
             [
              0.5555555555555556,
              "#d8576b"
             ],
             [
              0.6666666666666666,
              "#ed7953"
             ],
             [
              0.7777777777777778,
              "#fb9f3a"
             ],
             [
              0.8888888888888888,
              "#fdca26"
             ],
             [
              1,
              "#f0f921"
             ]
            ],
            "type": "contour"
           }
          ],
          "contourcarpet": [
           {
            "colorbar": {
             "outlinewidth": 0,
             "ticks": ""
            },
            "type": "contourcarpet"
           }
          ],
          "heatmap": [
           {
            "colorbar": {
             "outlinewidth": 0,
             "ticks": ""
            },
            "colorscale": [
             [
              0,
              "#0d0887"
             ],
             [
              0.1111111111111111,
              "#46039f"
             ],
             [
              0.2222222222222222,
              "#7201a8"
             ],
             [
              0.3333333333333333,
              "#9c179e"
             ],
             [
              0.4444444444444444,
              "#bd3786"
             ],
             [
              0.5555555555555556,
              "#d8576b"
             ],
             [
              0.6666666666666666,
              "#ed7953"
             ],
             [
              0.7777777777777778,
              "#fb9f3a"
             ],
             [
              0.8888888888888888,
              "#fdca26"
             ],
             [
              1,
              "#f0f921"
             ]
            ],
            "type": "heatmap"
           }
          ],
          "heatmapgl": [
           {
            "colorbar": {
             "outlinewidth": 0,
             "ticks": ""
            },
            "colorscale": [
             [
              0,
              "#0d0887"
             ],
             [
              0.1111111111111111,
              "#46039f"
             ],
             [
              0.2222222222222222,
              "#7201a8"
             ],
             [
              0.3333333333333333,
              "#9c179e"
             ],
             [
              0.4444444444444444,
              "#bd3786"
             ],
             [
              0.5555555555555556,
              "#d8576b"
             ],
             [
              0.6666666666666666,
              "#ed7953"
             ],
             [
              0.7777777777777778,
              "#fb9f3a"
             ],
             [
              0.8888888888888888,
              "#fdca26"
             ],
             [
              1,
              "#f0f921"
             ]
            ],
            "type": "heatmapgl"
           }
          ],
          "histogram": [
           {
            "marker": {
             "pattern": {
              "fillmode": "overlay",
              "size": 10,
              "solidity": 0.2
             }
            },
            "type": "histogram"
           }
          ],
          "histogram2d": [
           {
            "colorbar": {
             "outlinewidth": 0,
             "ticks": ""
            },
            "colorscale": [
             [
              0,
              "#0d0887"
             ],
             [
              0.1111111111111111,
              "#46039f"
             ],
             [
              0.2222222222222222,
              "#7201a8"
             ],
             [
              0.3333333333333333,
              "#9c179e"
             ],
             [
              0.4444444444444444,
              "#bd3786"
             ],
             [
              0.5555555555555556,
              "#d8576b"
             ],
             [
              0.6666666666666666,
              "#ed7953"
             ],
             [
              0.7777777777777778,
              "#fb9f3a"
             ],
             [
              0.8888888888888888,
              "#fdca26"
             ],
             [
              1,
              "#f0f921"
             ]
            ],
            "type": "histogram2d"
           }
          ],
          "histogram2dcontour": [
           {
            "colorbar": {
             "outlinewidth": 0,
             "ticks": ""
            },
            "colorscale": [
             [
              0,
              "#0d0887"
             ],
             [
              0.1111111111111111,
              "#46039f"
             ],
             [
              0.2222222222222222,
              "#7201a8"
             ],
             [
              0.3333333333333333,
              "#9c179e"
             ],
             [
              0.4444444444444444,
              "#bd3786"
             ],
             [
              0.5555555555555556,
              "#d8576b"
             ],
             [
              0.6666666666666666,
              "#ed7953"
             ],
             [
              0.7777777777777778,
              "#fb9f3a"
             ],
             [
              0.8888888888888888,
              "#fdca26"
             ],
             [
              1,
              "#f0f921"
             ]
            ],
            "type": "histogram2dcontour"
           }
          ],
          "mesh3d": [
           {
            "colorbar": {
             "outlinewidth": 0,
             "ticks": ""
            },
            "type": "mesh3d"
           }
          ],
          "parcoords": [
           {
            "line": {
             "colorbar": {
              "outlinewidth": 0,
              "ticks": ""
             }
            },
            "type": "parcoords"
           }
          ],
          "pie": [
           {
            "automargin": true,
            "type": "pie"
           }
          ],
          "scatter": [
           {
            "fillpattern": {
             "fillmode": "overlay",
             "size": 10,
             "solidity": 0.2
            },
            "type": "scatter"
           }
          ],
          "scatter3d": [
           {
            "line": {
             "colorbar": {
              "outlinewidth": 0,
              "ticks": ""
             }
            },
            "marker": {
             "colorbar": {
              "outlinewidth": 0,
              "ticks": ""
             }
            },
            "type": "scatter3d"
           }
          ],
          "scattercarpet": [
           {
            "marker": {
             "colorbar": {
              "outlinewidth": 0,
              "ticks": ""
             }
            },
            "type": "scattercarpet"
           }
          ],
          "scattergeo": [
           {
            "marker": {
             "colorbar": {
              "outlinewidth": 0,
              "ticks": ""
             }
            },
            "type": "scattergeo"
           }
          ],
          "scattergl": [
           {
            "marker": {
             "colorbar": {
              "outlinewidth": 0,
              "ticks": ""
             }
            },
            "type": "scattergl"
           }
          ],
          "scattermapbox": [
           {
            "marker": {
             "colorbar": {
              "outlinewidth": 0,
              "ticks": ""
             }
            },
            "type": "scattermapbox"
           }
          ],
          "scatterpolar": [
           {
            "marker": {
             "colorbar": {
              "outlinewidth": 0,
              "ticks": ""
             }
            },
            "type": "scatterpolar"
           }
          ],
          "scatterpolargl": [
           {
            "marker": {
             "colorbar": {
              "outlinewidth": 0,
              "ticks": ""
             }
            },
            "type": "scatterpolargl"
           }
          ],
          "scatterternary": [
           {
            "marker": {
             "colorbar": {
              "outlinewidth": 0,
              "ticks": ""
             }
            },
            "type": "scatterternary"
           }
          ],
          "surface": [
           {
            "colorbar": {
             "outlinewidth": 0,
             "ticks": ""
            },
            "colorscale": [
             [
              0,
              "#0d0887"
             ],
             [
              0.1111111111111111,
              "#46039f"
             ],
             [
              0.2222222222222222,
              "#7201a8"
             ],
             [
              0.3333333333333333,
              "#9c179e"
             ],
             [
              0.4444444444444444,
              "#bd3786"
             ],
             [
              0.5555555555555556,
              "#d8576b"
             ],
             [
              0.6666666666666666,
              "#ed7953"
             ],
             [
              0.7777777777777778,
              "#fb9f3a"
             ],
             [
              0.8888888888888888,
              "#fdca26"
             ],
             [
              1,
              "#f0f921"
             ]
            ],
            "type": "surface"
           }
          ],
          "table": [
           {
            "cells": {
             "fill": {
              "color": "#EBF0F8"
             },
             "line": {
              "color": "white"
             }
            },
            "header": {
             "fill": {
              "color": "#C8D4E3"
             },
             "line": {
              "color": "white"
             }
            },
            "type": "table"
           }
          ]
         },
         "layout": {
          "annotationdefaults": {
           "arrowcolor": "#2a3f5f",
           "arrowhead": 0,
           "arrowwidth": 1
          },
          "autotypenumbers": "strict",
          "coloraxis": {
           "colorbar": {
            "outlinewidth": 0,
            "ticks": ""
           }
          },
          "colorscale": {
           "diverging": [
            [
             0,
             "#8e0152"
            ],
            [
             0.1,
             "#c51b7d"
            ],
            [
             0.2,
             "#de77ae"
            ],
            [
             0.3,
             "#f1b6da"
            ],
            [
             0.4,
             "#fde0ef"
            ],
            [
             0.5,
             "#f7f7f7"
            ],
            [
             0.6,
             "#e6f5d0"
            ],
            [
             0.7,
             "#b8e186"
            ],
            [
             0.8,
             "#7fbc41"
            ],
            [
             0.9,
             "#4d9221"
            ],
            [
             1,
             "#276419"
            ]
           ],
           "sequential": [
            [
             0,
             "#0d0887"
            ],
            [
             0.1111111111111111,
             "#46039f"
            ],
            [
             0.2222222222222222,
             "#7201a8"
            ],
            [
             0.3333333333333333,
             "#9c179e"
            ],
            [
             0.4444444444444444,
             "#bd3786"
            ],
            [
             0.5555555555555556,
             "#d8576b"
            ],
            [
             0.6666666666666666,
             "#ed7953"
            ],
            [
             0.7777777777777778,
             "#fb9f3a"
            ],
            [
             0.8888888888888888,
             "#fdca26"
            ],
            [
             1,
             "#f0f921"
            ]
           ],
           "sequentialminus": [
            [
             0,
             "#0d0887"
            ],
            [
             0.1111111111111111,
             "#46039f"
            ],
            [
             0.2222222222222222,
             "#7201a8"
            ],
            [
             0.3333333333333333,
             "#9c179e"
            ],
            [
             0.4444444444444444,
             "#bd3786"
            ],
            [
             0.5555555555555556,
             "#d8576b"
            ],
            [
             0.6666666666666666,
             "#ed7953"
            ],
            [
             0.7777777777777778,
             "#fb9f3a"
            ],
            [
             0.8888888888888888,
             "#fdca26"
            ],
            [
             1,
             "#f0f921"
            ]
           ]
          },
          "colorway": [
           "#636efa",
           "#EF553B",
           "#00cc96",
           "#ab63fa",
           "#FFA15A",
           "#19d3f3",
           "#FF6692",
           "#B6E880",
           "#FF97FF",
           "#FECB52"
          ],
          "font": {
           "color": "#2a3f5f"
          },
          "geo": {
           "bgcolor": "white",
           "lakecolor": "white",
           "landcolor": "#E5ECF6",
           "showlakes": true,
           "showland": true,
           "subunitcolor": "white"
          },
          "hoverlabel": {
           "align": "left"
          },
          "hovermode": "closest",
          "mapbox": {
           "style": "light"
          },
          "paper_bgcolor": "white",
          "plot_bgcolor": "#E5ECF6",
          "polar": {
           "angularaxis": {
            "gridcolor": "white",
            "linecolor": "white",
            "ticks": ""
           },
           "bgcolor": "#E5ECF6",
           "radialaxis": {
            "gridcolor": "white",
            "linecolor": "white",
            "ticks": ""
           }
          },
          "scene": {
           "xaxis": {
            "backgroundcolor": "#E5ECF6",
            "gridcolor": "white",
            "gridwidth": 2,
            "linecolor": "white",
            "showbackground": true,
            "ticks": "",
            "zerolinecolor": "white"
           },
           "yaxis": {
            "backgroundcolor": "#E5ECF6",
            "gridcolor": "white",
            "gridwidth": 2,
            "linecolor": "white",
            "showbackground": true,
            "ticks": "",
            "zerolinecolor": "white"
           },
           "zaxis": {
            "backgroundcolor": "#E5ECF6",
            "gridcolor": "white",
            "gridwidth": 2,
            "linecolor": "white",
            "showbackground": true,
            "ticks": "",
            "zerolinecolor": "white"
           }
          },
          "shapedefaults": {
           "line": {
            "color": "#2a3f5f"
           }
          },
          "ternary": {
           "aaxis": {
            "gridcolor": "white",
            "linecolor": "white",
            "ticks": ""
           },
           "baxis": {
            "gridcolor": "white",
            "linecolor": "white",
            "ticks": ""
           },
           "bgcolor": "#E5ECF6",
           "caxis": {
            "gridcolor": "white",
            "linecolor": "white",
            "ticks": ""
           }
          },
          "title": {
           "x": 0.05
          },
          "xaxis": {
           "automargin": true,
           "gridcolor": "white",
           "linecolor": "white",
           "ticks": "",
           "title": {
            "standoff": 15
           },
           "zerolinecolor": "white",
           "zerolinewidth": 2
          },
          "yaxis": {
           "automargin": true,
           "gridcolor": "white",
           "linecolor": "white",
           "ticks": "",
           "title": {
            "standoff": 15
           },
           "zerolinecolor": "white",
           "zerolinewidth": 2
          }
         }
        },
        "xaxis": {
         "anchor": "y",
         "domain": [
          0,
          1
         ],
         "title": {
          "text": "Status"
         }
        },
        "yaxis": {
         "anchor": "x",
         "domain": [
          0,
          1
         ],
         "title": {
          "text": "count"
         }
        }
       }
      }
     },
     "metadata": {},
     "output_type": "display_data"
    },
    {
     "data": {
      "application/vnd.plotly.v1+json": {
       "config": {
        "plotlyServerURL": "https://plot.ly"
       },
       "data": [
        {
         "alignmentgroup": "True",
         "bingroup": "x",
         "hovertemplate": "Isento=%{x}<br>count=%{y}<extra></extra>",
         "legendgroup": "",
         "marker": {
          "color": "#636efa",
          "pattern": {
           "shape": ""
          }
         },
         "name": "",
         "offsetgroup": "",
         "orientation": "v",
         "showlegend": false,
         "type": "histogram",
         "x": [
          "Não",
          "Não",
          "Não",
          "Não",
          "Não",
          "Não",
          "Não",
          "Não",
          "Não",
          "Não",
          "Não",
          "Não",
          "Não",
          "Não",
          "Não",
          "Não",
          "Não",
          "Não",
          "Não",
          "Não",
          "Não",
          "Não",
          "Não",
          "Não",
          "Não",
          "Não",
          "Não",
          "Não",
          "Não",
          "Não",
          "Não",
          "Não",
          "Não",
          "Não",
          "Não",
          "Não",
          "Não",
          "Não",
          "Não",
          "Não",
          "Não",
          "Não",
          "Não",
          "Não",
          "Não",
          "Não",
          "Não",
          "Não",
          "Não",
          "Não",
          "Não",
          "Não",
          "Não",
          "Não",
          "Não",
          "Não",
          "Não",
          "Não",
          "Não",
          "Não",
          "Não",
          "Não",
          "Não",
          "Não",
          "Não",
          "Não",
          "Não",
          "Não",
          "Não",
          "Não",
          "Não",
          "Não",
          "Não",
          "Não",
          "Não",
          "Não",
          "Não",
          "Não",
          "Não",
          "Não",
          "Não",
          "Não",
          "Não",
          "Não",
          "Não",
          "Não",
          "Não",
          "Não",
          "Não",
          "Não",
          "Não",
          "Não",
          "Não",
          "Não",
          "Não",
          "Não",
          "Não",
          "Não",
          "Não",
          "Não",
          "Não",
          "Não",
          "Não",
          "Não",
          "Não",
          "Não",
          "Não",
          "Não",
          "Não",
          "Não",
          "Não",
          "Não",
          "Não",
          "Não",
          "Não",
          "Não",
          "Não",
          "Não",
          "Não",
          "Não",
          "Não",
          "Não",
          "Não",
          "Não",
          "Não",
          "Não",
          "Não",
          "Não",
          "Não",
          "Não",
          "Não",
          "Não",
          "Não",
          "Não",
          "Não",
          "Não",
          "Não",
          "Não",
          "Não",
          "Não",
          "Não",
          "Não",
          "Não",
          "Não",
          "Não",
          "Não",
          "Não",
          "Não",
          "Não",
          "Sim",
          "Não",
          "Não",
          "Não",
          "Não",
          "Não",
          "Não",
          "Não",
          "Não",
          "Não",
          "Não",
          "Não",
          "Não",
          "Não",
          "Não",
          "Não",
          "Não",
          "Não",
          "Não",
          "Não",
          "Não",
          "Não",
          "Não",
          "Não",
          "Não",
          "Não",
          "Não",
          "Não",
          "Não",
          "Não",
          "Não",
          "Não",
          "Não",
          "Não",
          "Não",
          "Não",
          "Não",
          "Não",
          "Não",
          "Não",
          "Não",
          "Não",
          "Não",
          "Não",
          "Não",
          "Não",
          "Não",
          "Não",
          "Não",
          "Não",
          "Não",
          "Não",
          "Não",
          "Não",
          "Não",
          "Não",
          "Não",
          "Não",
          "Não",
          "Não",
          "Não",
          "Não",
          "Não",
          "Não",
          "Não",
          "Não",
          "Não",
          "Não",
          "Não",
          "Não",
          "Não",
          "Não",
          "Não",
          "Não",
          "Não",
          "Não",
          "Não",
          "Não",
          "Não",
          "Não",
          "Não",
          "Não",
          "Não",
          "Não",
          "Não",
          "Não",
          "Não",
          "Não",
          "Não",
          "Não",
          "Não",
          "Não",
          "Não",
          "Não",
          "Não",
          "Não",
          "Não",
          "Não",
          "Não",
          "Não",
          "Não",
          "Não",
          "Não",
          "Não",
          "Não",
          "Não",
          "Não",
          "Não",
          "Não",
          "Não",
          "Não",
          "Não",
          "Não",
          "Não",
          "Não",
          "Não",
          "Não",
          "Não",
          "Não",
          "Não",
          "Não",
          "Não",
          "Não",
          "Não",
          "Não",
          "Não",
          "Não",
          "Não",
          "Não",
          "Não",
          "Não",
          "Não",
          "Não",
          "Não",
          "Não",
          "Não",
          "Não",
          "Não",
          "Não",
          "Não",
          "Não",
          "Não",
          "Não",
          "Não",
          "Não",
          "Não",
          "Não",
          "Não",
          "Não",
          "Não",
          "Não",
          "Não",
          "Não",
          "Não",
          "Não",
          "Não",
          "Não",
          "Não",
          "Não",
          "Não",
          "Não",
          "Não",
          "Não",
          "Não",
          "Não",
          "Não",
          "Não",
          "Não",
          "Não",
          "Não",
          "Não",
          "Não",
          "Não",
          "Não",
          "Não",
          "Não",
          "Não",
          "Não",
          "Não",
          "Não",
          "Não",
          "Não",
          "Não",
          "Não",
          "Não",
          "Não",
          "Não",
          "Não",
          "Não",
          "Não",
          "Não",
          "Não",
          "Não",
          "Não",
          "Não",
          "Não",
          "Não",
          "Não",
          "Não",
          "Não",
          "Não",
          "Não",
          "Não",
          "Não",
          "Não",
          "Não",
          "Não",
          "Não",
          "Não",
          "Não",
          "Não",
          "Não",
          "Não",
          "Não",
          "Não",
          "Não",
          "Não",
          "Sim",
          "Não",
          "Não",
          "Não",
          "Não",
          "Não",
          "Não",
          "Não",
          "Não",
          "Não",
          "Não",
          "Não",
          "Não",
          "Não",
          "Não",
          "Não",
          "Não",
          "Não",
          "Não",
          "Não",
          "Não",
          "Não",
          "Não",
          "Não",
          "Não",
          "Não",
          "Não",
          "Não",
          "Não",
          "Não",
          "Não",
          "Não",
          "Não",
          "Não",
          "Não",
          "Não",
          "Não",
          "Não",
          "Não",
          "Não",
          "Não",
          "Não",
          "Não",
          "Não",
          "Não",
          "Não",
          "Não",
          "Não",
          "Não",
          "Não",
          "Não",
          "Não",
          "Não",
          "Não",
          "Não",
          "Não",
          "Não",
          "Não",
          "Não",
          "Não",
          "Não",
          "Não",
          "Não",
          "Não",
          "Não",
          "Não",
          "Não",
          "Não",
          "Não",
          "Não",
          "Não",
          "Não",
          "Não",
          "Não",
          "Não",
          "Não",
          "Não",
          "Não",
          "Não",
          "Não",
          "Não",
          "Não",
          "Não",
          "Não",
          "Não",
          "Não",
          "Não",
          "Não",
          "Não",
          "Não",
          "Não",
          "Não",
          "Não",
          "Não",
          "Não",
          "Não",
          "Não",
          "Não",
          "Não",
          "Não",
          "Não",
          "Não",
          "Não",
          "Não",
          "Não",
          "Não",
          "Não",
          "Não",
          "Não",
          "Não",
          "Não",
          "Não",
          "Não",
          "Não",
          "Não",
          "Não",
          "Não",
          "Não",
          "Não",
          "Não",
          "Não",
          "Não",
          "Não",
          "Não",
          "Não",
          "Não",
          "Não",
          "Não",
          "Não",
          "Não",
          "Não",
          "Não",
          "Não",
          "Não",
          "Não",
          "Não",
          "Não",
          "Não",
          "Não",
          "Não",
          "Não",
          "Não",
          "Não",
          "Não",
          "Não",
          "Não",
          "Não",
          "Não",
          "Não",
          "Não",
          "Não",
          "Não",
          "Não",
          "Não",
          "Não",
          "Não",
          "Não",
          "Não",
          "Não",
          "Não",
          "Não",
          "Não",
          "Não",
          "Não",
          "Não",
          "Não",
          "Não",
          "Não",
          "Não",
          "Não",
          "Não",
          "Não",
          "Não",
          "Não",
          "Não",
          "Não",
          "Não",
          "Não",
          "Não",
          "Não",
          "Não",
          "Não",
          "Não",
          "Não",
          "Não",
          "Não",
          "Não",
          "Não",
          "Não",
          "Não",
          "Não",
          "Não",
          "Não",
          "Não",
          "Não",
          "Não",
          "Não",
          "Não",
          "Não",
          "Não",
          "Não",
          "Não",
          "Não",
          "Sim",
          "Não",
          "Não",
          "Não",
          "Não",
          "Não",
          "Não",
          "Não",
          "Não",
          "Não",
          "Não",
          "Não",
          "Não",
          "Não",
          "Não",
          "Não",
          "Não",
          "Não",
          "Não",
          "Não",
          "Não",
          "Não",
          "Não",
          "Não",
          "Não",
          "Não",
          "Não",
          "Não",
          "Não",
          "Não",
          "Não",
          "Não",
          "Não",
          "Não",
          "Não",
          "Não",
          "Não",
          "Não",
          "Não",
          "Não",
          "Não",
          "Não",
          "Não",
          "Não",
          "Não",
          "Não",
          "Não",
          "Não",
          "Não",
          "Não",
          "Não",
          "Não",
          "Não",
          "Não",
          "Não",
          "Não",
          "Não",
          "Não",
          "Não",
          "Não",
          "Não",
          "Não",
          "Não",
          "Não",
          "Não",
          "Não",
          "Não",
          "Não",
          "Não",
          "Não",
          "Não",
          "Não",
          "Não",
          "Não",
          "Não",
          "Não",
          "Não",
          "Não",
          "Não",
          "Não",
          "Não",
          "Não",
          "Não",
          "Não",
          "Não",
          "Não",
          "Não",
          "Não",
          "Não",
          "Não",
          "Não",
          "Não",
          "Não",
          "Não",
          "Não",
          "Não",
          "Não",
          "Não",
          "Não",
          "Não",
          "Não",
          "Não",
          "Não",
          "Não",
          "Não",
          "Não",
          "Não",
          "Não",
          "Não",
          "Não",
          "Não",
          "Não",
          "Não",
          "Não",
          "Não",
          "Não",
          "Não",
          "Não",
          "Não",
          "Não",
          "Não",
          "Não",
          "Não",
          "Não",
          "Não",
          "Não",
          "Não",
          "Não",
          "Não",
          "Não",
          "Não",
          "Não",
          "Não",
          "Não",
          "Não",
          "Não",
          "Não",
          "Não",
          "Não",
          "Não",
          "Não",
          "Não",
          "Não",
          "Não",
          "Não",
          "Não",
          "Não",
          "Não",
          "Não",
          "Não",
          "Não",
          "Não",
          "Não",
          "Não",
          "Não",
          "Não",
          "Não",
          "Não",
          "Não",
          "Não",
          "Não",
          "Não",
          "Não",
          "Não",
          "Não",
          "Não",
          "Não",
          "Não",
          "Não",
          "Não",
          "Não",
          "Não",
          "Não",
          "Não",
          "Não",
          "Não",
          "Não",
          "Não",
          "Não",
          "Não",
          "Não",
          "Não",
          "Não",
          "Não",
          "Não",
          "Não",
          "Não",
          "Não",
          "Não",
          "Não",
          "Não",
          "Não",
          "Não",
          "Não",
          "Não",
          "Não",
          "Não",
          "Não",
          "Não",
          "Não",
          "Não",
          "Não",
          "Não",
          "Não",
          "Não",
          "Não",
          "Não",
          "Não",
          "Não",
          "Não",
          "Não",
          "Não",
          "Não",
          "Não",
          "Não",
          "Não",
          "Não",
          "Não",
          "Não",
          "Não",
          "Não",
          "Não",
          "Não",
          "Não",
          "Não",
          "Não",
          "Não",
          "Não",
          "Não",
          "Não",
          "Não",
          "Não",
          "Não",
          "Não",
          "Não",
          "Não",
          "Não",
          "Não",
          "Não",
          "Não",
          "Não",
          "Não",
          "Não",
          "Não",
          "Não",
          "Não",
          "Não",
          "Não",
          "Não",
          "Não",
          "Não",
          "Não",
          "Não",
          "Não",
          "Não",
          "Não",
          "Não",
          "Não",
          "Não",
          "Não",
          "Não",
          "Não",
          "Não",
          "Não",
          "Não",
          "Não",
          "Não",
          "Não",
          "Não",
          "Não",
          "Não",
          "Não",
          "Não",
          "Não",
          "Não",
          "Não",
          "Não",
          "Não",
          "Não",
          "Não",
          "Não",
          "Não",
          "Não",
          "Não",
          "Não",
          "Não",
          "Não",
          "Não",
          "Não",
          "Não",
          "Não",
          "Não",
          "Não",
          "Não",
          "Não",
          "Não",
          "Não",
          "Não",
          "Não",
          "Não",
          "Não",
          "Não",
          "Não",
          "Não",
          "Não",
          "Não",
          "Não",
          "Não",
          "Não",
          "Não",
          "Não",
          "Não",
          "Não",
          "Não",
          "Não",
          "Não",
          "Não",
          "Não",
          "Não",
          "Não",
          "Não",
          "Não",
          "Não",
          "Não",
          "Não",
          "Não",
          "Não",
          "Não",
          "Não",
          "Não",
          "Não",
          "Não",
          "Não",
          "Não",
          "Não",
          "Não",
          "Não",
          "Não",
          "Não",
          "Não",
          "Não",
          "Não",
          "Não",
          "Não",
          "Não",
          "Não",
          "Não",
          "Não",
          "Não",
          "Não"
         ],
         "xaxis": "x",
         "yaxis": "y"
        }
       ],
       "layout": {
        "barmode": "relative",
        "legend": {
         "tracegroupgap": 0
        },
        "margin": {
         "t": 60
        },
        "template": {
         "data": {
          "bar": [
           {
            "error_x": {
             "color": "#2a3f5f"
            },
            "error_y": {
             "color": "#2a3f5f"
            },
            "marker": {
             "line": {
              "color": "#E5ECF6",
              "width": 0.5
             },
             "pattern": {
              "fillmode": "overlay",
              "size": 10,
              "solidity": 0.2
             }
            },
            "type": "bar"
           }
          ],
          "barpolar": [
           {
            "marker": {
             "line": {
              "color": "#E5ECF6",
              "width": 0.5
             },
             "pattern": {
              "fillmode": "overlay",
              "size": 10,
              "solidity": 0.2
             }
            },
            "type": "barpolar"
           }
          ],
          "carpet": [
           {
            "aaxis": {
             "endlinecolor": "#2a3f5f",
             "gridcolor": "white",
             "linecolor": "white",
             "minorgridcolor": "white",
             "startlinecolor": "#2a3f5f"
            },
            "baxis": {
             "endlinecolor": "#2a3f5f",
             "gridcolor": "white",
             "linecolor": "white",
             "minorgridcolor": "white",
             "startlinecolor": "#2a3f5f"
            },
            "type": "carpet"
           }
          ],
          "choropleth": [
           {
            "colorbar": {
             "outlinewidth": 0,
             "ticks": ""
            },
            "type": "choropleth"
           }
          ],
          "contour": [
           {
            "colorbar": {
             "outlinewidth": 0,
             "ticks": ""
            },
            "colorscale": [
             [
              0,
              "#0d0887"
             ],
             [
              0.1111111111111111,
              "#46039f"
             ],
             [
              0.2222222222222222,
              "#7201a8"
             ],
             [
              0.3333333333333333,
              "#9c179e"
             ],
             [
              0.4444444444444444,
              "#bd3786"
             ],
             [
              0.5555555555555556,
              "#d8576b"
             ],
             [
              0.6666666666666666,
              "#ed7953"
             ],
             [
              0.7777777777777778,
              "#fb9f3a"
             ],
             [
              0.8888888888888888,
              "#fdca26"
             ],
             [
              1,
              "#f0f921"
             ]
            ],
            "type": "contour"
           }
          ],
          "contourcarpet": [
           {
            "colorbar": {
             "outlinewidth": 0,
             "ticks": ""
            },
            "type": "contourcarpet"
           }
          ],
          "heatmap": [
           {
            "colorbar": {
             "outlinewidth": 0,
             "ticks": ""
            },
            "colorscale": [
             [
              0,
              "#0d0887"
             ],
             [
              0.1111111111111111,
              "#46039f"
             ],
             [
              0.2222222222222222,
              "#7201a8"
             ],
             [
              0.3333333333333333,
              "#9c179e"
             ],
             [
              0.4444444444444444,
              "#bd3786"
             ],
             [
              0.5555555555555556,
              "#d8576b"
             ],
             [
              0.6666666666666666,
              "#ed7953"
             ],
             [
              0.7777777777777778,
              "#fb9f3a"
             ],
             [
              0.8888888888888888,
              "#fdca26"
             ],
             [
              1,
              "#f0f921"
             ]
            ],
            "type": "heatmap"
           }
          ],
          "heatmapgl": [
           {
            "colorbar": {
             "outlinewidth": 0,
             "ticks": ""
            },
            "colorscale": [
             [
              0,
              "#0d0887"
             ],
             [
              0.1111111111111111,
              "#46039f"
             ],
             [
              0.2222222222222222,
              "#7201a8"
             ],
             [
              0.3333333333333333,
              "#9c179e"
             ],
             [
              0.4444444444444444,
              "#bd3786"
             ],
             [
              0.5555555555555556,
              "#d8576b"
             ],
             [
              0.6666666666666666,
              "#ed7953"
             ],
             [
              0.7777777777777778,
              "#fb9f3a"
             ],
             [
              0.8888888888888888,
              "#fdca26"
             ],
             [
              1,
              "#f0f921"
             ]
            ],
            "type": "heatmapgl"
           }
          ],
          "histogram": [
           {
            "marker": {
             "pattern": {
              "fillmode": "overlay",
              "size": 10,
              "solidity": 0.2
             }
            },
            "type": "histogram"
           }
          ],
          "histogram2d": [
           {
            "colorbar": {
             "outlinewidth": 0,
             "ticks": ""
            },
            "colorscale": [
             [
              0,
              "#0d0887"
             ],
             [
              0.1111111111111111,
              "#46039f"
             ],
             [
              0.2222222222222222,
              "#7201a8"
             ],
             [
              0.3333333333333333,
              "#9c179e"
             ],
             [
              0.4444444444444444,
              "#bd3786"
             ],
             [
              0.5555555555555556,
              "#d8576b"
             ],
             [
              0.6666666666666666,
              "#ed7953"
             ],
             [
              0.7777777777777778,
              "#fb9f3a"
             ],
             [
              0.8888888888888888,
              "#fdca26"
             ],
             [
              1,
              "#f0f921"
             ]
            ],
            "type": "histogram2d"
           }
          ],
          "histogram2dcontour": [
           {
            "colorbar": {
             "outlinewidth": 0,
             "ticks": ""
            },
            "colorscale": [
             [
              0,
              "#0d0887"
             ],
             [
              0.1111111111111111,
              "#46039f"
             ],
             [
              0.2222222222222222,
              "#7201a8"
             ],
             [
              0.3333333333333333,
              "#9c179e"
             ],
             [
              0.4444444444444444,
              "#bd3786"
             ],
             [
              0.5555555555555556,
              "#d8576b"
             ],
             [
              0.6666666666666666,
              "#ed7953"
             ],
             [
              0.7777777777777778,
              "#fb9f3a"
             ],
             [
              0.8888888888888888,
              "#fdca26"
             ],
             [
              1,
              "#f0f921"
             ]
            ],
            "type": "histogram2dcontour"
           }
          ],
          "mesh3d": [
           {
            "colorbar": {
             "outlinewidth": 0,
             "ticks": ""
            },
            "type": "mesh3d"
           }
          ],
          "parcoords": [
           {
            "line": {
             "colorbar": {
              "outlinewidth": 0,
              "ticks": ""
             }
            },
            "type": "parcoords"
           }
          ],
          "pie": [
           {
            "automargin": true,
            "type": "pie"
           }
          ],
          "scatter": [
           {
            "fillpattern": {
             "fillmode": "overlay",
             "size": 10,
             "solidity": 0.2
            },
            "type": "scatter"
           }
          ],
          "scatter3d": [
           {
            "line": {
             "colorbar": {
              "outlinewidth": 0,
              "ticks": ""
             }
            },
            "marker": {
             "colorbar": {
              "outlinewidth": 0,
              "ticks": ""
             }
            },
            "type": "scatter3d"
           }
          ],
          "scattercarpet": [
           {
            "marker": {
             "colorbar": {
              "outlinewidth": 0,
              "ticks": ""
             }
            },
            "type": "scattercarpet"
           }
          ],
          "scattergeo": [
           {
            "marker": {
             "colorbar": {
              "outlinewidth": 0,
              "ticks": ""
             }
            },
            "type": "scattergeo"
           }
          ],
          "scattergl": [
           {
            "marker": {
             "colorbar": {
              "outlinewidth": 0,
              "ticks": ""
             }
            },
            "type": "scattergl"
           }
          ],
          "scattermapbox": [
           {
            "marker": {
             "colorbar": {
              "outlinewidth": 0,
              "ticks": ""
             }
            },
            "type": "scattermapbox"
           }
          ],
          "scatterpolar": [
           {
            "marker": {
             "colorbar": {
              "outlinewidth": 0,
              "ticks": ""
             }
            },
            "type": "scatterpolar"
           }
          ],
          "scatterpolargl": [
           {
            "marker": {
             "colorbar": {
              "outlinewidth": 0,
              "ticks": ""
             }
            },
            "type": "scatterpolargl"
           }
          ],
          "scatterternary": [
           {
            "marker": {
             "colorbar": {
              "outlinewidth": 0,
              "ticks": ""
             }
            },
            "type": "scatterternary"
           }
          ],
          "surface": [
           {
            "colorbar": {
             "outlinewidth": 0,
             "ticks": ""
            },
            "colorscale": [
             [
              0,
              "#0d0887"
             ],
             [
              0.1111111111111111,
              "#46039f"
             ],
             [
              0.2222222222222222,
              "#7201a8"
             ],
             [
              0.3333333333333333,
              "#9c179e"
             ],
             [
              0.4444444444444444,
              "#bd3786"
             ],
             [
              0.5555555555555556,
              "#d8576b"
             ],
             [
              0.6666666666666666,
              "#ed7953"
             ],
             [
              0.7777777777777778,
              "#fb9f3a"
             ],
             [
              0.8888888888888888,
              "#fdca26"
             ],
             [
              1,
              "#f0f921"
             ]
            ],
            "type": "surface"
           }
          ],
          "table": [
           {
            "cells": {
             "fill": {
              "color": "#EBF0F8"
             },
             "line": {
              "color": "white"
             }
            },
            "header": {
             "fill": {
              "color": "#C8D4E3"
             },
             "line": {
              "color": "white"
             }
            },
            "type": "table"
           }
          ]
         },
         "layout": {
          "annotationdefaults": {
           "arrowcolor": "#2a3f5f",
           "arrowhead": 0,
           "arrowwidth": 1
          },
          "autotypenumbers": "strict",
          "coloraxis": {
           "colorbar": {
            "outlinewidth": 0,
            "ticks": ""
           }
          },
          "colorscale": {
           "diverging": [
            [
             0,
             "#8e0152"
            ],
            [
             0.1,
             "#c51b7d"
            ],
            [
             0.2,
             "#de77ae"
            ],
            [
             0.3,
             "#f1b6da"
            ],
            [
             0.4,
             "#fde0ef"
            ],
            [
             0.5,
             "#f7f7f7"
            ],
            [
             0.6,
             "#e6f5d0"
            ],
            [
             0.7,
             "#b8e186"
            ],
            [
             0.8,
             "#7fbc41"
            ],
            [
             0.9,
             "#4d9221"
            ],
            [
             1,
             "#276419"
            ]
           ],
           "sequential": [
            [
             0,
             "#0d0887"
            ],
            [
             0.1111111111111111,
             "#46039f"
            ],
            [
             0.2222222222222222,
             "#7201a8"
            ],
            [
             0.3333333333333333,
             "#9c179e"
            ],
            [
             0.4444444444444444,
             "#bd3786"
            ],
            [
             0.5555555555555556,
             "#d8576b"
            ],
            [
             0.6666666666666666,
             "#ed7953"
            ],
            [
             0.7777777777777778,
             "#fb9f3a"
            ],
            [
             0.8888888888888888,
             "#fdca26"
            ],
            [
             1,
             "#f0f921"
            ]
           ],
           "sequentialminus": [
            [
             0,
             "#0d0887"
            ],
            [
             0.1111111111111111,
             "#46039f"
            ],
            [
             0.2222222222222222,
             "#7201a8"
            ],
            [
             0.3333333333333333,
             "#9c179e"
            ],
            [
             0.4444444444444444,
             "#bd3786"
            ],
            [
             0.5555555555555556,
             "#d8576b"
            ],
            [
             0.6666666666666666,
             "#ed7953"
            ],
            [
             0.7777777777777778,
             "#fb9f3a"
            ],
            [
             0.8888888888888888,
             "#fdca26"
            ],
            [
             1,
             "#f0f921"
            ]
           ]
          },
          "colorway": [
           "#636efa",
           "#EF553B",
           "#00cc96",
           "#ab63fa",
           "#FFA15A",
           "#19d3f3",
           "#FF6692",
           "#B6E880",
           "#FF97FF",
           "#FECB52"
          ],
          "font": {
           "color": "#2a3f5f"
          },
          "geo": {
           "bgcolor": "white",
           "lakecolor": "white",
           "landcolor": "#E5ECF6",
           "showlakes": true,
           "showland": true,
           "subunitcolor": "white"
          },
          "hoverlabel": {
           "align": "left"
          },
          "hovermode": "closest",
          "mapbox": {
           "style": "light"
          },
          "paper_bgcolor": "white",
          "plot_bgcolor": "#E5ECF6",
          "polar": {
           "angularaxis": {
            "gridcolor": "white",
            "linecolor": "white",
            "ticks": ""
           },
           "bgcolor": "#E5ECF6",
           "radialaxis": {
            "gridcolor": "white",
            "linecolor": "white",
            "ticks": ""
           }
          },
          "scene": {
           "xaxis": {
            "backgroundcolor": "#E5ECF6",
            "gridcolor": "white",
            "gridwidth": 2,
            "linecolor": "white",
            "showbackground": true,
            "ticks": "",
            "zerolinecolor": "white"
           },
           "yaxis": {
            "backgroundcolor": "#E5ECF6",
            "gridcolor": "white",
            "gridwidth": 2,
            "linecolor": "white",
            "showbackground": true,
            "ticks": "",
            "zerolinecolor": "white"
           },
           "zaxis": {
            "backgroundcolor": "#E5ECF6",
            "gridcolor": "white",
            "gridwidth": 2,
            "linecolor": "white",
            "showbackground": true,
            "ticks": "",
            "zerolinecolor": "white"
           }
          },
          "shapedefaults": {
           "line": {
            "color": "#2a3f5f"
           }
          },
          "ternary": {
           "aaxis": {
            "gridcolor": "white",
            "linecolor": "white",
            "ticks": ""
           },
           "baxis": {
            "gridcolor": "white",
            "linecolor": "white",
            "ticks": ""
           },
           "bgcolor": "#E5ECF6",
           "caxis": {
            "gridcolor": "white",
            "linecolor": "white",
            "ticks": ""
           }
          },
          "title": {
           "x": 0.05
          },
          "xaxis": {
           "automargin": true,
           "gridcolor": "white",
           "linecolor": "white",
           "ticks": "",
           "title": {
            "standoff": 15
           },
           "zerolinecolor": "white",
           "zerolinewidth": 2
          },
          "yaxis": {
           "automargin": true,
           "gridcolor": "white",
           "linecolor": "white",
           "ticks": "",
           "title": {
            "standoff": 15
           },
           "zerolinecolor": "white",
           "zerolinewidth": 2
          }
         }
        },
        "xaxis": {
         "anchor": "y",
         "domain": [
          0,
          1
         ],
         "title": {
          "text": "Isento"
         }
        },
        "yaxis": {
         "anchor": "x",
         "domain": [
          0,
          1
         ],
         "title": {
          "text": "count"
         }
        }
       }
      }
     },
     "metadata": {},
     "output_type": "display_data"
    }
   ],
   "source": [
    "# Comparar as contagens com os gráficos\n",
    "import plotly.express as px\n",
    "\n",
    "# Etapa 1: Criar o gráfico\n",
    "for coluna in informacoes_dos_clientes:\n",
    "    grafico = px.histogram(informacoes_dos_clientes, x=coluna)\n",
    "# Etapa 2: Criar o gráfico\n",
    "    grafico.show()"
   ]
  },
  {
   "cell_type": "code",
   "execution_count": 73,
   "metadata": {},
   "outputs": [
    {
     "name": "stdout",
     "output_type": "stream",
     "text": [
      "<class 'pandas.core.frame.DataFrame'>\n",
      "Index: 919 entries, 9 to 4689\n",
      "Data columns (total 13 columns):\n",
      " #   Column                  Non-Null Count  Dtype  \n",
      "---  ------                  --------------  -----  \n",
      " 0   Nome/Razão Social       919 non-null    object \n",
      " 1   Data Nasc.              848 non-null    object \n",
      " 2   Data Cadastro contrato  919 non-null    object \n",
      " 3   Contrato ID             919 non-null    int64  \n",
      " 4   POP                     919 non-null    object \n",
      " 5   Endereço                919 non-null    object \n",
      " 6   Bairro                  919 non-null    object \n",
      " 7   Plano                   919 non-null    object \n",
      " 8   Plano Valor             919 non-null    float64\n",
      " 9   Acres.Desc.             919 non-null    float64\n",
      " 10  Vencimento              919 non-null    int64  \n",
      " 11  Status                  919 non-null    object \n",
      " 12  Isento                  919 non-null    object \n",
      "dtypes: float64(2), int64(2), object(9)\n",
      "memory usage: 100.5+ KB\n"
     ]
    },
    {
     "data": {
      "text/plain": [
       "None"
      ]
     },
     "metadata": {},
     "output_type": "display_data"
    },
    {
     "data": {
      "text/html": [
       "<div>\n",
       "<style scoped>\n",
       "    .dataframe tbody tr th:only-of-type {\n",
       "        vertical-align: middle;\n",
       "    }\n",
       "\n",
       "    .dataframe tbody tr th {\n",
       "        vertical-align: top;\n",
       "    }\n",
       "\n",
       "    .dataframe thead th {\n",
       "        text-align: right;\n",
       "    }\n",
       "</style>\n",
       "<table border=\"1\" class=\"dataframe\">\n",
       "  <thead>\n",
       "    <tr style=\"text-align: right;\">\n",
       "      <th></th>\n",
       "      <th>Nome/Razão Social</th>\n",
       "      <th>Data Nasc.</th>\n",
       "      <th>Data Cadastro contrato</th>\n",
       "      <th>Contrato ID</th>\n",
       "      <th>POP</th>\n",
       "      <th>Endereço</th>\n",
       "      <th>Bairro</th>\n",
       "      <th>Plano</th>\n",
       "      <th>Plano Valor</th>\n",
       "      <th>Acres.Desc.</th>\n",
       "      <th>Vencimento</th>\n",
       "      <th>Status</th>\n",
       "      <th>Isento</th>\n",
       "    </tr>\n",
       "  </thead>\n",
       "  <tbody>\n",
       "    <tr>\n",
       "      <th>9</th>\n",
       "      <td>ADELAIDE TEODORO TAVARES ALVES</td>\n",
       "      <td>NaN</td>\n",
       "      <td>28/04/2020</td>\n",
       "      <td>6817</td>\n",
       "      <td>FILIAL - 3-RJ</td>\n",
       "      <td>CONJUNTO CARLOS LAMARCA RUA 5 CASA N: 13</td>\n",
       "      <td>BARRO VERMELHO</td>\n",
       "      <td>4 MEGA</td>\n",
       "      <td>60.0</td>\n",
       "      <td>10.0</td>\n",
       "      <td>15</td>\n",
       "      <td>Ativo</td>\n",
       "      <td>Não</td>\n",
       "    </tr>\n",
       "    <tr>\n",
       "      <th>11</th>\n",
       "      <td>ADELANE OLIVEIRA DA SILVA</td>\n",
       "      <td>1994-07-01</td>\n",
       "      <td>04/09/2019</td>\n",
       "      <td>2623</td>\n",
       "      <td>FILIAL 1 E 2-RJ</td>\n",
       "      <td>RUA MADRE SILVA</td>\n",
       "      <td>BARRO VERMELHO</td>\n",
       "      <td>80_MEGA_FIBER</td>\n",
       "      <td>79.9</td>\n",
       "      <td>10.0</td>\n",
       "      <td>10</td>\n",
       "      <td>Ativo</td>\n",
       "      <td>Não</td>\n",
       "    </tr>\n",
       "    <tr>\n",
       "      <th>12</th>\n",
       "      <td>ADELE MARA ALMEIDA SILVA</td>\n",
       "      <td>1980-02-15</td>\n",
       "      <td>03/09/2021</td>\n",
       "      <td>4770</td>\n",
       "      <td>FILIAL 1 E 2-RJ</td>\n",
       "      <td>RUA ANAJAS</td>\n",
       "      <td>HITERLAND</td>\n",
       "      <td>250 MEGA FIBR4</td>\n",
       "      <td>99.9</td>\n",
       "      <td>10.0</td>\n",
       "      <td>20</td>\n",
       "      <td>Ativo</td>\n",
       "      <td>Não</td>\n",
       "    </tr>\n",
       "    <tr>\n",
       "      <th>14</th>\n",
       "      <td>ADEMIR GONÇALVES DA SILVA</td>\n",
       "      <td>1966-08-20</td>\n",
       "      <td>17/10/2022</td>\n",
       "      <td>8643</td>\n",
       "      <td>FILIAL 1 E 2-RJ</td>\n",
       "      <td>RUA ITU</td>\n",
       "      <td>PARQUE SÃO BERNARDO</td>\n",
       "      <td>SUPREMO_500MB_FIBRA_99</td>\n",
       "      <td>99.9</td>\n",
       "      <td>0.0</td>\n",
       "      <td>20</td>\n",
       "      <td>Ativo</td>\n",
       "      <td>Não</td>\n",
       "    </tr>\n",
       "    <tr>\n",
       "      <th>15</th>\n",
       "      <td>ADENICE MARIA DOS SANTOS</td>\n",
       "      <td>1959-07-03</td>\n",
       "      <td>11/11/2015</td>\n",
       "      <td>6170</td>\n",
       "      <td>FILIAL - 3-RJ</td>\n",
       "      <td>TRAVESSA VINTE E SETE</td>\n",
       "      <td>BARRO VERMELHO</td>\n",
       "      <td>SUPREMO_500MB_FIBRA_99</td>\n",
       "      <td>99.9</td>\n",
       "      <td>10.0</td>\n",
       "      <td>20</td>\n",
       "      <td>Ativo</td>\n",
       "      <td>Não</td>\n",
       "    </tr>\n",
       "    <tr>\n",
       "      <th>...</th>\n",
       "      <td>...</td>\n",
       "      <td>...</td>\n",
       "      <td>...</td>\n",
       "      <td>...</td>\n",
       "      <td>...</td>\n",
       "      <td>...</td>\n",
       "      <td>...</td>\n",
       "      <td>...</td>\n",
       "      <td>...</td>\n",
       "      <td>...</td>\n",
       "      <td>...</td>\n",
       "      <td>...</td>\n",
       "      <td>...</td>\n",
       "    </tr>\n",
       "    <tr>\n",
       "      <th>4667</th>\n",
       "      <td>WILLIAN ALVES DA SILVA</td>\n",
       "      <td>1995-08-16</td>\n",
       "      <td>13/11/2021</td>\n",
       "      <td>5069</td>\n",
       "      <td>FILIAL - 3-RJ</td>\n",
       "      <td>RUA 4 ( SEM TERRA )</td>\n",
       "      <td>BARRO VERMELHO</td>\n",
       "      <td>30 MEGA FIBRA SB</td>\n",
       "      <td>64.9</td>\n",
       "      <td>5.0</td>\n",
       "      <td>20</td>\n",
       "      <td>Ativo</td>\n",
       "      <td>Não</td>\n",
       "    </tr>\n",
       "    <tr>\n",
       "      <th>4674</th>\n",
       "      <td>WILSON MARTINS</td>\n",
       "      <td>1952-06-22</td>\n",
       "      <td>04/02/2022</td>\n",
       "      <td>5242</td>\n",
       "      <td>FILIAL 1 E 2-RJ</td>\n",
       "      <td>RUA TUIUTI</td>\n",
       "      <td>HITERLAND</td>\n",
       "      <td>30 MEGA FIBRA SB</td>\n",
       "      <td>64.9</td>\n",
       "      <td>0.0</td>\n",
       "      <td>5</td>\n",
       "      <td>Ativo</td>\n",
       "      <td>Não</td>\n",
       "    </tr>\n",
       "    <tr>\n",
       "      <th>4679</th>\n",
       "      <td>YASMIM FRANCISCA MELLO DOS SANTOS</td>\n",
       "      <td>1996-04-28</td>\n",
       "      <td>09/11/2021</td>\n",
       "      <td>4989</td>\n",
       "      <td>FILIAL 1 E 2-RJ</td>\n",
       "      <td>ESTRADA DO BARRO VERMELHO</td>\n",
       "      <td>SANTA AMÉLIA</td>\n",
       "      <td>SUPREMO_500MB_FIBRA_99</td>\n",
       "      <td>99.9</td>\n",
       "      <td>10.0</td>\n",
       "      <td>15</td>\n",
       "      <td>Ativo</td>\n",
       "      <td>Não</td>\n",
       "    </tr>\n",
       "    <tr>\n",
       "      <th>4681</th>\n",
       "      <td>YASMIN DE OLIVEIRA ALVES</td>\n",
       "      <td>2002-02-06</td>\n",
       "      <td>20/10/2021</td>\n",
       "      <td>1865</td>\n",
       "      <td>FILIAL - 3-RJ</td>\n",
       "      <td>RUA NATUBA</td>\n",
       "      <td>SANTA AMÉLIA</td>\n",
       "      <td>60MEGA FTTH</td>\n",
       "      <td>99.9</td>\n",
       "      <td>10.0</td>\n",
       "      <td>20</td>\n",
       "      <td>Ativo</td>\n",
       "      <td>Não</td>\n",
       "    </tr>\n",
       "    <tr>\n",
       "      <th>4689</th>\n",
       "      <td>ZELY RODRIGUES NUNES</td>\n",
       "      <td>1976-07-01</td>\n",
       "      <td>15/02/2020</td>\n",
       "      <td>4576</td>\n",
       "      <td>FILIAL 1 E 2-RJ</td>\n",
       "      <td>RUA AMARATINA</td>\n",
       "      <td>VILA MAIA</td>\n",
       "      <td>150 MEGA RC</td>\n",
       "      <td>64.9</td>\n",
       "      <td>10.0</td>\n",
       "      <td>15</td>\n",
       "      <td>Ativo</td>\n",
       "      <td>Não</td>\n",
       "    </tr>\n",
       "  </tbody>\n",
       "</table>\n",
       "<p>919 rows × 13 columns</p>\n",
       "</div>"
      ],
      "text/plain": [
       "                      Nome/Razão Social  Data Nasc. Data Cadastro contrato  \\\n",
       "9        ADELAIDE TEODORO TAVARES ALVES         NaN             28/04/2020   \n",
       "11            ADELANE OLIVEIRA DA SILVA  1994-07-01             04/09/2019   \n",
       "12             ADELE MARA ALMEIDA SILVA  1980-02-15             03/09/2021   \n",
       "14            ADEMIR GONÇALVES DA SILVA  1966-08-20             17/10/2022   \n",
       "15             ADENICE MARIA DOS SANTOS  1959-07-03             11/11/2015   \n",
       "...                                 ...         ...                    ...   \n",
       "4667             WILLIAN ALVES DA SILVA  1995-08-16             13/11/2021   \n",
       "4674                     WILSON MARTINS  1952-06-22             04/02/2022   \n",
       "4679  YASMIM FRANCISCA MELLO DOS SANTOS  1996-04-28             09/11/2021   \n",
       "4681           YASMIN DE OLIVEIRA ALVES  2002-02-06             20/10/2021   \n",
       "4689               ZELY RODRIGUES NUNES  1976-07-01             15/02/2020   \n",
       "\n",
       "      Contrato ID              POP                                  Endereço  \\\n",
       "9            6817    FILIAL - 3-RJ  CONJUNTO CARLOS LAMARCA RUA 5 CASA N: 13   \n",
       "11           2623  FILIAL 1 E 2-RJ                           RUA MADRE SILVA   \n",
       "12           4770  FILIAL 1 E 2-RJ                                RUA ANAJAS   \n",
       "14           8643  FILIAL 1 E 2-RJ                                   RUA ITU   \n",
       "15           6170    FILIAL - 3-RJ                     TRAVESSA VINTE E SETE   \n",
       "...           ...              ...                                       ...   \n",
       "4667         5069    FILIAL - 3-RJ                       RUA 4 ( SEM TERRA )   \n",
       "4674         5242  FILIAL 1 E 2-RJ                                RUA TUIUTI   \n",
       "4679         4989  FILIAL 1 E 2-RJ                 ESTRADA DO BARRO VERMELHO   \n",
       "4681         1865    FILIAL - 3-RJ                                RUA NATUBA   \n",
       "4689         4576  FILIAL 1 E 2-RJ                             RUA AMARATINA   \n",
       "\n",
       "                   Bairro                   Plano  Plano Valor  Acres.Desc.  \\\n",
       "9          BARRO VERMELHO                  4 MEGA         60.0         10.0   \n",
       "11         BARRO VERMELHO           80_MEGA_FIBER         79.9         10.0   \n",
       "12              HITERLAND          250 MEGA FIBR4         99.9         10.0   \n",
       "14    PARQUE SÃO BERNARDO  SUPREMO_500MB_FIBRA_99         99.9          0.0   \n",
       "15         BARRO VERMELHO  SUPREMO_500MB_FIBRA_99         99.9         10.0   \n",
       "...                   ...                     ...          ...          ...   \n",
       "4667       BARRO VERMELHO        30 MEGA FIBRA SB         64.9          5.0   \n",
       "4674            HITERLAND        30 MEGA FIBRA SB         64.9          0.0   \n",
       "4679         SANTA AMÉLIA  SUPREMO_500MB_FIBRA_99         99.9         10.0   \n",
       "4681         SANTA AMÉLIA             60MEGA FTTH         99.9         10.0   \n",
       "4689            VILA MAIA             150 MEGA RC         64.9         10.0   \n",
       "\n",
       "      Vencimento   Status Isento  \n",
       "9             15   Ativo     Não  \n",
       "11            10   Ativo     Não  \n",
       "12            20   Ativo     Não  \n",
       "14            20   Ativo     Não  \n",
       "15            20   Ativo     Não  \n",
       "...          ...      ...    ...  \n",
       "4667          20   Ativo     Não  \n",
       "4674           5   Ativo     Não  \n",
       "4679          15   Ativo     Não  \n",
       "4681          20   Ativo     Não  \n",
       "4689          15   Ativo     Não  \n",
       "\n",
       "[919 rows x 13 columns]"
      ]
     },
     "metadata": {},
     "output_type": "display_data"
    }
   ],
   "source": [
    "display(informacoes_dos_clientes.info())\n",
    "display(informacoes_dos_clientes)"
   ]
  },
  {
   "attachments": {},
   "cell_type": "markdown",
   "metadata": {},
   "source": [
    "# Conclusões e Ações"
   ]
  },
  {
   "attachments": {},
   "cell_type": "markdown",
   "metadata": {},
   "source": [
    "Escreva aqui as suas conclusões:\n",
    "Existe alguns pontos que caracterizam essas quantidade de inadimplentes, esses pontos são:\n",
    "- Bairro dos clientes:\n",
    "    Muitos clientes que estão afetados por essa incidência de inadimplência, estão concentrados em regiões específicas, que podem estar ligadas tanto com incidência da concorrência, quanto a condição financeira que aquelas pessoas possuem.\n",
    "\n",
    "- plano / plano valor:\n",
    "    Um valor alto surgiu nessa análise também, vale ressaltar que maior parte dos nossos clientes estão nesses planos, então talvez esse valor seja justificado por isso.\n",
    "    \n",
    "- Vencimento:\n",
    "    A existência do vencimento no dia 20 afetou diretamente na quantidade de clientes afetados, no dia que escrevo essa análise essa data de vencimento foi retirada, porém com todos os dados apresentados fica mais que provado a conclusão."
   ]
  }
 ],
 "metadata": {
  "kernelspec": {
   "display_name": "Python 3",
   "language": "python",
   "name": "python3"
  },
  "language_info": {
   "codemirror_mode": {
    "name": "ipython",
    "version": 3
   },
   "file_extension": ".py",
   "mimetype": "text/x-python",
   "name": "python",
   "nbconvert_exporter": "python",
   "pygments_lexer": "ipython3",
   "version": "3.11.2"
  },
  "orig_nbformat": 4
 },
 "nbformat": 4,
 "nbformat_minor": 2
}
